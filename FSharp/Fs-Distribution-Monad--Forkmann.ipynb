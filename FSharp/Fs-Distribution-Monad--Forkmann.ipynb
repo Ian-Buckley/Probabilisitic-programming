{
 "cells": [
  {
   "cell_type": "markdown",
   "metadata": {},
   "source": [
    "# Distribution Monad - Forkmann"
   ]
  },
  {
   "cell_type": "markdown",
   "metadata": {},
   "source": [
    "http://www.navision-blog.de/blog/2011/08/15/some-special-monads-in-f-part-3-of-n-distributionmonad/"
   ]
  },
  {
   "cell_type": "markdown",
   "metadata": {},
   "source": [
    "Martin Erwig and Steve Kollmansberger \"Functional Pearls: Probabilistic functional programming in Haskell\". http://web.engr.oregonstate.edu/~erwig/papers/PFP_JFP06.pdf"
   ]
  },
  {
   "cell_type": "markdown",
   "metadata": {},
   "source": [
    "#### `Outcome`"
   ]
  },
  {
   "cell_type": "code",
   "execution_count": 2,
   "metadata": {},
   "outputs": [],
   "source": [
    "type  Outcome<'a> = {\n",
    "    Value: 'a\n",
    "    Probability : double  }"
   ]
  },
  {
   "cell_type": "markdown",
   "metadata": {},
   "source": [
    "#### `Distribution`"
   ]
  },
  {
   "cell_type": "code",
   "execution_count": 3,
   "metadata": {},
   "outputs": [],
   "source": [
    "type Distribution<'a> = Outcome<'a> seq"
   ]
  },
  {
   "cell_type": "markdown",
   "metadata": {},
   "source": [
    "#### `bindD`"
   ]
  },
  {
   "cell_type": "markdown",
   "metadata": {},
   "source": [
    " (aka `flatMap`)"
   ]
  },
  {
   "cell_type": "code",
   "execution_count": 4,
   "metadata": {},
   "outputs": [],
   "source": [
    "// P(A AND B) = P(A | B) * P(B)\n",
    "let bindD (dist: Distribution<'b>) (f: 'b -> Distribution<'a >) =\n",
    "    dist \n",
    "        |> Seq.map (fun p1 -> \n",
    "                f p1.Value\n",
    "                |> Seq.map (fun p2 -> \n",
    "                        { Value = p2.Value; \n",
    "                            Probability = \n",
    "                              p1.Probability * p2.Probability}))\n",
    "        |> Seq.concat : Distribution<'a >"
   ]
  },
  {
   "cell_type": "markdown",
   "metadata": {},
   "source": [
    "#### `returnD`"
   ]
  },
  {
   "cell_type": "code",
   "execution_count": 6,
   "metadata": {},
   "outputs": [],
   "source": [
    "let returnD (value:'a) : Distribution<'a > =   \n",
    "    Seq.singleton { Value = value ; Probability = 1.0 }"
   ]
  },
  {
   "cell_type": "markdown",
   "metadata": {},
   "source": [
    "#### `DistributionMonadBuilder`"
   ]
  },
  {
   "cell_type": "markdown",
   "metadata": {},
   "source": [
    "Define a computation expression builder:"
   ]
  },
  {
   "cell_type": "code",
   "execution_count": 7,
   "metadata": {},
   "outputs": [],
   "source": [
    "type DistributionMonadBuilder() =\n",
    "    member this.Bind (r, f) = bindD r f\n",
    "    member this.Return x = returnD x\n",
    "    member this.ReturnFrom m = m"
   ]
  },
  {
   "cell_type": "markdown",
   "metadata": {},
   "source": [
    "#### `distribution`"
   ]
  },
  {
   "cell_type": "code",
   "execution_count": 9,
   "metadata": {},
   "outputs": [],
   "source": [
    "let distribution = DistributionMonadBuilder()"
   ]
  },
  {
   "cell_type": "markdown",
   "metadata": {},
   "source": [
    "#### Test"
   ]
  },
  {
   "cell_type": "code",
   "execution_count": null,
   "metadata": {},
   "outputs": [],
   "source": [
    "let fairCoinAndDice = distribution {\n",
    "    let! d = fairDice 6\n",
    "    let! c = fairCoin\n",
    "    return d,c }"
   ]
  },
  {
   "cell_type": "code",
   "execution_count": null,
   "metadata": {
    "collapsed": true
   },
   "outputs": [],
   "source": [
    "fairCoinAndDice\n",
    "  |> filter (fun (d,c) -> c = Heads && d > 3)\n",
    "  |> probability\n",
    "  |> printfn \"P(Heads and dice > 3) = %A\" // \"1/4N\""
   ]
  },
  {
   "cell_type": "code",
   "execution_count": null,
   "metadata": {
    "collapsed": true
   },
   "outputs": [],
   "source": []
  }
 ],
 "metadata": {
  "kernelspec": {
   "display_name": "F#",
   "language": "fsharp",
   "name": "ifsharp"
  },
  "language": "fsharp",
  "language_info": {
   "codemirror_mode": "",
   "file_extension": ".fs",
   "mimetype": "text/x-fsharp",
   "name": "fsharp",
   "nbconvert_exporter": "",
   "pygments_lexer": "",
   "version": "4.3.1.0"
  }
 },
 "nbformat": 4,
 "nbformat_minor": 2
}
