{
 "cells": [
  {
   "cell_type": "markdown",
   "metadata": {},
   "source": [
    "# Hello Uncertain World\n",
    "A simple example of ...\n"
   ]
  },
  {
   "cell_type": "markdown",
   "metadata": {
    "collapsed": true,
    "slideshow": {
     "slide_type": "slide"
    }
   },
   "source": [
    "### Links\n",
    "http://infernet.azurewebsites.net/default.aspx   \n",
    "http://infernet.azurewebsites.net/docs/Hello,%20Strings!.aspx   \n",
    "http://conferences.inf.ed.ac.uk/bayes250/slides/winn.pdf "
   ]
  },
  {
   "cell_type": "markdown",
   "metadata": {
    "slideshow": {
     "slide_type": "subslide"
    }
   },
   "source": [
    "## Load & open packages"
   ]
  },
  {
   "cell_type": "markdown",
   "metadata": {},
   "source": [
    "There is a copy of the downloaded Infer.FSharp.dll file here: https://github.com/roguetrainer/Infer.NET-2.6. There is an entry in the Paket dependencies file builder string: \"github roguetrainer/Infer.NET-2.6 Infer.FSharp.dll\""
   ]
  },
  {
   "cell_type": "code",
   "execution_count": 4,
   "metadata": {
    "collapsed": false
   },
   "outputs": [],
   "source": [
    "#load \"paket-files/include-scripts/net45/include.main.group.fsx\"\n",
    "#r \"/home/nbuser/paket-files/roguetrainer/Infer.NET-2.6/Infer.FSharp.dll\""
   ]
  },
  {
   "cell_type": "code",
   "execution_count": 5,
   "metadata": {
    "collapsed": false
   },
   "outputs": [],
   "source": [
    "open System\n",
    "open MicrosoftResearch.Infer\n",
    "open MicrosoftResearch.Infer.Models\n",
    "open MicrosoftResearch.Infer.Distributions\n",
    "open MicrosoftResearch.Infer.Factors\n",
    "open MicrosoftResearch.Infer.FSharp"
   ]
  },
  {
   "cell_type": "markdown",
   "metadata": {},
   "source": [
    "## Define three random strings\n",
    "The third is the concatenation of the first two, with a space separator."
   ]
  },
  {
   "cell_type": "code",
   "execution_count": null,
   "metadata": {
    "collapsed": true
   },
   "outputs": [],
   "source": [
    "let str1 = Variable.StringUniform().Named(\"str1\")\n",
    "let str2 = Variable.StringUniform().Named(\"str2\")\n",
    "let text = (str1 + \" \" + str2).Named(\"text\")"
   ]
  },
  {
   "cell_type": "markdown",
   "metadata": {},
   "source": [
    "Observe the third string to be \"Hello uncertain world\", i.e. a string with _two_ spaces, one of which must be from the definition of the \"text\" variable."
   ]
  },
  {
   "cell_type": "code",
   "execution_count": null,
   "metadata": {
    "collapsed": true
   },
   "outputs": [],
   "source": [
    "text.ObservedValue <- \"Hello uncertain world\""
   ]
  },
  {
   "cell_type": "markdown",
   "metadata": {},
   "source": [
    "## Inference"
   ]
  },
  {
   "cell_type": "code",
   "execution_count": 8,
   "metadata": {
    "collapsed": false
   },
   "outputs": [
    {
     "data": {
      "text/plain": [
       "<null>"
      ]
     },
     "execution_count": 8,
     "metadata": {},
     "output_type": "execute_result"
    }
   ],
   "source": [
    "let ie = new InferenceEngine()\n",
    "ie.Compiler.RecommendedQuality <- QualityBand.Experimental"
   ]
  },
  {
   "cell_type": "markdown",
   "metadata": {},
   "source": [
    "What are the possible outcomes for the two strings str1 & str2?"
   ]
  },
  {
   "cell_type": "code",
   "execution_count": 15,
   "metadata": {
    "collapsed": false
   },
   "outputs": [
    {
     "data": {
      "text/plain": [
       "Hello[ uncertain]"
      ]
     },
     "execution_count": 15,
     "metadata": {},
     "output_type": "execute_result"
    }
   ],
   "source": [
    "ie.Infer str1"
   ]
  },
  {
   "cell_type": "code",
   "execution_count": 10,
   "metadata": {
    "collapsed": false
   },
   "outputs": [
    {
     "data": {
      "text/plain": [
       "world|uncertain world"
      ]
     },
     "execution_count": 10,
     "metadata": {},
     "output_type": "execute_result"
    }
   ],
   "source": [
    "ie.Infer str2"
   ]
  },
  {
   "cell_type": "markdown",
   "metadata": {},
   "source": []
  },
  {
   "cell_type": "code",
   "execution_count": 18,
   "metadata": {
    "collapsed": false
   },
   "outputs": [
    {
     "data": {
      "text/plain": [
       "[0.5; 0.5; 0.0]"
      ]
     },
     "execution_count": 18,
     "metadata": {},
     "output_type": "execute_result"
    }
   ],
   "source": [
    "let distOfStr1 = ie.Infer<StringDistribution> str1\n",
    "let outcomesOfStr1 =[\"Hello\"; \"Hello uncertain\"; \"Hello uncertain world\"]\n",
    "outcomesOfStr1 |> List.map (fun s -> distOfStr1.Evaluate s)"
   ]
  },
  {
   "cell_type": "code",
   "execution_count": 21,
   "metadata": {
    "collapsed": false
   },
   "outputs": [
    {
     "data": {
      "text/plain": [
       "[0.0; 0.5; 0.5]"
      ]
     },
     "execution_count": 21,
     "metadata": {},
     "output_type": "execute_result"
    }
   ],
   "source": [
    "let distOfStr2 = ie.Infer<StringDistribution> str2\n",
    "let outcomesOfStr2 =[\"Hello uncertain world\"; \"uncertain world\"; \"world\"]\n",
    "outcomesOfStr2 |> List.map (fun s -> distOfStr2.Evaluate s)"
   ]
  },
  {
   "cell_type": "code",
   "execution_count": null,
   "metadata": {
    "collapsed": true
   },
   "outputs": [],
   "source": []
  }
 ],
 "metadata": {
  "kernelspec": {
   "display_name": "F#",
   "language": "fsharp",
   "name": "ifsharp"
  },
  "language": "fsharp",
  "language_info": {
   "codemirror_mode": "",
   "file_extension": ".fs",
   "mimetype": "text/x-fsharp",
   "name": "fsharp",
   "nbconvert_exporter": "",
   "pygments_lexer": "",
   "version": "4.3.1.0"
  }
 },
 "nbformat": 4,
 "nbformat_minor": 2
}
