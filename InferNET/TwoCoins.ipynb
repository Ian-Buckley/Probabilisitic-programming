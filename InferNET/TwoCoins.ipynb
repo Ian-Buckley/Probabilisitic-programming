{
  "metadata": {
    "kernelspec": {
      "name": "ifsharp",
      "display_name": "F#",
      "language": "fsharp"
    },
    "language": "fsharp",
    "language_info": {
      "mimetype": "text/x-fsharp",
      "nbconvert_exporter": "",
      "name": "fsharp",
      "pygments_lexer": "",
      "version": "4.3.1.0",
      "file_extension": ".fs",
      "codemirror_mode": ""
    }
  },
  "nbformat_minor": 2,
  "nbformat": 4,
  "cells": [
    {
      "cell_type": "markdown",
      "source": "# Two coins tutorial",
      "metadata": {}
    },
    {
      "cell_type": "markdown",
      "source": "A simple example of _exact_ (closed-form) inference using random variables with discrete distributions.",
      "metadata": {}
    },
    {
      "cell_type": "markdown",
      "source": "This has been updated in Oct 2018 (post Infer.NET open source launch!) to use: \n* the Paket dependency manager to get the package(s) from nuget\n* Paket to get the `FSharpWrapper` from github\n* the revised namespace `Microsoft.ML.Probabilistic` (was `MicrosoftResearch.Infer`)",
      "metadata": {}
    },
    {
      "cell_type": "markdown",
      "source": "### Links\nhttp://infernet.azurewebsites.net/default.aspx    \nhttp://infernet.azurewebsites.net/docs/Two%20coins%20tutorial.aspx (Old pre Oct 2018)    \nhttps://www.microsoft.com/en-us/research/wp-content/uploads/2016/02/Model_Learner_Pattern_POPL_Rome.pdf    \n\nhttps://dotnet.github.io/infer/userguide/Two%20coins.html  **(LATEST!)** (Oct 2018)",
      "metadata": {
        "slideshow": {
          "slide_type": "slide"
        }
      }
    },
    {
      "cell_type": "markdown",
      "source": "[`FSharpWrapper` tutorial examples](https://dotnet.github.io/infer/userguide/FSharp%20Wrapper.html) include:\n* TwoCoins\n* TruncatedGaussian\n* GaussianRanges\n* ClinicalTrial\n* BayesPoint\n* MixtureGaussians",
      "metadata": {}
    },
    {
      "cell_type": "markdown",
      "source": "## Load & open packages",
      "metadata": {
        "slideshow": {
          "slide_type": "subslide"
        }
      }
    },
    {
      "cell_type": "markdown",
      "source": "https://fsprojects.github.io/Paket/",
      "metadata": {}
    },
    {
      "cell_type": "markdown",
      "source": "Packages in F# can be installed via `nuget.org` using the Paket dependency manager.\nTo install packages from NuGet you should first load the Packet package manager:",
      "metadata": {}
    },
    {
      "cell_type": "code",
      "source": "#load \"Paket.fsx\"",
      "metadata": {
        "trusted": true
      },
      "execution_count": 41,
      "outputs": []
    },
    {
      "cell_type": "markdown",
      "source": "You can then have Paket install the packages:",
      "metadata": {}
    },
    {
      "cell_type": "code",
      "source": "Paket.Package\n  [   // \"Infer.NET\" (pre Oct 2018 namespace)\n      \"Microsoft.ML.Probabilistic\"\n      \"Microsoft.ML.Probabilistic.Compiler\"\n      //\"Microsoft.ML.Probabilistic.FSharp\"  // Not on nuget, yet?\n  ]",
      "metadata": {
        "trusted": true
      },
      "execution_count": 18,
      "outputs": []
    },
    {
      "cell_type": "code",
      "source": "// #load \"Paket.Generated.Refs.fsx\"  // Do we need this?",
      "metadata": {
        "trusted": true
      },
      "execution_count": 39,
      "outputs": []
    },
    {
      "cell_type": "markdown",
      "source": "### `FSharpWrapper`",
      "metadata": {}
    },
    {
      "cell_type": "markdown",
      "source": "See  https://github.com/dotnet/infer/blob/master/src/FSharpWrapper/FSharpWrapper.fs   \nhttps://github.com/fsprojects/IfSharp/issues/146 (Thanks for help, Colin Gravill!)   \nhttps://fsprojects.github.io/Paket/github-dependencies.html",
      "metadata": {}
    },
    {
      "cell_type": "code",
      "source": "Paket.GitHub [\"dotnet/infer src/FSharpWrapper/FSharpWrapper.fs\"]",
      "metadata": {
        "trusted": true
      },
      "execution_count": 26,
      "outputs": []
    },
    {
      "cell_type": "code",
      "source": "#load \"/home/nbuser/IfSharp/bin/paket-files/github/dotnet/infer/src/FSharpWrapper/FSharpWrapper.fs\"",
      "metadata": {
        "scrolled": true,
        "trusted": true
      },
      "execution_count": 28,
      "outputs": []
    },
    {
      "cell_type": "markdown",
      "source": "### Check `paket` files",
      "metadata": {}
    },
    {
      "cell_type": "markdown",
      "source": "Project dependencies file:",
      "metadata": {}
    },
    {
      "cell_type": "code",
      "source": "File.ReadAllText(@\"../../IfSharp/bin/paket.dependencies\")",
      "metadata": {
        "trusted": true
      },
      "execution_count": 29,
      "outputs": [
        {
          "output_type": "execute_result",
          "execution_count": 29,
          "data": {
            "text/plain": "\"framework: net471\ngenerate_load_scripts: true\nsource https://api.nuget.org/v3/index.json\nnuget FSharp.Core ~> 4.3.4\nnuget FsLab 1.1.3\nnuget Microsoft.ML.Probabilistic.Compiler\n\ngroup GitHub\nsource https://www.nuget.org/api/v2\n\ngithub dotnet/infer src/FSharpWrapper/FSharpWrapper.fs\""
          },
          "metadata": {}
        }
      ]
    },
    {
      "cell_type": "markdown",
      "source": "The `paket install` command will analyze your dependencies and automatically generate a `paket.lock` file:",
      "metadata": {}
    },
    {
      "cell_type": "code",
      "source": "File.ReadAllText(@\"../../IfSharp/bin/paket.lock\")",
      "metadata": {
        "trusted": true
      },
      "execution_count": null,
      "outputs": []
    },
    {
      "cell_type": "markdown",
      "source": "### Load packages",
      "metadata": {}
    },
    {
      "cell_type": "code",
      "source": "#I \"/home/nbuser/IfSharp/bin/packages/Microsoft.ML.Probabilistic/lib/netstandard2.0\"\n//#I \"/home/nbuser/IfSharp/bin/packages/Microsoft.ML.Probabilistic.Compiler/lib/netstandard2.0\"",
      "metadata": {
        "trusted": true
      },
      "execution_count": 14,
      "outputs": []
    },
    {
      "cell_type": "code",
      "source": "#r \"Microsoft.ML.Probabilistic.dll\"\n//#r \"Microsoft.ML.Probabilistic.Compiler.dll\"",
      "metadata": {
        "trusted": true
      },
      "execution_count": 15,
      "outputs": []
    },
    {
      "cell_type": "code",
      "source": "open System",
      "metadata": {
        "trusted": true
      },
      "execution_count": null,
      "outputs": []
    },
    {
      "cell_type": "code",
      "source": "open Microsoft.ML.Probabilistic  \nopen Microsoft.ML.Probabilistic.Models  \nopen Microsoft.ML.Probabilistic.Distributions  \nopen Microsoft.ML.Probabilistic.Factors  \nopen Microsoft.ML.Probabilistic.FSharp",
      "metadata": {
        "trusted": true
      },
      "execution_count": 33,
      "outputs": []
    },
    {
      "cell_type": "markdown",
      "source": "## Define random variables",
      "metadata": {}
    },
    {
      "cell_type": "markdown",
      "source": "Create three random variables, all with the Bernoulli distribution.  \nThe third is the composition of the first two, assuming independence.",
      "metadata": {}
    },
    {
      "cell_type": "code",
      "source": "let firstCoin = Variable.Bernoulli(0.5)\nlet secondCoin = Variable.Bernoulli(0.5)\nlet bothHeads = firstCoin &&& secondCoin",
      "metadata": {
        "trusted": true
      },
      "execution_count": 34,
      "outputs": []
    },
    {
      "cell_type": "markdown",
      "source": "## Inference",
      "metadata": {}
    },
    {
      "cell_type": "code",
      "source": "let ie = InferenceEngine()",
      "metadata": {
        "trusted": true
      },
      "execution_count": 35,
      "outputs": []
    },
    {
      "cell_type": "markdown",
      "source": "### Both heads posterior",
      "metadata": {}
    },
    {
      "cell_type": "markdown",
      "source": "In the absence of an observation of either coin, what is the inferred marginal posterior distribution of the event \"Both coins are heads\".",
      "metadata": {}
    },
    {
      "cell_type": "code",
      "source": "ie.Infer<Bernoulli>(bothHeads)",
      "metadata": {
        "trusted": true
      },
      "execution_count": 36,
      "outputs": [
        {
          "output_type": "execute_result",
          "execution_count": 36,
          "data": {
            "text/plain": "Bernoulli(0.25)"
          },
          "metadata": {}
        },
        {
          "output_type": "display_data",
          "data": {
            "text/plain": "Compiling model...done.\n"
          },
          "metadata": {}
        }
      ]
    },
    {
      "cell_type": "markdown",
      "source": "### First coin posterior",
      "metadata": {}
    },
    {
      "cell_type": "markdown",
      "source": "Observe that the event \"Both coins are heads\" did not occur.",
      "metadata": {}
    },
    {
      "cell_type": "code",
      "source": "bothHeads.ObservedValue <- false",
      "metadata": {
        "trusted": true
      },
      "execution_count": 37,
      "outputs": []
    },
    {
      "cell_type": "markdown",
      "source": "Given this observational data, what is the inferred marginal posterior distribution for the first coin?",
      "metadata": {}
    },
    {
      "cell_type": "code",
      "source": "ie.Infer<Bernoulli>(firstCoin)",
      "metadata": {
        "trusted": true
      },
      "execution_count": 38,
      "outputs": [
        {
          "output_type": "execute_result",
          "execution_count": 38,
          "data": {
            "text/plain": "Bernoulli(0.3333)"
          },
          "metadata": {}
        },
        {
          "output_type": "display_data",
          "data": {
            "text/plain": "Compiling model...done.\n"
          },
          "metadata": {}
        }
      ]
    },
    {
      "cell_type": "code",
      "source": "",
      "metadata": {},
      "execution_count": null,
      "outputs": []
    }
  ]
}