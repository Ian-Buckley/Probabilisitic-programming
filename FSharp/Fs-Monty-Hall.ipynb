{
 "cells": [
  {
   "cell_type": "markdown",
   "metadata": {
    "collapsed": true
   },
   "source": [
    "# Fs-Monty-Hall"
   ]
  },
  {
   "cell_type": "markdown",
   "metadata": {},
   "source": [
    "Author: Evelina Gabasova  \n",
    "Transcribed to a Jupyter notebook by Ian Buckley."
   ]
  },
  {
   "cell_type": "markdown",
   "metadata": {},
   "source": [
    "## Overview"
   ]
  },
  {
   "cell_type": "markdown",
   "metadata": {},
   "source": [
    "This notebook, which can be conveniently [hosted on Azure](https://notebooks.azure.com/), is a transcription of the [F#](http://fsharp.org/) program `comp_expr_monty_hall` developed by Evelina Gabasova as part of her presentation [How to look like a statistician: a developer's guide to probabilistic programming](https://channel9.msdn.com/Events/FSharp-Events/fsharpConf-2018/06), part of [FSharpConf](http://fsharpconf.com/) on 6 April 2018. This particular example solves the [**Monty Hall problem**](https://en.wikipedia.org/wiki/Monty_Hall_problem), making use of a common design pattern in functional programming, useful for expressing workflows, called the [**computation expression**](https://docs.microsoft.com/en-us/dotnet/fsharp/language-reference/computation-expressions) (also known as in math & computer science circles & by the Haskell & Scala communities as the [**monad**](https://en.wikipedia.org/wiki/Monad_(functional_programming)). "
   ]
  },
  {
   "cell_type": "markdown",
   "metadata": {},
   "source": [
    "Computational expressions are explained in detail on [F# for fun or profit](https://fsharpforfunandprofit.com/series/computation-expressions.html). Probabilistic programming is an important aspect of machine learning unifying general purpose programming with probabilistic modeling. It is a great application for computation expressions, since it has been known for a while that [the monad design pattern is ideal to describe probabilistic computations](https://www.cs.tufts.edu/~nr/pubs/pmonad.pdf). "
   ]
  },
  {
   "cell_type": "markdown",
   "metadata": {},
   "source": [
    "The Monty Hall problem has been [solved in Haskell](https://web.engr.oregonstate.edu/~erwig/papers/PFP_JFP06.pdf) and Scala: [pfp-scala](https://github.com/andresilva/pfp-scala), [odds](http://lampwww.epfl.ch/~sstucki/talks/rsc-meetup13/rsc-meetup13-slides.pdf). "
   ]
  },
  {
   "cell_type": "markdown",
   "metadata": {},
   "source": [
    "Frameworks for [probabilistic programming](http://www.probabilistic-programming.org/wiki/Home):\n",
    "* **Scala** include [Figaro](https://github.com/p2t2/figaro), [odds](https://github.com/sstucki/odds) and [Pfennig](https://github.com/noelwelsh/pfennig)\n",
    "* **Haskell** are described [here](https://wiki.haskell.org/Probabilistic_Functional_Programming)\n",
    "* **.net** include [Infer.NET](http://infernet.azurewebsites.net/) & specifically in F#: [Infer.NET Fun](https://www.microsoft.com/en-us/research/project/infer-net-fun/)"
   ]
  },
  {
   "cell_type": "markdown",
   "metadata": {},
   "source": [
    "https://channel9.msdn.com/Events/FSharp-Events/fsharpConf-2018/06   \n",
    "https://github.com/evelinag/probabilistic-programming/tree/master/code   "
   ]
  },
  {
   "cell_type": "markdown",
   "metadata": {},
   "source": [
    "##### Notebook extensions"
   ]
  },
  {
   "cell_type": "markdown",
   "metadata": {},
   "source": [
    "Because this is a long notebook, & a mixture of valuable code & less valuable experiments, it is a really good idea to turn on a couple of notebook extensions **Edit > nbextensions config** to open a new browser tab, & then select the following extensions:\n",
    "* Collapsible headings\n",
    "* Intitialization cells (allows you to conveniently run only specific cells   \n",
    "\n",
    "Having selected those check boxes, reload the tab containing this notebook for the changes to take effect."
   ]
  },
  {
   "cell_type": "markdown",
   "metadata": {},
   "source": [
    "## `Load` & `open` .net packages using `Paket`"
   ]
  },
  {
   "cell_type": "markdown",
   "metadata": {},
   "source": [
    "### Steps when running on Azure"
   ]
  },
  {
   "cell_type": "markdown",
   "metadata": {},
   "source": [
    "#### Run once in a given Azure library to create script"
   ]
  },
  {
   "cell_type": "code",
   "execution_count": 2,
   "metadata": {},
   "outputs": [],
   "source": [
    "#load \"Paket.fsx\""
   ]
  },
  {
   "cell_type": "markdown",
   "metadata": {},
   "source": [
    "When using Azure, run the following to generate the file `Paket.Generated.Refs.fsx`, to be `load`ed each time that the notebook is run with a fresh kernel. The file is put in either \n",
    "`/home/nbuser/IfSharp/bin` or \n",
    "`/home/nbuser/library`"
   ]
  },
  {
   "cell_type": "markdown",
   "metadata": {},
   "source": [
    "The following installs the selected packages. It may take a minute to run on first use with a particular kernel."
   ]
  },
  {
   "cell_type": "code",
   "execution_count": 3,
   "metadata": {},
   "outputs": [],
   "source": [
    "Paket.Package\n",
    "  [ \"MathNet.Numerics\"\n",
    "    \"MathNet.Numerics.FSharp\"\n",
    "    \"FSharp.Data\"\n",
    "  ]"
   ]
  },
  {
   "cell_type": "markdown",
   "metadata": {},
   "source": [
    "#### Run always for restarted kernel "
   ]
  },
  {
   "cell_type": "markdown",
   "metadata": {},
   "source": [
    " `Load` the file `Paket.Generated.Refs.fsx` each time that the notebook is run with a fresh kernel when on Azure."
   ]
  },
  {
   "cell_type": "code",
   "execution_count": 1,
   "metadata": {
    "init_cell": true
   },
   "outputs": [
    {
     "name": "stderr",
     "output_type": "stream",
     "text": [
      "Could not load file '/home/nbuser/IfSharp/bin/.paket/load/main.group.fsx' because it does not exist or is inaccessible"
     ]
    }
   ],
   "source": [
    "#load \"Paket.Generated.Refs.fsx\""
   ]
  },
  {
   "cell_type": "markdown",
   "metadata": {},
   "source": [
    "### Steps for local execution"
   ]
  },
  {
   "cell_type": "code",
   "execution_count": 5,
   "metadata": {},
   "outputs": [],
   "source": [
    "// On Azure, use the (Unix) terminal window to find these files in ~/IfSharp/bin/\n",
    "#r \"packages/MathNet.Numerics/lib/net40/MathNet.Numerics.dll\"\n",
    "#r \"packages/FSharp.Data/lib/net45/FSharp.Data.dll\""
   ]
  },
  {
   "cell_type": "markdown",
   "metadata": {},
   "source": [
    "### Common steps for Azure or local execution"
   ]
  },
  {
   "cell_type": "code",
   "execution_count": 2,
   "metadata": {
    "init_cell": true
   },
   "outputs": [
    {
     "name": "stderr",
     "output_type": "stream",
     "text": [
      "The namespace or module 'MathNet' is not defined. Maybe you want one of the following:\n",
      "   Math"
     ]
    }
   ],
   "source": [
    "open System\n",
    "open MathNet.Numerics\n",
    "open FSharp.Data"
   ]
  },
  {
   "cell_type": "markdown",
   "metadata": {},
   "source": [
    "## Define types, computation expressions, functions, models"
   ]
  },
  {
   "cell_type": "markdown",
   "metadata": {},
   "source": [
    "### Define types & helper functions for outcomes, distributions"
   ]
  },
  {
   "cell_type": "markdown",
   "metadata": {},
   "source": [
    "#### `Door`"
   ]
  },
  {
   "cell_type": "markdown",
   "metadata": {},
   "source": [
    "The `Door` type describes the possible outcomes of the experiment (opening a door in the game). I.e. the \"sample space\"."
   ]
  },
  {
   "cell_type": "code",
   "execution_count": 3,
   "metadata": {
    "init_cell": true
   },
   "outputs": [],
   "source": [
    "type Door = Goat | Car"
   ]
  },
  {
   "cell_type": "markdown",
   "metadata": {},
   "source": [
    "#### `MontyHallValue`"
   ]
  },
  {
   "cell_type": "markdown",
   "metadata": {},
   "source": [
    "The discrete distribution of the events is modelled as a sequence of records, each containing an outcome value & its probability. E.g. for the three door game: `[Car;Goat;Goat]` all with probability $1/3$."
   ]
  },
  {
   "cell_type": "code",
   "execution_count": 4,
   "metadata": {
    "init_cell": true
   },
   "outputs": [],
   "source": [
    "type MontyHallValue = {\n",
    "    Value: Door\n",
    "    Probability: float }"
   ]
  },
  {
   "cell_type": "markdown",
   "metadata": {},
   "source": [
    "Forkmann calls this `Outcome`: http://www.navision-blog.de/2011/08/15/some-special-monads-in-f-part-3-of-n-distributionmonad/."
   ]
  },
  {
   "cell_type": "markdown",
   "metadata": {},
   "source": [
    "#### `Distribution`"
   ]
  },
  {
   "cell_type": "markdown",
   "metadata": {},
   "source": [
    "A distribution is modelled as a collection (`seq`) of `MontyHallValue`s."
   ]
  },
  {
   "cell_type": "code",
   "execution_count": 5,
   "metadata": {
    "init_cell": true
   },
   "outputs": [],
   "source": [
    "type Distribution = MontyHallValue seq"
   ]
  },
  {
   "cell_type": "markdown",
   "metadata": {},
   "source": [
    "#### Helper functions for uniform & certain distributions"
   ]
  },
  {
   "cell_type": "code",
   "execution_count": 6,
   "metadata": {
    "init_cell": true
   },
   "outputs": [],
   "source": [
    "let uniformDistribution (values: Door seq) = \n",
    "    let l = float (Seq.length values)\n",
    "    values |> Seq.map (fun v -> {Value=v; Probability = 1.0/l})"
   ]
  },
  {
   "cell_type": "code",
   "execution_count": 7,
   "metadata": {
    "init_cell": true
   },
   "outputs": [],
   "source": [
    "let certainly value = seq [{Value=value; Probability =1.0}]"
   ]
  },
  {
   "cell_type": "markdown",
   "metadata": {},
   "source": [
    "### Computation expression for probabilistic computations"
   ]
  },
  {
   "cell_type": "markdown",
   "metadata": {},
   "source": [
    "#### `ProbabilisticComputation`"
   ]
  },
  {
   "cell_type": "markdown",
   "metadata": {},
   "source": [
    "A `ProbabilisticComputation` is a (generic) union type consisting of either:\n",
    "* `Sample` is a tuple of \n",
    "    * a `Distribution` (over `MontyHallValue`s) and \n",
    "    * a function that maps an input of type `Door` to a `ProbabilisticComputation`\n",
    "* `Return` is just an alias for the provided wrapped type `'T`"
   ]
  },
  {
   "cell_type": "code",
   "execution_count": 8,
   "metadata": {
    "init_cell": true
   },
   "outputs": [],
   "source": [
    "type ProbabilisticComputation<'T> = \n",
    "  | Sample of Distribution * (Door -> ProbabilisticComputation<'T>)\n",
    "  | Return of 'T   "
   ]
  },
  {
   "cell_type": "markdown",
   "metadata": {},
   "source": [
    "#### `ProbabilisticComputationBuilder`"
   ]
  },
  {
   "cell_type": "markdown",
   "metadata": {},
   "source": [
    "The computation expression builder must implement the `Return` and `Bind` methods.\n",
    "* **`Return`** Lifts a single value into the elevated world `a -> E<a>`\n",
    "* **`Bind`**  Allows you to compose world-crossing (“monadic”) functions `(a->E<b>) -> E<a> -> E<b>`"
   ]
  },
  {
   "cell_type": "code",
   "execution_count": 9,
   "metadata": {
    "init_cell": true
   },
   "outputs": [],
   "source": [
    "type ProbabilisticComputationBuilder() = \n",
    "  member x.Return(v) = Return v\n",
    "  member x.Bind(dist, f) = Sample(dist, f) "
   ]
  },
  {
   "cell_type": "markdown",
   "metadata": {},
   "source": [
    "Create an instance of the builder class for use below defining strategy models."
   ]
  },
  {
   "cell_type": "code",
   "execution_count": 10,
   "metadata": {
    "init_cell": true
   },
   "outputs": [],
   "source": [
    "let prob = ProbabilisticComputationBuilder()"
   ]
  },
  {
   "cell_type": "markdown",
   "metadata": {},
   "source": [
    "#### Diagram of `bind` function from F# for fun & profit"
   ]
  },
  {
   "cell_type": "markdown",
   "metadata": {},
   "source": [
    "Diagram of `bind` function from F# for fun & profit. See [bind](https://fsharpforfunandprofit.com/posts/elevated-world-2/#bind). In the computation expression, after a dose of syntactic sugar, `bind` method appears as `let!`. .\n",
    "In this concrete example the correspondences are:\n",
    "* the *elevated world* is a (generic) type `ProbabilisticComputation<Door>` (so either a `Sample` or a `Return`).\n",
    "* the type `a` is always an outcome of type `Door`\n",
    "* ditto for type `b`??"
   ]
  },
  {
   "cell_type": "markdown",
   "metadata": {},
   "source": [
    "![Image of bind function from F# for fun & profit](https://fsharpforfunandprofit.com/assets/img/vgfp_bind.png)"
   ]
  },
  {
   "cell_type": "markdown",
   "metadata": {},
   "source": [
    "### Monty Hall models"
   ]
  },
  {
   "cell_type": "markdown",
   "metadata": {},
   "source": [
    "Define `ProbabilisticComputation`s using the `ProbabilisticComputationBuilder` instance `prob` to represent the strategies of staying with the initial door, or switching to the one proposed by Monty. When the contestant stays, `bind` is called once. When she switches, it is called twice."
   ]
  },
  {
   "cell_type": "code",
   "execution_count": 11,
   "metadata": {
    "init_cell": true
   },
   "outputs": [],
   "source": [
    "let montyHallStay = prob {\n",
    "    let! initialDoor = uniformDistribution [Car;Goat;Goat]\n",
    "    return initialDoor}\n",
    "\n",
    "let montyHallSwitch = prob {\n",
    "    let! initialDoor = uniformDistribution [Car;Goat;Goat]\n",
    "    let! switchedDoor = \n",
    "        match initialDoor with\n",
    "        | Car -> certainly Goat\n",
    "        | Goat -> certainly Car\n",
    "    return switchedDoor}"
   ]
  },
  {
   "cell_type": "markdown",
   "metadata": {},
   "source": [
    "The two strategies are (initially) of type `ProbabilisticComputation.Sample`, consisting of a tuple containing a distribution (sequence of `Value`-`Probability` record pairs), & a function. "
   ]
  },
  {
   "cell_type": "code",
   "execution_count": 86,
   "metadata": {},
   "outputs": [
    {
     "data": {
      "text/plain": [
       "Sample\n",
       "  (seq\n",
       "     [{Value = Car;\n",
       "       Probability = 0.3333333333;}; {Value = Goat;\n",
       "                                      Probability = 0.3333333333;};\n",
       "      {Value = Goat;\n",
       "       Probability = 0.3333333333;}],<fun:montyHallStay@3-3>)"
      ]
     },
     "execution_count": 86,
     "metadata": {},
     "output_type": "execute_result"
    }
   ],
   "source": [
    "montyHallStay"
   ]
  },
  {
   "cell_type": "markdown",
   "metadata": {},
   "source": [
    "### Helper functions to `enumerate` outcomes & `summarize` the probabilities of winning the car (or goat)"
   ]
  },
  {
   "cell_type": "markdown",
   "metadata": {},
   "source": [
    "#### `enumerate`"
   ]
  },
  {
   "cell_type": "markdown",
   "metadata": {},
   "source": [
    "Inputs are the values (outcomes) of a distribution & a probabilistic computation.  \n",
    "The function `enumerate` is recursive, so explores the tree. "
   ]
  },
  {
   "cell_type": "code",
   "execution_count": 62,
   "metadata": {
    "init_cell": true
   },
   "outputs": [],
   "source": [
    "let rec enumerate values comp = seq {\n",
    "    match comp with \n",
    "    | Sample (dist:Distribution,f) ->\n",
    "        printfn \"============ ProbabilisticComputation is a Sample\"\n",
    "        // Loop over the MontyHallValues in the Distribution\n",
    "        for option in dist do \n",
    "            yield! enumerate (option::values)(f option.Value)\n",
    "    | Return (v:Door) ->\n",
    "        // Print what's happening\n",
    "        values |> List.rev\n",
    "        |> List.iteri (fun i mh -> printfn \"PC is a Return %d: %A(%f)\" (i+1) mh.Value mh.Probability)\n",
    "        // Yield a tuple with the outcome (Car/Goat) & its probability\n",
    "        yield v,\n",
    "            (1.0, values)\n",
    "            ||> List.fold (fun acc x -> acc * x.Probability)}"
   ]
  },
  {
   "cell_type": "markdown",
   "metadata": {},
   "source": [
    "Has type:"
   ]
  },
  {
   "cell_type": "markdown",
   "metadata": {},
   "source": [
    "`val enumerate :\n",
    "  values:MontyHallValue list ->\n",
    "    comp:ProbabilisticComputation<'a> -> seq<'a * float>`"
   ]
  },
  {
   "cell_type": "markdown",
   "metadata": {},
   "source": [
    "#### `summarize`"
   ]
  },
  {
   "cell_type": "markdown",
   "metadata": {},
   "source": [
    "Use `groupBy` to aggregate over outcomes of the same value (e.g. Goat or Car). Output is a list of tuples: e.g. `[(Car, 0.333); (Goat, 0.667)]`"
   ]
  },
  {
   "cell_type": "code",
   "execution_count": 51,
   "metadata": {
    "init_cell": true
   },
   "outputs": [],
   "source": [
    "let summarize dist = \n",
    "    dist\n",
    "    |> Seq.groupBy fst   // Want two bins: for Car & Goat\n",
    "    |> Seq.map (fun (value, xs:('a * float) seq) ->\n",
    "        value, xs |> Seq.sumBy snd)\n",
    "    |> List.ofSeq"
   ]
  },
  {
   "cell_type": "markdown",
   "metadata": {},
   "source": [
    "## Run experiments"
   ]
  },
  {
   "cell_type": "markdown",
   "metadata": {},
   "source": [
    "Seed the process with an empty list. The output will be a `Distribution`."
   ]
  },
  {
   "cell_type": "code",
   "execution_count": 63,
   "metadata": {},
   "outputs": [
    {
     "data": {
      "text/plain": [
       "seq [(Car, 0.3333333333); (Goat, 0.3333333333); (Goat, 0.3333333333)]"
      ]
     },
     "execution_count": 63,
     "metadata": {},
     "output_type": "execute_result"
    },
    {
     "data": {
      "text/plain": [
       "============ ProbabilisticComputation is a Sample\n",
       "PC is a Return 1: Car(0.333333)\n",
       "PC is a Return 1: Goat(0.333333)\n",
       "PC is a Return 1: Goat(0.333333)\n",
       "============ ProbabilisticComputation is a Sample\n",
       "PC is a Return 1: Car(0.333333)\n",
       "PC is a Return 1: Goat(0.333333)\n",
       "PC is a Return 1: Goat(0.333333)\n",
       "============ ProbabilisticComputation is a Sample\n",
       "PC is a Return 1: Car(0.333333)\n",
       "PC is a Return 1: Goat(0.333333)\n",
       "PC is a Return 1: Goat(0.333333)\n"
      ]
     },
     "metadata": {},
     "output_type": "display_data"
    }
   ],
   "source": [
    "enumerate [] montyHallStay"
   ]
  },
  {
   "cell_type": "code",
   "execution_count": 59,
   "metadata": {},
   "outputs": [
    {
     "data": {
      "text/plain": [
       "============ comp is a Sample\n",
       "1: Car(0.333333)\n",
       "1: Goat(0.333333)\n",
       "1: Goat(0.333333)\n"
      ]
     },
     "metadata": {},
     "output_type": "display_data"
    }
   ],
   "source": [
    "let resultStay = enumerate [] montyHallStay |> summarize"
   ]
  },
  {
   "cell_type": "code",
   "execution_count": 57,
   "metadata": {},
   "outputs": [
    {
     "data": {
      "text/plain": [
       "[(Car, 0.3333333333); (Goat, 0.6666666667)]"
      ]
     },
     "execution_count": 57,
     "metadata": {},
     "output_type": "execute_result"
    }
   ],
   "source": [
    "resultStay"
   ]
  },
  {
   "cell_type": "code",
   "execution_count": 58,
   "metadata": {},
   "outputs": [
    {
     "data": {
      "text/plain": [
       "============ comp is a Sample\n",
       "============ comp is a Sample\n",
       "1: Car(0.333333)\n",
       "2: Goat(1.000000)\n",
       "============ comp is a Sample\n",
       "1: Goat(0.333333)\n",
       "2: Car(1.000000)\n",
       "============ comp is a Sample\n",
       "1: Goat(0.333333)\n",
       "2: Car(1.000000)\n"
      ]
     },
     "metadata": {},
     "output_type": "display_data"
    }
   ],
   "source": [
    "let resultSwitch = enumerate [] montyHallSwitch |> summarize"
   ]
  },
  {
   "cell_type": "code",
   "execution_count": 19,
   "metadata": {},
   "outputs": [
    {
     "data": {
      "text/plain": [
       "[(Goat, 0.3333333333); (Car, 0.6666666667)]"
      ]
     },
     "execution_count": 19,
     "metadata": {},
     "output_type": "execute_result"
    }
   ],
   "source": [
    "resultSwitch"
   ]
  },
  {
   "cell_type": "markdown",
   "metadata": {},
   "source": [
    "## Further reading"
   ]
  },
  {
   "cell_type": "markdown",
   "metadata": {},
   "source": [
    "Gabasova, Evelina. How to Look like a Statistician: A Developer’s Guide to Probabilistic Programming, 2018. https://channel9.msdn.com/Events/FSharp-Events/fsharpConf-2018/06.   \n",
    "———. Probabilistic-Programming: [Talk] How to Look like a Statistician: A Developer’s Guide to Probabilistic Programming. F#, 2018. https://github.com/evelinag/probabilistic-programming."
   ]
  },
  {
   "cell_type": "markdown",
   "metadata": {},
   "source": [
    "Syme, Don, Adam Granicz, and Antonio Cisternino. Expert F# 4.0. Apress, 2015."
   ]
  },
  {
   "cell_type": "markdown",
   "metadata": {},
   "source": [
    "Forkmann, Steffen. “Some special monads in F# – Part 4 of n – Application: The Monty Hall problem » Rash thoughts about .NET, C#, F# and Dynamics NAV.,” 2011. http://www.navision-blog.de/blog/2011/08/16/some-special-monads-in-f-part-4-of-n-application-the-monty-hall-problem/.   \n",
    "Kidney, Donnacha Oisín. Monty-Hall . Swift, 2015. https://github.com/oisdk/Monty-Hall.   \n",
    "Microsoft Research. Infer.Net Framework - Monty Hall. C#, 2016. https://github.com/ledohod/Infer.Net.   \n",
    "Purcell. Monty Hall Problem Simulated in Haskell. https://gist.github.com/purcell/5957243.  \n",
    "Silva, André. Pfp-Scala: Probabilistic Functional Programming in Scala. Shell, 2014. https://github.com/andresilva/pfp-scala.   \n"
   ]
  },
  {
   "cell_type": "markdown",
   "metadata": {},
   "source": [
    "Erwig, Martin, and Steve Kollmansberger. “Functional Pearls: Probabilistic Functional Programming in Haskell.” Journal of Functional Programming 16, no. 01 (2006): 21–34. http://web.engr.oregonstate.edu/~erwig/papers/PFP_JFP06.pdf"
   ]
  },
  {
   "cell_type": "code",
   "execution_count": null,
   "metadata": {},
   "outputs": [],
   "source": []
  }
 ],
 "metadata": {
  "celltoolbar": "Initialization Cell",
  "kernelspec": {
   "display_name": "F#",
   "language": "fsharp",
   "name": "ifsharp"
  },
  "language": "fsharp",
  "language_info": {
   "codemirror_mode": "",
   "file_extension": ".fs",
   "mimetype": "text/x-fsharp",
   "name": "fsharp",
   "nbconvert_exporter": "",
   "pygments_lexer": "",
   "version": "4.3.1.0"
  }
 },
 "nbformat": 4,
 "nbformat_minor": 2
}
