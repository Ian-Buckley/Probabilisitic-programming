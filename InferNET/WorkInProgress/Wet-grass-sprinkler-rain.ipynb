{
  "cells": [
    {
      "metadata": {},
      "cell_type": "markdown",
      "source": "# Wet grass / sprinkler / rain example"
    },
    {
      "metadata": {},
      "cell_type": "markdown",
      "source": "This example shows how to construct a discrete Bayesian network in Infer.NET and how to learn the parameters of the model (the conditional probability tables) from data.   \nThe examples from [Imperative Statement Blocks in F#](https://dotnet.github.io/infer/userguide/Imperative%20Statement%20Blocks%20in%20FSharp.html) are included at the end of the notebook.   "
    },
    {
      "metadata": {},
      "cell_type": "markdown",
      "source": "### Overview"
    },
    {
      "metadata": {},
      "cell_type": "markdown",
      "source": "#### Brief overview of the Wet grass / sprinkler / rain example"
    },
    {
      "metadata": {},
      "cell_type": "markdown",
      "source": "Kevin Murphy on [Bayesian networks](https://www.cs.ubc.ca/~murphyk/Bayes/bnintro.html)"
    },
    {
      "metadata": {},
      "cell_type": "markdown",
      "source": "If it is cloudy, the probability of rain is higher; and the probability of the sprinkler being used is lower. If either it rained, or the sprinkler was on, the chance that the grass was wet is high (but not certain!); and if both, then even higher."
    },
    {
      "metadata": {},
      "cell_type": "markdown",
      "source": "<img src=\"https://www.cs.ubc.ca/~murphyk/Bayes/Figures/sprinkler.gif\" alt=\"drawing\" width=\"300\"/>"
    },
    {
      "metadata": {},
      "cell_type": "markdown",
      "source": "Infer.NET user guide: [Discrete Bayesian network](https://dotnet.github.io/infer/userguide/Discrete%20Bayesian%20network.html )"
    },
    {
      "metadata": {},
      "cell_type": "markdown",
      "source": "#### Three ways to infer what you don't know from what you do with Infer.NET."
    },
    {
      "metadata": {},
      "cell_type": "markdown",
      "source": "There are three modes of operation:\n* The **parameters** (for the unconditional (cloudy) variable and for the conditional variables (rain, sprinkler, wet grass) conditional probability tables (CBTs)) **are exactly known** - in this case the priors on the parameters are irrelevant as the parameters are directly observed. We can then query the model in a variety of ways.\n* The **parameters are unknown**, and we want to infer the parameters from **observations on the primary variables**   \n* The **parameters are known with uncertainty** (for example through Bayesian inference), and we want to query the model in the presence of that uncertainty"
    },
    {
      "metadata": {},
      "cell_type": "markdown",
      "source": "<img src=\"https://dotnet.github.io/infer/userguide/WetGrass.png\" alt=\"drawing\" width=\"300\"/>"
    },
    {
      "metadata": {
        "slideshow": {
          "slide_type": "slide"
        }
      },
      "cell_type": "markdown",
      "source": "### Source & links"
    },
    {
      "metadata": {},
      "cell_type": "markdown",
      "source": "https://dotnet.github.io/infer/userguide/Discrete%20Bayesian%20network.html    \nhttps://github.com/dotnet/infer/blob/master/src/Tutorials/WetGrassSprinklerRain.cs  "
    },
    {
      "metadata": {
        "slideshow": {
          "slide_type": "slide"
        }
      },
      "cell_type": "markdown",
      "source": "http://infernet.azurewebsites.net/default.aspx    \nhttps://www.cs.ubc.ca/~murphyk/Bayes/bnintro.html   \nhttps://social.microsoft.com/Forums/en-US/dcffcf8d-fb15-4236-98fd-9d4a5b19e03a/example-of-bayesian-network-migrated-from-communityresearchmicrosoftcom?forum=infer.net  "
    },
    {
      "metadata": {
        "slideshow": {
          "slide_type": "subslide"
        }
      },
      "cell_type": "markdown",
      "source": "## Load & open packages"
    },
    {
      "metadata": {},
      "cell_type": "markdown",
      "source": "### Install packages"
    },
    {
      "metadata": {},
      "cell_type": "markdown",
      "source": "https://fsprojects.github.io/Paket/"
    },
    {
      "metadata": {},
      "cell_type": "markdown",
      "source": "Packages in F# can be installed via `nuget.org` using the Paket dependency manager.\nTo install packages from NuGet you should first load the Packet package manager:"
    },
    {
      "metadata": {
        "init_cell": true,
        "trusted": true
      },
      "cell_type": "code",
      "source": "#load \"Paket.fsx\"",
      "execution_count": 86,
      "outputs": []
    },
    {
      "metadata": {},
      "cell_type": "markdown",
      "source": "You can then have Paket install the packages:"
    },
    {
      "metadata": {
        "init_cell": true,
        "trusted": true
      },
      "cell_type": "code",
      "source": "Paket.Package\n  [   // \"Infer.NET\" (pre Oct 2018 namespace)\n      \"Microsoft.ML.Probabilistic\"\n      \"Microsoft.ML.Probabilistic.Compiler\"\n      //\"Microsoft.ML.Probabilistic.FSharp\"  // Not on nuget, yet?\n      \"NETStandard.Library\"\n  ]",
      "execution_count": 87,
      "outputs": []
    },
    {
      "metadata": {
        "init_cell": true,
        "trusted": true
      },
      "cell_type": "code",
      "source": "#load \"Paket.Generated.Refs.fsx\"  // Do we need this?",
      "execution_count": 88,
      "outputs": []
    },
    {
      "metadata": {},
      "cell_type": "markdown",
      "source": "### `FSharpWrapper`"
    },
    {
      "metadata": {},
      "cell_type": "markdown",
      "source": "See  https://github.com/dotnet/infer/blob/master/src/FSharpWrapper/FSharpWrapper.fs   \nhttps://github.com/fsprojects/IfSharp/issues/146 (Thanks for help, Colin Gravill!)   \nhttps://fsprojects.github.io/Paket/github-dependencies.html"
    },
    {
      "metadata": {
        "init_cell": true,
        "trusted": true
      },
      "cell_type": "code",
      "source": "Paket.GitHub [\"dotnet/infer src/FSharpWrapper/FSharpWrapper.fs\"]",
      "execution_count": 89,
      "outputs": []
    },
    {
      "metadata": {
        "scrolled": true,
        "trusted": true
      },
      "cell_type": "code",
      "source": "//#load \"/home/nbuser/IfSharp/bin/paket-files/github/dotnet/infer/src/FSharpWrapper/FSharpWrapper.fs\"",
      "execution_count": 116,
      "outputs": []
    },
    {
      "metadata": {},
      "cell_type": "markdown",
      "source": "### Assembly search paths and references"
    },
    {
      "metadata": {
        "init_cell": true,
        "trusted": true
      },
      "cell_type": "code",
      "source": "#I \"/home/nbuser/IfSharp/bin/packages/Microsoft.ML.Probabilistic/lib/netstandard2.0\"\n#I \"/home/nbuser/IfSharp/bin/packages/Microsoft.ML.Probabilistic.Compiler/lib/netstandard2.0\"\n#I \"/home/nbuser/IfSharp/bin/packages/NETStandard.Library/build/netstandard2.0/ref\"",
      "execution_count": 90,
      "outputs": []
    },
    {
      "metadata": {
        "init_cell": true,
        "trusted": true
      },
      "cell_type": "code",
      "source": "#r \"Microsoft.ML.Probabilistic\"\n#r \"Microsoft.ML.Probabilistic.Compiler\"\n#r \"netstandard\"",
      "execution_count": 91,
      "outputs": []
    },
    {
      "metadata": {},
      "cell_type": "markdown",
      "source": "### Import declarations for modules or namespaces "
    },
    {
      "metadata": {
        "init_cell": true,
        "trusted": true
      },
      "cell_type": "code",
      "source": "open System",
      "execution_count": 92,
      "outputs": []
    },
    {
      "metadata": {
        "init_cell": true,
        "trusted": true
      },
      "cell_type": "code",
      "source": "open Microsoft.ML.Probabilistic  \nopen Microsoft.ML.Probabilistic.Models  \nopen Microsoft.ML.Probabilistic.Distributions  \nopen Microsoft.ML.Probabilistic.Factors  // From concept of \"factor graph\" - Applying functions and operators to variables\nopen Microsoft.ML.Probabilistic.Math",
      "execution_count": 93,
      "outputs": []
    },
    {
      "metadata": {
        "init_cell": true,
        "scrolled": true,
        "trusted": true
      },
      "cell_type": "code",
      "source": "#load \"/home/nbuser/IfSharp/bin/paket-files/github/dotnet/infer/src/FSharpWrapper/FSharpWrapper.fs\"",
      "execution_count": 94,
      "outputs": []
    },
    {
      "metadata": {
        "init_cell": true,
        "trusted": true
      },
      "cell_type": "code",
      "source": "open Microsoft.ML.Probabilistic.FSharp",
      "execution_count": 95,
      "outputs": []
    },
    {
      "metadata": {},
      "cell_type": "markdown",
      "source": "## Wet Grass Sprinkler Rain Model"
    },
    {
      "metadata": {},
      "cell_type": "markdown",
      "source": "https://github.com/dotnet/infer/blob/master/src/Tutorials/WetGrassSprinklerRain.cs"
    },
    {
      "metadata": {},
      "cell_type": "markdown",
      "source": "Note that each of the four main parts of the model require multiple types:\n* Dirichlet (prior) **distribution** for the \n* **Random variables** that are the **parameters** (**probabilities** - unconditional or conditional) of the \n* Discrete (actually Bernouilli) **distribution**, that yields\n* **Random variables** for the state of the cloud / rain / sprinkler & wet grass"
    },
    {
      "metadata": {},
      "cell_type": "markdown",
      "source": "### Methods"
    },
    {
      "metadata": {},
      "cell_type": "markdown",
      "source": "Translated from the C#: a couple of helper methods"
    },
    {
      "metadata": {},
      "cell_type": "markdown",
      "source": "#### `AddChildFromOneParent`"
    },
    {
      "metadata": {},
      "cell_type": "markdown",
      "source": "[Branching on variables to create mixture models](https://dotnet.github.io/infer/userguide/Branching%20on%20variables%20to%20create%20mixture%20models.html)   \n[Imperative Statement Blocks in F#](https://dotnet.github.io/infer/userguide/Imperative%20Statement%20Blocks%20in%20FSharp.html)"
    },
    {
      "metadata": {},
      "cell_type": "markdown",
      "source": "The random variables are stored in a `VariableArray` to reflect that \n* all of C,R,S,W are conditional to greater or lesser degrees (depending on what is known) and because \n* we like to repeat our experiments many times e.g. N=100 trials\n\nIn F# these are typically populated using `Variable.ArrayInit` or    \n`v.[r] -> Variable.SomeDistribution(someParameters).ForEach(r)`.   \nEven the variable Cloudy, which is unconditional when its parameters (Bernoulli probabilities) are known, is conditional on its driving Dirichlet distribution. "
    },
    {
      "metadata": {
        "init_cell": true,
        "trusted": true
      },
      "cell_type": "code",
      "source": "type RandomVariable = VariableArray<int> // Random variables, e.g. for C (N),S (N*2),R (N*2),W (N*2*2)\ntype RandomVariableCase = Variable<int> // Could be for single experiment and/or outcome of driving variable",
      "execution_count": 96,
      "outputs": []
    },
    {
      "metadata": {},
      "cell_type": "markdown",
      "source": "Distribution parameters for (singly) conditional variables: Rain & Sprinker"
    },
    {
      "metadata": {
        "init_cell": true,
        "trusted": true
      },
      "cell_type": "code",
      "source": "type ConditionalProbabilityTable = VariableArray<Vector> // Distribution params for S,R",
      "execution_count": 97,
      "outputs": []
    },
    {
      "metadata": {
        "init_cell": true,
        "trusted": true
      },
      "cell_type": "code",
      "source": "let AddChildFromOneParent \n        (parent:RandomVariable) \n        (cpt:ConditionalProbabilityTable) =\n    let r = parent.Range\n    let (child:RandomVariable) = Variable.ArrayInit r (fun (i:Range)->  \n                   Variable.SwitchExpr (parent.[i]) (fun (pi:RandomVariableCase) ->  \n                       Variable.Discrete(cpt.[pi])))\n    child",
      "execution_count": 98,
      "outputs": []
    },
    {
      "metadata": {},
      "cell_type": "markdown",
      "source": "#### `AddChildFromTwoParents`"
    },
    {
      "metadata": {},
      "cell_type": "markdown",
      "source": "Distribution parameters for (doubly conditional) variable WetGrass.   "
    },
    {
      "metadata": {},
      "cell_type": "markdown",
      "source": "Class [`VariableArray<TItem, TArray>`](https://dotnet.github.io/infer/apiguide/api/Microsoft.ML.Probabilistic.Models.VariableArray-2.html) is a one-dimensional [jagged variable array](https://dotnet.github.io/infer/userguide/Jagged%20arrays.html)."
    },
    {
      "metadata": {},
      "cell_type": "markdown",
      "source": "* The .NET type of a jagged array in Infer.NET is a `VariableArray` with two generic type parameters. The first parameter represents the type of element in the `VariableArray`. In this case we have a `VariableArray` of `VariableArray<Vector>`, so the first type argument is `VariableArray<Vector>`. The second type parameter is the .NET array type of the jagged array - in this case we have an array of array of `Vectors`."
    },
    {
      "metadata": {
        "init_cell": true,
        "trusted": true
      },
      "cell_type": "code",
      "source": "type ConditionalProbabilityTable2D = \n    VariableArray<VariableArray<Vector>, Vector[][]>",
      "execution_count": 99,
      "outputs": []
    },
    {
      "metadata": {
        "init_cell": true,
        "trusted": true
      },
      "cell_type": "code",
      "source": "let AddChildFromTwoParents \n        (parent1:RandomVariable) \n        (parent2:RandomVariable) \n        (cpt:ConditionalProbabilityTable2D) = \n    let r = parent1.Range\n    let (child:RandomVariable) = Variable.ArrayInit r (fun (i:Range)->  \n               Variable.SwitchExpr (parent1.[i]) (fun (pi1:RandomVariableCase) ->  \n                   Variable.SwitchExpr (parent2.[i]) (fun (pi2:RandomVariableCase) ->  \n                       Variable.Discrete(cpt.[pi1].[pi2]))))\n    child       ",
      "execution_count": 100,
      "outputs": []
    },
    {
      "metadata": {},
      "cell_type": "markdown",
      "source": "### Variables"
    },
    {
      "metadata": {},
      "cell_type": "markdown",
      "source": "#### `RandomVariables` & `ObservedValues`"
    },
    {
      "metadata": {},
      "cell_type": "markdown",
      "source": "Primary random variables:   "
    },
    {
      "metadata": {
        "init_cell": true,
        "trusted": true
      },
      "cell_type": "code",
      "source": "type RandomVariables =\n    {cloudy:VariableArray<int>;\n    sprinkler:VariableArray<int>;\n    rain:VariableArray<int>;\n    wetGrass:VariableArray<int> }",
      "execution_count": 101,
      "outputs": []
    },
    {
      "metadata": {
        "init_cell": true,
        "trusted": true
      },
      "cell_type": "code",
      "source": "type ObservedValues =\n    {cloudy:array<int>;\n    sprinkler:array<int>;\n    rain:array<int>;\n    wetGrass:array<int> }\ntype Sample = ObservedValues",
      "execution_count": 102,
      "outputs": []
    },
    {
      "metadata": {},
      "cell_type": "markdown",
      "source": "#### `DistributionParameters`"
    },
    {
      "metadata": {},
      "cell_type": "markdown",
      "source": "Random variables representing the **parameters of the (mostly conditional) distributions** \nof the primary random variables. For child variables, these are \nin the form of **conditional probability tables (CPTs)**   "
    },
    {
      "metadata": {
        "init_cell": true,
        "trusted": true
      },
      "cell_type": "code",
      "source": "type DistributionParameters =\n    {cloudy:Variable<Vector> ;\n    sprinkler:VariableArray<Vector> ;\n    rain:VariableArray<Vector> ;\n    wetGrass:VariableArray<VariableArray<Vector>, Vector[][]> }",
      "execution_count": 103,
      "outputs": []
    },
    {
      "metadata": {
        "init_cell": true,
        "trusted": true
      },
      "cell_type": "code",
      "source": "type DistributionParameterValues =  \n    {cloudy:Vector;     // probCloudy     2-vector\n    sprinkler:Vector[]; // cptSprinkler   2-vector * 2\n    rain:Vector[];      // cptRain        2-vector * 2\n    wetGrass:Vector[][] // cptWetGrass    2-vector * 2 * 2\n    }",
      "execution_count": 104,
      "outputs": []
    },
    {
      "metadata": {},
      "cell_type": "markdown",
      "source": "#### `PriorDistributions`"
    },
    {
      "metadata": {},
      "cell_type": "markdown",
      "source": "Prior distributions for the probability and CPT variables.\nThe prior distributions are formulated as Infer.NET variables\nso that they can be set at runtime without recompiling the model"
    },
    {
      "metadata": {
        "init_cell": true,
        "trusted": true
      },
      "cell_type": "code",
      "source": "type PriorDistributions =\n    {cloudy:Variable<Dirichlet> ;\n    sprinkler:VariableArray<Dirichlet> ;\n    rain:VariableArray<Dirichlet> ;\n    wetGrass:VariableArray<VariableArray<Dirichlet>, Dirichlet[][]> }",
      "execution_count": 105,
      "outputs": []
    },
    {
      "metadata": {},
      "cell_type": "markdown",
      "source": "#### `PosteriorDistributions`"
    },
    {
      "metadata": {},
      "cell_type": "markdown",
      "source": "Posterior distributions for the probability and CPT variables.   "
    },
    {
      "metadata": {
        "init_cell": true,
        "trusted": true
      },
      "cell_type": "code",
      "source": "type PosteriorDistributions =\n    {cloudy:Dirichlet ;\n    sprinkler:Dirichlet[] ;\n    rain:Dirichlet[] ;\n    wetGrass:Dirichlet[][] }",
      "execution_count": 106,
      "outputs": []
    },
    {
      "metadata": {},
      "cell_type": "markdown",
      "source": "#### `Ranges`"
    },
    {
      "metadata": {
        "trusted": true
      },
      "cell_type": "code",
      "source": "type Ranges = {c:Range;s:Range;r:Range;w:Range}",
      "execution_count": 60,
      "outputs": []
    },
    {
      "metadata": {},
      "cell_type": "markdown",
      "source": "### Assignments"
    },
    {
      "metadata": {},
      "cell_type": "markdown",
      "source": "Inference engine"
    },
    {
      "metadata": {
        "init_cell": true,
        "trusted": true
      },
      "cell_type": "code",
      "source": "let engine =  InferenceEngine ()",
      "execution_count": 107,
      "outputs": []
    },
    {
      "metadata": {},
      "cell_type": "markdown",
      "source": "Set up the ranges"
    },
    {
      "metadata": {
        "init_cell": true,
        "trusted": true
      },
      "cell_type": "code",
      "source": "let numberOfExamples:Variable<int> = Variable.New<int>().Named(\"NofE\")\nlet rN:Range = Range(numberOfExamples).Named(\"N\")",
      "execution_count": 108,
      "outputs": []
    },
    {
      "metadata": {},
      "cell_type": "markdown",
      "source": "Although all the variables in this example have just 2 states (true/false),\nthe example is formulated in a way that shows how to extend to multiple states"
    },
    {
      "metadata": {
        "init_cell": true,
        "trusted": true
      },
      "cell_type": "code",
      "source": "let rC = Range(2).Named(\"C\") // Cloudy\nlet rS = Range(2).Named(\"S\") // Sprinkler\nlet rR = Range(2).Named(\"R\") // Rain\nlet rW = Range(2).Named(\"W\") // Wet",
      "execution_count": 109,
      "outputs": []
    },
    {
      "metadata": {},
      "cell_type": "markdown",
      "source": "#### Cloudy"
    },
    {
      "metadata": {},
      "cell_type": "markdown",
      "source": "Define the priors and the parameters"
    },
    {
      "metadata": {},
      "cell_type": "markdown",
      "source": "The values for all variables C,S,R,W have a discrete distribution with probabilities from a Dirichlet (prior) distribution.   \n(It's like the outcome comes from the flip of a biased coin, but with the amount of bias being random too - like picking the biased coin from an (infinite) bag of biased coins with the frequencies of coins following a Dirichlet distribution.)"
    },
    {
      "metadata": {
        "init_cell": true,
        "trusted": true
      },
      "cell_type": "code",
      "source": "let probCloudyPrior:Variable<Dirichlet> = Variable.New<Dirichlet>().Named(\"probCloudyPrior\")\nlet probCloudy:Variable<Vector> = Variable<Vector>.Random<Dirichlet>(probCloudyPrior).Named(\"probCloudy\")\nprobCloudy.SetValueRange(rC)",
      "execution_count": 110,
      "outputs": []
    },
    {
      "metadata": {},
      "cell_type": "markdown",
      "source": "#### Sprinkler probability table conditioned on cloudiness"
    },
    {
      "metadata": {},
      "cell_type": "markdown",
      "source": "[Working with arrays and ranges](https://dotnet.github.io/infer/userguide/Arrays%20and%20ranges.html)"
    },
    {
      "metadata": {},
      "cell_type": "markdown",
      "source": "Having defined ranges, you can then **declare a variable array** using the syntax:\n```\nVariable.Array<T>(Range r1,Range r2,...)\n```"
    },
    {
      "metadata": {
        "init_cell": true,
        "trusted": true
      },
      "cell_type": "code",
      "source": "let cptSprinklerPrior = Variable.Array<Dirichlet>(rC).Named(\"cptSprinklerPrior\")\nlet cptSprinkler = Variable.Array<Vector>(rC).Named(\"cptSprinkler\")",
      "execution_count": 111,
      "outputs": []
    },
    {
      "metadata": {},
      "cell_type": "markdown",
      "source": "At this point, the arrays are declared but not initialized. You can fill an array in two ways: the `SetTo` method (or using an indexer `[]`??)"
    },
    {
      "metadata": {
        "init_cell": true,
        "trusted": true
      },
      "cell_type": "code",
      "source": "cptSprinkler.[rC] <- Variable<Vector>.Random<Dirichlet>(cptSprinklerPrior.[rC])\ncptSprinkler.SetValueRange(rS)",
      "execution_count": 112,
      "outputs": []
    },
    {
      "metadata": {},
      "cell_type": "markdown",
      "source": "#### Rain probability table conditioned on cloudiness"
    },
    {
      "metadata": {
        "init_cell": true,
        "trusted": true
      },
      "cell_type": "code",
      "source": "let cptRainPrior = Variable.Array<Dirichlet>(rC).Named(\"cptRainPrior\")\nlet cptRain = Variable.Array<Vector>(rC).Named(\"cptRain\")",
      "execution_count": 113,
      "outputs": []
    },
    {
      "metadata": {
        "init_cell": true,
        "trusted": true
      },
      "cell_type": "code",
      "source": "cptRain.[rC] <- Variable<Vector>.Random<Dirichlet>(cptRainPrior.[rC])\ncptRain.SetValueRange(rR)",
      "execution_count": 114,
      "outputs": []
    },
    {
      "metadata": {},
      "cell_type": "markdown",
      "source": "#### Wet grass probability table conditioned on sprinkler and rain"
    },
    {
      "metadata": {
        "init_cell": true,
        "trusted": true
      },
      "cell_type": "code",
      "source": "let cptWetGrassPrior= \n    Variable.Array<VariableArray<Dirichlet>, Dirichlet[][]>(\n        Variable.Array<Dirichlet>(rR), rS).Named(\"cptWetGrassPrior\")\nlet cptWetGrass = \n    Variable.Array<VariableArray<Vector>, Vector[][]>(\n        Variable.Array<Vector>(rR), rS).Named(\"cptWetGrass\")",
      "execution_count": 115,
      "outputs": []
    },
    {
      "metadata": {
        "init_cell": true,
        "trusted": true
      },
      "cell_type": "code",
      "source": "cptWetGrass.[rS].[rR] <- Variable<Vector>.Random<Dirichlet>(cptWetGrassPrior.[rS].[rR])\ncptWetGrass.SetValueRange(rW)",
      "execution_count": 116,
      "outputs": []
    },
    {
      "metadata": {},
      "cell_type": "markdown",
      "source": "### Now using record types"
    },
    {
      "metadata": {},
      "cell_type": "markdown",
      "source": "One way to organize the workflow is to build four-element records to handle the:\n* ranges (always 2)\n* priors distribution random variables, \n* distribution parameters (conditional probability tables for R,S,W), \n* primary random variables etc. "
    },
    {
      "metadata": {
        "init_cell": true,
        "trusted": true
      },
      "cell_type": "code",
      "source": "let ranges:Ranges = {c=Range(2).Named(\"C\"); s=Range(2).Named(\"S\"); r=Range(2).Named(\"R\"); w=Range(2).Named(\"R\")}",
      "execution_count": 117,
      "outputs": []
    },
    {
      "metadata": {
        "trusted": true
      },
      "cell_type": "code",
      "source": "let priors:PriorDistributions = {\n    cloudy= Variable.New<Dirichlet>().Named(\"probCloudyPrior\");\n    sprinkler= Variable.Array<Dirichlet>(ranges.c).Named(\"cptSprinklerPrior\") ;\n    rain= Variable.Array<Dirichlet>(ranges.c).Named(\"cptRainPrior\");\n    wetGrass= Variable.Array<VariableArray<Dirichlet>, Dirichlet[][]>(\n                    Variable.Array<Dirichlet>(ranges.r), ranges.s).Named(\"cptWetGrassPrior\")}",
      "execution_count": 72,
      "outputs": []
    },
    {
      "metadata": {
        "trusted": true
      },
      "cell_type": "code",
      "source": "let parameters:DistributionParameters = {\n    cloudy= Variable<Vector>.Random<Dirichlet>(probCloudyPrior).Named(\"probCloudy\");\n    sprinkler= Variable.Array<Vector>(ranges.c).Named(\"cptSprinkler\") ;\n    rain= Variable.Array<Vector>(ranges.c).Named(\"cptRain\");\n    wetGrass= Variable.Array<VariableArray<Vector>, Vector[][]>(\n                Variable.Array<Vector>(ranges.r), ranges.s).Named(\"cptWetGrass\")}",
      "execution_count": 73,
      "outputs": []
    },
    {
      "metadata": {
        "trusted": true
      },
      "cell_type": "code",
      "source": "parameters.cloudy.SetValueRange(ranges.c)\nparameters.sprinkler.[ranges.c] <- Variable<Vector>.Random<Dirichlet>(priors.sprinkler.[ranges.c])\nparameters.sprinkler.SetValueRange(ranges.s)\nparameters.rain.[ranges.c] <- Variable<Vector>.Random<Dirichlet>(priors.rain.[ranges.c])\nparameters.rain.SetValueRange(ranges.r)\nparameters.wetGrass.[ranges.s].[ranges.r] <- Variable<Vector>.Random<Dirichlet>(priors.wetGrass.[ranges.s].[ranges.r])\nparameters.wetGrass.SetValueRange(ranges.w)",
      "execution_count": 74,
      "outputs": []
    },
    {
      "metadata": {},
      "cell_type": "markdown",
      "source": "### Functions"
    },
    {
      "metadata": {},
      "cell_type": "markdown",
      "source": "#### buildPriors"
    },
    {
      "metadata": {
        "init_cell": true,
        "trusted": true
      },
      "cell_type": "code",
      "source": "let buildPriors (rg:Ranges) : PriorDistributions =\n    {cloudy= Variable.New<Dirichlet>().Named(\"probCloudyPrior\");\n        sprinkler= Variable.Array<Dirichlet>(rg.c).Named(\"cptSprinklerPrior\") ;\n        rain= Variable.Array<Dirichlet>(rg.c).Named(\"cptRainPrior\");\n        wetGrass= Variable.Array<VariableArray<Dirichlet>, Dirichlet[][]>(\n                                Variable.Array<Dirichlet>(rg.r), rg.s).Named(\"cptWetGrassPrior\")}",
      "execution_count": 118,
      "outputs": []
    },
    {
      "metadata": {
        "trusted": true
      },
      "cell_type": "code",
      "source": "let priors = buildPriors ranges",
      "execution_count": 76,
      "outputs": []
    },
    {
      "metadata": {},
      "cell_type": "markdown",
      "source": "#### `buildDistributionParameters`"
    },
    {
      "metadata": {
        "init_cell": true,
        "trusted": true
      },
      "cell_type": "code",
      "source": "let buildDistributionParameters (rg:Ranges) (pd:PriorDistributions) : DistributionParameters =\n    let probCloudy = Variable<Vector>.Random<Dirichlet>(pd.cloudy).Named(\"probCloudy\")\n    let cptSprinkler = Variable.Array<Vector>(rg.c).Named(\"cptSprinkler\") \n    let cptRain = Variable.Array<Vector>(rg.c).Named(\"cptRain\")\n    let cptWetGrass = Variable.Array<VariableArray<Vector>, Vector[][]>(\n                            Variable.Array<Vector>(rg.r), rg.s).Named(\"cptWetGrass\")\n    probCloudy.SetValueRange(rg.c)\n    cptSprinkler.[rg.c] <- Variable<Vector>.Random<Dirichlet>(pd.sprinkler.[rg.c])\n    cptSprinkler.SetValueRange(rg.s)\n    cptRain.[rg.c] <- Variable<Vector>.Random<Dirichlet>(pd.rain.[rg.c])\n    cptRain.SetValueRange(rg.r)\n    cptWetGrass.[rg.s].[rg.r] <- Variable<Vector>.Random<Dirichlet>(pd.wetGrass.[rg.s].[rg.r])\n    cptWetGrass.SetValueRange(rg.w)\n    {cloudy = probCloudy; sprinkler = cptSprinkler; rain = cptRain; wetGrass = cptWetGrass}        ",
      "execution_count": 119,
      "outputs": []
    },
    {
      "metadata": {
        "trusted": true
      },
      "cell_type": "code",
      "source": "let parameters = buildDistributionParameters ranges priors",
      "execution_count": 78,
      "outputs": []
    },
    {
      "metadata": {},
      "cell_type": "markdown",
      "source": "### Define the primary variables"
    },
    {
      "metadata": {
        "init_cell": true,
        "trusted": true
      },
      "cell_type": "code",
      "source": "let numberOfExamples:Variable<int> = Variable.New<int>().Named(\"NofE\")\nlet rN:Range = Range(numberOfExamples).Named(\"N\")",
      "execution_count": 120,
      "outputs": []
    },
    {
      "metadata": {},
      "cell_type": "markdown",
      "source": "#### Unconditional variable - `Cloudy`"
    },
    {
      "metadata": {
        "init_cell": true,
        "trusted": true
      },
      "cell_type": "code",
      "source": "let cloudy = Variable.Array<int>(rN).Named(\"cloudy\")\ncloudy.[rN] <- Variable.Discrete(probCloudy).ForEach(rN)",
      "execution_count": 121,
      "outputs": []
    },
    {
      "metadata": {},
      "cell_type": "markdown",
      "source": "#### Primary (conditional) random variables: `sprinkler`, `rain`, `wetGrass`"
    },
    {
      "metadata": {
        "trusted": true
      },
      "cell_type": "code",
      "source": "let sprinkler:VariableArray<int> = (AddChildFromOneParent cloudy cptSprinkler).Named(\"sprinkler\")\nlet rain:VariableArray<int> = (AddChildFromOneParent cloudy cptRain).Named(\"rain\")\nlet wetGrass:VariableArray<int> = (AddChildFromTwoParents sprinkler rain cptWetGrass).Named(\"wetGrass\")",
      "execution_count": 81,
      "outputs": []
    },
    {
      "metadata": {},
      "cell_type": "markdown",
      "source": "#### Using record types"
    },
    {
      "metadata": {
        "trusted": true
      },
      "cell_type": "code",
      "source": "let rvs:RandomVariables =\n    let vC = Variable.Array<int>(rN).Named(\"cloudy\")\n    vC.[rN] <- Variable.Discrete(probCloudy).ForEach(rN)\n    let vS = (AddChildFromOneParent vC cptSprinkler).Named(\"sprinkler\")\n    let vR = (AddChildFromOneParent vC cptRain).Named(\"rain\")\n    let vW = (AddChildFromTwoParents vS vR cptWetGrass).Named(\"wetGrass\")\n    {cloudy = vC; sprinkler =vS; rain = vR; wetGrass = vW}",
      "execution_count": 82,
      "outputs": []
    },
    {
      "metadata": {},
      "cell_type": "markdown",
      "source": "#### `buildRandomVariables`"
    },
    {
      "metadata": {
        "trusted": true
      },
      "cell_type": "code",
      "source": "let buildRandomVariables (rN:Range) (dp:DistributionParameters) :RandomVariables =\n    let vC = Variable.Array<int>(rN).Named(\"cloudy\")\n    vC.[rN] <- Variable.Discrete(dp.cloudy).ForEach(rN)\n    let vS = (AddChildFromOneParent vC dp.sprinkler).Named(\"sprinkler\")\n    let vR = (AddChildFromOneParent vC dp.rain).Named(\"rain\")\n    let vW = (AddChildFromTwoParents vS vR dp.wetGrass).Named(\"wetGrass\")\n    {cloudy = vC; sprinkler =vS; rain = vR; wetGrass = vW}",
      "execution_count": 83,
      "outputs": []
    },
    {
      "metadata": {
        "trusted": true
      },
      "cell_type": "code",
      "source": "let numberOfExamples = Variable.New<int>().Named(\"NofE\")\nlet rN = Range(numberOfExamples).Named(\"N\")\nlet ranges = {c=Range(2).Named(\"C\"); s=Range(2).Named(\"S\"); r=Range(2).Named(\"R\"); w=Range(2).Named(\"W\")}\nlet priors = buildPriors ranges\nlet parameters = buildDistributionParameters ranges priors",
      "execution_count": 84,
      "outputs": []
    },
    {
      "metadata": {
        "trusted": true
      },
      "cell_type": "code",
      "source": "let rvs = buildRandomVariables rN parameters",
      "execution_count": 85,
      "outputs": []
    },
    {
      "metadata": {
        "heading_collapsed": true
      },
      "cell_type": "markdown",
      "source": "### New to F#? New to Infer.NET?"
    },
    {
      "metadata": {
        "hidden": true
      },
      "cell_type": "markdown",
      "source": "Play with these simple definitions of values"
    },
    {
      "metadata": {
        "trusted": true,
        "hidden": true
      },
      "cell_type": "code",
      "source": "let a:array<int> = [|3|]\nlet b:int[] =  [|3|]\nlet c:int[] = a\nlet d:Vector[][] = [|[|Vector.FromArray(2.,3.)|]|]\nlet e:array<array<Vector>> = [|[|Vector.FromArray(2.,3.)|]|]\nlet f:array<array<Vector>> = d",
      "execution_count": 160,
      "outputs": []
    },
    {
      "metadata": {},
      "cell_type": "markdown",
      "source": "### Workflow"
    },
    {
      "metadata": {},
      "cell_type": "markdown",
      "source": "### `WetGrassSprinklerRainModel` - OOP"
    },
    {
      "metadata": {},
      "cell_type": "markdown",
      "source": "When using the object oriented programming paradigm in F#, the class is defined using `type`. The constructor is the type definition. The variables (actually immutable values) are made available as properties."
    },
    {
      "metadata": {
        "trusted": true
      },
      "cell_type": "code",
      "source": "type WetGrassSprinklerRainModel() =\n    \n    // Private functions (used by constructor)\n    let addChildFromOneParent \n            (parent:RandomVariable) \n            (cpt:ConditionalProbabilityTable) =\n        let r = parent.Range\n        let (child:RandomVariable) = Variable.ArrayInit r (fun (i:Range)->  \n                       Variable.SwitchExpr (parent.[i]) (fun (pi:RandomVariableCase) ->  \n                           Variable.Discrete(cpt.[pi])))\n        child\n        \n    let addChildFromTwoParents \n            (parent1:RandomVariable) \n            (parent2:RandomVariable) \n            (cpt:ConditionalProbabilityTable2D) = \n        let r = parent1.Range\n        let (child:RandomVariable) = Variable.ArrayInit r (fun (i:Range)->  \n                   Variable.SwitchExpr (parent1.[i]) (fun (pi1:RandomVariableCase) ->  \n                       Variable.SwitchExpr (parent2.[i]) (fun (pi2:RandomVariableCase) ->  \n                           Variable.Discrete(cpt.[pi1].[pi2]))))\n        child    \n        \n    let buildPriors (rg:Ranges) : PriorDistributions =\n        {cloudy= Variable.New<Dirichlet>().Named(\"probCloudyPrior\");\n            sprinkler= Variable.Array<Dirichlet>(rg.c).Named(\"cptSprinklerPrior\") ;\n            rain= Variable.Array<Dirichlet>(rg.c).Named(\"cptRainPrior\");\n            wetGrass= Variable.Array<VariableArray<Dirichlet>, Dirichlet[][]>(\n                                    Variable.Array<Dirichlet>(rg.r), rg.s).Named(\"cptWetGrassPrior\")}\n\n    let buildDistributionParameters (rg:Ranges) (pd:PriorDistributions) : DistributionParameters =\n        let probCloudy = Variable<Vector>.Random<Dirichlet>(pd.cloudy).Named(\"probCloudy\")\n        let cptSprinkler = Variable.Array<Vector>(rg.c).Named(\"cptSprinkler\") \n        let cptRain = Variable.Array<Vector>(rg.c).Named(\"cptRain\")\n        let cptWetGrass = Variable.Array<VariableArray<Vector>, Vector[][]>(\n                                Variable.Array<Vector>(rg.r), rg.s).Named(\"cptWetGrass\")\n        do probCloudy.SetValueRange(rg.c)\n        do cptSprinkler.[rg.c] <- Variable<Vector>.Random<Dirichlet>(pd.sprinkler.[rg.c])\n        do cptSprinkler.SetValueRange(rg.s)\n        do cptRain.[rg.c] <- Variable<Vector>.Random<Dirichlet>(pd.rain.[rg.c])\n        do cptRain.SetValueRange(rg.r)\n        do cptWetGrass.[rg.s].[rg.r] <- Variable<Vector>.Random<Dirichlet>(pd.wetGrass.[rg.s].[rg.r])\n        do cptWetGrass.SetValueRange(rg.w)\n        {cloudy = probCloudy; sprinkler = cptSprinkler; rain = cptRain; wetGrass = cptWetGrass}        \n\n    let buildRandomVariables (rN:Range) (dp:DistributionParameters) :RandomVariables =\n        let vC = Variable.Array<int>(rN).Named(\"cloudy\")\n        do vC.[rN] <- Variable.Discrete(dp.cloudy).ForEach(rN)\n        let vS = (addChildFromOneParent vC dp.sprinkler).Named(\"sprinkler\")\n        let vR = (addChildFromOneParent vC dp.rain).Named(\"rain\")\n        let vW = (addChildFromTwoParents vS vR dp.wetGrass).Named(\"wetGrass\")\n        {cloudy = vC; sprinkler =vS; rain = vR; wetGrass = vW}\n     \n    // Private fields\n    let ranges:Ranges = {c=Range(2).Named(\"C\"); s=Range(2).Named(\"S\"); r=Range(2).Named(\"R\"); w=Range(2).Named(\"R\")}\n    let numberOfExamples:Variable<int> = Variable.New<int>().Named(\"NofE\")\n    let rN:Range = Range(numberOfExamples).Named(\"N\")\n    let priors = buildPriors ranges\n    let parameters = buildDistributionParameters ranges priors\n    let primaryRandomVariables = buildRandomVariables rN parameters\n    let engine = InferenceEngine ()\n\n    \n    // Properties\n    member this.Ranges = ranges\n    member this.NumberOfExamples = numberOfExamples\n    member this.RangeN = rN\n    member this.Priors = priors\n    member this.Parameters = parameters\n    member this.PrimaryRandomVariables = primaryRandomVariables\n    member this.Engine = engine",
      "execution_count": 161,
      "outputs": []
    },
    {
      "metadata": {
        "trusted": true
      },
      "cell_type": "code",
      "source": "let model = WetGrassSprinklerRainModel ()  ",
      "execution_count": 162,
      "outputs": []
    },
    {
      "metadata": {
        "heading_collapsed": true
      },
      "cell_type": "markdown",
      "source": "### `WetGrassSprinklerRainModel` - functional"
    },
    {
      "metadata": {
        "hidden": true
      },
      "cell_type": "markdown",
      "source": "When using a more functional paradigm for organizing the code, the functions take greater precedence than the data, & are organised into a module. By using `open ModuleName` the functions become available without requiring a fully qualified `ModuleName.functionName`."
    },
    {
      "metadata": {
        "hidden": true,
        "trusted": true
      },
      "cell_type": "code",
      "source": "module WetGrassSprinklerRainModel2 =\n    // Functions\n    let addChildFromOneParent \n            (parent:RandomVariable) \n            (cpt:ConditionalProbabilityTable) =\n        let r = parent.Range\n        let (child:RandomVariable) = Variable.ArrayInit r (fun (i:Range)->  \n                       Variable.SwitchExpr (parent.[i]) (fun (pi:RandomVariableCase) ->  \n                           Variable.Discrete(cpt.[pi])))\n        child\n        \n    let addChildFromTwoParents \n            (parent1:RandomVariable) \n            (parent2:RandomVariable) \n            (cpt:ConditionalProbabilityTable2D) = \n        let r = parent1.Range\n        let (child:RandomVariable) = Variable.ArrayInit r (fun (i:Range)->  \n                   Variable.SwitchExpr (parent1.[i]) (fun (pi1:RandomVariableCase) ->  \n                       Variable.SwitchExpr (parent2.[i]) (fun (pi2:RandomVariableCase) ->  \n                           Variable.Discrete(cpt.[pi1].[pi2]))))\n        child    \n    \n    let buildPriors (rg:Ranges) : PriorDistributions =\n        {cloudy= Variable.New<Dirichlet>().Named(\"probCloudyPrior\");\n            sprinkler= Variable.Array<Dirichlet>(rg.c).Named(\"cptSprinklerPrior\") ;\n            rain= Variable.Array<Dirichlet>(rg.c).Named(\"cptRainPrior\");\n            wetGrass= Variable.Array<VariableArray<Dirichlet>, Dirichlet[][]>(\n                                    Variable.Array<Dirichlet>(rg.r), rg.s).Named(\"cptWetGrassPrior\")}\n\n    let buildDistributionParameters (rg:Ranges) (pd:PriorDistributions) : DistributionParameters =\n        let probCloudy = Variable<Vector>.Random<Dirichlet>(pd.cloudy).Named(\"probCloudy\")\n        let cptSprinkler = Variable.Array<Vector>(rg.c).Named(\"cptSprinkler\") \n        let cptRain = Variable.Array<Vector>(rg.c).Named(\"cptRain\")\n        let cptWetGrass = Variable.Array<VariableArray<Vector>, Vector[][]>(\n                                Variable.Array<Vector>(rg.r), rg.s).Named(\"cptWetGrass\")\n        probCloudy.SetValueRange(rg.c)\n        cptSprinkler.[rg.c] <- Variable<Vector>.Random<Dirichlet>(pd.sprinkler.[rg.c])\n        cptSprinkler.SetValueRange(rg.s)\n        cptRain.[rg.c] <- Variable<Vector>.Random<Dirichlet>(pd.rain.[rg.c])\n        cptRain.SetValueRange(rg.r)\n        cptWetGrass.[rg.s].[rg.r] <- Variable<Vector>.Random<Dirichlet>(pd.wetGrass.[rg.s].[rg.r])\n        cptWetGrass.SetValueRange(rg.w)\n        {cloudy = probCloudy; sprinkler = cptSprinkler; rain = cptRain; wetGrass = cptWetGrass}        \n\n    let buildRandomVariables (rN:Range) (dp:DistributionParameters) :RandomVariables =\n        let vC = Variable.Array<int>(rN).Named(\"cloudy\")\n        vC.[rN] <- Variable.Discrete(dp.cloudy).ForEach(rN)\n        let vS = (addChildFromOneParent vC dp.sprinkler).Named(\"sprinkler\")\n        let vR = (addChildFromOneParent vC dp.rain).Named(\"rain\")\n        let vW = (addChildFromTwoParents vS vR dp.wetGrass).Named(\"wetGrass\")\n        {cloudy = vC; sprinkler =vS; rain = vR; wetGrass = vW}",
      "execution_count": 163,
      "outputs": []
    },
    {
      "metadata": {
        "hidden": true,
        "trusted": true
      },
      "cell_type": "code",
      "source": "open WetGrassSprinklerRainModel2\nlet ranges:Ranges = {c=Range(2).Named(\"C\"); s=Range(2).Named(\"S\"); r=Range(2).Named(\"R\"); w=Range(2).Named(\"R\")}\nlet numberOfExamples:Variable<int> = Variable.New<int>().Named(\"NofE\")\nlet rN:Range = Range(numberOfExamples).Named(\"N\")\nlet priors = buildPriors ranges\nlet parameters = buildDistributionParameters ranges priors\nlet rvs = buildRandomVariables rN parameters\nlet engine =  InferenceEngine ()",
      "execution_count": 164,
      "outputs": []
    },
    {
      "metadata": {},
      "cell_type": "markdown",
      "source": "### More methods: `learnParameters` etc."
    },
    {
      "metadata": {},
      "cell_type": "markdown",
      "source": "#### `setDistributionParameterValues`"
    },
    {
      "metadata": {
        "init_cell": true,
        "trusted": true
      },
      "cell_type": "code",
      "source": "let setDistributionParameterValues (): DistributionParameterValues =\n    let probCloudy:Vector = Vector.FromArray(0.5, 0.5)\n    let cptSprinkler:Vector[] = \n        [| [|0.1; 0.9|] (* cloudy *); [|0.5; 0.5|] (* not cloudy *) |] \n        |> Array.map (fun a -> Vector.FromArray a)\n    let cptRain:Vector[] =      \n        [| [|0.8; 0.2|] (* cloudy *); [|0.2; 0.8|] (* not cloudy *) |] \n        |> Array.map (fun a -> Vector.FromArray a)\n    let cptWetGrass:Vector[][] = \n        [|  [|  [| 0.99; 0.01|] (* rain *); \n                [| 0.9 ; 0.1 |] (* not rain *) |];     // Sprinkler\n            [|  [| 0.9 ; 0.1 |] (* rain *); \n                [| 0.0 ; 1.0 |] (* not rain *) |] |]   // Not sprinkler  \n        |> Array.map (fun a -> a |> Array.map Vector.FromArray)\n    {cloudy=probCloudy; sprinkler=cptSprinkler; rain=cptRain; wetGrass=cptWetGrass}",
      "execution_count": 122,
      "outputs": []
    },
    {
      "metadata": {
        "trusted": true
      },
      "cell_type": "code",
      "source": "let dpv = setDistributionParameterValues ()",
      "execution_count": 166,
      "outputs": []
    },
    {
      "metadata": {
        "trusted": true
      },
      "cell_type": "code",
      "source": "dpv",
      "execution_count": 167,
      "outputs": [
        {
          "data": {
            "text/plain": "{cloudy = seq [0.5; 0.5];\n sprinkler = [|seq [0.1; 0.9]; seq [0.5; 0.5]|];\n rain = [|seq [0.8; 0.2]; seq [0.2; 0.8]|];\n wetGrass =\n  [|[|seq [0.99; 0.01]; seq [0.9; 0.1]|]; [|seq [0.9; 0.1]; seq [0.0; 1.0]|]|];}"
          },
          "execution_count": 167,
          "metadata": {},
          "output_type": "execute_result"
        }
      ]
    },
    {
      "metadata": {
        "init_cell": true,
        "trusted": true
      },
      "cell_type": "code",
      "source": "let sample  (numData:int)\n            (dpv:DistributionParameterValues) : Sample =   \n    let z = Array2D.init numData 4 (fun _ j -> \n        let cloudy =  Discrete.Sample(dpv.cloudy)\n        let sprinkler = Discrete.Sample(dpv.sprinkler.[cloudy])\n        let rain = Discrete.Sample(dpv.rain.[cloudy])\n        let wetGrass = Discrete.Sample(dpv.wetGrass.[sprinkler].[rain])\n        [|cloudy; sprinkler; rain; wetGrass|].[j])\n    {cloudy = z.[*,0]; sprinkler = z.[*,1]; rain=z.[*,2]; wetGrass = z.[*,3]}",
      "execution_count": 123,
      "outputs": []
    },
    {
      "metadata": {
        "trusted": true
      },
      "cell_type": "code",
      "source": "let sample100 = sample 100 dpv",
      "execution_count": 195,
      "outputs": []
    },
    {
      "metadata": {},
      "cell_type": "markdown",
      "source": "#### `learnParameters`"
    },
    {
      "metadata": {},
      "cell_type": "markdown",
      "source": "Learns the parameters of the cloud/sprinkler/rain example\n* Given observed values for the RVs & observed values for the priors\n* Given observed values for the RVs assuming uniform distributions for the priors"
    },
    {
      "metadata": {
        "trusted": true
      },
      "cell_type": "code",
      "source": "let learnParameters (engine:InferenceEngine)\n                    (numberOfExamples:Variable<int>)\n                    (rvs:RandomVariables)\n                    (pri:PriorDistributions)\n                    (obs:ObservedValues)\n                    (pos:PosteriorDistributions):PosteriorDistributions =\n    do numberOfExamples.ObservedValue <- obs.cloudy.Length\n    do rvs.cloudy.ObservedValue <- obs.cloudy\n    do rvs.sprinkler.ObservedValue <- obs.sprinkler\n    do rvs.rain.ObservedValue <- obs.rain\n    do rvs.wetGrass.ObservedValue <- obs.wetGrass\n    \n    do pri.cloudy.ObservedValue <- pos.cloudy\n    do pri.sprinkler.ObservedValue <- pos.sprinkler\n    do pri.rain.ObservedValue <- pos.rain\n    do pri.wetGrass.ObservedValue <- pos.wetGrass\n\n    // Inference \n    {cloudy=engine.Infer<Dirichlet>(pri.cloudy);  \n        sprinkler=engine.Infer<Dirichlet[]>(pri.sprinkler);  \n        rain=engine.Infer<Dirichlet[]>(pri.rain);  \n        wetGrass=engine.Infer<Dirichlet[][]>(pri.wetGrass)}",
      "execution_count": 58,
      "outputs": []
    },
    {
      "metadata": {
        "trusted": true
      },
      "cell_type": "code",
      "source": "let uniformPriors:PosteriorDistributions = \n    let probCloudyPrior = Dirichlet.Uniform(2)\n    let dirUnifArray = Array.init 2 (fun _ -> Dirichlet.Uniform(2)) \n    let dirUnifArrayArray = Array.init 2 (fun _ -> dirUnifArray) \n    {cloudy=probCloudyPrior; sprinkler=dirUnifArray; rain=dirUnifArray; wetGrass=dirUnifArrayArray}",
      "execution_count": 198,
      "outputs": []
    },
    {
      "metadata": {
        "trusted": true
      },
      "cell_type": "code",
      "source": "learnParameters engine numberOfExamples rvs priors sample100 uniformPriors",
      "execution_count": 199,
      "outputs": [
        {
          "name": "stderr",
          "output_type": "stream",
          "text": "This expression was expected to have type\n    'FSI_0019.RandomVariables'    \nbut here has type\n    'FSI_0149.RandomVariables'    \nThis expression was expected to have type\n    'FSI_0023.PriorDistributions'    \nbut here has type\n    'FSI_0153.PriorDistributions'    \nThis expression was expected to have type\n    'ObservedValues'    \nbut here has type\n    'Sample'    \nThis expression was expected to have type\n    'FSI_0024.PosteriorDistributions'    \nbut here has type\n    'FSI_0235.PosteriorDistributions'    "
        }
      ]
    },
    {
      "metadata": {},
      "cell_type": "markdown",
      "source": "#### `probRain`"
    },
    {
      "metadata": {},
      "cell_type": "markdown",
      "source": "Returns the probability of Rain given optional readings on\ncloudiness, sprinkler, and wetness of grass, and given prior distributions\nover the parameters. Priors may be manually set, or may be the posteriors\nfrom learning the parameters."
    },
    {
      "metadata": {},
      "cell_type": "markdown",
      "source": "https://github.com/dotnet/infer/blob/master/src/Tutorials/WetGrassSprinklerRain.cs"
    },
    {
      "metadata": {
        "trusted": true
      },
      "cell_type": "code",
      "source": "let probRain (cloudy:Option<int>) (sprinkler:Option<int>) (wet:Option<int>) = \n    match cloudy with \n    | Some cloudy -> printfn \"the valid value is %A\" cloudy\n    | None -> printfn \"the value is None\" \n    ()",
      "execution_count": 59,
      "outputs": []
    },
    {
      "metadata": {
        "trusted": true
      },
      "cell_type": "code",
      "source": "probRain (Some 3) None",
      "execution_count": 60,
      "outputs": [
        {
          "data": {
            "text/plain": "the valid value is 3\n"
          },
          "metadata": {},
          "output_type": "display_data"
        }
      ]
    },
    {
      "metadata": {
        "trusted": true
      },
      "cell_type": "code",
      "source": "NumberOfExamples.ObservedValue = 1;",
      "execution_count": 61,
      "outputs": [
        {
          "name": "stderr",
          "output_type": "stream",
          "text": "The value, namespace, type or module 'NumberOfExamples' is not defined. Maybe you want one of the following:\n   numberOfExamples"
        }
      ]
    },
    {
      "metadata": {
        "trusted": true
      },
      "cell_type": "code",
      "source": "(*\nif (cloudy.HasValue)\n            {\n                Cloudy.ObservedValue = new int[] { cloudy.Value };\n            }\n            else\n            {\n                Cloudy.ClearObservedValue();\n            }\n\n            if (sprinkler.HasValue)\n            {\n                Sprinkler.ObservedValue = new int[] { sprinkler.Value };\n            }\n            else\n            {\n                Sprinkler.ClearObservedValue();\n            }\n\n            if (wet.HasValue)\n            {\n                WetGrass.ObservedValue = new int[] { wet.Value };\n            }\n            else\n            {\n                WetGrass.ClearObservedValue();\n            }\n\n            Rain.ClearObservedValue();\n\n            ProbCloudyPrior.ObservedValue = probCloudyPrior;\n            CPTSprinklerPrior.ObservedValue = cptSprinklerPrior;\n            CPTRainPrior.ObservedValue = cptRainPrior;\n            CPTWetGrassPrior.ObservedValue = cptWetGrassPrior;\n\n            // Inference\n            var rainPosterior = Engine.Infer<Discrete[]>(Rain);\n\n            // In this example, index 0 is true and index 1 is false\n            return rainPosterior[0].GetProbs()[0];\n        } *)",
      "execution_count": 62,
      "outputs": []
    },
    {
      "metadata": {},
      "cell_type": "markdown",
      "source": "## Testing the model"
    },
    {
      "metadata": {},
      "cell_type": "markdown",
      "source": "### Usage 1: Query the model when we know the parameters exactly"
    },
    {
      "metadata": {},
      "cell_type": "markdown",
      "source": "#### `setDistributionParameterValues`"
    },
    {
      "metadata": {
        "trusted": true
      },
      "cell_type": "code",
      "source": "let setDistributionParameterValues (): DistributionParameterValues =\n    let probCloudy:Vector = Vector.FromArray(0.5, 0.5)\n    let cptSprinkler:Vector[] = [| [|0.1; 0.9|] (* cloudy *); [|0.5; 0.5|] (* not cloudy *) |] |> Array.map (fun a -> Vector.FromArray a)\n    let cptRain:Vector[] =      [| [|0.8; 0.2|] (* cloudy *); [|0.2; 0.8|] (* not cloudy *) |] |> Array.map (fun a -> Vector.FromArray a)\n    let cptWetGrass:Vector[][] = \n        [|  [|  [| 0.99; 0.01|] (* rain *); \n                [| 0.9 ; 0.1 |] (* not rain *) |];     // Sprinkler\n            [|  [| 0.9 ; 0.1 |] (* rain *); \n                [| 0.0 ; 1.0 |] (* not rain *) |] |]   // Not sprinkler  \n        |> Array.map (fun a -> a |> Array.map Vector.FromArray)\n    {cloudy=probCloudy; sprinkler=cptSprinkler; rain=cptRain; wetGrass=cptWetGrass}",
      "execution_count": 64,
      "outputs": []
    },
    {
      "metadata": {
        "trusted": true
      },
      "cell_type": "code",
      "source": "let dpv = setDistributionParameterValues ()",
      "execution_count": 94,
      "outputs": []
    },
    {
      "metadata": {
        "trusted": true
      },
      "cell_type": "code",
      "source": "let probRainGivenWetGrass = model.ProbRain(null, null, 0, probCloudy, cptSprinkler, cptRain, cptWetGrass);\nlet probRainGivenWetGrassNotCloudy = model.ProbRain(1, null, 0, probCloudy, cptSprinkler, cptRain, cptWetGrass);\n\nprintf \"P(rain | grass is wet)              = %A\" probRainGivenWetGrass\nprintf \"P(rain | grass is wet, not cloudy ) = %A\" probRainGivenWetGrassNotCloudy",
      "execution_count": 66,
      "outputs": [
        {
          "name": "stderr",
          "output_type": "stream",
          "text": "The field, constructor or member 'ProbRain' is not defined.\nThe field, constructor or member 'ProbRain' is not defined."
        }
      ]
    },
    {
      "metadata": {},
      "cell_type": "markdown",
      "source": "### Usage 2: Learn posterior distributions for the parameters"
    },
    {
      "metadata": {},
      "cell_type": "markdown",
      "source": "Learning parameters from data (uniform prior)"
    },
    {
      "metadata": {
        "trusted": true
      },
      "cell_type": "code",
      "source": "let sample10 = sample 10 dpv",
      "execution_count": 95,
      "outputs": []
    },
    {
      "metadata": {
        "trusted": true
      },
      "cell_type": "code",
      "source": "sample10.[0]",
      "execution_count": 98,
      "outputs": [
        {
          "data": {
            "text/plain": "[|1; 1; 1; 1|]"
          },
          "execution_count": 98,
          "metadata": {},
          "output_type": "execute_result"
        }
      ]
    },
    {
      "metadata": {},
      "cell_type": "markdown",
      "source": "See if we can recover the parameters from the data - assume uniform priors"
    },
    {
      "metadata": {
        "trusted": true
      },
      "cell_type": "code",
      "source": "model.LearnParameters(sample[0], sample[1], sample[2], sample[3])",
      "execution_count": 68,
      "outputs": [
        {
          "name": "stderr",
          "output_type": "stream",
          "text": "The field, constructor or member 'LearnParameters' is not defined."
        }
      ]
    },
    {
      "metadata": {},
      "cell_type": "markdown",
      "source": "The posteriors are distributions over the probabilities and CPTs. Print out the means of these\ndistributions, and compare with the ground truth"
    },
    {
      "metadata": {
        "trusted": true
      },
      "cell_type": "code",
      "source": "printf \"Prob. Cloudy:                              Ground truth: %A, Inferred: %A\", 0.5, model.ProbCloudyPosterior.GetMean()[0]\nprintf \"Prob. Sprinkler | Cloudy:                  Ground truth: %A, Inferred: %A\", 0.1, model.CPTSprinklerPosterior[0].GetMean()[0]\nprintf \"Prob. Sprinkler | Not Cloudy:              Ground truth: %A, Inferred: %A\", 0.5, model.CPTSprinklerPosterior[1].GetMean()[0]\nprintf \"Prob. Rain      | Cloudy:                  Ground truth: %A, Inferred: %A\", 0.8, model.CPTRainPosterior[0].GetMean()[0]\nprintf \"Prob. Rain      | Not Cloudy:              Ground truth: %A, Inferred: %A\", 0.2, model.CPTRainPosterior[1].GetMean()[0]\nprintf \"Prob. Wet Grass | Sprinkler, Rain:         Ground truth: %A, Inferred: %A\", 0.99, model.CPTWetGrassPosterior[0][0].GetMean()[0]\nprintf \"Prob. Wet Grass | Sprinkler, Not Rain      Ground truth: %A, Inferred: %A\", 0.9, model.CPTWetGrassPosterior[0][1].GetMean()[0]\nprintf \"Prob. Wet Grass | Not Sprinkler, Rain:     Ground truth: %A, Inferred: %A\", 0.9, model.CPTWetGrassPosterior[1][0].GetMean()[0]\nprintf \"Prob. Wet Grass | Not Sprinkler, Not Rain: Ground truth: %A, Inferred: %A\", 0.0, model.CPTWetGrassPosterior[1][1].GetMean()[0]",
      "execution_count": 69,
      "outputs": [
        {
          "name": "stderr",
          "output_type": "stream",
          "text": "Successive arguments should be separated by spaces or tupled, and arguments involving function or method applications should be parenthesized\nSuccessive arguments should be separated by spaces or tupled, and arguments involving function or method applications should be parenthesized\nSuccessive arguments should be separated by spaces or tupled, and arguments involving function or method applications should be parenthesized\nSuccessive arguments should be separated by spaces or tupled, and arguments involving function or method applications should be parenthesized\nThe field, constructor or member 'ProbCloudyPosterior' is not defined.\nThe field, constructor or member 'CPTSprinklerPosterior' is not defined.\nThe field, constructor or member 'CPTSprinklerPosterior' is not defined.\nThe field, constructor or member 'CPTRainPosterior' is not defined.\nThe field, constructor or member 'CPTRainPosterior' is not defined.\nThe field, constructor or member 'CPTWetGrassPosterior' is not defined.\nThe field, constructor or member 'CPTWetGrassPosterior' is not defined.\nThe field, constructor or member 'CPTWetGrassPosterior' is not defined.\nThe field, constructor or member 'CPTWetGrassPosterior' is not defined."
        }
      ]
    },
    {
      "metadata": {},
      "cell_type": "markdown",
      "source": "### Usage 3: Querying the model taking into account uncertainty of the parameters"
    },
    {
      "metadata": {},
      "cell_type": "markdown",
      "source": "Querying the model with uncertain ground truth"
    },
    {
      "metadata": {
        "trusted": true
      },
      "cell_type": "code",
      "source": "// Use posteriors we have just learnt\nlet probRainGivenWetGrass1 = model.ProbRain(null, null, 0, model.ProbCloudyPosterior, model.CPTSprinklerPosterior, model.CPTRainPosterior, model.CPTWetGrassPosterior)\nlet probRainGivenWetGrassNotCloudy1 = model.ProbRain(1, null, 0, model.ProbCloudyPosterior, model.CPTSprinklerPosterior, model.CPTRainPosterior, model.CPTWetGrassPosterior)",
      "execution_count": 70,
      "outputs": [
        {
          "name": "stderr",
          "output_type": "stream",
          "text": "The field, constructor or member 'ProbRain' is not defined.\nThe field, constructor or member 'ProbRain' is not defined."
        }
      ]
    },
    {
      "metadata": {},
      "cell_type": "markdown",
      "source": "P(rain | grass is wet) "
    },
    {
      "metadata": {
        "trusted": true
      },
      "cell_type": "code",
      "source": "probRainGivenWetGrass1",
      "execution_count": 71,
      "outputs": [
        {
          "name": "stderr",
          "output_type": "stream",
          "text": "The value or constructor 'probRainGivenWetGrass1' is not defined. Maybe you want one of the following:\n   probRain"
        }
      ]
    },
    {
      "metadata": {},
      "cell_type": "markdown",
      "source": "P(rain | grass is wet, not cloudy )"
    },
    {
      "metadata": {
        "trusted": true
      },
      "cell_type": "code",
      "source": "probRainGivenWetGrassNotCloudy1",
      "execution_count": 72,
      "outputs": [
        {
          "name": "stderr",
          "output_type": "stream",
          "text": "The value or constructor 'probRainGivenWetGrassNotCloudy1' is not defined."
        }
      ]
    },
    {
      "metadata": {},
      "cell_type": "markdown",
      "source": "## Infer.NET user guide"
    },
    {
      "metadata": {},
      "cell_type": "markdown",
      "source": "### [Jagged arrays](https://dotnet.github.io/infer/userguide/Jagged%20arrays.html)"
    },
    {
      "metadata": {},
      "cell_type": "markdown",
      "source": "Source: [Jagged arrays](https://dotnet.github.io/infer/userguide/Jagged%20arrays.html)"
    },
    {
      "metadata": {},
      "cell_type": "markdown",
      "source": "In many models data will not be in the form of a flat single dimensional or a multi-dimension array. For example, items in a data array may have a variable number of features. In this case the observed data is represented as an array of arrays of values; in C# this is referred to as a jagged array, and Infer.NET has an API which allows creation of jagged variable arrays."
    },
    {
      "metadata": {},
      "cell_type": "markdown",
      "source": "The simplest jagged array is a 1D array of 1D arrays. The \n* outer array can be indexed by a standard range, but the \n* inner array is variable in size, and the size itself is a function of the outer index. \n\nHere is an example the illustrates the syntax:"
    },
    {
      "metadata": {
        "trusted": true
      },
      "cell_type": "code",
      "source": "let sizes:array<int> = [| 2; 3 |]  \nlet item:Range = Range(sizes.Length).Named(\"item\")  // Standard range of 2 items is outer loop\nlet sizesVar:VariableArray<int> = Variable.Constant(sizes, item).Named(\"sizes\")  \nlet feature:Range =  Range(sizesVar.[item]).Named(\"feature\")  // Inner range \"feature\" is variable in size\nlet x:VariableArray<VariableArray<float>,float[][]>\n        = Variable.Array<VariableArray<float>,float[][]>(Variable.Array<float>(feature), item).Named(\"x\");",
      "execution_count": 73,
      "outputs": []
    },
    {
      "metadata": {},
      "cell_type": "markdown",
      "source": "In this case, we specify the `sizes` as a constant variable array as shown in the first three lines. The inner range can then be defined using the natural expression for the size of the inner range. The jagged array is then created on the final line using the standard `Array` constructor where the first argument is the array element (created as variable array of doubles ranging over the inner range), and the second argument is the outer range. "
    },
    {
      "metadata": {},
      "cell_type": "markdown",
      "source": "The .NET type of a jagged array in Infer.NET is a `VariableArray` with two generic type parameters. The first parameter represents the type of element in the `VariableArray`. In this case we have a `VariableArray` of `VariableArray<double>`, so the first type argument is `VariableArray<double>`. The second type parameter is the .NET array type of the jagged array - in this case we have an array of array of doubles."
    },
    {
      "metadata": {},
      "cell_type": "markdown",
      "source": "The size of `x` is $2+3$. We say `x` has two items, of which, one has 2 features & one has 3 features?!"
    },
    {
      "metadata": {},
      "cell_type": "markdown",
      "source": "We can now use the ranges to index and loop over our jagged array in a natural manner:"
    },
    {
      "metadata": {
        "trusted": true
      },
      "cell_type": "code",
      "source": "let xPrior:Gaussian = Gaussian(1.2, 3.4) \nx.[item].[feature] <- Variable.Random(xPrior).ForEach(item, feature)  // Assign all 5 item-features (!)\nVariable.ConstrainPositive(x.[item].[feature])   // Constrain all 5 item-features (!)",
      "execution_count": 74,
      "outputs": []
    },
    {
      "metadata": {},
      "cell_type": "markdown",
      "source": "## Infer.NET user guide : FSharp Wrapper"
    },
    {
      "metadata": {
        "heading_collapsed": true
      },
      "cell_type": "markdown",
      "source": "### Imperative Statement Blocks in F#"
    },
    {
      "metadata": {
        "hidden": true
      },
      "cell_type": "markdown",
      "source": "[Imperative Statement Blocks in F#](https://dotnet.github.io/infer/userguide/Imperative%20Statement%20Blocks%20in%20FSharp.html)"
    },
    {
      "metadata": {
        "hidden": true
      },
      "cell_type": "markdown",
      "source": "The module Variable contains various functions to replace the imperative statement blocks in Infer.NET, these include `ForeachBlock`, `SwitchBlock` and `IfBlock` methods."
    },
    {
      "metadata": {
        "heading_collapsed": true
      },
      "cell_type": "markdown",
      "source": "### `ForEach` blocks"
    },
    {
      "metadata": {
        "hidden": true
      },
      "cell_type": "markdown",
      "source": "The `Variable.ForeachBlock` method which returns a `ForEachBlock` used for looping over a Range of values in a similar manner to a `foreach` loop in C#. This is\na function with the following type signature: `Variable.ForEachBlock: RRange->(Range->unit)->unit`"
    },
    {
      "metadata": {
        "hidden": true,
        "trusted": true
      },
      "cell_type": "code",
      "source": "//using the Foreach Block  \nlet pixel = Range(10)  \nlet bools = Variable.Array<bool>(pixel)\n\nVariable.ForeachBlock pixel ( fun pixel -> bools.[pixel] <- Variable.Bernoulli(0.7) ||| Variable.Bernoulli(0.4))",
      "execution_count": 75,
      "outputs": []
    },
    {
      "metadata": {
        "hidden": true
      },
      "cell_type": "markdown",
      "source": "It should be noted that the `Variable.ArrayInit` method or the `Variable.AssignVariableArray` method can also be used to assign the values of a `VariableArray` as shown in the section [Variable Arrays](https://dotnet.github.io/infer/userguide/Variable%20Arrays%20in%20FSharp.html)"
    },
    {
      "metadata": {
        "heading_collapsed": true
      },
      "cell_type": "markdown",
      "source": "### Switch blocks"
    },
    {
      "metadata": {
        "hidden": true
      },
      "cell_type": "markdown",
      "source": "#### `Variable.SwitchBlock` - for single variables"
    },
    {
      "metadata": {
        "hidden": true
      },
      "cell_type": "markdown",
      "source": "The `Variable.SwitchBlock` method which returns a `SwitchBlock` used for **branching on the values of a variable**. This is a function with the following type signature: `Variable.SwitchBlock: Variable<int>->(Variable<int>->unit)->unit`"
    },
    {
      "metadata": {
        "hidden": true
      },
      "cell_type": "markdown",
      "source": "Model a (scalar) 2 component Gaussian mixture"
    },
    {
      "metadata": {
        "hidden": true,
        "trusted": true
      },
      "cell_type": "code",
      "source": "//using the Switch Block - to model a 2 component (scalar) Gaussian mixture\nlet mixtureSize = 2  \nlet k2 = Range(mixtureSize)  \nlet c:Variable<int> = Variable.Discrete(k2, [|0.5;0.5|])  // c is a discrete random variable with values {0,1}\nlet means2:VariableArray<float> = Variable.Observed( [|1.0;2.0|], k2)  // Constant means for each Gaussian\nlet x:Variable<float> = Variable.New<double>()  // x is a univariate Gaussian",
      "execution_count": 76,
      "outputs": []
    },
    {
      "metadata": {
        "hidden": true,
        "trusted": true
      },
      "cell_type": "code",
      "source": "Variable.SwitchBlock c (fun _ -> \n    let _ = x.SetTo(Variable.GaussianFromMeanAndVariance(means2.[c], 1.0))  \n    ()  \n)",
      "execution_count": 77,
      "outputs": []
    },
    {
      "metadata": {
        "hidden": true
      },
      "cell_type": "markdown",
      "source": "#### `Variable.SwitchExpr` - for (arrays of) multiple variables (e.g. for repeated samples)"
    },
    {
      "metadata": {
        "hidden": true
      },
      "cell_type": "markdown",
      "source": "There is also another Switch construct which returns a `Variable<'a>` and can be used to initialise or set the values of `VariableArray`s. The function `Variable.SwitchExpr` has the following type signature: `VVariable<int> -> (Variable<int>->Variable<'a>)->Variable<int>`"
    },
    {
      "metadata": {
        "hidden": true
      },
      "cell_type": "markdown",
      "source": "Model 100 outcomes of a 2-component mixture Wishart distributed variable"
    },
    {
      "metadata": {
        "hidden": true,
        "trusted": true
      },
      "cell_type": "code",
      "source": "//using the SwitchExpr Block - to model 100 outcomes of a 2-component mixture Wishart distributed variable\nlet k =  Range(2).Named(\"k\")",
      "execution_count": 78,
      "outputs": []
    },
    {
      "metadata": {
        "hidden": true,
        "trusted": true
      },
      "cell_type": "code",
      "source": "// Loop over mixture components - parameters are constant, so don't vary based on prior distribution, yet\nlet means:VariableArray<Vector> = \n    Variable.ArrayInit k (fun k ->  \n        Variable.VectorGaussianFromMeanAndPrecision( Vector.Constant(2,0.0), PositiveDefiniteMatrix.Identity(2)))  ",
      "execution_count": 79,
      "outputs": []
    },
    {
      "metadata": {
        "hidden": true,
        "trusted": true
      },
      "cell_type": "code",
      "source": "let precs:VariableArray<PositiveDefiniteMatrix> =  \n    Variable.ArrayInit k (fun k -> \n        Variable.WishartFromShapeAndScale(1.0,  \n            PositiveDefiniteMatrix.Identity(2)))  ",
      "execution_count": 80,
      "outputs": []
    },
    {
      "metadata": {
        "hidden": true
      },
      "cell_type": "markdown",
      "source": "Random weights for two mixture components are [Dirichlet ](https://en.wikipedia.org/wiki/Dirichlet_distribution). Dirichlet continuous multivariate probability distributions are parameterized by a vector of positive reals), and have [applications](https://en.wikipedia.org/wiki/Dirichlet_distribution#Applications) as the prior distribution of categorical variables or multinomial variables in Bayesian mixture models and other hierarchical Bayesian models."
    },
    {
      "metadata": {
        "hidden": true,
        "trusted": true
      },
      "cell_type": "code",
      "source": "let weights = Variable.Dirichlet(k,[|1.0; 1.0|])",
      "execution_count": 81,
      "outputs": []
    },
    {
      "metadata": {
        "hidden": true
      },
      "cell_type": "markdown",
      "source": "Range `n` for the outcomes to store in the variable array."
    },
    {
      "metadata": {
        "hidden": true,
        "trusted": true
      },
      "cell_type": "code",
      "source": "let n = Range(100).Named(\"n\")",
      "execution_count": 82,
      "outputs": []
    },
    {
      "metadata": {
        "hidden": true
      },
      "cell_type": "markdown",
      "source": "Define `z` to be array of (random) variables for the $n=100$ integer $\\{0,1\\}$ values from the discrete distribution, with weights from the Dirichlet distribution."
    },
    {
      "metadata": {
        "hidden": true,
        "trusted": true
      },
      "cell_type": "code",
      "source": "let z:VariableArray<int> = Variable.ArrayInit n (fun i -> Variable.Discrete(weights))  ",
      "execution_count": 83,
      "outputs": []
    },
    {
      "metadata": {
        "hidden": true
      },
      "cell_type": "markdown",
      "source": "Blocks are:\n* Outer block is loop over the `Range` of $n=100$ outcomes   \n* Inner block explores the cases of the switch statement, selecting only the mean & precision for the value of the (discrete, integer-valued random) variable $z_i$"
    },
    {
      "metadata": {
        "hidden": true,
        "trusted": true
      },
      "cell_type": "code",
      "source": "let data = Variable.ArrayInit n (fun (i:Range)->  \n               Variable.SwitchExpr (z.[i]) (fun (zi:Variable<int>) ->  \n                   Variable.VectorGaussianFromMeanAndPrecision(means.[zi], precs.[zi])))",
      "execution_count": 84,
      "outputs": []
    },
    {
      "metadata": {},
      "cell_type": "markdown",
      "source": "### If Blocks"
    },
    {
      "metadata": {},
      "cell_type": "markdown",
      "source": "The `Variable.IfBlock` method returns an `IfBlock` for creating if then else statements which are dependant on the value of a `Variable<bool>`. This is a function with type signature: `Variable.IfBlock: Variable<bool>->(Variable<bool>->unit)->Variable<bool>->unit)->unit` where, the first argument is a boolean variable, the second argument is a function to be applied if the Boolean Variable has value true and the third argument is a function to be applied if the Boolean Variable has value false. Here the If block is used in the Clinical trial tutorial shown below"
    },
    {
      "metadata": {
        "trusted": true
      },
      "cell_type": "code",
      "source": "// Data from a clinical trial  \nlet controlGroup = Variable.Observed<bool>([|false; false; true; false; false|])  \nlet treatedGroup = Variable.Observed<bool>([|true; false; true; true; true |])  \nlet i = controlGroup.Range  \nlet j = treatedGroup.Range  \n// Prior on being an effective treatment  \nlet isEffective = Variable.Bernoulli(0.5).Named(\"isEffective\");  \nlet probIfTreated = ref (Variable.New<float>())  \nlet probIfControl = ref (Variable.New<float>())",
      "execution_count": 85,
      "outputs": []
    },
    {
      "metadata": {
        "trusted": true
      },
      "cell_type": "code",
      "source": "// If Block function  \nlet f1 (vb1: Variable<bool>) =  \n    probIfControl := Variable.Beta(1.0, 1.0).Named(\"probIfControl\")  \n    let controlGroup = Variable.AssignVariableArray controlGroup i (fun i ->\n        Variable.Bernoulli(!probIfControl)) \n    let treatedGroup = Variable.AssignVariableArray treatedGroup j (fun j ->\n        Variable.Bernoulli(!probIfTreated))  \n    ()  ",
      "execution_count": 86,
      "outputs": []
    },
    {
      "metadata": {
        "trusted": true
      },
      "cell_type": "code",
      "source": "// IfNot Block function  \nlet f2 (vb2: Variable<bool>) =  \n    let probAll = Variable.Beta(1.0, 1.0).Named(\"probAll\")  \n    let controlGroup = Variable.AssignVariableArray controlGroup i (fun i ->Variable.Bernoulli(probAll))  \n    let treatedGroup = Variable.AssignVariableArray treatedGroup j (fun j ->Variable.Bernoulli(probAll))  \n    ()  ",
      "execution_count": 87,
      "outputs": []
    },
    {
      "metadata": {
        "trusted": true
      },
      "cell_type": "code",
      "source": "// Call IfBlock  \nlet _ = Variable.IfBlock isEffective f1 f2",
      "execution_count": 88,
      "outputs": []
    },
    {
      "metadata": {
        "trusted": true
      },
      "cell_type": "code",
      "source": "",
      "execution_count": null,
      "outputs": []
    }
  ],
  "metadata": {
    "celltoolbar": "Initialization Cell",
    "kernelspec": {
      "name": "ifsharp",
      "display_name": "F#",
      "language": "fsharp"
    },
    "language": "fsharp",
    "language_info": {
      "mimetype": "text/x-fsharp",
      "nbconvert_exporter": "",
      "name": "fsharp",
      "pygments_lexer": "",
      "version": "4.3.1.0",
      "file_extension": ".fs",
      "codemirror_mode": ""
    }
  },
  "nbformat": 4,
  "nbformat_minor": 2
}