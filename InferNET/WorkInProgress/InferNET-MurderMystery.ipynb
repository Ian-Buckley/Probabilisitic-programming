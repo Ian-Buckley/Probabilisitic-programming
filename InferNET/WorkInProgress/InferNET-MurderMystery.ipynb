{
 "cells": [
  {
   "cell_type": "markdown",
   "metadata": {},
   "source": [
    "# Infer.NET - Murder Mystery example\n",
    "A simple example of inference. By Andy Gordon & Infer.NET colleagues at Microsoft Research.\n",
    "\n",
    "Prior assumptions:  \n",
    "* Either Alice or Bob dunnit, using either a gun or a pipe  \n",
    "* Alice dunnit 30%, Bob dunnit 70%  \n",
    "* Alice uses gun 3%, uses pipe 97%  \n",
    "* Bob uses gun 80%, uses pipe 20%  "
   ]
  },
  {
   "cell_type": "markdown",
   "metadata": {
    "collapsed": true,
    "slideshow": {
     "slide_type": "slide"
    }
   },
   "source": [
    "### Links\n",
    "https://www.microsoft.com/en-us/research/wp-content/uploads/2016/02/fun-probabilistic_programming_obt_january_2013.pdf\n",
    "https://github.com/prgoodwin/HabilisX/blob/master/Infer.NET%202.5/Samples/Fun/MurderMystery/MurderMystery.fs\n",
    "http://infernet.azurewebsites.net/docs/default.aspx"
   ]
  },
  {
   "cell_type": "markdown",
   "metadata": {
    "slideshow": {
     "slide_type": "subslide"
    }
   },
   "source": [
    "## Load & open packages"
   ]
  },
  {
   "cell_type": "markdown",
   "metadata": {},
   "source": [
    "### From zip"
   ]
  },
  {
   "cell_type": "markdown",
   "metadata": {},
   "source": [
    "This solution due to Tomas Petricek."
   ]
  },
  {
   "cell_type": "markdown",
   "metadata": {},
   "source": [
    "https://www.microsoft.com/en-us/download/confirmation.aspx?id=52476   \n",
    "Infer.NET 2.7.1803.1901.zip"
   ]
  },
  {
   "cell_type": "markdown",
   "metadata": {},
   "source": [
    "https://download.microsoft.com/download/D/C/4/DC44E915-26FE-48AB-BD7C-AC1D92B23230/Infer.NET%202.7.1803.1901.zip"
   ]
  },
  {
   "cell_type": "code",
   "execution_count": 1,
   "metadata": {},
   "outputs": [],
   "source": [
    "let wc = new System.Net.WebClient()\n",
    "wc.DownloadFile(\n",
    "    \"https://download.microsoft.com/download/D/C/4/DC44E915-26FE-48AB-BD7C-AC1D92B23230/Infer.NET%202.7.1803.1901.zip\", \n",
    "    \"/home/nbuser/IfSharp/bin/packages/infer.zip\")"
   ]
  },
  {
   "cell_type": "markdown",
   "metadata": {},
   "source": [
    "Unzip it (could get .NET `ZipFile` to do this, but invoking Linux command line tools works)"
   ]
  },
  {
   "cell_type": "code",
   "execution_count": 7,
   "metadata": {},
   "outputs": [
    {
     "data": {
      "text/plain": [
       "\"牁档癩㩥†栯浯⽥扮獵牥䤯卦慨灲戯湩瀯捡慫敧⽳湩敦⹲楺ੰ\""
      ]
     },
     "execution_count": 7,
     "metadata": {},
     "output_type": "execute_result"
    }
   ],
   "source": [
    "open System.Diagnostics\n",
    "let ps = \n",
    "    ProcessStartInfo(\n",
    "        FileName=\"unzip\", \n",
    "        Arguments=\"/home/nbuser/IfSharp/bin/packages/infer.zip -d /home/nbuser/IfSharp/bin/packages/infer\",\n",
    "        RedirectStandardOutput=true,UseShellExecute=false)\n",
    "let p = Process.Start(ps)\n",
    "p.StandardOutput.ReadToEnd()"
   ]
  },
  {
   "cell_type": "markdown",
   "metadata": {},
   "source": [
    "Now you can reference the extracted DLL:"
   ]
  },
  {
   "cell_type": "code",
   "execution_count": 3,
   "metadata": {},
   "outputs": [],
   "source": [
    "#r \"/home/nbuser/IfSharp/bin/packages/infer/Bin/Infer.FSharp.dll\""
   ]
  },
  {
   "cell_type": "markdown",
   "metadata": {},
   "source": [
    "## Common code"
   ]
  },
  {
   "cell_type": "markdown",
   "metadata": {},
   "source": [
    "The script **Packet.fsx** is created in the notebook \"**Create paket script**\""
   ]
  },
  {
   "cell_type": "markdown",
   "metadata": {},
   "source": [
    "Run this only once for each library."
   ]
  },
  {
   "cell_type": "code",
   "execution_count": 4,
   "metadata": {},
   "outputs": [],
   "source": [
    "// This is the official best practice using packet, however, the nuget package is not being maintaine\n",
    "//#load \"Paket.fsx\"\n",
    "//Paket.Package [\"Infer.NET\"]"
   ]
  },
  {
   "cell_type": "code",
   "execution_count": 5,
   "metadata": {},
   "outputs": [],
   "source": [
    "open System\n",
    "open MicrosoftResearch.Infer\n",
    "open MicrosoftResearch.Infer.FSharp"
   ]
  },
  {
   "cell_type": "code",
   "execution_count": 6,
   "metadata": {},
   "outputs": [
    {
     "name": "stderr",
     "output_type": "stream",
     "text": [
      "The value or constructor 'random' is not defined. Maybe you want one of the following:\n",
      "   Random\n",
      "The value or constructor 'random' is not defined. Maybe you want one of the following:\n",
      "   Random\n",
      "The value or constructor 'random' is not defined. Maybe you want one of the following:\n",
      "   Random"
     ]
    }
   ],
   "source": [
    "[<ReflectedDefinition>]\n",
    "let mystery (): bool*bool =\n",
    "  let aliceDunnit = random (Bernoulli 0.30)\n",
    "  let withGun = if aliceDunnit then random (Bernoulli 0.03) else random (Bernoulli 0.80)\n",
    "  aliceDunnit, withGun"
   ]
  },
  {
   "cell_type": "code",
   "execution_count": 11,
   "metadata": {},
   "outputs": [
    {
     "name": "stderr",
     "output_type": "stream",
     "text": [
      "The namespace 'Distributions' is not defined."
     ]
    }
   ],
   "source": [
    "open MicrosoftResearch.Infer.Distributions"
   ]
  },
  {
   "cell_type": "code",
   "execution_count": null,
   "metadata": {
    "collapsed": true
   },
   "outputs": [],
   "source": [
    "let (aliceDunnitPrior: IDistribution<bool>, \n",
    "     withGunPrior: IDistribution<bool>) = infer <@ mystery @> ()"
   ]
  },
  {
   "cell_type": "code",
   "execution_count": null,
   "metadata": {
    "collapsed": true
   },
   "outputs": [],
   "source": [
    "// Our prior suggests Alice didn't do it, hence Bob dunnit, most likely with a gun."
   ]
  },
  {
   "cell_type": "code",
   "execution_count": null,
   "metadata": {
    "collapsed": true
   },
   "outputs": [],
   "source": [
    "printfn \"aliceDunnitPrior: %O\" aliceDunnitPrior\n",
    "printfn \"withGunPrior: %O\" withGunPrior"
   ]
  },
  {
   "cell_type": "code",
   "execution_count": null,
   "metadata": {
    "collapsed": true
   },
   "outputs": [],
   "source": [
    "[<ReflectedDefinition>]\n",
    "let GunFoundAtScene (gunFound:bool): bool =\n",
    "  let aliceDunnit, withGun = mystery () \n",
    "  observe(withGun = gunFound)\n",
    "  aliceDunnit"
   ]
  },
  {
   "cell_type": "code",
   "execution_count": null,
   "metadata": {
    "collapsed": true
   },
   "outputs": [],
   "source": [
    "// Well, we found no gun (but a pipe) at the scene"
   ]
  },
  {
   "cell_type": "code",
   "execution_count": null,
   "metadata": {
    "collapsed": true
   },
   "outputs": [],
   "source": [
    "let posterior: IDistribution<bool> = infer <@ GunFoundAtScene @> false "
   ]
  },
  {
   "cell_type": "code",
   "execution_count": null,
   "metadata": {
    "collapsed": true
   },
   "outputs": [],
   "source": [
    "// Given the observed pipe, the posterior suggests Alice dunnit!"
   ]
  },
  {
   "cell_type": "code",
   "execution_count": null,
   "metadata": {},
   "outputs": [],
   "source": [
    "printfn \"aliceDunnitPosterior: %O\" posterior"
   ]
  },
  {
   "cell_type": "code",
   "execution_count": null,
   "metadata": {
    "collapsed": true
   },
   "outputs": [],
   "source": []
  }
 ],
 "metadata": {
  "kernelspec": {
   "display_name": "F#",
   "language": "fsharp",
   "name": "ifsharp"
  },
  "language": "fsharp",
  "language_info": {
   "codemirror_mode": "",
   "file_extension": ".fs",
   "mimetype": "text/x-fsharp",
   "name": "fsharp",
   "nbconvert_exporter": "",
   "pygments_lexer": "",
   "version": "4.3.1.0"
  }
 },
 "nbformat": 4,
 "nbformat_minor": 2
}
