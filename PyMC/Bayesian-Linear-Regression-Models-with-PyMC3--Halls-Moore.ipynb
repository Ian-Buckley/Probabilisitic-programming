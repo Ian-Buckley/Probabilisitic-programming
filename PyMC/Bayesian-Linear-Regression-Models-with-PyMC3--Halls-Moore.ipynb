{
 "cells": [
  {
   "cell_type": "markdown",
   "metadata": {},
   "source": [
    "# Bayesian Linear Regression Models with PyMC3"
   ]
  },
  {
   "cell_type": "markdown",
   "metadata": {},
   "source": [
    "Bayesian Linear Regression Models with PyMC3"
   ]
  },
  {
   "cell_type": "markdown",
   "metadata": {},
   "source": [
    "https://www.quantstart.com/articles/Bayesian-Linear-Regression-Models-with-PyMC3 "
   ]
  },
  {
   "cell_type": "code",
   "execution_count": 2,
   "metadata": {},
   "outputs": [],
   "source": [
    "#!pip install pymc3 # Requirement already satisfied?"
   ]
  },
  {
   "cell_type": "code",
   "execution_count": 15,
   "metadata": {},
   "outputs": [],
   "source": [
    "import matplotlib.pyplot as plt\n",
    "import numpy as np\n",
    "import pandas as pd\n",
    "import pymc3 as pm\n",
    "import seaborn as sns\n",
    "sns.set(style=\"darkgrid\", palette=\"muted\")"
   ]
  },
  {
   "cell_type": "markdown",
   "metadata": {},
   "source": [
    "## Simulate a random dataset using a noisy linear process.\n",
    "* N: Number of data points to simulate\n",
    "* beta_0: Intercept\n",
    "* beta_1: Slope of univariate predictor, X"
   ]
  },
  {
   "cell_type": "code",
   "execution_count": 16,
   "metadata": {},
   "outputs": [],
   "source": [
    "def simulate_linear_data(N, beta_0, beta_1, eps_sigma_sq):\n",
    "    \"\"\"\n",
    "    Simulate a random dataset using a noisy\n",
    "    linear process.\n",
    "\n",
    "    N: Number of data points to simulate\n",
    "    beta_0: Intercept\n",
    "    beta_1: Slope of univariate predictor, X\n",
    "    \"\"\"\n",
    "    # Create a pandas DataFrame with column 'x' containing\n",
    "    # N uniformly sampled values between 0.0 and 1.0\n",
    "    df = pd.DataFrame(\n",
    "        {\"x\": \n",
    "            np.random.RandomState(42).choice(\n",
    "                map(\n",
    "                    lambda x: float(x)/100.0, \n",
    "                    np.arange(N)\n",
    "                ), N, replace=False\n",
    "            )\n",
    "        }\n",
    "    )\n",
    "\n",
    "    # Use a linear model (y ~ beta_0 + beta_1*x + epsilon) to \n",
    "    # generate a column 'y' of responses based on 'x'\n",
    "    eps_mean = 0.0\n",
    "    df[\"y\"] = beta_0 + beta_1*df[\"x\"] + np.random.RandomState(42).normal(\n",
    "        eps_mean, eps_sigma_sq, N\n",
    "    )\n",
    "\n",
    "    return df"
   ]
  },
  {
   "cell_type": "markdown",
   "metadata": {},
   "source": [
    "### Run it"
   ]
  },
  {
   "cell_type": "code",
   "execution_count": 12,
   "metadata": {},
   "outputs": [],
   "source": [
    "# These are our \"true\" parameters\n",
    "beta_0 = 1.0  # Intercept\n",
    "beta_1 = 2.0  # Slope"
   ]
  },
  {
   "cell_type": "code",
   "execution_count": 13,
   "metadata": {},
   "outputs": [],
   "source": [
    "# Simulate 100 data points, with a variance of 0.5\n",
    "N = 200\n",
    "eps_sigma_sq = 0.5"
   ]
  },
  {
   "cell_type": "code",
   "execution_count": 14,
   "metadata": {},
   "outputs": [
    {
     "ename": "ValueError",
     "evalue": "a must be 1-dimensional or an integer",
     "output_type": "error",
     "traceback": [
      "\u001b[0;31m---------------------------------------------------------------------------\u001b[0m",
      "\u001b[0;31mTypeError\u001b[0m                                 Traceback (most recent call last)",
      "\u001b[0;32mmtrand.pyx\u001b[0m in \u001b[0;36mmtrand.RandomState.choice\u001b[0;34m()\u001b[0m\n",
      "\u001b[0;31mTypeError\u001b[0m: 'map' object cannot be interpreted as an integer",
      "\nDuring handling of the above exception, another exception occurred:\n",
      "\u001b[0;31mValueError\u001b[0m                                Traceback (most recent call last)",
      "\u001b[0;32m<ipython-input-14-599f84635704>\u001b[0m in \u001b[0;36m<module>\u001b[0;34m()\u001b[0m\n\u001b[1;32m      1\u001b[0m \u001b[0;31m# Simulate the \"linear\" data using the above parameters\u001b[0m\u001b[0;34m\u001b[0m\u001b[0;34m\u001b[0m\u001b[0m\n\u001b[0;32m----> 2\u001b[0;31m \u001b[0mdf\u001b[0m \u001b[0;34m=\u001b[0m \u001b[0msimulate_linear_data\u001b[0m\u001b[0;34m(\u001b[0m\u001b[0mN\u001b[0m\u001b[0;34m,\u001b[0m \u001b[0mbeta_0\u001b[0m\u001b[0;34m,\u001b[0m \u001b[0mbeta_1\u001b[0m\u001b[0;34m,\u001b[0m \u001b[0meps_sigma_sq\u001b[0m\u001b[0;34m)\u001b[0m\u001b[0;34m\u001b[0m\u001b[0m\n\u001b[0m",
      "\u001b[0;32m<ipython-input-10-8c4421e2c4e3>\u001b[0m in \u001b[0;36msimulate_linear_data\u001b[0;34m(N, beta_0, beta_1, eps_sigma_sq)\u001b[0m\n\u001b[1;32m     16\u001b[0m                     \u001b[0;32mlambda\u001b[0m \u001b[0mx\u001b[0m\u001b[0;34m:\u001b[0m \u001b[0mfloat\u001b[0m\u001b[0;34m(\u001b[0m\u001b[0mx\u001b[0m\u001b[0;34m)\u001b[0m\u001b[0;34m/\u001b[0m\u001b[0;36m100.0\u001b[0m\u001b[0;34m,\u001b[0m\u001b[0;34m\u001b[0m\u001b[0m\n\u001b[1;32m     17\u001b[0m                     \u001b[0mnp\u001b[0m\u001b[0;34m.\u001b[0m\u001b[0marange\u001b[0m\u001b[0;34m(\u001b[0m\u001b[0mN\u001b[0m\u001b[0;34m)\u001b[0m\u001b[0;34m\u001b[0m\u001b[0m\n\u001b[0;32m---> 18\u001b[0;31m                 ), N, replace=False\n\u001b[0m\u001b[1;32m     19\u001b[0m             )\n\u001b[1;32m     20\u001b[0m         }\n",
      "\u001b[0;32mmtrand.pyx\u001b[0m in \u001b[0;36mmtrand.RandomState.choice\u001b[0;34m()\u001b[0m\n",
      "\u001b[0;31mValueError\u001b[0m: a must be 1-dimensional or an integer"
     ]
    }
   ],
   "source": [
    "# Simulate the \"linear\" data using the above parameters\n",
    "df = simulate_linear_data(N, beta_0, beta_1, eps_sigma_sq)"
   ]
  },
  {
   "cell_type": "code",
   "execution_count": 11,
   "metadata": {},
   "outputs": [],
   "source": [
    "def glm_mcmc_inference(df, iterations=5000):\n",
    "    \"\"\"\n",
    "    Calculates the Markov Chain Monte Carlo trace of\n",
    "    a Generalised Linear Model Bayesian linear regression \n",
    "    model on supplied data.\n",
    "\n",
    "    df: DataFrame containing the data\n",
    "    iterations: Number of iterations to carry out MCMC for\n",
    "    \"\"\"\n",
    "    # Use PyMC3 to construct a model context\n",
    "    basic_model = pm.Model()\n",
    "    with basic_model:\n",
    "        # Create the glm using the Patsy model syntax\n",
    "        # We use a Normal distribution for the likelihood\n",
    "        pm.glm.glm(\"y ~ x\", df, family=pm.glm.families.Normal())\n",
    "\n",
    "        # Use Maximum A Posteriori (MAP) optimisation as initial value for MCMC\n",
    "        start = pm.find_MAP()\n",
    "\n",
    "        # Use the No-U-Turn Sampler\n",
    "        step = pm.NUTS()\n",
    "\n",
    "        # Calculate the trace\n",
    "        trace = pm.sample(\n",
    "            iterations, step, start, \n",
    "            random_seed=42, progressbar=True\n",
    "        )\n",
    "\n",
    "    return trace"
   ]
  },
  {
   "cell_type": "code",
   "execution_count": null,
   "metadata": {},
   "outputs": [],
   "source": [
    "# Plot the data, and a frequentist linear regression fit\n",
    "# using the seaborn package\n",
    "sns.lmplot(x=\"x\", y=\"y\", data=df, size=10)\n",
    "plt.xlim(0.0, 1.0)\n",
    "\n",
    "trace = glm_mcmc_inference(df, iterations=5000)\n",
    "pm.traceplot(trace[500:])\n",
    "plt.show()"
   ]
  },
  {
   "cell_type": "code",
   "execution_count": 8,
   "metadata": {},
   "outputs": [
    {
     "ename": "NameError",
     "evalue": "name 'df' is not defined",
     "output_type": "error",
     "traceback": [
      "\u001b[0;31m---------------------------------------------------------------------------\u001b[0m",
      "\u001b[0;31mNameError\u001b[0m                                 Traceback (most recent call last)",
      "\u001b[0;32m<ipython-input-8-466105677355>\u001b[0m in \u001b[0;36m<module>\u001b[0;34m()\u001b[0m\n\u001b[1;32m     35\u001b[0m     \u001b[0;34m...\u001b[0m\u001b[0;34m\u001b[0m\u001b[0m\n\u001b[1;32m     36\u001b[0m     \u001b[0;34m...\u001b[0m\u001b[0;34m\u001b[0m\u001b[0m\n\u001b[0;32m---> 37\u001b[0;31m     \u001b[0mtrace\u001b[0m \u001b[0;34m=\u001b[0m \u001b[0mglm_mcmc_inference\u001b[0m\u001b[0;34m(\u001b[0m\u001b[0mdf\u001b[0m\u001b[0;34m,\u001b[0m \u001b[0miterations\u001b[0m\u001b[0;34m=\u001b[0m\u001b[0;36m5000\u001b[0m\u001b[0;34m)\u001b[0m\u001b[0;34m\u001b[0m\u001b[0m\n\u001b[0m\u001b[1;32m     38\u001b[0m     \u001b[0mpm\u001b[0m\u001b[0;34m.\u001b[0m\u001b[0mtraceplot\u001b[0m\u001b[0;34m(\u001b[0m\u001b[0mtrace\u001b[0m\u001b[0;34m[\u001b[0m\u001b[0;36m500\u001b[0m\u001b[0;34m:\u001b[0m\u001b[0;34m]\u001b[0m\u001b[0;34m)\u001b[0m\u001b[0;34m\u001b[0m\u001b[0m\n\u001b[1;32m     39\u001b[0m     \u001b[0mplt\u001b[0m\u001b[0;34m.\u001b[0m\u001b[0mshow\u001b[0m\u001b[0;34m(\u001b[0m\u001b[0;34m)\u001b[0m\u001b[0;34m\u001b[0m\u001b[0m\n",
      "\u001b[0;31mNameError\u001b[0m: name 'df' is not defined"
     ]
    }
   ],
   "source": [
    "# Plot a sample of posterior regression lines\n",
    "sns.lmplot(x=\"x\", y=\"y\", data=df, size=10, fit_reg=False)\n",
    "plt.xlim(0.0, 1.0)\n",
    "plt.ylim(0.0, 4.0)\n",
    "pm.glm.plot_posterior_predictive(trace, samples=100)\n",
    "x = np.linspace(0, 1, N)\n",
    "y = beta_0 + beta_1*x\n",
    "plt.plot(x, y, label=\"True Regression Line\", lw=3., c=\"green\")\n",
    "plt.legend(loc=0)\n",
    "plt.show()"
   ]
  },
  {
   "cell_type": "code",
   "execution_count": null,
   "metadata": {},
   "outputs": [],
   "source": []
  }
 ],
 "metadata": {
  "kernelspec": {
   "display_name": "Python 3",
   "language": "python",
   "name": "python3"
  },
  "language_info": {
   "codemirror_mode": {
    "name": "ipython",
    "version": 3
   },
   "file_extension": ".py",
   "mimetype": "text/x-python",
   "name": "python",
   "nbconvert_exporter": "python",
   "pygments_lexer": "ipython3",
   "version": "3.5.4"
  }
 },
 "nbformat": 4,
 "nbformat_minor": 2
}
