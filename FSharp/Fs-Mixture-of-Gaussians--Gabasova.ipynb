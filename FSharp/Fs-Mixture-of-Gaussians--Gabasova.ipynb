{
 "cells": [
  {
   "cell_type": "markdown",
   "metadata": {
    "collapsed": true
   },
   "source": [
    "# Fs-Mixture-of-Gaussian--Gabasova\n",
    "\n",
    "Author: Evelina Gabasova  \n",
    "Transcribed to a Jupyter notebook by Ian Buckley."
   ]
  },
  {
   "cell_type": "markdown",
   "metadata": {},
   "source": [
    "## Overview"
   ]
  },
  {
   "cell_type": "markdown",
   "metadata": {},
   "source": [
    "This notebook, which can be conveniently [hosted on Azure](https://notebooks.azure.com/), is a transcription of the [F#](http://fsharp.org/) program [`mixture-of-gaussians`](https://github.com/evelinag/probabilistic-programming/blob/master/code/mixture_of_gaussians.fsx) developed by Evelina Gabasova as part of her presentation [How to look like a statistician: a developer's guide to probabilistic programming](https://channel9.msdn.com/Events/FSharp-Events/fsharpConf-2018/06), part of [FSharpConf](http://fsharpconf.com/) on 6 April 2018. This particular example models the responses to a salary survey, making use of a common design pattern in functional programming, useful for expressing workflows, called the [**computation expression**](https://docs.microsoft.com/en-us/dotnet/fsharp/language-reference/computation-expressions) (also known as in math & computer science circles & by the Haskell & Scala communities as the [**monad**](https://en.wikipedia.org/wiki/Monad_(functional_programming)). "
   ]
  },
  {
   "cell_type": "markdown",
   "metadata": {},
   "source": [
    "##### Notebook extensions"
   ]
  },
  {
   "cell_type": "markdown",
   "metadata": {},
   "source": [
    "Because this is a long notebook, & a mixture of valuable code & less valuable experiments, it is a really good idea to turn on a couple of notebook extensions **Edit > nbextensions config** to open a new browser tab, & then select the following extensions:\n",
    "* Collapsible headings\n",
    "* Intitialization cells (allows you to conveniently run only specific cells   \n",
    "\n",
    "Having selected those check boxes, reload the tab containing this notebook for the changes to take effect."
   ]
  },
  {
   "cell_type": "markdown",
   "metadata": {},
   "source": [
    "## `Load` & `open` .net packages using `Paket`"
   ]
  },
  {
   "cell_type": "markdown",
   "metadata": {},
   "source": [
    "### Steps when running on Azure"
   ]
  },
  {
   "cell_type": "markdown",
   "metadata": {},
   "source": [
    "#### Run once in a given Azure library to create script"
   ]
  },
  {
   "cell_type": "code",
   "execution_count": 3,
   "metadata": {
    "init_cell": true
   },
   "outputs": [],
   "source": [
    "#load \"Paket.fsx\""
   ]
  },
  {
   "cell_type": "markdown",
   "metadata": {},
   "source": [
    "When using Azure, run the following to generate the file `Paket.Generated.Refs.fsx`, to be `load`ed each time that the notebook is run with a fresh kernel. The file is put in either \n",
    "`/home/nbuser/IfSharp/bin` or \n",
    "`/home/nbuser/library`"
   ]
  },
  {
   "cell_type": "markdown",
   "metadata": {},
   "source": [
    "The following installs the selected packages. It may take a minute to run on first use with a particular kernel."
   ]
  },
  {
   "cell_type": "code",
   "execution_count": 4,
   "metadata": {
    "init_cell": true
   },
   "outputs": [],
   "source": [
    "Paket.Package\n",
    "  [ \"MathNet.Numerics\"\n",
    "    \"MathNet.Numerics.FSharp\"\n",
    "    \"FSharp.Data\"\n",
    "  ]"
   ]
  },
  {
   "cell_type": "markdown",
   "metadata": {},
   "source": [
    "#### Run always for restarted kernel "
   ]
  },
  {
   "cell_type": "markdown",
   "metadata": {},
   "source": [
    " `Load` the file `Paket.Generated.Refs.fsx` each time that the notebook is run with a fresh kernel when on Azure."
   ]
  },
  {
   "cell_type": "code",
   "execution_count": 5,
   "metadata": {
    "init_cell": true
   },
   "outputs": [],
   "source": [
    "#load \"Paket.Generated.Refs.fsx\""
   ]
  },
  {
   "cell_type": "markdown",
   "metadata": {},
   "source": [
    "### Steps for local execution"
   ]
  },
  {
   "cell_type": "code",
   "execution_count": 21,
   "metadata": {},
   "outputs": [],
   "source": [
    "// On Azure, use the (Unix) terminal window to find these files in ~/IfSharp/bin/\n",
    "#r \"packages/MathNet.Numerics/lib/net40/MathNet.Numerics.dll\"\n",
    "#r \"packages/FSharp.Data/lib/net45/FSharp.Data.dll\""
   ]
  },
  {
   "cell_type": "markdown",
   "metadata": {},
   "source": [
    "### Common steps for Azure or local execution"
   ]
  },
  {
   "cell_type": "code",
   "execution_count": 6,
   "metadata": {
    "init_cell": true
   },
   "outputs": [],
   "source": [
    "open System\n",
    "open MathNet.Numerics\n",
    "open FSharp.Data"
   ]
  },
  {
   "cell_type": "markdown",
   "metadata": {},
   "source": [
    "## Define types, computation expressions, functions, models"
   ]
  },
  {
   "cell_type": "markdown",
   "metadata": {},
   "source": [
    "### Define types & helper functions for outcomes, distributions"
   ]
  },
  {
   "cell_type": "markdown",
   "metadata": {},
   "source": [
    "#### Utilities"
   ]
  },
  {
   "cell_type": "code",
   "execution_count": 7,
   "metadata": {
    "init_cell": true
   },
   "outputs": [],
   "source": [
    "let binSize = 1000.0"
   ]
  },
  {
   "cell_type": "code",
   "execution_count": 8,
   "metadata": {
    "init_cell": true
   },
   "outputs": [],
   "source": [
    "let roundToBin x =\n",
    "  let m = x % binSize\n",
    "  if m >= binSize/2.0 then // round up\n",
    "    x + binSize - m\n",
    "  else // round down\n",
    "    x - m"
   ]
  },
  {
   "cell_type": "markdown",
   "metadata": {},
   "source": [
    "#### `DistributionValue`"
   ]
  },
  {
   "cell_type": "markdown",
   "metadata": {},
   "source": [
    "Whereas the Monty Hall problem has discrete outcomes (Car or Goat), this problem requires  distributions with continuous random variables taking values on the real line."
   ]
  },
  {
   "cell_type": "code",
   "execution_count": 9,
   "metadata": {
    "init_cell": true
   },
   "outputs": [],
   "source": [
    "type DistributionValue = float"
   ]
  },
  {
   "cell_type": "markdown",
   "metadata": {},
   "source": [
    "#### `Distribution`"
   ]
  },
  {
   "cell_type": "markdown",
   "metadata": {},
   "source": [
    "The parameters for the distributions are `float`s"
   ]
  },
  {
   "cell_type": "code",
   "execution_count": 10,
   "metadata": {
    "init_cell": true
   },
   "outputs": [],
   "source": [
    "type Distribution = \n",
    "  | Gaussian of mean:float * variance:float\n",
    "  | Bernoulli of probability:float"
   ]
  },
  {
   "cell_type": "code",
   "execution_count": 11,
   "metadata": {
    "init_cell": true
   },
   "outputs": [],
   "source": [
    "let salaries = Gaussian(1000.0, 200.0)\n",
    "let mistake = Bernoulli(0.1)"
   ]
  },
  {
   "cell_type": "markdown",
   "metadata": {},
   "source": [
    "#### `ProbabilisticComputation`"
   ]
  },
  {
   "cell_type": "markdown",
   "metadata": {},
   "source": [
    "A `ProbabilisticComputation` is a (generic) union type consisting of either:\n",
    "* `Sample` is a tuple of \n",
    "    * a `Distribution` (described by its parameters) and \n",
    "    * a function that maps an input of type `DistributionValue` (alias for `float`) to a `ProbabilisticComputation`\n",
    "* `Return` is just an alias for the provided wrapped type `'T`"
   ]
  },
  {
   "cell_type": "code",
   "execution_count": 12,
   "metadata": {
    "init_cell": true
   },
   "outputs": [],
   "source": [
    "type ProbabilisticComputation<'T> = \n",
    "  | Sample of Distribution * (DistributionValue -> ProbabilisticComputation<'T>)\n",
    "  | Return of 'T   "
   ]
  },
  {
   "cell_type": "markdown",
   "metadata": {},
   "source": [
    "#### `ProbabilisticComputationBuilder`"
   ]
  },
  {
   "cell_type": "markdown",
   "metadata": {},
   "source": [
    "The computation expression builder must implement the `Return` and `Bind` methods.\n",
    "* **`Return`** Lifts a single value into the elevated world `a -> E<a>`\n",
    "* **`Bind`**  Allows you to compose world-crossing (“monadic”) functions `(a->E<b>) -> E<a> -> E<b>`"
   ]
  },
  {
   "cell_type": "code",
   "execution_count": 13,
   "metadata": {
    "init_cell": true
   },
   "outputs": [],
   "source": [
    "type ProbabilisticComputationBuilder() = \n",
    "  member x.Return(v) = Return v\n",
    "  member x.Bind(dist, f) = Sample(dist, f) "
   ]
  },
  {
   "cell_type": "code",
   "execution_count": 14,
   "metadata": {
    "init_cell": true
   },
   "outputs": [],
   "source": [
    "let prob = ProbabilisticComputationBuilder()"
   ]
  },
  {
   "cell_type": "markdown",
   "metadata": {},
   "source": [
    "#### Diagram of `bind` function from F# for fun & profit"
   ]
  },
  {
   "cell_type": "markdown",
   "metadata": {},
   "source": [
    "Diagram of `bind` function from F# for fun & profit. See [bind](https://fsharpforfunandprofit.com/posts/elevated-world-2/#bind). In the computation expression, due to syntactic sugar, `bind` method appears as `let!`.\n",
    "In this concrete example the correspondences are:\n",
    "* the *elevated world* is a (generic) type `ProbabilisticComputation<DistributionValue>`, namely either a `Sample` or a `Return`.\n",
    "* the type `a` is always an outcome of type `DistributionValue`\n",
    "* ditto for type `b`??"
   ]
  },
  {
   "cell_type": "markdown",
   "metadata": {},
   "source": [
    "![Image of bind function from F# for fun & profit](https://fsharpforfunandprofit.com/assets/img/vgfp_bind.png)"
   ]
  },
  {
   "cell_type": "markdown",
   "metadata": {},
   "source": [
    "#### `model`"
   ]
  },
  {
   "cell_type": "code",
   "execution_count": 15,
   "metadata": {
    "init_cell": true
   },
   "outputs": [],
   "source": [
    "let model = \n",
    "  prob {\n",
    "    let! yearlySalary = Gaussian(20000.0, 10000.0)\n",
    "    let! mistake = Bernoulli(0.5)\n",
    "\n",
    "    if mistake = 1.0 then \n",
    "      return yearlySalary / 12.0\n",
    "    else \n",
    "      return yearlySalary\n",
    "  }  "
   ]
  },
  {
   "cell_type": "markdown",
   "metadata": {},
   "source": [
    "#### `varyParameters`"
   ]
  },
  {
   "cell_type": "markdown",
   "metadata": {},
   "source": [
    "List of distributions with different parameters to explore"
   ]
  },
  {
   "cell_type": "code",
   "execution_count": 16,
   "metadata": {
    "init_cell": true
   },
   "outputs": [],
   "source": [
    "let varyParameters dist =\n",
    "  match dist with\n",
    "  | Gaussian(m, v) ->\n",
    "     [ for mean in 0.0 .. 2000.0 .. 30000.0 do\n",
    "        for var in 10000000.0 .. 1000000.0 .. 100000000.0 do \n",
    "          yield Gaussian(mean, var) ]\n",
    "  | Bernoulli(_) ->\n",
    "      [ for pt in 0.0 .. 0.05 .. 1.0 do\n",
    "          yield Bernoulli(pt) ]"
   ]
  },
  {
   "cell_type": "markdown",
   "metadata": {},
   "source": [
    "#### `discretize`"
   ]
  },
  {
   "cell_type": "markdown",
   "metadata": {},
   "source": [
    "Discrete versions of the distributions - bin the support region of the distribution  \n",
    "Returns discretized value and its probability of occuring (as a `list` of `tuple`s)"
   ]
  },
  {
   "cell_type": "code",
   "execution_count": 17,
   "metadata": {
    "init_cell": true
   },
   "outputs": [],
   "source": [
    "let discretize dist =\n",
    "  match dist with \n",
    "  | Bernoulli(prob) -> \n",
    "      [1.0, prob; 0.0, (1.0 - prob) ]\n",
    "  | Gaussian(mean, var) -> \n",
    "      [ for x in 0.0 .. binSize .. 110000.0 -> \n",
    "        // CDF (cummulative density function):   p(x <= N(mean,var)) \n",
    "        x, Distributions.Normal.CDF(mean, sqrt(var), x)]\n",
    "      |> List.windowed 2\n",
    "      |> List.map (fun w -> \n",
    "          fst w.[1], snd w.[1] - snd w.[0])"
   ]
  },
  {
   "cell_type": "markdown",
   "metadata": {},
   "source": [
    "#### `enumerate`"
   ]
  },
  {
   "cell_type": "markdown",
   "metadata": {},
   "source": [
    "Go through a distribution and obtain the probability for individual bins  \n",
    "Uses the computational expression to go through the distributions in our model"
   ]
  },
  {
   "cell_type": "code",
   "execution_count": 18,
   "metadata": {
    "init_cell": true
   },
   "outputs": [],
   "source": [
    "let rec enumerate dists choices model = seq {\n",
    "  match model with\n",
    "  | Sample(dist, f) ->\n",
    "     for dist in varyParameters dist do\n",
    "       for v, p in discretize dist do \n",
    "         yield! enumerate (dist::dists) ((v,p)::choices) (f v)\n",
    "  | Return v -> \n",
    "      yield List.rev dists, (v, List.rev choices) }"
   ]
  },
  {
   "cell_type": "markdown",
   "metadata": {},
   "source": [
    "#### `histograms`"
   ]
  },
  {
   "cell_type": "markdown",
   "metadata": {},
   "source": [
    "Compute probability for discrete bins based on sampled distribution"
   ]
  },
  {
   "cell_type": "code",
   "execution_count": 19,
   "metadata": {
    "init_cell": true
   },
   "outputs": [
    {
     "name": "stderr",
     "output_type": "stream",
     "text": [
      "Expression evaluation failed: Object reference not set to an instance of an object\n",
      "NullReferenceExceptionObject reference not set to an instance of an object\n",
      "  at Microsoft.FSharp.Core.Operators.FailurePattern (System.Exception error) [0x00001] in <5939249c904cf4daa74503839c243959>:0 \n",
      "  at Microsoft.FSharp.Compiler.ErrorLogger+ErrorLoggerExtensions.ReraiseIfWatsonable (System.Exception exn) [0x0002d] in <590496d0ddab8ea7a7450383d0960459>:0 \n",
      "  at Microsoft.FSharp.Compiler.ErrorLogger+ErrorLoggerExtensions.ErrorLogger.ErrorRecovery (Microsoft.FSharp.Compiler.ErrorLogger+ErrorLogger x, System.Exception exn, Microsoft.FSharp.Compiler.Range+range m) [0x000d2] in <590496d0ddab8ea7a7450383d0960459>:0 \n",
      "  at Microsoft.FSharp.Compiler.ErrorLogger+ErrorLoggerExtensions.ErrorLogger.StopProcessingRecovery (Microsoft.FSharp.Compiler.ErrorLogger+ErrorLogger x, System.Exception exn, Microsoft.FSharp.Compiler.Range+range m) [0x000b5] in <590496d0ddab8ea7a7450383d0960459>:0 \n",
      "  at Microsoft.FSharp.Compiler.Interactive.Shell+FsiInteractionProcessor.InteractiveCatch[b] (Microsoft.FSharp.Compiler.ErrorLogger+ErrorLogger errorLogger, Microsoft.FSharp.Core.FSharpFunc`2[T,TResult] f, b istate) [0x00033] in <590496d0ddab8ea7a7450383d0960459>:0 \n",
      "  at Microsoft.FSharp.Compiler.Interactive.Shell+FsiInteractionProcessor.ExecInteraction (Microsoft.FSharp.Compiler.AbstractIL.Internal.Library+CompilationThreadToken ctok, Microsoft.FSharp.Compiler.CompileOps+TcConfig tcConfig, Microsoft.FSharp.Compiler.Interactive.Shell+FsiDynamicCompilerState istate, Microsoft.FSharp.Compiler.Ast+ParsedFsiInteraction action, Microsoft.FSharp.Compiler.ErrorLogger+ErrorLogger errorLogger) [0x00010] in <590496d0ddab8ea7a7450383d0960459>:0 \n",
      "  at Microsoft.FSharp.Compiler.Interactive.Shell+FsiInteractionProcessor.execParsedInteractions (Microsoft.FSharp.Compiler.AbstractIL.Internal.Library+CompilationThreadToken ctok, Microsoft.FSharp.Compiler.CompileOps+TcConfig tcConfig, Microsoft.FSharp.Compiler.Interactive.Shell+FsiDynamicCompilerState istate, Microsoft.FSharp.Core.FSharpOption`1[T] action, Microsoft.FSharp.Compiler.ErrorLogger+ErrorLogger errorLogger, Microsoft.FSharp.Core.FSharpOption`1[T] lastResult) [0x002a4] in <590496d0ddab8ea7a7450383d0960459>:0 \n",
      "  at Microsoft.FSharp.Compiler.Interactive.Shell+clo@2089-298.Invoke (Microsoft.FSharp.Compiler.AbstractIL.Internal.Library+CompilationThreadToken ctok, Microsoft.FSharp.Compiler.CompileOps+TcConfig tcConfig, Microsoft.FSharp.Compiler.Interactive.Shell+FsiDynamicCompilerState istate) [0x00003] in <590496d0ddab8ea7a7450383d0960459>:0 \n",
      "  at Microsoft.FSharp.Core.FSharpFunc`2[T,TResult].InvokeFast[V,W] (Microsoft.FSharp.Core.FSharpFunc`2[T,TResult] func, T arg1, TResult arg2, V arg3) [0x0000d] in <5939249c904cf4daa74503839c243959>:0 \n",
      "  at Microsoft.FSharp.Compiler.Interactive.Shell+FsiInteractionProcessor.mainThreadProcessAction[a,b] (a ctok, Microsoft.FSharp.Core.FSharpFunc`2[T,TResult] action, b istate) [0x0004a] in <590496d0ddab8ea7a7450383d0960459>:0 \n",
      "  at Microsoft.FSharp.Compiler.ErrorLogger+ErrorLoggerExtensions.ReraiseIfWatsonable (System.Exception exn) [0x00040] in <590496d0ddab8ea7a7450383d0960459>:0 \n",
      "  at Microsoft.FSharp.Compiler.ErrorLogger+ErrorLoggerExtensions.ErrorLogger.ErrorRecovery (Microsoft.FSharp.Compiler.ErrorLogger+ErrorLogger x, System.Exception exn, Microsoft.FSharp.Compiler.Range+range m) [0x000d2] in <590496d0ddab8ea7a7450383d0960459>:0 \n",
      "  at Microsoft.FSharp.Compiler.ErrorLogger+ErrorLoggerExtensions.ErrorLogger.StopProcessingRecovery (Microsoft.FSharp.Compiler.ErrorLogger+ErrorLogger x, System.Exception exn, Microsoft.FSharp.Compiler.Range+range m) [0x000b5] in <590496d0ddab8ea7a7450383d0960459>:0 \n",
      "  at Microsoft.FSharp.Compiler.Interactive.Shell+FsiInteractionProcessor.mainThreadProcessAction[a,b] (a ctok, Microsoft.FSharp.Core.FSharpFunc`2[T,TResult] action, b istate) [0x00104] in <590496d0ddab8ea7a7450383d0960459>:0 \n",
      "  at Microsoft.FSharp.Compiler.Interactive.Shell+FsiInteractionProcessor.mainThreadProcessParsedInteractions (Microsoft.FSharp.Compiler.AbstractIL.Internal.Library+CompilationThreadToken ctok, Microsoft.FSharp.Compiler.ErrorLogger+ErrorLogger errorLogger, Microsoft.FSharp.Core.FSharpOption`1[T] action, Microsoft.FSharp.Compiler.Interactive.Shell+FsiDynamicCompilerState istate) [0x0000b] in <590496d0ddab8ea7a7450383d0960459>:0 \n",
      "  at Microsoft.FSharp.Compiler.Interactive.Shell+EvalInteraction@2232.Invoke (Microsoft.FSharp.Compiler.Interactive.Shell+FsiDynamicCompilerState istate) [0x00013] in <590496d0ddab8ea7a7450383d0960459>:0 \n",
      "  at Microsoft.FSharp.Compiler.Interactive.Shell+FsiInteractionProcessor.InteractiveCatch[b] (Microsoft.FSharp.Compiler.ErrorLogger+ErrorLogger errorLogger, Microsoft.FSharp.Core.FSharpFunc`2[T,TResult] f, b istate) [0x00018] in <590496d0ddab8ea7a7450383d0960459>:0 \n",
      "  at Microsoft.FSharp.Compiler.ErrorLogger+ErrorLoggerExtensions.ReraiseIfWatsonable (System.Exception exn) [0x00040] in <590496d0ddab8ea7a7450383d0960459>:0 \n",
      "  at Microsoft.FSharp.Compiler.ErrorLogger+ErrorLoggerExtensions.ErrorLogger.ErrorRecovery (Microsoft.FSharp.Compiler.ErrorLogger+ErrorLogger x, System.Exception exn, Microsoft.FSharp.Compiler.Range+range m) [0x000d2] in <590496d0ddab8ea7a7450383d0960459>:0 \n",
      "  at Microsoft.FSharp.Compiler.ErrorLogger+ErrorLoggerExtensions.ErrorLogger.StopProcessingRecovery (Microsoft.FSharp.Compiler.ErrorLogger+ErrorLogger x, System.Exception exn, Microsoft.FSharp.Compiler.Range+range m) [0x000b5] in <590496d0ddab8ea7a7450383d0960459>:0 \n",
      "  at Microsoft.FSharp.Compiler.Interactive.Shell+FsiInteractionProcessor.InteractiveCatch[b] (Microsoft.FSharp.Compiler.ErrorLogger+ErrorLogger errorLogger, Microsoft.FSharp.Core.FSharpFunc`2[T,TResult] f, b istate) [0x00033] in <590496d0ddab8ea7a7450383d0960459>:0 \n",
      "  at Microsoft.FSharp.Compiler.Interactive.Shell+FsiInteractionProcessor.EvalInteraction (Microsoft.FSharp.Compiler.AbstractIL.Internal.Library+CompilationThreadToken ctok, System.String sourceText, System.String scriptFileName, Microsoft.FSharp.Compiler.ErrorLogger+ErrorLogger errorLogger) [0x00058] in <590496d0ddab8ea7a7450383d0960459>:0 \n",
      "  at Microsoft.FSharp.Compiler.Interactive.Shell+FsiEvaluationSession.EvalInteractionNonThrowing (System.String code) [0x0001c] in <590496d0ddab8ea7a7450383d0960459>:0 \n",
      "  at IfSharp.Kernel.IfSharpKernel.executeRequest (IfSharp.Kernel.KernelMessage msg, IfSharp.Kernel.ExecuteRequest content) [0x00096] in <5ad0f80e1b085d3da74503830ef8d05a>:0 \n"
     ]
    }
   ],
   "source": [
    "let histograms = \n",
    "  enumerate [] [] model\n",
    "  |> Seq.map (fun (dist, (value, trace)) ->\n",
    "      dist, (roundToBin value, trace))\n",
    "  |> Seq.distinct\n",
    "  |> Seq.map (fun (dist, (value, trace)) -> \n",
    "    let logp = \n",
    "      trace \n",
    "      |> List.map (fun (_, p) -> if p = 0.0 then 1e-10 else p)\n",
    "      |> List.map log\n",
    "      |> List.fold (+) 0.0\n",
    "    dist, value, logp)\n",
    "  |> Seq.groupBy (fun (dist, _, _) -> dist)\n",
    "  |> Seq.map (fun (dist, values) ->\n",
    "      dist, \n",
    "      values |> Seq.map (fun (_, v, p) -> v, p)\n",
    "      |> Array.ofSeq\n",
    "      |> Array.sortBy fst)\n",
    "  |> Array.ofSeq  "
   ]
  },
  {
   "cell_type": "markdown",
   "metadata": {},
   "source": [
    "#### `compareDataHistogram`"
   ]
  },
  {
   "cell_type": "markdown",
   "metadata": {},
   "source": [
    "Compute likelihood of the data given the simulated histogram"
   ]
  },
  {
   "cell_type": "code",
   "execution_count": 20,
   "metadata": {
    "init_cell": true
   },
   "outputs": [],
   "source": [
    "let compareDataHistogram (dist, values) data =\n",
    "  let histLogProbability = \n",
    "    values\n",
    "    |> Array.append [| (0.0, 0.0) |]\n",
    "    |> Array.windowed 2\n",
    "    |> Array.map (fun bin ->\n",
    "        let p = bin.[1] |> snd\n",
    "        p, \n",
    "        data \n",
    "        |> Array.filter (fun x -> \n",
    "            x > fst bin.[0] && x <= fst bin.[1])\n",
    "        |> Array.length\n",
    "        |> float)\n",
    "    |> Array.fold (fun pAcc (logp, x) -> x * logp + pAcc) 0.0\n",
    "  dist, histLogProbability"
   ]
  },
  {
   "cell_type": "markdown",
   "metadata": {},
   "source": [
    "#### `mostLikelyDistribution`"
   ]
  },
  {
   "cell_type": "code",
   "execution_count": 21,
   "metadata": {
    "init_cell": true
   },
   "outputs": [],
   "source": [
    "let mostLikelyDistribution hists data =\n",
    "  hists\n",
    "  |> Array.map (fun distributionHist -> compareDataHistogram distributionHist data)\n",
    "  |> Array.sortByDescending snd\n",
    "  |> Array.take 10"
   ]
  },
  {
   "cell_type": "markdown",
   "metadata": {},
   "source": [
    "### Apply to Stack Overflow data"
   ]
  },
  {
   "cell_type": "markdown",
   "metadata": {},
   "source": [
    "Apply to Stack Overflow data"
   ]
  },
  {
   "cell_type": "code",
   "execution_count": null,
   "metadata": {},
   "outputs": [],
   "source": [
    "let [<Literal>] file = __SOURCE_DIRECTORY__ + \"/data/developer_survey_2017/survey_results_public.csv\"\n",
    "type SOData = CsvProvider<file>"
   ]
  },
  {
   "cell_type": "code",
   "execution_count": null,
   "metadata": {},
   "outputs": [],
   "source": [
    "let stackoverflowSurvey = \n",
    "  let data = SOData.GetSample()\n",
    "  data.Rows\n",
    "  |> Seq.filter (fun row -> row.Country = \"Poland\" && not (Double.IsNaN(row.Salary))) \n",
    "  |> Seq.map (fun row -> row.Salary )\n",
    "  |> Seq.toArray"
   ]
  },
  {
   "cell_type": "code",
   "execution_count": null,
   "metadata": {},
   "outputs": [],
   "source": [
    "stackoverflowSurvey |> Array.length\n",
    "stackoverflowSurvey |> Array.average\n",
    "stackoverflowSurvey |> Array.max"
   ]
  },
  {
   "cell_type": "code",
   "execution_count": null,
   "metadata": {},
   "outputs": [],
   "source": [
    "let soResults =\n",
    "  mostLikelyDistribution histograms stackoverflowSurvey"
   ]
  }
 ],
 "metadata": {
  "celltoolbar": "Initialization Cell",
  "kernelspec": {
   "display_name": "F#",
   "language": "fsharp",
   "name": "ifsharp"
  },
  "language": "fsharp",
  "language_info": {
   "codemirror_mode": "",
   "file_extension": ".fs",
   "mimetype": "text/x-fsharp",
   "name": "fsharp",
   "nbconvert_exporter": "",
   "pygments_lexer": "",
   "version": "4.3.1.0"
  }
 },
 "nbformat": 4,
 "nbformat_minor": 2
}
