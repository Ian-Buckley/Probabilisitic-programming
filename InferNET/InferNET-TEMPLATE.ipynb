{
  "metadata": {
    "kernelspec": {
      "name": "ifsharp",
      "display_name": "F#",
      "language": "fsharp"
    },
    "language": "fsharp",
    "language_info": {
      "mimetype": "text/x-fsharp",
      "nbconvert_exporter": "",
      "name": "fsharp",
      "pygments_lexer": "",
      "version": "4.3.1.0",
      "file_extension": ".fs",
      "codemirror_mode": ""
    }
  },
  "nbformat_minor": 2,
  "nbformat": 4,
  "cells": [
    {
      "cell_type": "markdown",
      "source": "# ???",
      "metadata": {}
    },
    {
      "cell_type": "markdown",
      "source": "A simple example of ...",
      "metadata": {}
    },
    {
      "cell_type": "markdown",
      "source": "This has been updated in Oct 2018 (post Infer.NET open source launch!) to use: \n* the Paket dependency manager to get the package(s) from nuget\n* Paket to get the `FSharpWrapper` from github\n* the revised namespace `Microsoft.ML.Probabilistic` (was `MicrosoftResearch.Infer`)",
      "metadata": {}
    },
    {
      "cell_type": "markdown",
      "source": "[`FSharpWrapper` tutorial examples](https://dotnet.github.io/infer/userguide/FSharp%20Wrapper.html) include:\n* TwoCoins\n* TruncatedGaussian\n* GaussianRanges\n* ClinicalTrial\n* BayesPoint\n* MixtureGaussians",
      "metadata": {}
    },
    {
      "cell_type": "markdown",
      "source": "### Source & links\nhttp://infernet.azurewebsites.net/default.aspx    \nhttps://dotnet.github.io/infer/userguide/Two%20coins.html",
      "metadata": {
        "slideshow": {
          "slide_type": "slide"
        }
      }
    },
    {
      "cell_type": "markdown",
      "source": "[Imperative Statement Blocks in F#](https://dotnet.github.io/infer/userguide/Imperative%20Statement%20Blocks%20in%20FSharp.html)     \n[Branching on variables to create mixture models](https://dotnet.github.io/infer/userguide/Branching%20on%20variables%20to%20create%20mixture%20models.html)  ",
      "metadata": {}
    },
    {
      "cell_type": "markdown",
      "source": "## Load & open packages",
      "metadata": {
        "slideshow": {
          "slide_type": "subslide"
        }
      }
    },
    {
      "cell_type": "markdown",
      "source": "https://fsprojects.github.io/Paket/",
      "metadata": {}
    },
    {
      "cell_type": "markdown",
      "source": "Packages in F# can be installed via `nuget.org` using the Paket dependency manager.\nTo install packages from NuGet you should first load the Packet package manager:",
      "metadata": {}
    },
    {
      "cell_type": "code",
      "source": "#load \"Paket.fsx\"",
      "metadata": {
        "trusted": true
      },
      "execution_count": 41,
      "outputs": []
    },
    {
      "cell_type": "markdown",
      "source": "You can then have Paket install the packages:",
      "metadata": {}
    },
    {
      "cell_type": "code",
      "source": "Paket.Package\n  [   // \"Infer.NET\" (pre Oct 2018 namespace)\n      \"Microsoft.ML.Probabilistic\"\n      \"Microsoft.ML.Probabilistic.Compiler\"\n      //\"Microsoft.ML.Probabilistic.FSharp\"  // Not on nuget, yet?\n  ]",
      "metadata": {
        "trusted": true
      },
      "execution_count": 18,
      "outputs": []
    },
    {
      "cell_type": "code",
      "source": "// #load \"Paket.Generated.Refs.fsx\"  // Do we need this?",
      "metadata": {
        "trusted": true
      },
      "execution_count": 39,
      "outputs": []
    },
    {
      "cell_type": "markdown",
      "source": "### `FSharpWrapper`",
      "metadata": {}
    },
    {
      "cell_type": "markdown",
      "source": "See  https://github.com/dotnet/infer/blob/master/src/FSharpWrapper/FSharpWrapper.fs   \nhttps://github.com/fsprojects/IfSharp/issues/146 (Thanks for help, Colin Gravill!)   \nhttps://fsprojects.github.io/Paket/github-dependencies.html",
      "metadata": {}
    },
    {
      "cell_type": "code",
      "source": "Paket.GitHub [\"dotnet/infer src/FSharpWrapper/FSharpWrapper.fs\"]",
      "metadata": {
        "trusted": true
      },
      "execution_count": 26,
      "outputs": []
    },
    {
      "cell_type": "code",
      "source": "#load \"/home/nbuser/IfSharp/bin/paket-files/github/dotnet/infer/src/FSharpWrapper/FSharpWrapper.fs\"",
      "metadata": {
        "scrolled": true,
        "trusted": true
      },
      "execution_count": 28,
      "outputs": []
    },
    {
      "cell_type": "markdown",
      "source": "### Check `paket` files",
      "metadata": {}
    },
    {
      "cell_type": "markdown",
      "source": "Project dependencies file:",
      "metadata": {}
    },
    {
      "cell_type": "code",
      "source": "File.ReadAllText(@\"../../IfSharp/bin/paket.dependencies\")",
      "metadata": {
        "trusted": true
      },
      "execution_count": 29,
      "outputs": [
        {
          "output_type": "execute_result",
          "execution_count": 29,
          "data": {
            "text/plain": "\"framework: net471\ngenerate_load_scripts: true\nsource https://api.nuget.org/v3/index.json\nnuget FSharp.Core ~> 4.3.4\nnuget FsLab 1.1.3\nnuget Microsoft.ML.Probabilistic.Compiler\n\ngroup GitHub\nsource https://www.nuget.org/api/v2\n\ngithub dotnet/infer src/FSharpWrapper/FSharpWrapper.fs\""
          },
          "metadata": {}
        }
      ]
    },
    {
      "cell_type": "markdown",
      "source": "The `paket install` command will analyze your dependencies and automatically generate a `paket.lock` file:",
      "metadata": {}
    },
    {
      "cell_type": "code",
      "source": "File.ReadAllText(@\"../../IfSharp/bin/paket.lock\")",
      "metadata": {
        "trusted": true
      },
      "execution_count": null,
      "outputs": []
    },
    {
      "cell_type": "markdown",
      "source": "### Assembly search paths and references",
      "metadata": {}
    },
    {
      "cell_type": "code",
      "source": "#I \"/home/nbuser/IfSharp/bin/packages/Microsoft.ML.Probabilistic/lib/netstandard2.0\"\n#I \"/home/nbuser/IfSharp/bin/packages/Microsoft.ML.Probabilistic.Compiler/lib/netstandard2.0\"",
      "metadata": {
        "trusted": true
      },
      "execution_count": 14,
      "outputs": []
    },
    {
      "cell_type": "code",
      "source": "#r \"Microsoft.ML.Probabilistic.dll\"\n#r \"Microsoft.ML.Probabilistic.Compiler.dll\"",
      "metadata": {
        "trusted": true
      },
      "execution_count": 15,
      "outputs": []
    },
    {
      "cell_type": "markdown",
      "source": "### Import declarations for modules or namespaces ",
      "metadata": {}
    },
    {
      "cell_type": "code",
      "source": "open System",
      "metadata": {
        "trusted": true
      },
      "execution_count": null,
      "outputs": []
    },
    {
      "cell_type": "code",
      "source": "open Microsoft.ML.Probabilistic  \nopen Microsoft.ML.Probabilistic.Models  \nopen Microsoft.ML.Probabilistic.Distributions  \nopen Microsoft.ML.Probabilistic.Factors  \nopen Microsoft.ML.Probabilistic.FSharp",
      "metadata": {
        "trusted": true
      },
      "execution_count": 33,
      "outputs": []
    },
    {
      "cell_type": "code",
      "source": "",
      "metadata": {},
      "execution_count": null,
      "outputs": []
    }
  ]
}