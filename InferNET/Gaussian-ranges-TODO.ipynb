{
 "cells": [
  {
   "cell_type": "markdown",
   "metadata": {
    "slideshow": {
     "slide_type": "slide"
    }
   },
   "source": [
    "# Gaussian Ranges\n",
    "A simple example of ...\n"
   ]
  },
  {
   "cell_type": "markdown",
   "metadata": {
    "collapsed": true,
    "slideshow": {
     "slide_type": "slide"
    }
   },
   "source": [
    "### Links\n",
    "http://infernet.azurewebsites.net/default.aspx    \n",
    "http://infernet.azurewebsites.net/docs/Two%20coins%20tutorial.aspx  \n",
    "https://www.microsoft.com/en-us/research/wp-content/uploads/2016/02/Model_Learner_Pattern_POPL_Rome.pdf  "
   ]
  },
  {
   "cell_type": "markdown",
   "metadata": {
    "slideshow": {
     "slide_type": "subslide"
    }
   },
   "source": [
    "## Load & open packages"
   ]
  },
  {
   "cell_type": "markdown",
   "metadata": {},
   "source": [
    "Latest download from:   \n",
    "http://infernet.azurewebsites.net/download.aspx    \n",
    "https://www.microsoft.com/en-us/download/details.aspx?id=52476    \n",
    "Infer.NET 2.7 March 2018"
   ]
  },
  {
   "cell_type": "code",
   "execution_count": 1,
   "metadata": {
    "collapsed": true
   },
   "outputs": [
    {
     "name": "stderr",
     "output_type": "stream",
     "text": [
      "Expression evaluation failed: Non-negative number required.\n",
      "Parameter name: count\n",
      "ArgumentOutOfRangeExceptionNon-negative number required.\n",
      "Parameter name: count\n",
      "  at System.IO.BinaryReader.ReadBytes (System.Int32 count) [0x00013] in <77c9551943624fd18301ba6f78a841e5>:0 \n",
      "  at Mono.Cecil.PE.ImageReader.ReadDebugHeader () [0x000f7] in <2e24b151dd8041d8b7d36a855bb53c66>:0 \n",
      "  at Mono.Cecil.PE.ImageReader.ReadImage () [0x000a8] in <2e24b151dd8041d8b7d36a855bb53c66>:0 \n",
      "  at Mono.Cecil.PE.ImageReader.ReadImage (Mono.Disposable`1[T] stream, System.String file_name) [0x00007] in <2e24b151dd8041d8b7d36a855bb53c66>:0 \n",
      "  at Mono.Cecil.ModuleDefinition.ReadModule (Mono.Disposable`1[T] stream, System.String fileName, Mono.Cecil.ReaderParameters parameters) [0x00006] in <2e24b151dd8041d8b7d36a855bb53c66>:0 \n",
      "  at Mono.Cecil.ModuleDefinition.ReadModule (System.String fileName, Mono.Cecil.ReaderParameters parameters) [0x0006c] in <2e24b151dd8041d8b7d36a855bb53c66>:0 \n",
      "  at Mono.Cecil.ModuleDefinition.ReadModule (System.String fileName) [0x00007] in <2e24b151dd8041d8b7d36a855bb53c66>:0 \n",
      "  at Mono.Cecil.AssemblyDefinition.ReadAssembly (System.String fileName) [0x00000] in <2e24b151dd8041d8b7d36a855bb53c66>:0 \n",
      "  at Paket.LoadingScripts.PackageAndAssemblyResolution+dllFiles@61.Invoke (System.String path) [0x00001] in <593d0e63a970bee8a7450383630e3d59>:0 \n",
      "  at Microsoft.FSharp.Collections.Internal+IEnumerator+map@74[b,a].DoMoveNext (b& ) [0x00020] in <5939249c904cf4daa74503839c243959>:0 \n",
      "  at Microsoft.FSharp.Collections.Internal+IEnumerator+MapEnumerator`1[T].System-Collections-IEnumerator-MoveNext () [0x0000c] in <5939249c904cf4daa74503839c243959>:0 \n",
      "  at Microsoft.FSharp.Core.ExtraTopLevelOperators.dictRefType[TKey,T] (System.Collections.Generic.IEnumerable`1[T] l) [0x0001b] in <5939249c904cf4daa74503839c243959>:0 \n",
      "  at Microsoft.FSharp.Core.ExtraTopLevelOperators.CreateDictionary[TKey,TValue] (System.Collections.Generic.IEnumerable`1[T] keyValuePairs) [0x00019] in <5939249c904cf4daa74503839c243959>:0 \n",
      "  at Paket.LoadingScripts.PackageAndAssemblyResolution.getDllsWithinPackage (Paket.FrameworkIdentifier framework, Paket.InstallModel installModel) [0x00017] in <593d0e63a970bee8a7450383630e3d59>:0 \n",
      "  at Paket.LoadingScripts.ScriptGeneration+generateScripts@315.Invoke (Microsoft.FSharp.Collections.FSharpMap`2[TKey,TValue] knownIncludeScripts, Paket.PackageResolver+ResolvedPackage package) [0x00072] in <593d0e63a970bee8a7450383630e3d59>:0 \n",
      "  at Microsoft.FSharp.Collections.SeqModule.Fold[T,TState] (Microsoft.FSharp.Core.FSharpFunc`2[T,TResult] folder, TState state, System.Collections.Generic.IEnumerable`1[T] source) [0x00037] in <5939249c904cf4daa74503839c243959>:0 \n",
      "  at Paket.LoadingScripts.ScriptGeneration.generateScripts (Microsoft.FSharp.Core.FSharpFunc`2[T,TResult] scriptGenerator, Microsoft.FSharp.Core.FSharpFunc`2[T,TResult] writeScript, Microsoft.FSharp.Core.FSharpFunc`2[T,TResult] getScriptFile, System.IO.DirectoryInfo includeScriptsRootFolder, Paket.FrameworkIdentifier framework, Paket.LockFile lockFile, System.IO.DirectoryInfo packagesOrGroupFolder, Paket.Domain+GroupName groupName, Microsoft.FSharp.Collections.FSharpList`1[T] orderedPackages) [0x00018] in <593d0e63a970bee8a7450383630e3d59>:0 \n",
      "  at Paket.LoadingScripts.ScriptGeneration+generateScriptsForRootFolderGeneric@370.Invoke (Paket.Domain+GroupName groupName, Microsoft.FSharp.Collections.FSharpList`1[T] packages) [0x00088] in <593d0e63a970bee8a7450383630e3d59>:0 \n",
      "  at Microsoft.FSharp.Collections.MapTreeModule.mapiOpt[a,b,c] (Microsoft.FSharp.Core.OptimizedClosures+FSharpFunc`3[T1,T2,TResult] f, Microsoft.FSharp.Collections.MapTree`2[TKey,TValue] m) [0x0002a] in <5939249c904cf4daa74503839c243959>:0 \n",
      "  at Microsoft.FSharp.Collections.FSharpMap`2[TKey,TValue].Map[b] (Microsoft.FSharp.Core.FSharpFunc`2[T,TResult] f) [0x00014] in <5939249c904cf4daa74503839c243959>:0 \n",
      "  at Microsoft.FSharp.Collections.MapModule.Map[TKey,T,TResult] (Microsoft.FSharp.Core.FSharpFunc`2[T,TResult] mapping, Microsoft.FSharp.Collections.FSharpMap`2[TKey,TValue] table) [0x00001] in <5939249c904cf4daa74503839c243959>:0 \n",
      "  at Paket.LoadingScripts.ScriptGeneration.generateScriptsForRootFolderGeneric (Microsoft.FSharp.Collections.FSharpList`1[T] groups, System.String extension, Microsoft.FSharp.Core.FSharpFunc`2[T,TResult] scriptGenerator, Microsoft.FSharp.Core.FSharpFunc`2[T,TResult] scriptWriter, Microsoft.FSharp.Core.FSharpFunc`2[T,TResult] filterFrameworkLibs, Microsoft.FSharp.Core.FSharpFunc`2[T,TResult] filterNuget, Paket.FrameworkIdentifier framework, System.Boolean isDefaultFramework, System.IO.DirectoryInfo rootFolder) [0x0009d] in <593d0e63a970bee8a7450383630e3d59>:0 \n",
      "  at Paket.LoadingScripts.ScriptGeneration+generateScriptsForRootFolder@408-8.Invoke (Paket.FrameworkIdentifier framework, System.Boolean isDefaultFramework, System.IO.DirectoryInfo rootFolder) [0x00001] in <593d0e63a970bee8a7450383630e3d59>:0 \n",
      "  at Microsoft.FSharp.Core.FSharpFunc`2[T,TResult].InvokeFast[V,W] (Microsoft.FSharp.Core.FSharpFunc`2[T,TResult] func, T arg1, TResult arg2, V arg3) [0x0000d] in <5939249c904cf4daa74503839c243959>:0 \n",
      "  at Paket.LoadingScripts.ScriptGeneration.executeCommand (Microsoft.FSharp.Collections.FSharpList`1[T] groups, System.IO.DirectoryInfo directory, Microsoft.FSharp.Collections.FSharpList`1[T] providedFrameworks, Microsoft.FSharp.Collections.FSharpList`1[T] providedScriptTypes) [0x0022c] in <593d0e63a970bee8a7450383630e3d59>:0 \n",
      "  at Paket.RestoreProcess.Restore (System.String dependenciesFileName, Microsoft.FSharp.Core.FSharpOption`1[T] projectFile, System.Boolean force, Microsoft.FSharp.Core.FSharpOption`1[T] group, Microsoft.FSharp.Collections.FSharpList`1[T] referencesFileNames, System.Boolean ignoreChecks, System.Boolean failOnChecks) [0x00481] in <593d0e63a970bee8a7450383630e3d59>:0 \n",
      "  at <StartupCode$Paket-Core>.$PublicAPI+Restore@282-10.Invoke (Microsoft.FSharp.Core.Unit unitVar0) [0x00052] in <593d0e63a970bee8a7450383630e3d59>:0 \n",
      "  at Paket.Utils.RunInLockedAccessMode[a] (System.String rootFolder, Microsoft.FSharp.Core.FSharpFunc`2[T,TResult] action) [0x00084] in <593d0e63a970bee8a7450383630e3d59>:0 \n",
      "  at Paket.Dependencies.Restore (System.Boolean force, Microsoft.FSharp.Core.FSharpOption`1[T] group, Microsoft.FSharp.Collections.FSharpList`1[T] files, System.Boolean touchAffectedRefs, System.Boolean ignoreChecks, System.Boolean failOnChecks) [0x0001b] in <593d0e63a970bee8a7450383630e3d59>:0 \n",
      "  at Paket.Dependencies.Restore (System.Boolean ignoreChecks) [0x00009] in <593d0e63a970bee8a7450383630e3d59>:0 \n",
      "  at <StartupCode$FSI_0004>.$FSI_0004_Paket$fsx.main@ () [0x0006d] in <f235ad17919f47618a757a719caf2874>:0 \n",
      "  at (wrapper managed-to-native) System.Reflection.MonoMethod:InternalInvoke (System.Reflection.MonoMethod,object,object[],System.Exception&)\n",
      "  at System.Reflection.MonoMethod.Invoke (System.Object obj, System.Reflection.BindingFlags invokeAttr, System.Reflection.Binder binder, System.Object[] parameters, System.Globalization.CultureInfo culture) [0x00032] in <77c9551943624fd18301ba6f78a841e5>:0 \n"
     ]
    }
   ],
   "source": [
    "//#load \"Paket.fsx\""
   ]
  },
  {
   "cell_type": "code",
   "execution_count": 13,
   "metadata": {},
   "outputs": [],
   "source": [
    "//Paket.Package\n",
    "//  [ \"Infer.NET\"\n",
    "//  ]"
   ]
  },
  {
   "cell_type": "markdown",
   "metadata": {},
   "source": [
    "### Unzip full distribution to the file system"
   ]
  },
  {
   "cell_type": "markdown",
   "metadata": {},
   "source": [
    "This solution due to Tomas Petricek.  \n",
    "First, download the ZIP file release:  \n",
    "(From https://www.microsoft.com/en-us/download/confirmation.aspx?id=52476)"
   ]
  },
  {
   "cell_type": "code",
   "execution_count": null,
   "metadata": {},
   "outputs": [],
   "source": [
    "let wc = new System.Net.WebClient()\n",
    "wc.DownloadFile(\n",
    "    \"https://download.microsoft.com/download/D/C/4/DC44E915-26FE-48AB-BD7C-AC1D92B23230/Infer.NET%202.7.1803.1901.zip\", \n",
    "    \"/home/nbuser/IfSharp/bin/packages/infer.zip\")\n",
    "//Now, unzip it – we could get .NET ZipFile to do this, but invoking the Linux command line tools works.\n",
    "open System.Diagnostics\n",
    "let ps = \n",
    "    ProcessStartInfo(\n",
    "        FileName=\"unzip\", \n",
    "        Arguments=\"/home/nbuser/IfSharp/bin/packages/infer.zip -d /home/nbuser/IfSharp/bin/packages/infer\",\n",
    "        RedirectStandardOutput=true,UseShellExecute=false)\n",
    "let p = Process.Start(ps)\n",
    "p.StandardOutput.ReadToEnd()"
   ]
  },
  {
   "cell_type": "markdown",
   "metadata": {},
   "source": [
    "### Load & open packages"
   ]
  },
  {
   "cell_type": "code",
   "execution_count": 1,
   "metadata": {},
   "outputs": [],
   "source": [
    "#I \"/home/nbuser/IfSharp/bin/packages/infer/Bin/\"\n",
    "#r \"Infer.FSharp\"\n",
    "#r \"Infer.Runtime\"\n",
    "#r \"Infer.Compiler\""
   ]
  },
  {
   "cell_type": "code",
   "execution_count": 2,
   "metadata": {},
   "outputs": [],
   "source": [
    "open System\n",
    "open MicrosoftResearch.Infer\n",
    "open MicrosoftResearch.Infer.Models\n",
    "open MicrosoftResearch.Infer.Distributions\n",
    "open MicrosoftResearch.Infer.Factors\n",
    "open MicrosoftResearch.Infer.Maths\n",
    "open MicrosoftResearch.Infer.FSharp\n",
    "open MicrosoftResearch.Infer.FSharp.Variable"
   ]
  },
  {
   "cell_type": "markdown",
   "metadata": {},
   "source": [
    "## Model"
   ]
  },
  {
   "cell_type": "markdown",
   "metadata": {},
   "source": [
    "Source: `\\Infer.NET 2.7.1803.1901\\Samples\\F#\\TestFSharp`"
   ]
  },
  {
   "cell_type": "markdown",
   "metadata": {},
   "source": [
    "Examples include:\n",
    "* TwoCoins\n",
    "* TruncatedGaussian\n",
    "* GaussianRanges\n",
    "* ClinicalTrial\n",
    "* BayesPoint\n",
    "* MixtureGaussians"
   ]
  },
  {
   "cell_type": "markdown",
   "metadata": {},
   "source": [
    "### The model"
   ]
  },
  {
   "cell_type": "code",
   "execution_count": 3,
   "metadata": {},
   "outputs": [],
   "source": [
    "let len = Variable.New<int>()\n",
    "let dataRange = Range(len)\n",
    "let mean = Variable.GaussianFromMeanAndVariance(0.0, 100.0)\n",
    "let precision = Variable.GammaFromShapeAndScale(1.0, 1.0)\n",
    "let x = Variable.AssignVariableArray \n",
    "            (Variable.Array<float>(dataRange))  \n",
    "             dataRange (fun d -> Variable.GaussianFromMeanAndPrecision(mean, precision))"
   ]
  },
  {
   "cell_type": "markdown",
   "metadata": {},
   "source": [
    "### The data"
   ]
  },
  {
   "cell_type": "code",
   "execution_count": 4,
   "metadata": {},
   "outputs": [],
   "source": [
    "let data = Array.init 100 (fun _ -> Rand.Normal(0.0, 1.0))"
   ]
  },
  {
   "cell_type": "markdown",
   "metadata": {},
   "source": [
    "### Binding the data"
   ]
  },
  {
   "cell_type": "code",
   "execution_count": 5,
   "metadata": {},
   "outputs": [],
   "source": [
    "len.ObservedValue <- data.Length\n",
    "x.ObservedValue <- data"
   ]
  },
  {
   "cell_type": "markdown",
   "metadata": {},
   "source": [
    "### The inference"
   ]
  },
  {
   "cell_type": "code",
   "execution_count": 6,
   "metadata": {},
   "outputs": [
    {
     "data": {
      "text/plain": [
       "Compiling model...done.\n",
       "Iterating: \n",
       ".........|.........|.........|.........|.........| 50\n",
       "mean = Gaussian(-0.09333, 0.007894)\n",
       "prec = Gamma(51, 0.02484)[mean=1.267]\n"
      ]
     },
     "metadata": {},
     "output_type": "display_data"
    }
   ],
   "source": [
    "let ie = InferenceEngine(VariationalMessagePassing())\n",
    "printfn \"mean = %A\" (ie.Infer<Gaussian>(mean))\n",
    "printfn \"prec = %A\" (ie.Infer<Gamma>(precision))"
   ]
  },
  {
   "cell_type": "code",
   "execution_count": null,
   "metadata": {},
   "outputs": [],
   "source": []
  }
 ],
 "metadata": {
  "kernelspec": {
   "display_name": "F#",
   "language": "fsharp",
   "name": "ifsharp"
  },
  "language": "fsharp",
  "language_info": {
   "codemirror_mode": "",
   "file_extension": ".fs",
   "mimetype": "text/x-fsharp",
   "name": "fsharp",
   "nbconvert_exporter": "",
   "pygments_lexer": "",
   "version": "4.3.1.0"
  }
 },
 "nbformat": 4,
 "nbformat_minor": 2
}
