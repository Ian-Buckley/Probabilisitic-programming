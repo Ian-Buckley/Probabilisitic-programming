{
 "cells": [
  {
   "cell_type": "markdown",
   "metadata": {
    "slideshow": {
     "slide_type": "slide"
    }
   },
   "source": [
    "# Efficient truncated Gaussian"
   ]
  },
  {
   "cell_type": "markdown",
   "metadata": {
    "slideshow": {
     "slide_type": "slide"
    }
   },
   "source": [
    "In this example, we look at how to create a variable with a truncated or clipped Gaussian distribution. "
   ]
  },
  {
   "cell_type": "markdown",
   "metadata": {
    "slideshow": {
     "slide_type": "slide"
    }
   },
   "source": [
    "### Source & other links\n",
    "http://infernet.azurewebsites.net/default.aspx    \n",
    "https://dotnet.github.io/infer/userguide/Efficient%20truncated%20Gaussian.html   \n",
    "https://dotnet.github.io/infer/userguide/Truncated%20Gaussian%20tutorial.html    \n",
    "https://www.microsoft.com/en-us/research/wp-content/uploads/2016/02/Model_Learner_Pattern_POPL_Rome.pdf  "
   ]
  },
  {
   "cell_type": "markdown",
   "metadata": {},
   "source": [
    "[`FSharpWrapper` tutorial examples](https://dotnet.github.io/infer/userguide/FSharp%20Wrapper.html) include:\n",
    "* TwoCoins\n",
    "* TruncatedGaussian\n",
    "* GaussianRanges\n",
    "* ClinicalTrial\n",
    "* BayesPoint\n",
    "* MixtureGaussians"
   ]
  },
  {
   "cell_type": "markdown",
   "metadata": {
    "slideshow": {
     "slide_type": "subslide"
    }
   },
   "source": [
    "## Load & open packages"
   ]
  },
  {
   "cell_type": "code",
   "execution_count": 1,
   "metadata": {},
   "outputs": [],
   "source": [
    "#load \"Paket.fsx\"\n",
    "Paket.Package\n",
    "  [   \n",
    "      \"Microsoft.ML.Probabilistic\"\n",
    "      \"Microsoft.ML.Probabilistic.Compiler\"\n",
    "      //\"Microsoft.ML.Probabilistic.FSharp\"  // Not on nuget, yet?\n",
    "      \"NETStandard.Library\" // Necessary??\n",
    "  ]"
   ]
  },
  {
   "cell_type": "code",
   "execution_count": 3,
   "metadata": {},
   "outputs": [],
   "source": [
    "#load \"Paket.Generated.Refs.fsx\"  "
   ]
  },
  {
   "cell_type": "markdown",
   "metadata": {},
   "source": [
    "### `FSharpWrapper`"
   ]
  },
  {
   "cell_type": "markdown",
   "metadata": {},
   "source": [
    "See https://github.com/dotnet/infer/blob/master/src/FSharpWrapper/FSharpWrapper.fs    \n",
    "https://github.com/fsprojects/IfSharp/issues/146   \n",
    "https://github.com/mndrake/IfSharpLab   \n",
    "https://fsprojects.github.io/Paket/github-dependencies.html   "
   ]
  },
  {
   "cell_type": "code",
   "execution_count": 11,
   "metadata": {},
   "outputs": [],
   "source": [
    "Paket.GitHub [\"dotnet/infer src/FSharpWrapper/FSharpWrapper.fs\"]"
   ]
  },
  {
   "cell_type": "code",
   "execution_count": 12,
   "metadata": {},
   "outputs": [],
   "source": [
    "// #load \"/home/nbuser/IfSharp/bin/paket-files/github/dotnet/infer/src/FSharpWrapper/FSharpWrapper.fs\" // Later!"
   ]
  },
  {
   "cell_type": "markdown",
   "metadata": {},
   "source": [
    "### Assembly search paths and references"
   ]
  },
  {
   "cell_type": "code",
   "execution_count": null,
   "metadata": {},
   "outputs": [],
   "source": [
    "#I \"/home/nbuser/IfSharp/bin/packages/Microsoft.ML.Probabilistic/lib/netstandard2.0\"\n",
    "#r \"Microsoft.ML.Probabilistic.dll\""
   ]
  },
  {
   "cell_type": "code",
   "execution_count": 8,
   "metadata": {},
   "outputs": [],
   "source": [
    "#I \"/home/nbuser/IfSharp/bin/packages/NETStandard.Library/build/netstandard2.0/ref\"\n",
    "#r \"netstandard\""
   ]
  },
  {
   "cell_type": "code",
   "execution_count": 9,
   "metadata": {},
   "outputs": [],
   "source": [
    "open System\n",
    "open Microsoft.ML.Probabilistic  \n",
    "open Microsoft.ML.Probabilistic.Models  \n",
    "open Microsoft.ML.Probabilistic.Distributions  \n",
    "open Microsoft.ML.Probabilistic.Factors  "
   ]
  },
  {
   "cell_type": "code",
   "execution_count": 10,
   "metadata": {},
   "outputs": [],
   "source": [
    "#load \"/home/nbuser/IfSharp/bin/paket-files/github/dotnet/infer/src/FSharpWrapper/FSharpWrapper.fs\""
   ]
  },
  {
   "cell_type": "markdown",
   "metadata": {},
   "source": [
    "(One or more errors in loaded file.    \n",
    "The type '`IfBlock`' is not compatible with the type '`System.IDisposable`'.????)"
   ]
  },
  {
   "cell_type": "code",
   "execution_count": 11,
   "metadata": {},
   "outputs": [],
   "source": [
    "open Microsoft.ML.Probabilistic.FSharp"
   ]
  },
  {
   "cell_type": "markdown",
   "metadata": {},
   "source": [
    "## Model"
   ]
  },
  {
   "cell_type": "markdown",
   "metadata": {},
   "source": [
    "Source: https://dotnet.github.io/infer/userguide/Efficient%20truncated%20Gaussian.html"
   ]
  },
  {
   "cell_type": "code",
   "execution_count": 12,
   "metadata": {},
   "outputs": [],
   "source": [
    "let threshold = (Variable.New<float>()).Named(\"threshold\")\n",
    "let x = Variable.GaussianFromMeanAndVariance(0.0,1.0).Named(\"x\")\n",
    "do Variable.ConstrainTrue( (x >> threshold))"
   ]
  },
  {
   "cell_type": "markdown",
   "metadata": {},
   "source": [
    "### Inference `ie.Infer<Gaussian>(x)`"
   ]
  },
  {
   "cell_type": "markdown",
   "metadata": {},
   "source": [
    "The inference, looping over different thresholds"
   ]
  },
  {
   "cell_type": "code",
   "execution_count": 13,
   "metadata": {},
   "outputs": [],
   "source": [
    "let ie = InferenceEngine()\n",
    "ie.ShowProgress <- false\n",
    "threshold.ObservedValue <- -0.1"
   ]
  },
  {
   "cell_type": "code",
   "execution_count": 14,
   "metadata": {},
   "outputs": [
    {
     "data": {
      "text/plain": [
       "Dist over x given thresh of 0.0 = Gaussian(0.7979, 0.3634)\n",
       "Dist over x given thresh of 0.1 = Gaussian(0.8626, 0.3422)\n",
       "Dist over x given thresh of 0.2 = Gaussian(0.9294, 0.3221)\n",
       "Dist over x given thresh of 0.3 = Gaussian(0.9982, 0.3031)\n",
       "Dist over x given thresh of 0.4 = Gaussian(1.069, 0.2853)\n",
       "Dist over x given thresh of 0.5 = Gaussian(1.141, 0.2685)\n",
       "Dist over x given thresh of 0.6 = Gaussian(1.215, 0.2527)\n",
       "Dist over x given thresh of 0.7 = Gaussian(1.29, 0.238)\n",
       "Dist over x given thresh of 0.8 = Gaussian(1.367, 0.2241)\n",
       "Dist over x given thresh of 0.9 = Gaussian(1.446, 0.2112)\n",
       "Dist over x given thresh of 1.0 = Gaussian(1.525, 0.1991)\n"
      ]
     },
     "metadata": {},
     "output_type": "display_data"
    }
   ],
   "source": [
    "for i = 0 to 10 do\n",
    "  threshold.ObservedValue <- threshold.ObservedValue + 0.1  \n",
    "  printfn \"Dist over x given thresh of %A = %A\" threshold.ObservedValue (ie.Infer<Gaussian>(x))"
   ]
  }
 ],
 "metadata": {
  "kernelspec": {
   "display_name": "F#",
   "language": "fsharp",
   "name": "ifsharp"
  },
  "language": "fsharp",
  "language_info": {
   "codemirror_mode": "",
   "file_extension": ".fs",
   "mimetype": "text/x-fsharp",
   "name": "fsharp",
   "nbconvert_exporter": "",
   "pygments_lexer": "",
   "version": "4.3.1.0"
  }
 },
 "nbformat": 4,
 "nbformat_minor": 2
}
