{
  "cells": [
    {
      "metadata": {},
      "cell_type": "markdown",
      "source": "# Robust Statistical Workflow with PyStan"
    },
    {
      "metadata": {},
      "cell_type": "markdown",
      "source": "<font color='purple'>$\\bullet$ **Azure Notebooks tip**   \nSource: https://github.com/betanalpha/jupyter_case_studies/blob/master/pystan_workflow/pystan_workflow.ipynb   \nAuthor: Michael Betancourt</font>"
    },
    {
      "metadata": {},
      "cell_type": "markdown",
      "source": "Stan and its implementation of dynamic Hamiltonian Monte Carlo is an extremely powerful tool for specifying and then fitting complex Bayesian models.  In order to ensure a robust analysis, however, that power must be complemented with responsibility.\n\nIn particular, while dynamic implementations of Hamiltonian Monte Carlo, i.e. implementations where the integration time is dynamic, do perform well over a large class of models their success is not guaranteed.  When they do fail, however, their failures manifest in diagnostics that are readily checked.\n\nBy acknowledging and respecting these diagnostics you can ensure that Stan is accurately fitting the Bayesian posterior and hence accurately characterizing your model.  And only with an accurate characterization of your model can you properly utilize its insights."
    },
    {
      "metadata": {},
      "cell_type": "markdown",
      "source": "## A Little Bit About Markov Chain Monte Carlo\n\nHamiltonian Monte Carlo is an implementation of Markov chain Monte Carlo, an algorithm which approximates expectations with respect to a given target distribution, $\\pi$,\n$$\n\\mathbb{E}_{\\pi} [ f ] = \\int \\mathrm{d}q \\, \\pi (q) \\, f(q),\n$$\nusing the states of a Markov chain, $\\{q_{0}, \\ldots, q_{N} \\}$,\n$$\n\\mathbb{E}_{\\pi} [ f ] \\approx\n\\hat{f}_{N} = \\frac{1}{N + 1} \\sum_{n = 0}^{N} f(q_{n}).\n$$\nTypically the target distribution is taken to be the posterior distribution of our specified model.\n\nThese estimators are guaranteed to be accurate only _asymptotically_,\nas the Markov chain grows to be infinitely long,\n$$\n\\lim_{N \\rightarrow \\infty} \\hat{f}_{N} = \\mathbb{E}_{\\pi} [ f ].\n$$\n\nTo be useful in applied analyses, we need these Markov chain Monte Carlo estimators to converge to the true expectation values sufficiently quickly that they are reasonably accurate\n_before_ we exhaust our finite computational resources.  This fast convergence\nrequires strong ergodicity conditions to hold, typically a condition called _geometric\nergodicity_ between the Markov transition and target distribution.  In particular, geometric\nergodicity is a sufficient condition for Markov chain Monte Carlo estimators to follow\na central limit theorem, which ensures not only that they are unbiased\nafter only a finite number of iterations but also that we can empirically\nquantify their precision,\n$$\n\\hat{f}_{N} - \\mathbb{E}_{\\pi} [ f ] \\sim \\mathcal{N} \\! \\left( 0, \\sqrt{ \\mathrm{Var}[f] / N_{\\mathrm{eff}}} \\right).\n$$\n\nUnfortunately proving geometric ergodicity theoretically is infeasible for\nany nontrivial problem.  Instead we must rely on empirical diagnostics that\nidentify _obstructions_ to geometric ergodicity, and hence well-behaved Markov chain Monte Carlo estimators.  For a general Markov transition and target distribution, the best\nknown diagnostic is the split $\\hat{R}$ statistic over an ensemble of Markov\nchains initialized from diffuse points in parameter space.  To do any better we\nneed to exploit the particular structure of a given transition or target\ndistribution.\n\nHamiltonian Monte Carlo, for example, is especially powerful in this regard as\nits failures to be geometrically ergodic with respect to any target distribution\nmanifest in distinct behaviors that have been developed into sensitive\ndiagnostics.  One of these behaviors is the appearance of _divergences_ that\nindicate the Hamiltonian Markov chain has encountered regions of high curvature\nin the target distribution which it cannot adequately explore.  Another is the _energy Bayesian fraction of missing information_, or E-BFMI, which quantifies the efficacy of the momentum resampling in between Hamiltonian trajectories.\n\nFor more details on Markov chain Monte Carlo and Hamiltonian Monte Carlo see \"A Conceptual Introduction to Hamiltonian Monte Carlo\" arXiv:1701.02434 (https://arxiv.org/abs/1701.02434).\n\nIn this case study I will demonstrate the recommended Stan workflow in Python where we not only fit a model but also scrutinize these diagnostics and ensure an accurate fit.\n"
    },
    {
      "metadata": {},
      "cell_type": "markdown",
      "source": "<font color='purple'>$\\bullet$ **Azure Notebooks tip:**  we have to install `pystan` every session </font>"
    },
    {
      "metadata": {
        "trusted": false
      },
      "cell_type": "code",
      "source": "!pip install pystan",
      "execution_count": 2,
      "outputs": [
        {
          "name": "stdout",
          "output_type": "stream",
          "text": "Collecting pystan\n\u001b[?25l  Downloading https://files.pythonhosted.org/packages/46/37/801a5a932e7f1f038542e7c5e4c4010aac19a26ea6bde9534505465f8c8c/pystan-2.17.1.0-cp36-cp36m-manylinux1_x86_64.whl (68.1MB)\n\u001b[K    100% |████████████████████████████████| 68.1MB 28kB/s  eta 0:00:01    37% |████████████                    | 25.3MB 5.1MB/s eta 0:00:09    45% |██████████████▍                 | 30.7MB 7.8MB/s eta 0:00:05    48% |███████████████▌                | 32.9MB 10.5MB/s eta 0:00:04    75% |████████████████████████        | 51.1MB 8.7MB/s eta 0:00:02��████████████▉| 67.7MB 32.2MB/s eta 0:00:01\n\u001b[?25hRequirement already satisfied: numpy>=1.7 in /home/nbuser/anaconda3_501/lib/python3.6/site-packages (from pystan) (1.14.5)\nRequirement already satisfied: Cython!=0.25.1,>=0.22 in /home/nbuser/anaconda3_501/lib/python3.6/site-packages (from pystan) (0.26.1)\nInstalling collected packages: pystan\nSuccessfully installed pystan-2.17.1.0\n"
        }
      ]
    },
    {
      "metadata": {},
      "cell_type": "markdown",
      "source": "## Setting Up The PyStan Environment\n\nWe begin by importing the PyStan module as well at the matplotlib module for basic graphics facilities."
    },
    {
      "metadata": {
        "trusted": false
      },
      "cell_type": "code",
      "source": "import pystan\nimport matplotlib\nimport matplotlib.pyplot as plot",
      "execution_count": 6,
      "outputs": []
    },
    {
      "metadata": {},
      "cell_type": "markdown",
      "source": "Unfortunately diagnostics are a bit ungainly to check in PyStan 2.16.0, so to facilitate the workflow I have included a utility module with some useful functions."
    },
    {
      "metadata": {},
      "cell_type": "markdown",
      "source": "<font color='purple'>$\\bullet$ **Azure Notebooks tip:**  add `Stan` folder to the path </font>"
    },
    {
      "metadata": {
        "trusted": false
      },
      "cell_type": "code",
      "source": "import sys\nsys.path.append('/home/nbuser/library/Stan/') # Final \"/\" is required!",
      "execution_count": 24,
      "outputs": []
    },
    {
      "metadata": {},
      "cell_type": "markdown",
      "source": "<font color='purple'>$\\bullet$ **Azure Notebooks tip:**  use **New File > From URL** to copy  `stan_utility.py`\n    https://github.com/betanalpha/jupyter_case_studies/blob/master/pystan_workflow/stan_utility.py </font>"
    },
    {
      "metadata": {
        "collapsed": true,
        "trusted": false
      },
      "cell_type": "code",
      "source": "import stan_utility\nhelp(stan_utility)",
      "execution_count": 26,
      "outputs": [
        {
          "name": "stdout",
          "output_type": "stream",
          "text": "Help on module stan_utility:\n\nNAME\n    stan_utility\n\nFUNCTIONS\n    check_all_diagnostics(fit)\n        Checks all MCMC diagnostics\n    \n    check_div(fit)\n        Check transitions that ended with a divergence\n    \n    check_energy(fit)\n        Checks the energy Bayesian fraction of missing information (E-BFMI)\n    \n    check_n_eff(fit)\n        Checks the effective sample size per iteration\n    \n    check_rhat(fit)\n        Checks the potential scale reduction factors\n    \n    check_treedepth(fit, max_depth=10)\n        Check transitions that ended prematurely due to maximum tree depth limit\n    \n    compile_model(filename, model_name=None, **kwargs)\n        This will automatically cache models - great if you're just running a\n        script on the command line.\n        \n        See http://pystan.readthedocs.io/en/latest/avoiding_recompilation.html\n    \n    partition_div(fit)\n        Returns parameter arrays separated into divergent and non-divergent transitions\n\nFILE\n    /home/nbuser/library/Stan/stan_utility.py\n\n\n"
        }
      ]
    },
    {
      "metadata": {
        "collapsed": true
      },
      "cell_type": "markdown",
      "source": "## Specifying and Fitting A Model in Stan\n\nTo demonstrate the recommended Stan workflow let's consider a hierarchical model of the eight schools dataset infamous in the statistical literature,\n\n$$\\mu \\sim \\mathcal{N}(0, 5)$$\n\n$$\\tau \\sim \\text{Half-Cauchy}(0, 5)$$\n\n$$\\theta_{n} \\sim \\mathcal{N}(\\mu, \\tau)$$\n\n$$y_{n} \\sim \\mathcal{N}(\\theta_{n}, \\sigma_{n}),$$\n\nwhere $n \\in \\left\\{1, \\ldots, 8 \\right\\}$ and the\n$\\left\\{ y_{n}, \\sigma_{n} \\right\\}$ are given as data. \n\nFor more information on the eight schools dataset see \"Bayesian Data Analysis\" by Gelman et al."
    },
    {
      "metadata": {},
      "cell_type": "markdown",
      "source": "### Specifying the Model with a Stan Program\n\nIn particular, let's implement a centered-parameterization of the model which is known to frustrate even sophisticated samplers like Hamiltonian Monte Carlo.  In Stan the centered parameterization is specified with the Stan program"
    },
    {
      "metadata": {},
      "cell_type": "markdown",
      "source": "<font color='purple'>$\\bullet$ **Azure Notebooks tip:**  use **New File > From URL** to copy `eight_schools_cp.stan`   \nSource: https://github.com/betanalpha/jupyter_case_studies/blob/master/pystan_workflow/eight_schools_cp.stan  </font>"
    },
    {
      "metadata": {
        "trusted": false
      },
      "cell_type": "code",
      "source": "with open('eight_schools_cp.stan', 'r') as file:\n    print(file.read())",
      "execution_count": 11,
      "outputs": [
        {
          "name": "stdout",
          "output_type": "stream",
          "text": "data {\n  int<lower=0> J;\n  real y[J];\n  real<lower=0> sigma[J];\n}\n\nparameters {\n  real mu;\n  real<lower=0> tau;\n  real theta[J];\n}\n\nmodel {\n  mu ~ normal(0, 5);\n  tau ~ cauchy(0, 5);\n  theta ~ normal(mu, tau);\n  y ~ normal(theta, sigma);\n}\n\n"
        }
      ]
    },
    {
      "metadata": {},
      "cell_type": "markdown",
      "source": "Note that we have specified the Stan program in its own file.  We strongly recommend keeping your workflow modular by separating the Stan program from the Python environment in this way.  Not only does it make it easier to identify and read through the Stan-specific components of your analysis, it also makes it easy to share your models Stan users exploiting workflows in environments, such as R and the command line.\n\nGiven the Stan program we then use the `compile_model` method of our `stan_utility` module to compile the Stan program into a C++ executable,"
    },
    {
      "metadata": {
        "trusted": false
      },
      "cell_type": "code",
      "source": "model = stan_utility.compile_model('eight_schools_cp.stan')",
      "execution_count": 27,
      "outputs": [
        {
          "name": "stderr",
          "output_type": "stream",
          "text": "INFO:pystan:COMPILING THE C++ CODE FOR MODEL anon_model_71b609c34d59a40b345b5328a36dbb39 NOW.\n"
        }
      ]
    },
    {
      "metadata": {},
      "cell_type": "markdown",
      "source": "This is not technically necessary, but it allows us to cache the executable and run this model with Stan multiple times without having to recompile between each run."
    },
    {
      "metadata": {},
      "cell_type": "markdown",
      "source": "### Specifying the Data\n\nSimilarly, we strongly recommend that you specify the data in its own file.  \n\nData specified in a Python dictionary can be immediately converted to an external Stan data file using PyStan's `stan_rdump` function,"
    },
    {
      "metadata": {
        "trusted": false
      },
      "cell_type": "code",
      "source": "data = dict(J = 8, y = [28,  8, -3,  7, -1,  1, 18, 12], \n            sigma = [15, 10, 16, 11,  9, 11, 10, 18])\n\npystan.stan_rdump(data, 'eight_schools.data.R')",
      "execution_count": 28,
      "outputs": []
    },
    {
      "metadata": {},
      "cell_type": "markdown",
      "source": "At the same time, an existing Stan data file can be read into the Python environment using the `read_rdump` function,"
    },
    {
      "metadata": {
        "trusted": false
      },
      "cell_type": "code",
      "source": "data = pystan.read_rdump('eight_schools.data.R')",
      "execution_count": 29,
      "outputs": []
    },
    {
      "metadata": {},
      "cell_type": "markdown",
      "source": "### Fitting the Model\n\nWith the model and data specified we can now turn to Stan to quantify the resulting posterior distribution with Hamiltonian Monte Carlo,"
    },
    {
      "metadata": {
        "trusted": false
      },
      "cell_type": "code",
      "source": "fit = model.sampling(data=data, seed=194838)",
      "execution_count": 30,
      "outputs": []
    },
    {
      "metadata": {},
      "cell_type": "markdown",
      "source": "We recommend explicitly specifying the seed of Stan's random number generator, as we have done here, so that we can reproduce these exactly results in the future, at least when using the same machine, operating system, and interface.  This is especially helpful for the more subtle pathologies that may not always be found, which results in seemingly stochastic behavior.\n\nBy default the `sampling` method runs 4 Markov chains of Hamiltonian Monte Carlo in parallel, each initialized from a diffuse initial condition to maximize the probability that at least one of the chains might encounter a pathological neighborhood of the posterior, if it exists.\nEach of those chains proceeds with 1000 warmup iterations and 1000 sampling iterations, totaling 4000 sampling iterations available for diagnostics and analysis."
    },
    {
      "metadata": {},
      "cell_type": "markdown",
      "source": "## Validating a Fit in Stan\n\nWe are now ready to validate the fit programmatically using information contained in the `fit` object.\n\nThe first diagnostics we will check are universal to Markov chain Monte Carlo:\neffective sample size per iteration and split $\\hat{R}$.  We will then consider\na suite of powerful diagnostics that are unique to Hamiltonian Monte Carlo.\n"
    },
    {
      "metadata": {},
      "cell_type": "markdown",
      "source": "### Universal Diagnostics\n\nThe effective sample size, or `n_eff`, and split $\\hat{R}$, or `rhat`, for\neach parameter is displayed using the `print` method of the `fit` object,"
    },
    {
      "metadata": {
        "scrolled": true,
        "trusted": false
      },
      "cell_type": "code",
      "source": "print(fit)",
      "execution_count": 31,
      "outputs": [
        {
          "name": "stdout",
          "output_type": "stream",
          "text": "Inference for Stan model: anon_model_71b609c34d59a40b345b5328a36dbb39.\n4 chains, each with iter=2000; warmup=1000; thin=1; \npost-warmup draws per chain=1000, total post-warmup draws=4000.\n\n           mean se_mean     sd   2.5%    25%    50%    75%  97.5%  n_eff   Rhat\nmu         4.42    0.14   2.99  -1.71   2.67   4.61   5.92  10.36    458   1.01\ntau        3.43    0.45   3.11   0.55   1.29   2.46   4.56  11.45     47   1.08\ntheta[0]   6.06    0.22   5.24  -2.86   3.05   5.72   8.22  19.27    561    1.0\ntheta[1]   4.87    0.13    4.4   -4.3   2.47   4.96   7.09  14.82   1205    1.0\ntheta[2]   3.88    0.15    4.9  -7.38   1.66   4.62   6.27  12.76   1019   1.01\ntheta[3]   4.76    0.13    4.4  -4.44   2.41   4.95   6.95  14.09   1187    1.0\ntheta[4]   3.75    0.15   4.25  -5.75   1.58   4.26    5.9  11.66    856   1.01\ntheta[5]   3.99    0.14   4.55  -6.37   1.84   4.46   6.16  12.58   1124   1.01\ntheta[6]   6.19     0.2   4.75  -2.17    3.4    5.7   8.47  17.25    550    1.0\ntheta[7]   4.91    0.16   4.92  -5.18   2.22   5.14   7.16  15.65   1004   1.01\nlp__     -13.54    1.84   6.88 -25.99 -18.56 -13.76  -9.06  -0.89     14   1.31\n\nSamples were drawn using NUTS at Mon Jul 16 20:15:56 2018.\nFor each parameter, n_eff is a crude measure of effective sample size,\nand Rhat is the potential scale reduction factor on split chains (at \nconvergence, Rhat=1).\n"
        }
      ]
    },
    {
      "metadata": {},
      "cell_type": "markdown",
      "source": "We can investigate each more programatically, however, using some of our\nutility functions."
    },
    {
      "metadata": {},
      "cell_type": "markdown",
      "source": "#### Checking Split $\\hat{R}$ and Effective Sample Sizes\n\nAs noted in Section 1, the effective sample size quantifies the accuracy\nof the Markov chain Monte Carlo estimator of a given function, here each\nparameter mean, provided that geometric ergodicity holds.  The potential\nproblem with these effective sample sizes, however, is that we must\n_estimate_ them from the fit output.  When we geneate less than 0.001\neffective samples per transition of the Markov chain the estimators that\nwe use are typically biased and can significantly overestimate the true\neffective sample size.\n\nWe can check that our effective sample size per iteration is large enough\nwith one of our utility functions,"
    },
    {
      "metadata": {
        "trusted": false
      },
      "cell_type": "code",
      "source": "stan_utility.check_n_eff(fit)",
      "execution_count": 32,
      "outputs": [
        {
          "name": "stdout",
          "output_type": "stream",
          "text": "n_eff / iter looks reasonable for all parameters\n"
        }
      ]
    },
    {
      "metadata": {},
      "cell_type": "markdown",
      "source": "Here there are no indications of problems in our estimates of the effective\nsample size."
    },
    {
      "metadata": {},
      "cell_type": "markdown",
      "source": "#### Checking Split $\\hat{R}$\n\nThe effective sample size, however, is meaningless unless our Markov chain\nand target distribution interact sufficiently well that geometric ergodicity\nholds.  Split $\\hat{R}$ quantifies an important necessary condition for\ngeometric ergodicity, namely that all chains must converge to the same\nequilibrium behavior.\n\nIf the input Markov chains have the same behavior for a given parameter then\nthe corresponding split $\\hat{R}$ will be close to 1.  The further split\n$\\hat{R}$ is from 1 the more idiosyncraticly the chains behave.  Empirically\nwe have found that `Rhat > 1.1` is usually indicative of problems in the fit.\n\nIn addition to browsing the `print` output, we can check split $\\hat{R}$\nprogrammatically using one of our utility functions,"
    },
    {
      "metadata": {
        "trusted": false
      },
      "cell_type": "code",
      "source": "stan_utility.check_rhat(fit)",
      "execution_count": 33,
      "outputs": [
        {
          "name": "stdout",
          "output_type": "stream",
          "text": "Rhat for parameter lp__ is 1.3130366644748592!\n  Rhat above 1.1 indicates that the chains very likely have not mixed\n"
        }
      ]
    },
    {
      "metadata": {},
      "cell_type": "markdown",
      "source": "Here the split $\\hat{R}$ for all of our parameters except for the unnormalized log posterior density, `lp__`,  looks good.\n\nBoth large split $\\hat{R}$ and low effective sample size per iteration are\nconsequences of poorly mixing Markov chains.  Improving the mixing of the\nMarkov chains almost always requires tweaking the model specification, for\nexample with a reparameterization or stronger priors."
    },
    {
      "metadata": {},
      "cell_type": "markdown",
      "source": "### Hamiltonian Monte Carlo Diagnostics\n\nOne of the most powerful features of Hamiltonian Monte Carlo is that it\nprovides additional diagnostics that can indicate problems with the fit.\nThese diagnostics are extremely sensitive and typically indicate problems\nlong before the arise in the more universal diagnostics considered above."
    },
    {
      "metadata": {},
      "cell_type": "markdown",
      "source": "\n#### Checking the Tree Depth\n\nThe dynamic implementation of Hamiltonian Monte Carlo used in Stan has a maximum trajectory length built in to avoid infinite loops that can occur for non-identified models.  For sufficiently complex models, however, Stan can saturate this threshold even if the model is identified, which limits the efficacy of the sampler.  \n\nWe can check whether that threshold was hit using one of our utility functions,"
    },
    {
      "metadata": {
        "trusted": false
      },
      "cell_type": "code",
      "source": "stan_utility.check_treedepth(fit)",
      "execution_count": 34,
      "outputs": [
        {
          "name": "stdout",
          "output_type": "stream",
          "text": "0 of 4000 iterations saturated the maximum tree depth of 10 (0.0%)\n"
        }
      ]
    },
    {
      "metadata": {},
      "cell_type": "markdown",
      "source": "We're good here, but if our fit had saturated the threshold then we would have wanted to rerun with a larger maximum tree depth,"
    },
    {
      "metadata": {
        "collapsed": true
      },
      "cell_type": "markdown",
      "source": "`fit = model.sampling(data=data, seed=194838, control=dict(max_treedepth=15))`"
    },
    {
      "metadata": {},
      "cell_type": "markdown",
      "source": "and then check if still saturated this larger threshold with"
    },
    {
      "metadata": {
        "collapsed": true
      },
      "cell_type": "markdown",
      "source": "`stan_utility.check_treedepth(fit, 15)`"
    },
    {
      "metadata": {},
      "cell_type": "markdown",
      "source": "#### Checking the E-BFMI\n\nHamiltonian Monte Carlo proceeds in two phases -- the algorithm first simulates a Hamiltonian trajectory that rapidly explores a slice of the target parameter space before resampling the auxiliary momenta to allow the next trajectory to explore another slice of the target parameter space.  Unfortunately, the jumps between these slices induced by the momenta resamplings can be short, which often leads to slow exploration.  \n\nWe can identify this problem by consulting the energy Bayesian Fraction of Missing Information,"
    },
    {
      "metadata": {
        "trusted": false
      },
      "cell_type": "code",
      "source": "stan_utility.check_energy(fit)",
      "execution_count": 35,
      "outputs": [
        {
          "name": "stdout",
          "output_type": "stream",
          "text": "Chain 2: E-BFMI = 0.16387925922180246\n  E-BFMI below 0.2 indicates you may need to reparameterize your model\n"
        }
      ]
    },
    {
      "metadata": {},
      "cell_type": "markdown",
      "source": "The `stan_utility` module uses the threshold of 0.2 to diagnose problems, although this is based on preliminary empirical studies and should be taken only as a very rough recommendation.  In particular, this diagnostic comes out of recent theoretical work and will be better understood as we apply it to more and more problems.  For further discussion see Section 4.2 and 6.1 of \"A Conceptual Introduction to Hamiltonian Monte Carlo\" arXiv:1701.02434 (https://arxiv.org/abs/1701.02434).\n\nAs with split $\\hat{R}$ and effective sample size per transition, the problems indicated by low E-BFMI are remedied by tweaking the specification of the model.  Unfortunately the exact tweaks required depend on the exact structure of the model and, consequently, there are no generic solutions."
    },
    {
      "metadata": {},
      "cell_type": "markdown",
      "source": "#### Checking Divergences\n\nFinally, we can check divergences which indicate pathological neighborhoods of the posterior that the simulated Hamiltonian trajectories are not able to explore sufficiently well.  For this fit we have a significant number of divergences"
    },
    {
      "metadata": {
        "trusted": false
      },
      "cell_type": "code",
      "source": "stan_utility.check_div(fit)",
      "execution_count": 19,
      "outputs": [
        {
          "name": "stdout",
          "output_type": "stream",
          "text": "202.0 of 4000 iterations ended with a divergence (5.05%)\n  Try running with larger adapt_delta to remove the divergences\n"
        }
      ]
    },
    {
      "metadata": {},
      "cell_type": "markdown",
      "source": "indicating that the Markov chains did not completely explore the posterior and that our Markov chain Monte Carlo estimators will be biased.\n\nDivergences, however, can sometimes be false positives.  To verify that we have real fitting issues we can rerun with a larger target acceptance probability, `adapt_delta`, which will force more accurate simulations of Hamiltonian trajectories and reduce the false positives."
    },
    {
      "metadata": {
        "collapsed": true,
        "trusted": false
      },
      "cell_type": "code",
      "source": "fit = model.sampling(data=data, seed=194838, control=dict(adapt_delta=0.9))",
      "execution_count": 20,
      "outputs": []
    },
    {
      "metadata": {},
      "cell_type": "markdown",
      "source": "Checking again,"
    },
    {
      "metadata": {
        "scrolled": true,
        "trusted": false
      },
      "cell_type": "code",
      "source": "sampler_params = fit.get_sampler_params(inc_warmup=False)\nstan_utility.check_div(fit)",
      "execution_count": 21,
      "outputs": [
        {
          "name": "stdout",
          "output_type": "stream",
          "text": "45.0 of 4000 iterations ended with a divergence (1.125%)\n  Try running with larger adapt_delta to remove the divergences\n"
        }
      ]
    },
    {
      "metadata": {},
      "cell_type": "markdown",
      "source": "we see that while the divergences were reduced they did not completely vanish.  In order to argue that divergences are only false positives, the divergences have to be completely eliminated for some `adapt_delta` sufficiently close to 1.  Here we could continue increasing `adapt_delta`, where we would see that the divergences do not completely vanish, or we can analyze the existing divergences graphically.\n\nIf the divergences are not false positives then they will tend to concentrate in the pathological neighborhoods of the posterior.  Falsely positive divergent iterations, however, will follow the same distribution as non-divergent iterations.\n\nHere we will use the `partition_div` function of the `stan_utility` module to separate divergence and non-divergent iterations, but note that this function works only if your model parameters are reals, vectors, or arrays of reals.  More robust functionality is planned for future releases of PyStan."
    },
    {
      "metadata": {
        "scrolled": true,
        "trusted": false
      },
      "cell_type": "code",
      "source": "light=\"#DCBCBC\"\nlight_highlight=\"#C79999\"\nmid=\"#B97C7C\"\nmid_highlight=\"#A25050\"\ndark=\"#8F2727\"\ndark_highlight=\"#7C0000\"\ngreen=\"#00FF00\"\n\nnondiv_params, div_params = stan_utility.partition_div(fit)\n\nplot.scatter([x[0] for x in nondiv_params['theta']], nondiv_params['tau'], \\\n             color = mid_highlight, alpha=0.05)\nplot.scatter([x[0] for x in div_params['theta']], div_params['tau'], \\\n             color = green, alpha=0.5)\n\nplot.gca().set_xlabel(\"theta_1\")\nplot.gca().set_ylabel(\"tau\")\n\nplot.show()",
      "execution_count": 22,
      "outputs": [
        {
          "name": "stderr",
          "output_type": "stream",
          "text": "WARNING:root:`dtypes` ignored when `permuted` is False.\n"
        },
        {
          "data": {
            "image/png": "[encoded data removed]",
            "text/plain": "<matplotlib.figure.Figure at 0x110083dd0>"
          },
          "metadata": {},
          "output_type": "display_data"
        }
      ]
    },
    {
      "metadata": {},
      "cell_type": "markdown",
      "source": "One of the challenges with a visual analysis of divergences is determining exactly which parameters to examine.  Consequently visual analyses are most useful when there are already components of the model about which you are suspicious, as in this case where we know that the correlation between random effects (`theta_1` through `theta_8`) and the hierarchical standard deviation, `tau`, can be problematic.\n\nIndeed we see the divergences clustering towards small values of tau where the posterior abruptly stops.  This abrupt stop is indicative of a transition into a pathological neighborhood that Stan was not able to penetrate.\n\nIn order to avoid this issue we have to consider a modification to our model, and in this case we can appeal to a _non-centered parameterization_ of the same model that does not suffer these issues."
    },
    {
      "metadata": {},
      "cell_type": "markdown",
      "source": "## A Successful Fit\n\nMultiple diagnostics have indicated that our fit of the centered parameterization of our hierarchical model is not to be trusted, so let's instead consider the complementary non-centered parameterization,"
    },
    {
      "metadata": {
        "trusted": false
      },
      "cell_type": "code",
      "source": "with open('eight_schools_ncp.stan', 'r') as file:\n    print(file.read())",
      "execution_count": 23,
      "outputs": [
        {
          "name": "stdout",
          "output_type": "stream",
          "text": "data {\n  int<lower=0> J;\n  real y[J];\n  real<lower=0> sigma[J];\n}\n\nparameters {\n  real mu;\n  real<lower=0> tau;\n  real theta_tilde[J];\n}\n\ntransformed parameters {\n  real theta[J];\n  for (j in 1:J)\n    theta[j] = mu + tau * theta_tilde[j];\n}\n\nmodel {\n  mu ~ normal(0, 5);\n  tau ~ cauchy(0, 5);\n  theta_tilde ~ normal(0, 1);\n  y ~ normal(theta, sigma);\n}\n\n"
        }
      ]
    },
    {
      "metadata": {
        "trusted": false
      },
      "cell_type": "code",
      "source": "model = stan_utility.compile_model('eight_schools_ncp.stan')\nfit = model.sampling(data=data, seed=194838)",
      "execution_count": 24,
      "outputs": [
        {
          "name": "stdout",
          "output_type": "stream",
          "text": "Using cached StanModel\n"
        }
      ]
    },
    {
      "metadata": {
        "trusted": false
      },
      "cell_type": "code",
      "source": "stan_utility.check_all_diagnostics(fit)",
      "execution_count": 25,
      "outputs": [
        {
          "name": "stdout",
          "output_type": "stream",
          "text": "n_eff / iter looks reasonable for all parameters\nRhat looks reasonable for all parameters\n0.0 of 4000 iterations ended with a divergence (0.0%)\n0 of 4000 iterations saturated the maximum tree depth of 10 (0%)\nE-BFMI indicated no pathological behavior\n"
        }
      ]
    },
    {
      "metadata": {},
      "cell_type": "markdown",
      "source": "With this more appropriate implementation of our model all of the diagnostics are clean and we can now utilize Markov chain Monte Carlo estimators of expectations, such as parameter means and variances, to accurately characterize our model's posterior distribution."
    },
    {
      "metadata": {},
      "cell_type": "markdown",
      "source": "## Acknowledgements\n\nI thank Sean Talts for helping to make the functions in `stan_utility` more Pythonic and compatible with both Python 2 and Python 3, and Sean Talts and Maggie Lieu for helpful comments on the notebook."
    },
    {
      "metadata": {
        "collapsed": true,
        "trusted": false
      },
      "cell_type": "code",
      "source": "",
      "execution_count": null,
      "outputs": []
    }
  ],
  "metadata": {
    "anaconda-cloud": {},
    "kernelspec": {
      "name": "python36",
      "display_name": "Python 3.6",
      "language": "python"
    },
    "language_info": {
      "mimetype": "text/x-python",
      "nbconvert_exporter": "python",
      "name": "python",
      "pygments_lexer": "ipython3",
      "version": "3.6.6",
      "file_extension": ".py",
      "codemirror_mode": {
        "version": 3,
        "name": "ipython"
      }
    }
  },
  "nbformat": 4,
  "nbformat_minor": 1
}