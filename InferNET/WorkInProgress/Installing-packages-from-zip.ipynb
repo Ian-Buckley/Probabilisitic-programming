{
  "cells": [
    {
      "metadata": {
        "slideshow": {
          "slide_type": "slide"
        }
      },
      "cell_type": "markdown",
      "source": "# Installing packages from zip"
    },
    {
      "metadata": {},
      "cell_type": "markdown",
      "source": "This is no longer necessary for Infer.NET since it was put on github. Note the change of namespace."
    },
    {
      "metadata": {
        "slideshow": {
          "slide_type": "subslide"
        }
      },
      "cell_type": "markdown",
      "source": "## Load & open packages"
    },
    {
      "metadata": {},
      "cell_type": "markdown",
      "source": "Latest download from:   \nhttp://infernet.azurewebsites.net/download.aspx    \nhttps://www.microsoft.com/en-us/download/details.aspx?id=52476    \nInfer.NET 2.7 March 2018"
    },
    {
      "metadata": {},
      "cell_type": "markdown",
      "source": "### Unzip full distribution to the file system"
    },
    {
      "metadata": {},
      "cell_type": "markdown",
      "source": "This solution due to Tomas Petricek.  \nFirst, download the ZIP file release:  \n(From https://www.microsoft.com/en-us/download/confirmation.aspx?id=52476)"
    },
    {
      "metadata": {
        "trusted": true
      },
      "cell_type": "code",
      "source": "let wc = new System.Net.WebClient()\nwc.DownloadFile(\n    \"https://download.microsoft.com/download/D/C/4/DC44E915-26FE-48AB-BD7C-AC1D92B23230/Infer.NET%202.7.1803.1901.zip\", \n    \"/home/nbuser/IfSharp/bin/packages/infer.zip\")\n//Now, unzip it – we could get .NET ZipFile to do this, but invoking the Linux command line tools works.\nopen System.Diagnostics\nlet ps = \n    ProcessStartInfo(\n        FileName=\"unzip\", \n        Arguments=\"/home/nbuser/IfSharp/bin/packages/infer.zip -d /home/nbuser/IfSharp/bin/packages/infer\",\n        RedirectStandardOutput=true,UseShellExecute=false)\nlet p = Process.Start(ps)\np.StandardOutput.ReadToEnd()",
      "execution_count": null,
      "outputs": []
    },
    {
      "metadata": {
        "trusted": true
      },
      "cell_type": "code",
      "source": "#I \"/home/nbuser/IfSharp/bin/packages/infer/Bin/\"\n#r \"Infer.FSharp\"\n#r \"Infer.Runtime\"\n#r \"Infer.Compiler\"",
      "execution_count": null,
      "outputs": []
    },
    {
      "metadata": {
        "trusted": true
      },
      "cell_type": "code",
      "source": "open System\nopen MicrosoftResearch.Infer\nopen MicrosoftResearch.Infer.Models\nopen MicrosoftResearch.Infer.Distributions\nopen MicrosoftResearch.Infer.Factors\nopen MicrosoftResearch.Infer.FSharp\nopen MicrosoftResearch.Infer.FSharp.Variable",
      "execution_count": null,
      "outputs": []
    }
  ],
  "metadata": {
    "kernelspec": {
      "name": "ifsharp",
      "display_name": "F#",
      "language": "fsharp"
    },
    "language": "fsharp",
    "language_info": {
      "mimetype": "text/x-fsharp",
      "nbconvert_exporter": "",
      "name": "fsharp",
      "pygments_lexer": "",
      "version": "4.3.1.0",
      "file_extension": ".fs",
      "codemirror_mode": ""
    }
  },
  "nbformat": 4,
  "nbformat_minor": 2
}