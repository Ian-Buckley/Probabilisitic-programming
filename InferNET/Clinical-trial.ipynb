{
 "cells": [
  {
   "cell_type": "markdown",
   "metadata": {},
   "source": [
    "# Clinical trial"
   ]
  },
  {
   "cell_type": "markdown",
   "metadata": {},
   "source": [
    "[This tutorial](https://dotnet.github.io/infer/userguide/Clinical%20trial%20tutorial.html) shows how to do Bayesian model selection in Infer.NET to determine if a new medical treatment is effective. We will construct two models, corresponding to an effective or ineffective treatment, and use model selection to determine the posterior probability of each, given some fictional clinical trial data."
   ]
  },
  {
   "cell_type": "markdown",
   "metadata": {},
   "source": [
    "This has been updated in Oct 2018 (post Infer.NET open source launch!) to use: \n",
    "* the Paket dependency manager to get the package(s) from nuget\n",
    "* Paket to get the `FSharpWrapper` from github\n",
    "* the revised namespace `Microsoft.ML.Probabilistic` (was `MicrosoftResearch.Infer`)"
   ]
  },
  {
   "cell_type": "markdown",
   "metadata": {},
   "source": [
    "[`FSharpWrapper` tutorial examples](https://dotnet.github.io/infer/userguide/FSharp%20Wrapper.html) include:\n",
    "* TwoCoins\n",
    "* TruncatedGaussian\n",
    "* GaussianRanges\n",
    "* ClinicalTrial\n",
    "* BayesPoint\n",
    "* MixtureGaussians"
   ]
  },
  {
   "cell_type": "markdown",
   "metadata": {
    "slideshow": {
     "slide_type": "slide"
    }
   },
   "source": [
    "### Links\n",
    "http://infernet.azurewebsites.net/default.aspx    \n",
    "https://dotnet.github.io/infer/userguide/Clinical%20trial.html   \n",
    "https://dotnet.github.io/infer/userguide/Clinical%20trial%20tutorial.html   "
   ]
  },
  {
   "cell_type": "markdown",
   "metadata": {
    "slideshow": {
     "slide_type": "subslide"
    }
   },
   "source": [
    "## Load & open packages"
   ]
  },
  {
   "cell_type": "markdown",
   "metadata": {},
   "source": [
    "https://fsprojects.github.io/Paket/"
   ]
  },
  {
   "cell_type": "markdown",
   "metadata": {},
   "source": [
    "Packages in F# can be installed via `nuget.org` using the Paket dependency manager.\n",
    "To install packages from NuGet you should first load the Packet package manager:"
   ]
  },
  {
   "cell_type": "code",
   "execution_count": 1,
   "metadata": {},
   "outputs": [],
   "source": [
    "#load \"Paket.fsx\""
   ]
  },
  {
   "cell_type": "markdown",
   "metadata": {},
   "source": [
    "You can then have Paket install the packages:"
   ]
  },
  {
   "cell_type": "code",
   "execution_count": 21,
   "metadata": {},
   "outputs": [],
   "source": [
    "Paket.Package\n",
    "  [   // \"Infer.NET\" (pre Oct 2018 namespace)\n",
    "      \"Microsoft.ML.Probabilistic\"\n",
    "      \"Microsoft.ML.Probabilistic.Compiler\"\n",
    "      //\"Microsoft.ML.Probabilistic.FSharp\"  // Not on nuget, yet?\n",
    "      \"NETStandard.Library\" // Necessary??\n",
    "  ]"
   ]
  },
  {
   "cell_type": "code",
   "execution_count": 22,
   "metadata": {},
   "outputs": [],
   "source": [
    "#load \"Paket.Generated.Refs.fsx\"  // Do we need this?"
   ]
  },
  {
   "cell_type": "markdown",
   "metadata": {},
   "source": [
    "### `FSharpWrapper`"
   ]
  },
  {
   "cell_type": "markdown",
   "metadata": {},
   "source": [
    "See  https://github.com/dotnet/infer/blob/master/src/FSharpWrapper/FSharpWrapper.fs   \n",
    "https://github.com/fsprojects/IfSharp/issues/146 (Thanks for help, Colin Gravill!)   \n",
    "https://fsprojects.github.io/Paket/github-dependencies.html"
   ]
  },
  {
   "cell_type": "code",
   "execution_count": 5,
   "metadata": {},
   "outputs": [],
   "source": [
    "Paket.GitHub [\"dotnet/infer src/FSharpWrapper/FSharpWrapper.fs\"]"
   ]
  },
  {
   "cell_type": "code",
   "execution_count": 4,
   "metadata": {
    "scrolled": true
   },
   "outputs": [],
   "source": [
    "// #load \"/home/nbuser/IfSharp/bin/paket-files/github/dotnet/infer/src/FSharpWrapper/FSharpWrapper.fs\" // Run later."
   ]
  },
  {
   "cell_type": "markdown",
   "metadata": {},
   "source": [
    "### Check `paket` files"
   ]
  },
  {
   "cell_type": "code",
   "execution_count": 9,
   "metadata": {},
   "outputs": [],
   "source": [
    "open System.IO"
   ]
  },
  {
   "cell_type": "markdown",
   "metadata": {},
   "source": [
    "Project dependencies file:"
   ]
  },
  {
   "cell_type": "code",
   "execution_count": null,
   "metadata": {},
   "outputs": [],
   "source": [
    "File.ReadAllText(@\"../../IfSharp/bin/paket.dependencies\")"
   ]
  },
  {
   "cell_type": "markdown",
   "metadata": {},
   "source": [
    "The `paket install` command will analyze your dependencies and automatically generate a `paket.lock` file:"
   ]
  },
  {
   "cell_type": "code",
   "execution_count": null,
   "metadata": {},
   "outputs": [],
   "source": [
    "File.ReadAllText(@\"../../IfSharp/bin/paket.lock\")"
   ]
  },
  {
   "cell_type": "markdown",
   "metadata": {},
   "source": [
    "### Assembly search paths and references"
   ]
  },
  {
   "cell_type": "code",
   "execution_count": 7,
   "metadata": {},
   "outputs": [],
   "source": [
    "#I \"/home/nbuser/IfSharp/bin/packages/Microsoft.ML.Probabilistic/lib/netstandard2.0\"\n",
    "#I \"/home/nbuser/IfSharp/bin/packages/Microsoft.ML.Probabilistic/lib/netstandard2.0\"\n",
    "#I \"/home/nbuser/IfSharp/bin/packages/Microsoft.ML.Probabilistic.Compiler/lib/netstandard2.0\""
   ]
  },
  {
   "cell_type": "code",
   "execution_count": 8,
   "metadata": {},
   "outputs": [],
   "source": [
    "#r \"Microsoft.ML.Probabilistic\"\n",
    "#r \"Microsoft.ML.Probabilistic.Compiler\"\n",
    "#r \"netstandard\""
   ]
  },
  {
   "cell_type": "markdown",
   "metadata": {},
   "source": [
    "### Import declarations for modules or namespaces "
   ]
  },
  {
   "cell_type": "code",
   "execution_count": 10,
   "metadata": {},
   "outputs": [],
   "source": [
    "open System"
   ]
  },
  {
   "cell_type": "code",
   "execution_count": 14,
   "metadata": {},
   "outputs": [],
   "source": [
    "open Microsoft.ML.Probabilistic  \n",
    "open Microsoft.ML.Probabilistic.Algorithms \n",
    "open Microsoft.ML.Probabilistic.Models  \n",
    "open Microsoft.ML.Probabilistic.Distributions  \n",
    "open Microsoft.ML.Probabilistic.Factors  \n",
    "open Microsoft.ML.Probabilistic.Math"
   ]
  },
  {
   "cell_type": "code",
   "execution_count": 12,
   "metadata": {
    "scrolled": true
   },
   "outputs": [],
   "source": [
    "#load \"/home/nbuser/IfSharp/bin/paket-files/github/dotnet/infer/src/FSharpWrapper/FSharpWrapper.fs\""
   ]
  },
  {
   "cell_type": "code",
   "execution_count": 13,
   "metadata": {},
   "outputs": [],
   "source": [
    "open Microsoft.ML.Probabilistic.FSharp"
   ]
  },
  {
   "cell_type": "markdown",
   "metadata": {},
   "source": [
    "## Infer.NET: F# script for clinical trial example  "
   ]
  },
  {
   "cell_type": "markdown",
   "metadata": {},
   "source": [
    "### Data from a clinical trial  "
   ]
  },
  {
   "cell_type": "code",
   "execution_count": 15,
   "metadata": {},
   "outputs": [],
   "source": [
    "let controlGroup = Variable.Observed<bool>([|false; false; true; false; false|])\n",
    "let treatedGroup = Variable.Observed<bool>([|true; false; true; true; true |])\n",
    "let i = controlGroup.Range\n",
    "let j = treatedGroup.Range"
   ]
  },
  {
   "cell_type": "markdown",
   "metadata": {},
   "source": [
    "### Prior on being an effective treatment"
   ]
  },
  {
   "cell_type": "code",
   "execution_count": 16,
   "metadata": {},
   "outputs": [],
   "source": [
    "let isEffective = Variable.Bernoulli(0.5).Named(\"isEffective\");\n",
    "let probIfTreated = ref (Variable.New<float>())\n",
    "let probIfControl = ref (Variable.New<float>())"
   ]
  },
  {
   "cell_type": "markdown",
   "metadata": {},
   "source": [
    "#### `If` block"
   ]
  },
  {
   "cell_type": "markdown",
   "metadata": {},
   "source": [
    "[Imperative Statement Blocks in F#](https://dotnet.github.io/infer/userguide/Imperative%20Statement%20Blocks%20in%20FSharp.html)     \n",
    "[Branching on variables to create mixture models](https://dotnet.github.io/infer/userguide/Branching%20on%20variables%20to%20create%20mixture%20models.html)  "
   ]
  },
  {
   "cell_type": "code",
   "execution_count": 17,
   "metadata": {},
   "outputs": [],
   "source": [
    "let f1 (vb1: Variable<bool>) = \n",
    "    probIfControl := Variable.Beta(1.0, 1.0).Named(\"probIfControl\") \n",
    "    let controlGroup = Variable.AssignVariableArray \n",
    "                           controlGroup i (fun i ->Variable.Bernoulli(!probIfControl))\n",
    "    probIfTreated := Variable.Beta(1.0, 1.0).Named(\"probIfTreated\")\n",
    "    let treatedGroup = Variable.AssignVariableArray \n",
    "                           treatedGroup j (fun j ->Variable.Bernoulli(!probIfTreated))\n",
    "    ()"
   ]
  },
  {
   "cell_type": "markdown",
   "metadata": {},
   "source": [
    "#### `IfNot` block function"
   ]
  },
  {
   "cell_type": "code",
   "execution_count": 18,
   "metadata": {},
   "outputs": [],
   "source": [
    "let f2 (vb2: Variable<bool>) = \n",
    "    let probAll = Variable.Beta(1.0, 1.0).Named(\"probAll\") \n",
    "    let controlGroup = Variable.AssignVariableArray\n",
    "                           controlGroup i (fun i ->Variable.Bernoulli(probAll))\n",
    "    let treatedGroup = Variable.AssignVariableArray\n",
    "                           treatedGroup j (fun j ->Variable.Bernoulli(probAll))\n",
    "    ()"
   ]
  },
  {
   "cell_type": "markdown",
   "metadata": {},
   "source": [
    "### The model"
   ]
  },
  {
   "cell_type": "code",
   "execution_count": 19,
   "metadata": {},
   "outputs": [],
   "source": [
    "Variable.IfBlock isEffective f1 f2"
   ]
  },
  {
   "cell_type": "markdown",
   "metadata": {},
   "source": [
    "### The inference"
   ]
  },
  {
   "cell_type": "code",
   "execution_count": 20,
   "metadata": {},
   "outputs": [
    {
     "data": {
      "text/plain": [
       "Compiling model...done.\n",
       "Probability treatment has an effect = Bernoulli(0.7549)\n",
       "Probability of good outcome if given treatment = 0.7142857143\n",
       "Probability of good outcome if control = 0.2857142857\n"
      ]
     },
     "metadata": {},
     "output_type": "display_data"
    }
   ],
   "source": [
    "let ie = InferenceEngine()\n",
    "printfn \"Probability treatment has an effect = %A\" (ie.Infer<Bernoulli>(isEffective))\n",
    "let probIfTreatedPost = ie.Infer<Beta>(!probIfTreated)\n",
    "let probIfControlPost = ie.Infer<Beta>(!probIfControl)\n",
    "printfn \"Probability of good outcome if given treatment = %A\" (probIfTreatedPost.GetMean())\n",
    "printfn \"Probability of good outcome if control = %A\" (probIfControlPost.GetMean())"
   ]
  }
 ],
 "metadata": {
  "kernelspec": {
   "display_name": "F#",
   "language": "fsharp",
   "name": "ifsharp"
  },
  "language": "fsharp",
  "language_info": {
   "codemirror_mode": "",
   "file_extension": ".fs",
   "mimetype": "text/x-fsharp",
   "name": "fsharp",
   "nbconvert_exporter": "",
   "pygments_lexer": "",
   "version": "4.3.1.0"
  }
 },
 "nbformat": 4,
 "nbformat_minor": 2
}
