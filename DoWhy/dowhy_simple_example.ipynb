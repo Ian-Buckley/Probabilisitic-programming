{
  "cells": [
    {
      "metadata": {
        "heading_collapsed": true
      },
      "cell_type": "markdown",
      "source": "## Setup for Azure Notebooks"
    },
    {
      "metadata": {
        "hidden": true
      },
      "cell_type": "markdown",
      "source": "**<<<<< START OF ADDED MATERIAL <<<<<**"
    },
    {
      "metadata": {
        "hidden": true
      },
      "cell_type": "markdown",
      "source": "Uploaded from: https://github.com/Microsoft/dowhy/blob/master/docs/source/dowhy_simple_example.ipynb "
    },
    {
      "metadata": {
        "hidden": true
      },
      "cell_type": "markdown",
      "source": "See also:\n* https://www.microsoft.com/en-us/research/blog/dowhy-a-library-for-causal-inference/   \n* https://towardsdatascience.com/introducing-dowhy-cc58b75d61ac   \n* https://causalinference.gitlab.io/dowhy/do_why_simple_example.html  "
    },
    {
      "metadata": {
        "hidden": true
      },
      "cell_type": "markdown",
      "source": "### Install packages with pip"
    },
    {
      "metadata": {
        "hidden": true
      },
      "cell_type": "markdown",
      "source": "Execute `pip` commands from the notebook or from the terminal window if necessary."
    },
    {
      "metadata": {
        "hidden": true,
        "trusted": true
      },
      "cell_type": "code",
      "source": "# Install a pip package in the current Jupyter kernel\nimport sys\n!{sys.executable} -m pip install git+https://github.com/Microsoft/dowhy.git#egg=dowhy",
      "execution_count": null,
      "outputs": []
    },
    {
      "metadata": {
        "hidden": true
      },
      "cell_type": "markdown",
      "source": "Unable to install `pygraphviz`?!   \nNot supported in Jupyter anyway:   \nhttps://github.com/pygraphviz/pygraphviz/issues/182  "
    },
    {
      "metadata": {
        "trusted": true,
        "hidden": true
      },
      "cell_type": "code",
      "source": "# Install a pip package in the current Jupyter kernel. \nimport sys\n!{sys.executable} -m pip install graphviz ",
      "execution_count": 19,
      "outputs": [
        {
          "output_type": "stream",
          "text": "Requirement already satisfied: graphviz in /home/nbuser/anaconda3_501/lib/python3.6/site-packages (0.10.1)\r\n",
          "name": "stdout"
        }
      ]
    },
    {
      "metadata": {
        "hidden": true
      },
      "cell_type": "markdown",
      "source": "Alternatively, in the Azure terminal window execute: \n```python\npip install git+https://github.com/Microsoft/dowhy.git#egg=dowhy\n```"
    },
    {
      "metadata": {
        "hidden": true
      },
      "cell_type": "markdown",
      "source": "**>>>>> END OF ADDED MATERIAL - REST OF NOTEBOOK VERBATIM >>>>>**"
    },
    {
      "metadata": {},
      "cell_type": "markdown",
      "source": "# Getting started with DoWhy: A simple example"
    },
    {
      "metadata": {
        "heading_collapsed": true
      },
      "cell_type": "markdown",
      "source": "## Data"
    },
    {
      "metadata": {
        "hidden": true
      },
      "cell_type": "markdown",
      "source": "This is a quick introduction to the DoWhy causal inference library.\nWe will load in a sample dataset and estimate the causal effect of a (pre-specified)treatment variable on a (pre-specified) outcome variable.\n\nFirst, let us add the required path for Python to find the DoWhy code and load all required packages."
    },
    {
      "metadata": {
        "hidden": true,
        "trusted": true
      },
      "cell_type": "code",
      "source": "import os, sys\nsys.path.append(os.path.abspath(\"../../\"))",
      "execution_count": 10,
      "outputs": []
    },
    {
      "metadata": {
        "hidden": true,
        "trusted": true
      },
      "cell_type": "code",
      "source": "import numpy as np\nimport pandas as pd\n\nimport dowhy\nfrom dowhy.do_why import CausalModel\nimport dowhy.datasets ",
      "execution_count": 11,
      "outputs": []
    },
    {
      "metadata": {
        "hidden": true
      },
      "cell_type": "markdown",
      "source": "Now, let us load a dataset. For simplicity, we simulate a dataset with linear relationships between common causes and treatment, and common causes and outcome. \n\nBeta is the true causal effect. "
    },
    {
      "metadata": {
        "scrolled": true,
        "hidden": true,
        "trusted": true
      },
      "cell_type": "code",
      "source": "data = dowhy.datasets.linear_dataset(beta=10,\n        num_common_causes=5,\n        num_instruments = 2,\n        num_samples=10000, \n        treatment_is_binary=True)\ndf = data[\"df\"]\nprint(df.head())\nprint(data[\"dot_graph\"])\nprint(\"\\n\")\nprint(data[\"gml_graph\"])",
      "execution_count": 12,
      "outputs": [
        {
          "output_type": "stream",
          "text": "    Z0        Z1        X0        X1        X2        X3        X4    v  \\\n0  1.0  0.265214 -0.119583 -0.236626  0.568562  2.670407 -2.317950  0.0   \n1  0.0  0.875696  0.682655 -0.390698 -0.255154  0.073274 -0.649432  1.0   \n2  1.0  0.316086 -1.459936 -0.456902  0.477664 -0.434318  1.040582  0.0   \n3  0.0  0.059330  0.701992  0.265222  0.325484  1.362069  0.991491  1.0   \n4  0.0  0.851393  2.372105 -0.563227  0.738189  1.809158  0.017061  1.0   \n\n           y  \n0   9.237883  \n1  11.264724  \n2  -5.417852  \n3  18.307735  \n4  25.317608  \ndigraph { v ->y; U[label=\"Unobserved Confounders\"]; U->v; U->y;X0-> v; X1-> v; X2-> v; X3-> v; X4-> v;X0-> y; X1-> y; X2-> y; X3-> y; X4-> y;Z0-> v; Z1-> v;}\n\n\ngraph[directed 1node[ id \"v\" label \"v\"]node[ id \"y\" label \"y\"]node[ id \"Unobserved Confounders\" label \"Unobserved Confounders\"]edge[source \"v\" target \"y\"]edge[source \"Unobserved Confounders\" target \"v\"]edge[source \"Unobserved Confounders\" target \"y\"]node[ id \"X0\" label \"X0\"] edge[ source \"X0\" target \"v\"] node[ id \"X1\" label \"X1\"] edge[ source \"X1\" target \"v\"] node[ id \"X2\" label \"X2\"] edge[ source \"X2\" target \"v\"] node[ id \"X3\" label \"X3\"] edge[ source \"X3\" target \"v\"] node[ id \"X4\" label \"X4\"] edge[ source \"X4\" target \"v\"]edge[ source \"X0\" target \"y\"] edge[ source \"X1\" target \"y\"] edge[ source \"X2\" target \"y\"] edge[ source \"X3\" target \"y\"] edge[ source \"X4\" target \"y\"]node[ id \"Z0\" label \"Z0\"] edge[ source \"Z0\" target \"v\"] node[ id \"Z1\" label \"Z1\"] edge[ source \"Z1\" target \"v\"]]\n",
          "name": "stdout"
        }
      ]
    },
    {
      "metadata": {
        "hidden": true
      },
      "cell_type": "markdown",
      "source": "Note that we are using a pandas dataframe to load the data. At present, DoWhy only supports pandas dataframe as input."
    },
    {
      "metadata": {
        "heading_collapsed": true
      },
      "cell_type": "markdown",
      "source": "## Interface 1 (recommended): Input causal graph"
    },
    {
      "metadata": {
        "hidden": true
      },
      "cell_type": "markdown",
      "source": "We now input a causal graph in the GML graph format (recommended). You can also use the DOT format."
    },
    {
      "metadata": {
        "hidden": true,
        "trusted": true,
        "collapsed": true
      },
      "cell_type": "code",
      "source": "# With graph\nmodel=CausalModel(\n        data = df,\n        treatment=data[\"treatment_name\"],\n        outcome=data[\"outcome_name\"],\n        graph=data[\"gml_graph\"]\n        )",
      "execution_count": 13,
      "outputs": [
        {
          "output_type": "stream",
          "text": "['X2', 'Z1', 'X4', 'Unobserved Confounders', 'X1', 'X3', 'Z0', 'X0']\nyes\n{'observed': 'yes'}\nyes\n{'observed': 'yes'}\nyes\n{'observed': 'yes'}\nno\n{'observed': 'no'}\nyes\n{'observed': 'yes'}\nyes\n{'observed': 'yes'}\nyes\n{'observed': 'yes'}\nyes\n{'observed': 'yes'}\nModel to find the causal effect of treatment v on outcome y\n",
          "name": "stdout"
        }
      ]
    },
    {
      "metadata": {
        "hidden": true,
        "trusted": true,
        "collapsed": true
      },
      "cell_type": "code",
      "source": "model.view_model()",
      "execution_count": 20,
      "outputs": [
        {
          "output_type": "stream",
          "text": "Warning: Pygraphviz cannot be loaded. Check that graphviz and pygraphviz are installed.\nUsing Matplotlib for plotting\n",
          "name": "stdout"
        },
        {
          "output_type": "display_data",
          "data": {
            "image/png": "[encoded data removed]",
            "text/plain": "<Figure size 432x288 with 1 Axes>"
          },
          "metadata": {
            "needs_background": "light"
          }
        }
      ]
    },
    {
      "metadata": {
        "hidden": true,
        "trusted": true,
        "collapsed": true
      },
      "cell_type": "code",
      "source": "from IPython.display import Image, display\ndisplay(Image(filename=\"causal_model.png\"))",
      "execution_count": 21,
      "outputs": [
        {
          "output_type": "display_data",
          "data": {
            "image/png": "[encoded data removed]",
            "text/plain": "<IPython.core.display.Image object>"
          },
          "metadata": {}
        }
      ]
    },
    {
      "metadata": {
        "hidden": true
      },
      "cell_type": "markdown",
      "source": "The above causal graph shows the assumptions encoded in the causal model. We can now use this graph to first identify \nthe causal effect (go from a causal estimand to a probability expression), and then estimate the causal effect."
    },
    {
      "metadata": {
        "hidden": true
      },
      "cell_type": "markdown",
      "source": "**DoWhy philosophy: Keep identification and estimation separate**\n\nIdentification can be achieved without access to the data, acccesing only the graph. This results in an expression to be computed. This expression can then be evaluated using the available data in the estimation step.\nIt is important to understand that these are orthogonal steps.\n\n* Identification"
    },
    {
      "metadata": {
        "hidden": true,
        "trusted": true
      },
      "cell_type": "code",
      "source": "identified_estimand = model.identify_effect()\nprint(identified_estimand)",
      "execution_count": 22,
      "outputs": [
        {
          "output_type": "stream",
          "text": "INFO:dowhy.causal_identifier:Common causes of treatment and outcome:{'X2', 'Z1', 'X4', 'Unobserved Confounders', 'X1', 'X3', 'Z0', 'X0'}\n",
          "name": "stderr"
        },
        {
          "output_type": "stream",
          "text": "{'observed': 'yes'}\n{'observed': 'yes'}\n{'observed': 'yes'}\n{'observed': 'no'}\nThere are unobserved common causes. Causal effect cannot be identified.\nWARN: Do you want to continue by ignoring these unobserved confounders? [y/n] y\n",
          "name": "stdout"
        },
        {
          "output_type": "stream",
          "text": "INFO:dowhy.causal_identifier:Instrumental variables for treatment and outcome:['Z1', 'Z0']\n",
          "name": "stderr"
        },
        {
          "output_type": "stream",
          "text": "Estimand type: ate\n### Estimand : 1\nEstimand name: backdoor\nEstimand expression:\nd                                      \n──(Expectation(y|X2,Z1,X4,X1,X3,Z0,X0))\ndv                                     \nEstimand assumption 1, Unconfoundedness: If U→v and U→y then P(y|v,X2,Z1,X4,X1,X3,Z0,X0,U) = P(y|v,X2,Z1,X4,X1,X3,Z0,X0)\n### Estimand : 2\nEstimand name: iv\nEstimand expression:\nExpectation(Derivative(y, Z1)/Derivative(v, Z1))\nEstimand assumption 1, As-if-random: If U→→y then ¬(U →→Z1,Z0)\nEstimand assumption 2, Exclusion: If we remove {Z1,Z0}→v, then ¬(Z1,Z0→y)\n\n",
          "name": "stdout"
        }
      ]
    },
    {
      "metadata": {
        "hidden": true
      },
      "cell_type": "markdown",
      "source": "* Estimation"
    },
    {
      "metadata": {
        "hidden": true,
        "trusted": true
      },
      "cell_type": "code",
      "source": "causal_estimate = model.estimate_effect(identified_estimand,\n        method_name=\"backdoor.linear_regression\")\nprint(causal_estimate)\nprint(\"Causal Estimate is \" + str(causal_estimate.value))",
      "execution_count": 23,
      "outputs": [
        {
          "output_type": "stream",
          "text": "LinearRegressionEstimator\n",
          "name": "stdout"
        },
        {
          "output_type": "stream",
          "text": "INFO:dowhy.causal_estimator:INFO: Using Linear Regression Estimator\nINFO:dowhy.causal_estimator:b: y~v+X2+Z1+X4+X1+X3+Z0+X0\n",
          "name": "stderr"
        },
        {
          "output_type": "stream",
          "text": "*** Causal Estimate ***\n\n## Target estimand\nEstimand type: ate\n### Estimand : 1\nEstimand name: backdoor\nEstimand expression:\nd                                      \n──(Expectation(y|X2,Z1,X4,X1,X3,Z0,X0))\ndv                                     \nEstimand assumption 1, Unconfoundedness: If U→v and U→y then P(y|v,X2,Z1,X4,X1,X3,Z0,X0,U) = P(y|v,X2,Z1,X4,X1,X3,Z0,X0)\n### Estimand : 2\nEstimand name: iv\nEstimand expression:\nExpectation(Derivative(y, Z1)/Derivative(v, Z1))\nEstimand assumption 1, As-if-random: If U→→y then ¬(U →→Z1,Z0)\nEstimand assumption 2, Exclusion: If we remove {Z1,Z0}→v, then ¬(Z1,Z0→y)\n\n## Realized estimand\nb: y~v+X2+Z1+X4+X1+X3+Z0+X0\n## Estimate\nValue: 10.000000000000124\n\nCausal Estimate is 10.000000000000124\n",
          "name": "stdout"
        }
      ]
    },
    {
      "metadata": {
        "heading_collapsed": true
      },
      "cell_type": "markdown",
      "source": "## Interface 2: Specify common causes and instruments"
    },
    {
      "metadata": {
        "scrolled": true,
        "hidden": true,
        "trusted": true
      },
      "cell_type": "code",
      "source": "# Without graph                                       \nmodel= CausalModel(                             \n        data=df,                                      \n        treatment=data[\"treatment_name\"],             \n        outcome=data[\"outcome_name\"],                 \n        common_causes=data[\"common_causes_names\"])                         ",
      "execution_count": 24,
      "outputs": [
        {
          "output_type": "stream",
          "text": "WARNING:dowhy.do_why:Causal Graph not provided. DoWhy will construct a graph based on data inputs.\n",
          "name": "stderr"
        },
        {
          "output_type": "stream",
          "text": "['X2', 'X4', 'X3', 'X1', 'X0']\nyes\n{'observed': 'yes'}\nyes\n{'observed': 'yes'}\nyes\n{'observed': 'yes'}\nyes\n{'observed': 'yes'}\nyes\n{'observed': 'yes'}\nModel to find the causal effect of treatment v on outcome y\n",
          "name": "stdout"
        }
      ]
    },
    {
      "metadata": {
        "hidden": true,
        "trusted": true
      },
      "cell_type": "code",
      "source": "model.view_model()",
      "execution_count": 25,
      "outputs": [
        {
          "output_type": "stream",
          "text": "Warning: Pygraphviz cannot be loaded. Check that graphviz and pygraphviz are installed.\nUsing Matplotlib for plotting\n",
          "name": "stdout"
        },
        {
          "output_type": "display_data",
          "data": {
            "image/png": "[encoded data removed]",
            "text/plain": "<Figure size 432x288 with 1 Axes>"
          },
          "metadata": {
            "needs_background": "light"
          }
        }
      ]
    },
    {
      "metadata": {
        "hidden": true
      },
      "cell_type": "markdown",
      "source": "<img src=\"causal_model.png\" />"
    },
    {
      "metadata": {
        "hidden": true
      },
      "cell_type": "markdown",
      "source": "We get the same causal graph. Now identification and estimation is done as before."
    },
    {
      "metadata": {
        "hidden": true,
        "trusted": true
      },
      "cell_type": "code",
      "source": "identified_estimand = model.identify_effect()                         ",
      "execution_count": 26,
      "outputs": [
        {
          "output_type": "stream",
          "text": "INFO:dowhy.causal_identifier:Common causes of treatment and outcome:{'X2', 'U', 'X4', 'X3', 'X1', 'X0'}\n",
          "name": "stderr"
        },
        {
          "output_type": "stream",
          "text": "{'observed': 'yes'}\n{'label': 'Unobserved Confounders', 'observed': 'no'}\nThere are unobserved common causes. Causal effect cannot be identified.\nWARN: Do you want to continue by ignoring these unobserved confounders? [y/n] y\n",
          "name": "stdout"
        },
        {
          "output_type": "stream",
          "text": "INFO:dowhy.causal_identifier:Instrumental variables for treatment and outcome:[]\n",
          "name": "stderr"
        }
      ]
    },
    {
      "metadata": {
        "hidden": true
      },
      "cell_type": "markdown",
      "source": "* Estimation"
    },
    {
      "metadata": {
        "hidden": true,
        "trusted": true
      },
      "cell_type": "code",
      "source": "estimate = model.estimate_effect(identified_estimand,\n        method_name=\"backdoor.linear_regression\", \n        test_significance=True\n        )         \nprint(estimate)\nprint(\"Causal Estimate is \" + str(estimate.value))",
      "execution_count": 27,
      "outputs": [
        {
          "output_type": "stream",
          "text": "INFO:dowhy.causal_estimator:INFO: Using Linear Regression Estimator\nINFO:dowhy.causal_estimator:b: y~v+X2+X4+X3+X1+X0\n",
          "name": "stderr"
        },
        {
          "output_type": "stream",
          "text": "LinearRegressionEstimator\n*** Causal Estimate ***\n\n## Target estimand\nEstimand type: ate\n### Estimand : 1\nEstimand name: backdoor\nEstimand expression:\nd                                \n──(Expectation(y|X2,X4,X3,X1,X0))\ndv                               \nEstimand assumption 1, Unconfoundedness: If U→v and U→y then P(y|v,X2,X4,X3,X1,X0,U) = P(y|v,X2,X4,X3,X1,X0)\n### Estimand : 2\nEstimand name: iv\nNo such variable found!\n\n## Realized estimand\nb: y~v+X2+X4+X3+X1+X0\n## Estimate\nValue: 10.000000000000135\n\n## Statistical Significance\np-value: <0.001\n\nCausal Estimate is 10.000000000000135\n",
          "name": "stdout"
        }
      ]
    },
    {
      "metadata": {},
      "cell_type": "markdown",
      "source": "## Refuting the estimate\n\nLet us now look at ways of refuting the estimate obtained."
    },
    {
      "metadata": {
        "heading_collapsed": true
      },
      "cell_type": "markdown",
      "source": "### Adding a random common cause variable"
    },
    {
      "metadata": {
        "hidden": true,
        "trusted": true
      },
      "cell_type": "code",
      "source": "res_random=model.refute_estimate(identified_estimand, estimate, method_name=\"random_common_cause\")\nprint(res_random)",
      "execution_count": 28,
      "outputs": [
        {
          "output_type": "stream",
          "text": "INFO:dowhy.causal_estimator:INFO: Using Linear Regression Estimator\nINFO:dowhy.causal_estimator:b: y~v+X2+X4+X3+X1+X0+w_random\n",
          "name": "stderr"
        },
        {
          "output_type": "stream",
          "text": "Refute: Add a Random Common Cause\nEstimated effect:(10.000000000000135,)\nNew effect:(10.000000000000135,)\n\n",
          "name": "stdout"
        }
      ]
    },
    {
      "metadata": {
        "heading_collapsed": true
      },
      "cell_type": "markdown",
      "source": "### Replacing treatment with a random (placebo) variable"
    },
    {
      "metadata": {
        "hidden": true,
        "trusted": true
      },
      "cell_type": "code",
      "source": "res_placebo=model.refute_estimate(identified_estimand, estimate,\n        method_name=\"placebo_treatment_refuter\", placebo_type=\"permute\")\nprint(res_placebo)",
      "execution_count": 29,
      "outputs": [
        {
          "output_type": "stream",
          "text": "INFO:dowhy.causal_estimator:INFO: Using Linear Regression Estimator\nINFO:dowhy.causal_estimator:b: y~placebo+X2+X4+X3+X1+X0\n",
          "name": "stderr"
        },
        {
          "output_type": "stream",
          "text": "Refute: Use a Placebo Treatment\nEstimated effect:(10.000000000000135,)\nNew effect:(-0.1636077181921407,)\n\n",
          "name": "stdout"
        }
      ]
    },
    {
      "metadata": {
        "heading_collapsed": true
      },
      "cell_type": "markdown",
      "source": "### Removing a random subset of the data"
    },
    {
      "metadata": {
        "hidden": true,
        "trusted": true
      },
      "cell_type": "code",
      "source": "res_subset=model.refute_estimate(identified_estimand, estimate,\n        method_name=\"data_subset_refuter\", subset_fraction=0.9)\nprint(res_subset)\n",
      "execution_count": 30,
      "outputs": [
        {
          "output_type": "stream",
          "text": "INFO:dowhy.causal_estimator:INFO: Using Linear Regression Estimator\nINFO:dowhy.causal_estimator:b: y~v+X2+X4+X3+X1+X0\n",
          "name": "stderr"
        },
        {
          "output_type": "stream",
          "text": "Refute: Use a subset of data\nEstimated effect:(10.000000000000135,)\nNew effect:(10.000000000000018,)\n\n",
          "name": "stdout"
        }
      ]
    },
    {
      "metadata": {
        "hidden": true
      },
      "cell_type": "markdown",
      "source": "As you can see, the linear regression estimator is very sensitive to simple refutations."
    }
  ],
  "metadata": {
    "kernelspec": {
      "name": "python36",
      "display_name": "Python 3.6",
      "language": "python"
    },
    "language_info": {
      "mimetype": "text/x-python",
      "nbconvert_exporter": "python",
      "name": "python",
      "pygments_lexer": "ipython3",
      "version": "3.6.6",
      "file_extension": ".py",
      "codemirror_mode": {
        "version": 3,
        "name": "ipython"
      }
    }
  },
  "nbformat": 4,
  "nbformat_minor": 2
}