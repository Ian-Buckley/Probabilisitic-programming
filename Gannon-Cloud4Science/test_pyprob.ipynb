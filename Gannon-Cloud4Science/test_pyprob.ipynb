{
 "cells": [
  {
   "cell_type": "markdown",
   "metadata": {},
   "source": [
    "# PyProb Example\n",
    "This is a version of the text message example from From Chapter 1 of “Bayesian Methods for Hackers” by Cameron Davidson-Pilon rendered with pyprob\n"
   ]
  },
  {
   "cell_type": "code",
   "execution_count": 1,
   "metadata": {},
   "outputs": [
    {
     "name": "stdout",
     "output_type": "stream",
     "text": [
      "Warning: Empirical distributions on disk may perform slow because GNU DBM is not available. Please install and configure gdbm library for Python for better speed.\n"
     ]
    },
    {
     "data": {
      "text/plain": [
       "<Figure size 432x288 with 0 Axes>"
      ]
     },
     "metadata": {},
     "output_type": "display_data"
    }
   ],
   "source": [
    "import pyprob\n",
    "from pyprob import Model\n",
    "from pyprob.distributions import Normal, Uniform, Exponential\n",
    "import torch\n",
    "import numpy as np\n",
    "import math\n",
    "import matplotlib.pyplot as plt\n",
    "%matplotlib inline\n",
    "fig = plt.figure();"
   ]
  },
  {
   "cell_type": "code",
   "execution_count": 2,
   "metadata": {},
   "outputs": [],
   "source": [
    "import csv\n",
    "dat = []\n",
    "with open('txtdata.csv', newline='') as File:  \n",
    "    reader = csv.reader(File)\n",
    "    for row in reader:\n",
    "        dat.append(row[0])"
   ]
  },
  {
   "cell_type": "code",
   "execution_count": 5,
   "metadata": {},
   "outputs": [
    {
     "name": "stdout",
     "output_type": "stream",
     "text": [
      "[13. 24.  8. 24.  7. 35. 14. 11. 15. 11. 22. 22. 11. 57. 11. 19. 29.  6.\n",
      " 19. 12. 22. 12. 18. 72. 32.  9.  7. 13. 19. 23. 27. 20.  6. 17. 13. 10.\n",
      " 14.  6. 16. 15.  7.  2. 15. 15. 19. 70. 49.  7. 53. 22. 21. 31. 19. 11.\n",
      " 18. 20. 12. 35. 17. 23. 17.  4.  2. 31. 30. 13. 27.  0. 39. 37.  5. 14.\n",
      " 13. 22.]\n",
      "[0, 1, 2, 3, 4, 5, 6, 7, 8, 9, 10, 11, 12, 13, 14, 15, 16, 17, 18, 19, 20, 21, 22, 23, 24, 25, 26, 27, 28, 29, 30, 31, 32, 33, 34, 35, 36, 37, 38, 39, 40, 41, 42, 43, 44, 45, 46, 47, 48, 49, 50, 51, 52, 53, 54, 55, 56, 57, 58, 59, 60, 61, 62, 63, 64, 65, 66, 67, 68, 69, 70, 71, 72, 73]\n",
      "19.743243243243242\n"
     ]
    }
   ],
   "source": [
    "ys = np.zeros(74)\n",
    "xs = []\n",
    "for i in range(74):\n",
    "    ys[i] = float(dat[i+1])\n",
    "    xs.append(i)\n",
    "print(ys)\n",
    "print(xs)\n",
    "ymean = ys.mean()\n",
    "print(ymean)"
   ]
  },
  {
   "cell_type": "code",
   "execution_count": 6,
   "metadata": {},
   "outputs": [],
   "source": [
    "class my_model(Model):\n",
    "    def __init__(self, ymean, xmax, xs):\n",
    "        super().__init__(name='my_model') # give the model a name\n",
    "        self.prior_mean = ymean\n",
    "        self.xmax = xmax\n",
    "        self.prior_std = 1\n",
    "        self.likelihood_std = 1\n",
    "        self.xs = xs\n",
    "\n",
    "    def forward(self): # Needed to specifcy how the generative model is run forward\n",
    "        mu1 = pyprob.sample(Exponential(1.0/self.prior_mean ))# NOTE: sample -> denotes latent variables\n",
    "        mu2 = pyprob.sample(Exponential(1.0/self.prior_mean)) # NOTE: sample -> denotes latent variables\n",
    "        tau = pyprob.sample(Uniform(0,self.xmax))\n",
    "        \n",
    "        for i, x in enumerate(self.xs):\n",
    "            if tau.numpy() > x:\n",
    "                mu = mu1\n",
    "            else:\n",
    "                mu = mu2\n",
    "            likelihood = Normal(mu, self.likelihood_std)\n",
    "            pyprob.observe(likelihood, name='obs'+str(i))\n",
    "\n",
    "        # return the latent quantity of interest\n",
    "        #return mu1, mu2, tau\n",
    "        return mu1, mu2 , tau\n",
    "    "
   ]
  },
  {
   "cell_type": "code",
   "execution_count": 8,
   "metadata": {},
   "outputs": [],
   "source": [
    "model = my_model(ymean, len(xs), xs)"
   ]
  },
  {
   "cell_type": "code",
   "execution_count": 9,
   "metadata": {},
   "outputs": [],
   "source": [
    "observdic = {}\n",
    "for i in range(74):\n",
    "    observdic[\"obs\"+str(i)] = ys[i]"
   ]
  },
  {
   "cell_type": "code",
   "execution_count": 10,
   "metadata": {},
   "outputs": [
    {
     "name": "stdout",
     "output_type": "stream",
     "text": [
      "Time spent  | Time remain.| Progress             | Trace       | Accepted|Smp reuse| Traces/sec\n",
      "0d:00:01:57 | 0d:00:00:00 | #################### | 10000/10000 |   1.88% |  66.67% | 84.84       \n"
     ]
    }
   ],
   "source": [
    "posterior = model.posterior_results(\n",
    "                    num_traces=10000, # the number of samples estimating the posterior\n",
    "                    inference_engine=pyprob.InferenceEngine.RANDOM_WALK_METROPOLIS_HASTINGS, \n",
    "                    observe= observdic )"
   ]
  },
  {
   "cell_type": "code",
   "execution_count": 11,
   "metadata": {},
   "outputs": [
    {
     "name": "stdout",
     "output_type": "stream",
     "text": [
      "(tensor(17.8024), tensor(23.0156), tensor(44.1014))\n"
     ]
    }
   ],
   "source": [
    "print(posterior.sample())"
   ]
  },
  {
   "cell_type": "code",
   "execution_count": 12,
   "metadata": {},
   "outputs": [
    {
     "name": "stdout",
     "output_type": "stream",
     "text": [
      "mean for lambda1 = tensor(17.6366)\n",
      "mean for lambda2 = tensor(22.6672)\n",
      "mean for tau = tensor(43.0090)\n"
     ]
    }
   ],
   "source": [
    "posterior_first = posterior.map(lambda v: v[0]) # extract var_0\n",
    "print(\"mean for lambda1 =\",posterior_first.mean)\n",
    "posterior_second = posterior.map(lambda v: v[1]) # extract var_1\n",
    "print(\"mean for lambda2 =\",posterior_second.mean)\n",
    "posterior_third = posterior.map(lambda v: v[2]) # extract var_2\n",
    "print(\"mean for tau =\",posterior_third.mean)"
   ]
  },
  {
   "cell_type": "code",
   "execution_count": 13,
   "metadata": {},
   "outputs": [
    {
     "data": {
      "image/png": "[encoded data removed]",
      "text/plain": [
       "<Figure size 720x360 with 1 Axes>"
      ]
     },
     "metadata": {
      "needs_background": "light"
     },
     "output_type": "display_data"
    }
   ],
   "source": [
    "posterior_first.plot_histogram(show=True, bins=100)"
   ]
  },
  {
   "cell_type": "code",
   "execution_count": 14,
   "metadata": {},
   "outputs": [
    {
     "data": {
      "image/png": "[encoded data removed]",
      "text/plain": [
       "<Figure size 720x360 with 1 Axes>"
      ]
     },
     "metadata": {
      "needs_background": "light"
     },
     "output_type": "display_data"
    }
   ],
   "source": [
    "posterior_second.plot_histogram(show=True, bins=100)"
   ]
  },
  {
   "cell_type": "code",
   "execution_count": 15,
   "metadata": {},
   "outputs": [
    {
     "data": {
      "image/png": "[encoded data removed]",
      "text/plain": [
       "<Figure size 720x360 with 1 Axes>"
      ]
     },
     "metadata": {
      "needs_background": "light"
     },
     "output_type": "display_data"
    }
   ],
   "source": [
    "posterior_third.plot_histogram(show=True, bins=100)"
   ]
  },
  {
   "cell_type": "markdown",
   "metadata": {},
   "source": [
    "## now test with LSTM\n",
    "but we need to use a slightly different model because LSTM won't work with exponential distribution.  Instead we will use a normal distribution"
   ]
  },
  {
   "cell_type": "code",
   "execution_count": 16,
   "metadata": {},
   "outputs": [],
   "source": [
    "class my_model_normal(Model):\n",
    "    def __init__(self, ymean, xmax, xs):\n",
    "        super().__init__(name='my_experiment') # give the model a name\n",
    "        self.prior_mean = ymean\n",
    "        self.xmax = xmax\n",
    "        self.prior_std = 1\n",
    "        self.likelihood_std = 1\n",
    "        self.xs = xs\n",
    "\n",
    "    def forward(self): # Needed to specifcy how the generative model is run forward\n",
    "        # doesn't work with expnential, so use normal.\n",
    "        mu1 = pyprob.sample(Normal(self.prior_mean, self.prior_std)) # NOTE: sample -> denotes latent variables\n",
    "        mu2 = pyprob.sample(Normal(self.prior_mean, self.prior_std)) # NOTE: sample -> denotes latent variables\n",
    "        tau = pyprob.sample(Uniform(0,self.xmax))\n",
    "        \n",
    "        for i, x in enumerate(self.xs):\n",
    "            if tau.numpy() > x:\n",
    "                mu = mu2\n",
    "            else:\n",
    "                mu = mu1\n",
    "            likelihood = Normal(mu, self.likelihood_std)\n",
    "            pyprob.observe(likelihood, name='obs'+str(i))\n",
    "\n",
    "        # return the latent quantity of interest\n",
    "        #return mu1, mu2, tau\n",
    "        return mu1, mu2 , tau\n"
   ]
  },
  {
   "cell_type": "code",
   "execution_count": 17,
   "metadata": {},
   "outputs": [],
   "source": [
    "model = my_model_normal(ymean, len(xs), xs)"
   ]
  },
  {
   "cell_type": "code",
   "execution_count": 18,
   "metadata": {},
   "outputs": [],
   "source": [
    "observemb = {}\n",
    "for i in range(74):\n",
    "    observemb[\"obs\"+str(i)] = {'dim' : 32}"
   ]
  },
  {
   "cell_type": "code",
   "execution_count": 19,
   "metadata": {},
   "outputs": [
    {
     "name": "stdout",
     "output_type": "stream",
     "text": [
      "Creating new inference network...\n",
      "Observable obs0: reshape not specified, using shape torch.Size([]).\n",
      "Observable obs0: using embedding dim torch.Size([32]).\n",
      "Observable obs0: observe embedding not specified, using the default FEEDFORWARD.\n",
      "Observable obs0: embedding depth not specified, using the default 2.\n",
      "Observable obs1: reshape not specified, using shape torch.Size([]).\n",
      "Observable obs1: using embedding dim torch.Size([32]).\n",
      "Observable obs1: observe embedding not specified, using the default FEEDFORWARD.\n",
      "Observable obs1: embedding depth not specified, using the default 2.\n",
      "Observable obs2: reshape not specified, using shape torch.Size([]).\n",
      "Observable obs2: using embedding dim torch.Size([32]).\n",
      "Observable obs2: observe embedding not specified, using the default FEEDFORWARD.\n",
      "Observable obs2: embedding depth not specified, using the default 2.\n",
      "Observable obs3: reshape not specified, using shape torch.Size([]).\n",
      "Observable obs3: using embedding dim torch.Size([32]).\n",
      "Observable obs3: observe embedding not specified, using the default FEEDFORWARD.\n",
      "Observable obs3: embedding depth not specified, using the default 2.\n",
      "Observable obs4: reshape not specified, using shape torch.Size([]).\n",
      "Observable obs4: using embedding dim torch.Size([32]).\n",
      "Observable obs4: observe embedding not specified, using the default FEEDFORWARD.\n",
      "Observable obs4: embedding depth not specified, using the default 2.\n",
      "Observable obs5: reshape not specified, using shape torch.Size([]).\n",
      "Observable obs5: using embedding dim torch.Size([32]).\n",
      "Observable obs5: observe embedding not specified, using the default FEEDFORWARD.\n",
      "Observable obs5: embedding depth not specified, using the default 2.\n",
      "Observable obs6: reshape not specified, using shape torch.Size([]).\n",
      "Observable obs6: using embedding dim torch.Size([32]).\n",
      "Observable obs6: observe embedding not specified, using the default FEEDFORWARD.\n",
      "Observable obs6: embedding depth not specified, using the default 2.\n",
      "Observable obs7: reshape not specified, using shape torch.Size([]).\n",
      "Observable obs7: using embedding dim torch.Size([32]).\n",
      "Observable obs7: observe embedding not specified, using the default FEEDFORWARD.\n",
      "Observable obs7: embedding depth not specified, using the default 2.\n",
      "Observable obs8: reshape not specified, using shape torch.Size([]).\n",
      "Observable obs8: using embedding dim torch.Size([32]).\n",
      "Observable obs8: observe embedding not specified, using the default FEEDFORWARD.\n",
      "Observable obs8: embedding depth not specified, using the default 2.\n",
      "Observable obs9: reshape not specified, using shape torch.Size([]).\n",
      "Observable obs9: using embedding dim torch.Size([32]).\n",
      "Observable obs9: observe embedding not specified, using the default FEEDFORWARD.\n",
      "Observable obs9: embedding depth not specified, using the default 2.\n",
      "Observable obs10: reshape not specified, using shape torch.Size([]).\n",
      "Observable obs10: using embedding dim torch.Size([32]).\n",
      "Observable obs10: observe embedding not specified, using the default FEEDFORWARD.\n",
      "Observable obs10: embedding depth not specified, using the default 2.\n",
      "Observable obs11: reshape not specified, using shape torch.Size([]).\n",
      "Observable obs11: using embedding dim torch.Size([32]).\n",
      "Observable obs11: observe embedding not specified, using the default FEEDFORWARD.\n",
      "Observable obs11: embedding depth not specified, using the default 2.\n",
      "Observable obs12: reshape not specified, using shape torch.Size([]).\n",
      "Observable obs12: using embedding dim torch.Size([32]).\n",
      "Observable obs12: observe embedding not specified, using the default FEEDFORWARD.\n",
      "Observable obs12: embedding depth not specified, using the default 2.\n",
      "Observable obs13: reshape not specified, using shape torch.Size([]).\n",
      "Observable obs13: using embedding dim torch.Size([32]).\n",
      "Observable obs13: observe embedding not specified, using the default FEEDFORWARD.\n",
      "Observable obs13: embedding depth not specified, using the default 2.\n",
      "Observable obs14: reshape not specified, using shape torch.Size([]).\n",
      "Observable obs14: using embedding dim torch.Size([32]).\n",
      "Observable obs14: observe embedding not specified, using the default FEEDFORWARD.\n",
      "Observable obs14: embedding depth not specified, using the default 2.\n",
      "Observable obs15: reshape not specified, using shape torch.Size([]).\n",
      "Observable obs15: using embedding dim torch.Size([32]).\n",
      "Observable obs15: observe embedding not specified, using the default FEEDFORWARD.\n",
      "Observable obs15: embedding depth not specified, using the default 2.\n",
      "Observable obs16: reshape not specified, using shape torch.Size([]).\n",
      "Observable obs16: using embedding dim torch.Size([32]).\n",
      "Observable obs16: observe embedding not specified, using the default FEEDFORWARD.\n",
      "Observable obs16: embedding depth not specified, using the default 2.\n",
      "Observable obs17: reshape not specified, using shape torch.Size([]).\n",
      "Observable obs17: using embedding dim torch.Size([32]).\n",
      "Observable obs17: observe embedding not specified, using the default FEEDFORWARD.\n",
      "Observable obs17: embedding depth not specified, using the default 2.\n",
      "Observable obs18: reshape not specified, using shape torch.Size([]).\n",
      "Observable obs18: using embedding dim torch.Size([32]).\n",
      "Observable obs18: observe embedding not specified, using the default FEEDFORWARD.\n",
      "Observable obs18: embedding depth not specified, using the default 2.\n",
      "Observable obs19: reshape not specified, using shape torch.Size([]).\n",
      "Observable obs19: using embedding dim torch.Size([32]).\n",
      "Observable obs19: observe embedding not specified, using the default FEEDFORWARD.\n",
      "Observable obs19: embedding depth not specified, using the default 2.\n",
      "Observable obs20: reshape not specified, using shape torch.Size([]).\n",
      "Observable obs20: using embedding dim torch.Size([32]).\n",
      "Observable obs20: observe embedding not specified, using the default FEEDFORWARD.\n",
      "Observable obs20: embedding depth not specified, using the default 2.\n",
      "Observable obs21: reshape not specified, using shape torch.Size([]).\n",
      "Observable obs21: using embedding dim torch.Size([32]).\n",
      "Observable obs21: observe embedding not specified, using the default FEEDFORWARD.\n",
      "Observable obs21: embedding depth not specified, using the default 2.\n",
      "Observable obs22: reshape not specified, using shape torch.Size([]).\n",
      "Observable obs22: using embedding dim torch.Size([32]).\n",
      "Observable obs22: observe embedding not specified, using the default FEEDFORWARD.\n",
      "Observable obs22: embedding depth not specified, using the default 2.\n",
      "Observable obs23: reshape not specified, using shape torch.Size([]).\n",
      "Observable obs23: using embedding dim torch.Size([32]).\n",
      "Observable obs23: observe embedding not specified, using the default FEEDFORWARD.\n",
      "Observable obs23: embedding depth not specified, using the default 2.\n",
      "Observable obs24: reshape not specified, using shape torch.Size([]).\n",
      "Observable obs24: using embedding dim torch.Size([32]).\n",
      "Observable obs24: observe embedding not specified, using the default FEEDFORWARD.\n",
      "Observable obs24: embedding depth not specified, using the default 2.\n",
      "Observable obs25: reshape not specified, using shape torch.Size([]).\n",
      "Observable obs25: using embedding dim torch.Size([32]).\n",
      "Observable obs25: observe embedding not specified, using the default FEEDFORWARD.\n",
      "Observable obs25: embedding depth not specified, using the default 2.\n",
      "Observable obs26: reshape not specified, using shape torch.Size([]).\n",
      "Observable obs26: using embedding dim torch.Size([32]).\n",
      "Observable obs26: observe embedding not specified, using the default FEEDFORWARD.\n",
      "Observable obs26: embedding depth not specified, using the default 2.\n",
      "Observable obs27: reshape not specified, using shape torch.Size([]).\n",
      "Observable obs27: using embedding dim torch.Size([32]).\n",
      "Observable obs27: observe embedding not specified, using the default FEEDFORWARD.\n",
      "Observable obs27: embedding depth not specified, using the default 2.\n",
      "Observable obs28: reshape not specified, using shape torch.Size([]).\n",
      "Observable obs28: using embedding dim torch.Size([32]).\n",
      "Observable obs28: observe embedding not specified, using the default FEEDFORWARD.\n",
      "Observable obs28: embedding depth not specified, using the default 2.\n",
      "Observable obs29: reshape not specified, using shape torch.Size([]).\n",
      "Observable obs29: using embedding dim torch.Size([32]).\n",
      "Observable obs29: observe embedding not specified, using the default FEEDFORWARD.\n",
      "Observable obs29: embedding depth not specified, using the default 2.\n",
      "Observable obs30: reshape not specified, using shape torch.Size([]).\n",
      "Observable obs30: using embedding dim torch.Size([32]).\n",
      "Observable obs30: observe embedding not specified, using the default FEEDFORWARD.\n",
      "Observable obs30: embedding depth not specified, using the default 2.\n",
      "Observable obs31: reshape not specified, using shape torch.Size([]).\n",
      "Observable obs31: using embedding dim torch.Size([32]).\n",
      "Observable obs31: observe embedding not specified, using the default FEEDFORWARD.\n",
      "Observable obs31: embedding depth not specified, using the default 2.\n",
      "Observable obs32: reshape not specified, using shape torch.Size([]).\n",
      "Observable obs32: using embedding dim torch.Size([32]).\n",
      "Observable obs32: observe embedding not specified, using the default FEEDFORWARD.\n",
      "Observable obs32: embedding depth not specified, using the default 2.\n",
      "Observable obs33: reshape not specified, using shape torch.Size([]).\n",
      "Observable obs33: using embedding dim torch.Size([32]).\n",
      "Observable obs33: observe embedding not specified, using the default FEEDFORWARD.\n",
      "Observable obs33: embedding depth not specified, using the default 2.\n",
      "Observable obs34: reshape not specified, using shape torch.Size([]).\n",
      "Observable obs34: using embedding dim torch.Size([32]).\n",
      "Observable obs34: observe embedding not specified, using the default FEEDFORWARD.\n",
      "Observable obs34: embedding depth not specified, using the default 2.\n",
      "Observable obs35: reshape not specified, using shape torch.Size([]).\n",
      "Observable obs35: using embedding dim torch.Size([32]).\n",
      "Observable obs35: observe embedding not specified, using the default FEEDFORWARD.\n",
      "Observable obs35: embedding depth not specified, using the default 2.\n",
      "Observable obs36: reshape not specified, using shape torch.Size([]).\n",
      "Observable obs36: using embedding dim torch.Size([32]).\n",
      "Observable obs36: observe embedding not specified, using the default FEEDFORWARD.\n",
      "Observable obs36: embedding depth not specified, using the default 2.\n",
      "Observable obs37: reshape not specified, using shape torch.Size([]).\n",
      "Observable obs37: using embedding dim torch.Size([32]).\n",
      "Observable obs37: observe embedding not specified, using the default FEEDFORWARD.\n",
      "Observable obs37: embedding depth not specified, using the default 2.\n",
      "Observable obs38: reshape not specified, using shape torch.Size([]).\n",
      "Observable obs38: using embedding dim torch.Size([32]).\n",
      "Observable obs38: observe embedding not specified, using the default FEEDFORWARD.\n",
      "Observable obs38: embedding depth not specified, using the default 2.\n",
      "Observable obs39: reshape not specified, using shape torch.Size([]).\n",
      "Observable obs39: using embedding dim torch.Size([32]).\n",
      "Observable obs39: observe embedding not specified, using the default FEEDFORWARD.\n",
      "Observable obs39: embedding depth not specified, using the default 2.\n",
      "Observable obs40: reshape not specified, using shape torch.Size([]).\n",
      "Observable obs40: using embedding dim torch.Size([32]).\n",
      "Observable obs40: observe embedding not specified, using the default FEEDFORWARD.\n",
      "Observable obs40: embedding depth not specified, using the default 2.\n",
      "Observable obs41: reshape not specified, using shape torch.Size([]).\n",
      "Observable obs41: using embedding dim torch.Size([32]).\n",
      "Observable obs41: observe embedding not specified, using the default FEEDFORWARD.\n",
      "Observable obs41: embedding depth not specified, using the default 2.\n",
      "Observable obs42: reshape not specified, using shape torch.Size([]).\n",
      "Observable obs42: using embedding dim torch.Size([32]).\n",
      "Observable obs42: observe embedding not specified, using the default FEEDFORWARD.\n",
      "Observable obs42: embedding depth not specified, using the default 2.\n",
      "Observable obs43: reshape not specified, using shape torch.Size([]).\n",
      "Observable obs43: using embedding dim torch.Size([32]).\n",
      "Observable obs43: observe embedding not specified, using the default FEEDFORWARD.\n",
      "Observable obs43: embedding depth not specified, using the default 2.\n",
      "Observable obs44: reshape not specified, using shape torch.Size([]).\n",
      "Observable obs44: using embedding dim torch.Size([32]).\n",
      "Observable obs44: observe embedding not specified, using the default FEEDFORWARD.\n",
      "Observable obs44: embedding depth not specified, using the default 2.\n",
      "Observable obs45: reshape not specified, using shape torch.Size([]).\n",
      "Observable obs45: using embedding dim torch.Size([32]).\n",
      "Observable obs45: observe embedding not specified, using the default FEEDFORWARD.\n",
      "Observable obs45: embedding depth not specified, using the default 2.\n",
      "Observable obs46: reshape not specified, using shape torch.Size([]).\n",
      "Observable obs46: using embedding dim torch.Size([32]).\n",
      "Observable obs46: observe embedding not specified, using the default FEEDFORWARD.\n",
      "Observable obs46: embedding depth not specified, using the default 2.\n",
      "Observable obs47: reshape not specified, using shape torch.Size([]).\n",
      "Observable obs47: using embedding dim torch.Size([32]).\n",
      "Observable obs47: observe embedding not specified, using the default FEEDFORWARD.\n",
      "Observable obs47: embedding depth not specified, using the default 2.\n",
      "Observable obs48: reshape not specified, using shape torch.Size([]).\n",
      "Observable obs48: using embedding dim torch.Size([32]).\n",
      "Observable obs48: observe embedding not specified, using the default FEEDFORWARD.\n",
      "Observable obs48: embedding depth not specified, using the default 2.\n",
      "Observable obs49: reshape not specified, using shape torch.Size([]).\n",
      "Observable obs49: using embedding dim torch.Size([32]).\n",
      "Observable obs49: observe embedding not specified, using the default FEEDFORWARD.\n",
      "Observable obs49: embedding depth not specified, using the default 2.\n",
      "Observable obs50: reshape not specified, using shape torch.Size([]).\n",
      "Observable obs50: using embedding dim torch.Size([32]).\n",
      "Observable obs50: observe embedding not specified, using the default FEEDFORWARD.\n",
      "Observable obs50: embedding depth not specified, using the default 2.\n",
      "Observable obs51: reshape not specified, using shape torch.Size([]).\n",
      "Observable obs51: using embedding dim torch.Size([32]).\n",
      "Observable obs51: observe embedding not specified, using the default FEEDFORWARD.\n",
      "Observable obs51: embedding depth not specified, using the default 2.\n",
      "Observable obs52: reshape not specified, using shape torch.Size([]).\n",
      "Observable obs52: using embedding dim torch.Size([32]).\n",
      "Observable obs52: observe embedding not specified, using the default FEEDFORWARD.\n",
      "Observable obs52: embedding depth not specified, using the default 2.\n",
      "Observable obs53: reshape not specified, using shape torch.Size([]).\n",
      "Observable obs53: using embedding dim torch.Size([32]).\n",
      "Observable obs53: observe embedding not specified, using the default FEEDFORWARD.\n",
      "Observable obs53: embedding depth not specified, using the default 2.\n",
      "Observable obs54: reshape not specified, using shape torch.Size([]).\n",
      "Observable obs54: using embedding dim torch.Size([32]).\n",
      "Observable obs54: observe embedding not specified, using the default FEEDFORWARD.\n",
      "Observable obs54: embedding depth not specified, using the default 2.\n",
      "Observable obs55: reshape not specified, using shape torch.Size([]).\n",
      "Observable obs55: using embedding dim torch.Size([32]).\n",
      "Observable obs55: observe embedding not specified, using the default FEEDFORWARD.\n",
      "Observable obs55: embedding depth not specified, using the default 2.\n",
      "Observable obs56: reshape not specified, using shape torch.Size([]).\n",
      "Observable obs56: using embedding dim torch.Size([32]).\n",
      "Observable obs56: observe embedding not specified, using the default FEEDFORWARD.\n",
      "Observable obs56: embedding depth not specified, using the default 2.\n",
      "Observable obs57: reshape not specified, using shape torch.Size([]).\n",
      "Observable obs57: using embedding dim torch.Size([32]).\n",
      "Observable obs57: observe embedding not specified, using the default FEEDFORWARD.\n",
      "Observable obs57: embedding depth not specified, using the default 2.\n",
      "Observable obs58: reshape not specified, using shape torch.Size([]).\n",
      "Observable obs58: using embedding dim torch.Size([32]).\n",
      "Observable obs58: observe embedding not specified, using the default FEEDFORWARD.\n",
      "Observable obs58: embedding depth not specified, using the default 2.\n"
     ]
    },
    {
     "name": "stdout",
     "output_type": "stream",
     "text": [
      "Observable obs59: reshape not specified, using shape torch.Size([]).\n",
      "Observable obs59: using embedding dim torch.Size([32]).\n",
      "Observable obs59: observe embedding not specified, using the default FEEDFORWARD.\n",
      "Observable obs59: embedding depth not specified, using the default 2.\n",
      "Observable obs60: reshape not specified, using shape torch.Size([]).\n",
      "Observable obs60: using embedding dim torch.Size([32]).\n",
      "Observable obs60: observe embedding not specified, using the default FEEDFORWARD.\n",
      "Observable obs60: embedding depth not specified, using the default 2.\n",
      "Observable obs61: reshape not specified, using shape torch.Size([]).\n",
      "Observable obs61: using embedding dim torch.Size([32]).\n",
      "Observable obs61: observe embedding not specified, using the default FEEDFORWARD.\n",
      "Observable obs61: embedding depth not specified, using the default 2.\n",
      "Observable obs62: reshape not specified, using shape torch.Size([]).\n",
      "Observable obs62: using embedding dim torch.Size([32]).\n",
      "Observable obs62: observe embedding not specified, using the default FEEDFORWARD.\n",
      "Observable obs62: embedding depth not specified, using the default 2.\n",
      "Observable obs63: reshape not specified, using shape torch.Size([]).\n",
      "Observable obs63: using embedding dim torch.Size([32]).\n",
      "Observable obs63: observe embedding not specified, using the default FEEDFORWARD.\n",
      "Observable obs63: embedding depth not specified, using the default 2.\n",
      "Observable obs64: reshape not specified, using shape torch.Size([]).\n",
      "Observable obs64: using embedding dim torch.Size([32]).\n",
      "Observable obs64: observe embedding not specified, using the default FEEDFORWARD.\n",
      "Observable obs64: embedding depth not specified, using the default 2.\n",
      "Observable obs65: reshape not specified, using shape torch.Size([]).\n",
      "Observable obs65: using embedding dim torch.Size([32]).\n",
      "Observable obs65: observe embedding not specified, using the default FEEDFORWARD.\n",
      "Observable obs65: embedding depth not specified, using the default 2.\n",
      "Observable obs66: reshape not specified, using shape torch.Size([]).\n",
      "Observable obs66: using embedding dim torch.Size([32]).\n",
      "Observable obs66: observe embedding not specified, using the default FEEDFORWARD.\n",
      "Observable obs66: embedding depth not specified, using the default 2.\n",
      "Observable obs67: reshape not specified, using shape torch.Size([]).\n",
      "Observable obs67: using embedding dim torch.Size([32]).\n",
      "Observable obs67: observe embedding not specified, using the default FEEDFORWARD.\n",
      "Observable obs67: embedding depth not specified, using the default 2.\n",
      "Observable obs68: reshape not specified, using shape torch.Size([]).\n",
      "Observable obs68: using embedding dim torch.Size([32]).\n",
      "Observable obs68: observe embedding not specified, using the default FEEDFORWARD.\n",
      "Observable obs68: embedding depth not specified, using the default 2.\n",
      "Observable obs69: reshape not specified, using shape torch.Size([]).\n",
      "Observable obs69: using embedding dim torch.Size([32]).\n",
      "Observable obs69: observe embedding not specified, using the default FEEDFORWARD.\n",
      "Observable obs69: embedding depth not specified, using the default 2.\n",
      "Observable obs70: reshape not specified, using shape torch.Size([]).\n",
      "Observable obs70: using embedding dim torch.Size([32]).\n",
      "Observable obs70: observe embedding not specified, using the default FEEDFORWARD.\n",
      "Observable obs70: embedding depth not specified, using the default 2.\n",
      "Observable obs71: reshape not specified, using shape torch.Size([]).\n",
      "Observable obs71: using embedding dim torch.Size([32]).\n",
      "Observable obs71: observe embedding not specified, using the default FEEDFORWARD.\n",
      "Observable obs71: embedding depth not specified, using the default 2.\n",
      "Observable obs72: reshape not specified, using shape torch.Size([]).\n",
      "Observable obs72: using embedding dim torch.Size([32]).\n",
      "Observable obs72: observe embedding not specified, using the default FEEDFORWARD.\n",
      "Observable obs72: embedding depth not specified, using the default 2.\n",
      "Observable obs73: reshape not specified, using shape torch.Size([]).\n",
      "Observable obs73: using embedding dim torch.Size([32]).\n",
      "Observable obs73: observe embedding not specified, using the default FEEDFORWARD.\n",
      "Observable obs73: embedding depth not specified, using the default 2.\n",
      "Observe embedding dimension: 2368\n",
      "Train. time | Epoch| Trace     | Init. loss| Min. loss | Curr. loss| T.since min | Learn.rate| Traces/sec\n",
      "New layers, address: 16__forward__mu1__Normal__1, distribution: Normal\n",
      "New layers, address: 36__forward__mu2__Normal__1, distribution: Normal\n",
      "New layers, address: 54__forward__tau__Uniform__1, distribution: Uniform\n",
      "Total addresses: 3, distribution types: 2, parameters: 17,909,429\n"
     ]
    },
    {
     "name": "stdout",
     "output_type": "stream",
     "text": [
      "0d:00:02:56 | 1    | 7,232     | +7.03e+00 | +6.87e+00 | +7.03e+00 | 0d:00:00:00 | +1.00e-03 | 69.5 +7.03e+00 | +7.44e+00 | 0d:00:00:00 | +1.00e-03 | 46.2 +7.28e+00 | 0d:00:00:02 | +1.00e-03 | 45.7                               +7.13e+00 | 0d:00:00:04 | +1.00e-03 | 49.7                               +7.03e+00 | +7.03e+00 | 0d:00:00:00 | +1.00e-03 | 44.7 +7.03e+00 | 0d:00:00:01 | +1.00e-03 | 42.7                               +7.23e+00 | 0d:00:00:03 | +1.00e-03 | 33.8                               +7.07e+00 | 0d:00:00:05 | +1.00e-03 | 31.5                               +7.12e+00 | 0d:00:00:07 | +1.00e-03 | 29.8                               +7.06e+00 | 0d:00:00:09 | +1.00e-03 | 37.4                               +7.08e+00 | 0d:00:00:11 | +1.00e-03 | 37.1                               +7.06e+00 | 0d:00:00:12 | +1.00e-03 | 43.2                               +7.17e+00 | 0d:00:00:13 | +1.00e-03 | 44.1                               +7.37e+00 | 0d:00:00:15 | +1.00e-03 | 47.1                               +7.24e+00 | 0d:00:00:16 | +1.00e-03 | 47.2                               +7.13e+00 | 0d:00:00:18 | +1.00e-03 | 45.9                               +7.05e+00 | 0d:00:00:19 | +1.00e-03 | 49.0                               +7.06e+00 | 0d:00:00:20 | +1.00e-03 | 48.3                               +7.04e+00 | 0d:00:00:21 | +1.00e-03 | 50.3                               +6.93e+00 | +6.93e+00 | 0d:00:00:00 | +1.00e-03 | 45.8 +7.25e+00 | 0d:00:00:01 | +1.00e-03 | 47.6                               +7.24e+00 | 0d:00:00:02 | +1.00e-03 | 45.0                               +7.22e+00 | 0d:00:00:04 | +1.00e-03 | 50.4                               +7.18e+00 | 0d:00:00:05 | +1.00e-03 | 48.0                               +7.19e+00 | 0d:00:00:06 | +1.00e-03 | 47.0                               +7.38e+00 | 0d:00:00:08 | +1.00e-03 | 48.5                               +7.09e+00 | 0d:00:00:09 | +1.00e-03 | 48.0                               +7.22e+00 | 0d:00:00:10 | +1.00e-03 | 47.0                               +7.13e+00 | 0d:00:00:12 | +1.00e-03 | 45.3                               +7.23e+00 | 0d:00:00:13 | +1.00e-03 | 47.4                               +7.11e+00 | 0d:00:00:14 | +1.00e-03 | 46.2                               +7.06e+00 | 0d:00:00:16 | +1.00e-03 | 33.6                               +7.17e+00 | 0d:00:00:19 | +1.00e-03 | 28.6                               +7.06e+00 | 0d:00:00:20 | +1.00e-03 | 43.5                               +7.16e+00 | 0d:00:00:21 | +1.00e-03 | 44.8                               +6.96e+00 | 0d:00:00:23 | +1.00e-03 | 49.5                               +7.05e+00 | 0d:00:00:24 | +1.00e-03 | 39.3                               +6.95e+00 | 0d:00:00:26 | +1.00e-03 | 32.1                               +6.97e+00 | 0d:00:00:28 | +1.00e-03 | 38.1                               +7.13e+00 | 0d:00:00:30 | +1.00e-03 | 37.6                               +7.27e+00 | 0d:00:00:32 | +1.00e-03 | 35.6                               +6.96e+00 | 0d:00:00:33 | +1.00e-03 | 33.9                               +7.32e+00 | 0d:00:00:35 | +1.00e-03 | 39.5                               +7.14e+00 | 0d:00:00:37 | +1.00e-03 | 40.1                               +7.48e+00 | 0d:00:00:37 | +1.00e-03 | 41.8                           +7.44e+00 | 0d:00:00:40 | +1.00e-03 | 36.3                               +7.08e+00 | 0d:00:00:42 | +1.00e-03 | 37.0                               +7.05e+00 | 0d:00:00:43 | +1.00e-03 | 38.3                               +7.12e+00 | 0d:00:00:45 | +1.00e-03 | 38.6                               +7.24e+00 | 0d:00:00:47 | +1.00e-03 | 34.7                               +7.23e+00 | 0d:00:00:48 | +1.00e-03 | 38.4                               +6.99e+00 | 0d:00:00:50 | +1.00e-03 | 36.6                               +7.28e+00 | 0d:00:00:52 | +1.00e-03 | 37.8                               +7.11e+00 | 0d:00:00:54 | +1.00e-03 | 38.4                               +7.10e+00 | 0d:00:00:55 | +1.00e-03 | 36.2                               +7.18e+00 | 0d:00:00:57 | +1.00e-03 | 38.9                               +7.18e+00 | 0d:00:00:58 | +1.00e-03 | 44.7                               +7.17e+00 | 0d:00:01:00 | +1.00e-03 | 45.7                               +7.10e+00 | 0d:00:01:01 | +1.00e-03 | 44.4                               +7.11e+00 | 0d:00:01:03 | +1.00e-03 | 41.7                               +7.02e+00 | 0d:00:01:04 | +1.00e-03 | 43.0                               +7.25e+00 | 0d:00:01:06 | +1.00e-03 | 42.0                               +7.29e+00 | 0d:00:01:08 | +1.00e-03 | 37.7                               +6.96e+00 | 0d:00:01:09 | +1.00e-03 | 44.4                               +7.30e+00 | 0d:00:01:10 | +1.00e-03 | 44.0                               +7.09e+00 | 0d:00:01:12 | +1.00e-03 | 32.4                               +7.04e+00 | 0d:00:01:14 | +1.00e-03 | 33.9                               +7.13e+00 | 0d:00:01:16 | +1.00e-03 | 33.9                               +7.14e+00 | 0d:00:01:18 | +1.00e-03 | 35.4                               +6.93e+00 | 0d:00:01:20 | +1.00e-03 | 41.8                               +7.13e+00 | 0d:00:01:21 | +1.00e-03 | 45.4                               +7.30e+00 | 0d:00:01:22 | +1.00e-03 | 45.8                               +7.16e+00 | 0d:00:01:24 | +1.00e-03 | 46.0                               +6.87e+00 | +6.87e+00 | 0d:00:00:00 | +1.00e-03 | 43.7 +7.29e+00 | 0d:00:00:01 | +1.00e-03 | 46.2                               +7.03e+00 | 0d:00:00:03 | +1.00e-03 | 36.4                               +7.03e+00 | 0d:00:00:04 | +1.00e-03 | 39.2                               +7.20e+00 | 0d:00:00:06 | +1.00e-03 | 44.2                               +6.96e+00 | 0d:00:00:07 | +1.00e-03 | 41.3                               +7.07e+00 | 0d:00:00:09 | +1.00e-03 | 40.7                               +7.07e+00 | 0d:00:00:10 | +1.00e-03 | 40.3                               +7.08e+00 | 0d:00:00:12 | +1.00e-03 | 42.3                               +7.13e+00 | 0d:00:00:13 | +1.00e-03 | 41.8                               +7.18e+00 | 0d:00:00:15 | +1.00e-03 | 44.0                               +7.18e+00 | 0d:00:00:16 | +1.00e-03 | 42.7                               +7.17e+00 | 0d:00:00:18 | +1.00e-03 | 44.3                               +7.28e+00 | 0d:00:00:19 | +1.00e-03 | 42.9                               +7.00e+00 | 0d:00:00:21 | +1.00e-03 | 38.8                               +7.17e+00 | 0d:00:00:23 | +1.00e-03 | 33.2                               +7.09e+00 | 0d:00:00:25 | +1.00e-03 | 34.1                               +7.20e+00 | 0d:00:00:27 | +1.00e-03 | 37.7                               +7.22e+00 | 0d:00:00:28 | +1.00e-03 | 41.9                               +6.98e+00 | 0d:00:00:29 | +1.00e-03 | 44.6                               +7.07e+00 | 0d:00:00:31 | +1.00e-03 | 43.2                               +7.01e+00 | 0d:00:00:32 | +1.00e-03 | 44.0                               +7.20e+00 | 0d:00:00:34 | +1.00e-03 | 42.5                               +7.27e+00 | 0d:00:00:35 | +1.00e-03 | 46.1                               +6.90e+00 | 0d:00:00:37 | +1.00e-03 | 42.3                               +7.06e+00 | 0d:00:00:38 | +1.00e-03 | 43.1                               +7.26e+00 | 0d:00:00:40 | +1.00e-03 | 44.4                               +7.40e+00 | 0d:00:00:41 | +1.00e-03 | 44.7                               +7.22e+00 | 0d:00:00:43 | +1.00e-03 | 41.1                               +7.06e+00 | 0d:00:00:44 | +1.00e-03 | 41.8                               +7.09e+00 | 0d:00:00:46 | +1.00e-03 | 43.3                               +7.14e+00 | 0d:00:00:47 | +1.00e-03 | 42.3                               +7.13e+00 | 0d:00:00:49 | +1.00e-03 | 44.9                               +6.98e+00 | 0d:00:00:50 | +1.00e-03 | 40.3                               +7.40e+00 | 0d:00:00:52 | +1.00e-03 | 38.4                               +7.02e+00 | 0d:00:00:53 | +1.00e-03 | 40.9                               +7.09e+00 | 0d:00:00:55 | +1.00e-03 | 41.3                               +7.23e+00 | 0d:00:00:57 | +1.00e-03 | 37.4                               +7.03e+00 | 0d:00:00:58 | +1.00e-03 | 41.6                               +7.13e+00 | 0d:00:01:01 | +1.00e-03 | 27.2                               0d:00:05:46 | 1    | 14,400    | +7.03e+00 | +6.72e+00 | +7.24e+00 | 0d:00:01:03 | +1.00e-03 | 32.2                               +7.17e+00 | 0d:00:01:04 | +1.00e-03 | 36.6                               +7.20e+00 | 0d:00:01:06 | +1.00e-03 | 40.2                               +7.16e+00 | 0d:00:01:08 | +1.00e-03 | 37.5                               +7.17e+00 | 0d:00:01:09 | +1.00e-03 | 36.2                               +7.07e+00 | 0d:00:01:11 | +1.00e-03 | 36.7                               +7.13e+00 | 0d:00:01:13 | +1.00e-03 | 44.0                               +7.16e+00 | 0d:00:01:14 | +1.00e-03 | 42.7                               +7.34e+00 | 0d:00:01:16 | +1.00e-03 | 43.0                               +7.07e+00 | 0d:00:01:17 | +1.00e-03 | 37.1                               +7.15e+00 | 0d:00:01:19 | +1.00e-03 | 42.1                               +7.07e+00 | 0d:00:01:20 | +1.00e-03 | 40.5                               +6.95e+00 | 0d:00:01:22 | +1.00e-03 | 44.0                               +6.72e+00 | +6.72e+00 | 0d:00:00:00 | +1.00e-03 | 44.0 +7.22e+00 | 0d:00:00:01 | +1.00e-03 | 40.9                               +7.07e+00 | 0d:00:00:03 | +1.00e-03 | 41.8                               +7.19e+00 | 0d:00:00:04 | +1.00e-03 | 41.6                               +6.94e+00 | 0d:00:00:06 | +1.00e-03 | 43.2                               +7.14e+00 | 0d:00:00:07 | +1.00e-03 | 46.0                               +7.11e+00 | 0d:00:00:08 | +1.00e-03 | 43.7                               +7.31e+00 | 0d:00:00:10 | +1.00e-03 | 45.8                               +7.06e+00 | 0d:00:00:11 | +1.00e-03 | 44.7                               +7.17e+00 | 0d:00:00:13 | +1.00e-03 | 45.6                               +7.20e+00 | 0d:00:00:14 | +1.00e-03 | 44.0                               +7.24e+00 | 0d:00:00:16 | +1.00e-03 | 42.4                               +7.01e+00 | 0d:00:00:17 | +1.00e-03 | 42.0                               +7.09e+00 | 0d:00:00:19 | +1.00e-03 | 43.7                               +7.13e+00 | 0d:00:00:20 | +1.00e-03 | 41.9                               +7.26e+00 | 0d:00:00:22 | +1.00e-03 | 39.7                               +7.07e+00 | 0d:00:00:24 | +1.00e-03 | 32.4                               +7.06e+00 | 0d:00:00:26 | +1.00e-03 | 33.2                               +7.12e+00 | 0d:00:00:28 | +1.00e-03 | 33.8                               +7.15e+00 | 0d:00:00:29 | +1.00e-03 | 40.2                               +7.07e+00 | 0d:00:00:31 | +1.00e-03 | 44.4                               +7.08e+00 | 0d:00:00:32 | +1.00e-03 | 44.2                               +7.17e+00 | 0d:00:00:34 | +1.00e-03 | 43.7                               +7.00e+00 | 0d:00:00:35 | +1.00e-03 | 38.9                               +7.19e+00 | 0d:00:00:37 | +1.00e-03 | 36.1                               +7.11e+00 | 0d:00:00:38 | +1.00e-03 | 44.9                               +7.29e+00 | 0d:00:00:40 | +1.00e-03 | 46.3                               +7.38e+00 | 0d:00:00:41 | +1.00e-03 | 46.9                               +7.14e+00 | 0d:00:00:43 | +1.00e-03 | 44.1                               +7.26e+00 | 0d:00:00:44 | +1.00e-03 | 48.5                               +7.22e+00 | 0d:00:00:45 | +1.00e-03 | 44.9                               +7.17e+00 | 0d:00:00:47 | +1.00e-03 | 46.4                               +7.16e+00 | 0d:00:00:48 | +1.00e-03 | 42.7                               +7.10e+00 | 0d:00:00:50 | +1.00e-03 | 38.0                               +7.33e+00 | 0d:00:00:51 | +1.00e-03 | 46.6                               +7.14e+00 | 0d:00:00:53 | +1.00e-03 | 48.4                               +7.41e+00 | 0d:00:00:54 | +1.00e-03 | 42.7                               +7.18e+00 | 0d:00:00:56 | +1.00e-03 | 38.0                               +7.06e+00 | 0d:00:00:57 | +1.00e-03 | 38.8                               +7.17e+00 | 0d:00:00:59 | +1.00e-03 | 37.1                               +7.00e+00 | 0d:00:01:00 | +1.00e-03 | 47.0                               +7.00e+00 | 0d:00:01:02 | +1.00e-03 | 47.1                               +7.19e+00 | 0d:00:01:03 | +1.00e-03 | 49.7                               +7.25e+00 | 0d:00:01:05 | +1.00e-03 | 45.3                               +7.23e+00 | 0d:00:01:06 | +1.00e-03 | 40.8                               +7.00e+00 | 0d:00:01:07 | +1.00e-03 | 47.7                               +7.25e+00 | 0d:00:01:09 | +1.00e-03 | 47.8                               +7.10e+00 | 0d:00:01:10 | +1.00e-03 | 50.8                               +7.22e+00 | 0d:00:01:12 | +1.00e-03 | 44.0                               +7.33e+00 | 0d:00:01:13 | +1.00e-03 | 46.5                               +7.23e+00 | 0d:00:01:14 | +1.00e-03 | 42.9                               +7.22e+00 | 0d:00:01:16 | +1.00e-03 | 46.2                               +6.92e+00 | 0d:00:01:17 | +1.00e-03 | 41.7                               +7.06e+00 | 0d:00:01:19 | +1.00e-03 | 47.4                               +7.10e+00 | 0d:00:01:20 | +1.00e-03 | 44.7                               +7.25e+00 | 0d:00:01:22 | +1.00e-03 | 45.2                               +7.31e+00 | 0d:00:01:23 | +1.00e-03 | 43.3                               +7.18e+00 | 0d:00:01:25 | +1.00e-03 | 42.0                               +7.23e+00 | 0d:00:01:26 | +1.00e-03 | 42.3                               +7.22e+00 | 0d:00:01:28 | +1.00e-03 | 40.3                               +7.17e+00 | 0d:00:01:29 | +1.00e-03 | 46.3                               +7.02e+00 | 0d:00:01:30 | +1.00e-03 | 43.2                               +7.14e+00 | 0d:00:01:32 | +1.00e-03 | 46.9                               +7.22e+00 | 0d:00:01:33 | +1.00e-03 | 43.3                               +7.32e+00 | 0d:00:01:35 | +1.00e-03 | 46.5                               +7.35e+00 | 0d:00:01:36 | +1.00e-03 | 42.4                               +7.09e+00 | 0d:00:01:38 | +1.00e-03 | 47.4                               +7.00e+00 | 0d:00:01:39 | +1.00e-03 | 42.9                               +7.20e+00 | 0d:00:01:41 | +1.00e-03 | 35.1                               +7.20e+00 | 0d:00:01:43 | +1.00e-03 | 30.3                               +7.17e+00 | 0d:00:01:45 | +1.00e-03 | 36.0                               +7.01e+00 | 0d:00:01:46 | +1.00e-03 | 43.4                               +6.88e+00 | 0d:00:01:48 | +1.00e-03 | 42.8                               +7.18e+00 | 0d:00:01:49 | +1.00e-03 | 43.4                               +7.07e+00 | 0d:00:01:51 | +1.00e-03 | 44.1                               +7.20e+00 | 0d:00:01:52 | +1.00e-03 | 47.0                               +7.18e+00 | 0d:00:01:53 | +1.00e-03 | 44.3                               +7.21e+00 | 0d:00:01:55 | +1.00e-03 | 47.6                               +7.12e+00 | 0d:00:01:56 | +1.00e-03 | 44.6                               +7.07e+00 | 0d:00:01:58 | +1.00e-03 | 45.1                               +7.11e+00 | 0d:00:01:59 | +1.00e-03 | 42.4                               +6.91e+00 | 0d:00:02:01 | +1.00e-03 | 46.6                               +7.12e+00 | 0d:00:02:02 | +1.00e-03 | 42.9                               +7.08e+00 | 0d:00:02:04 | +1.00e-03 | 41.2                               +7.02e+00 | 0d:00:02:05 | +1.00e-03 | 38.9                               +7.19e+00 | 0d:00:02:07 | +1.00e-03 | 36.0                               +7.28e+00 | 0d:00:02:09 | +1.00e-03 | 37.1                               +7.33e+00 | 0d:00:02:10 | +1.00e-03 | 44.3                               +7.09e+00 | 0d:00:02:12 | +1.00e-03 | 46.6                               +7.05e+00 | 0d:00:02:13 | +1.00e-03 | 43.4                               +7.22e+00 | 0d:00:02:14 | +1.00e-03 | 46.4                               +7.03e+00 | 0d:00:02:16 | +1.00e-03 | 41.4                               +7.24e+00 | 0d:00:02:17 | +1.00e-03 | 45.7                               +7.35e+00 | 0d:00:02:19 | +1.00e-03 | 43.3                               +7.27e+00 | 0d:00:02:20 | +1.00e-03 | 41.9                               +7.07e+00 | 0d:00:02:22 | +1.00e-03 | 36.9                               +7.36e+00 | 0d:00:02:24 | +1.00e-03 | 38.0                               +7.13e+00 | 0d:00:02:25 | +1.00e-03 | 47.4                               +7.08e+00 | 0d:00:02:26 | +1.00e-03 | 47.3                               "
     ]
    },
    {
     "name": "stdout",
     "output_type": "stream",
     "text": [
      "0d:00:07:57 | 1    | 19,968    | +7.03e+00 | +6.72e+00 | +7.13e+00 | 0d:00:02:28 | +1.00e-03 | 49.4                               +7.46e+00 | 0d:00:02:29 | +1.00e-03 | 42.5                               +7.07e+00 | 0d:00:02:31 | +1.00e-03 | 49.7                               +7.08e+00 | 0d:00:02:32 | +1.00e-03 | 47.0                               +7.12e+00 | 0d:00:02:33 | +1.00e-03 | 48.4                               +6.99e+00 | 0d:00:02:35 | +1.00e-03 | 37.1                               +7.17e+00 | 0d:00:02:37 | +1.00e-03 | 35.8                               +7.15e+00 | 0d:00:02:39 | +1.00e-03 | 34.9                               +7.28e+00 | 0d:00:02:40 | +1.00e-03 | 40.2                               +7.07e+00 | 0d:00:02:42 | +1.00e-03 | 47.7                               +7.09e+00 | 0d:00:02:43 | +1.00e-03 | 45.7                               +7.45e+00 | 0d:00:02:44 | +1.00e-03 | 47.0                               +7.17e+00 | 0d:00:02:46 | +1.00e-03 | 43.5                               +7.17e+00 | 0d:00:02:47 | +1.00e-03 | 47.0                               +6.97e+00 | 0d:00:02:49 | +1.00e-03 | 45.9                               +7.06e+00 | 0d:00:02:50 | +1.00e-03 | 47.8                               +7.11e+00 | 0d:00:02:51 | +1.00e-03 | 46.8                               +7.26e+00 | 0d:00:02:53 | +1.00e-03 | 47.8                               +7.26e+00 | 0d:00:02:54 | +1.00e-03 | 46.8                               +6.94e+00 | 0d:00:02:55 | +1.00e-03 | 46.2                               +7.14e+00 | 0d:00:02:57 | +1.00e-03 | 40.3                               +6.94e+00 | 0d:00:02:58 | +1.00e-03 | 45.5                               +7.26e+00 | 0d:00:03:00 | +1.00e-03 | 49.4                               +7.19e+00 | 0d:00:03:01 | +1.00e-03 | 47.1                               +7.12e+00 | 0d:00:03:02 | +1.00e-03 | 44.6                               +7.13e+00 | 0d:00:03:04 | +1.00e-03 | 39.8                               +7.04e+00 | 0d:00:03:06 | +1.00e-03 | 37.5                               +7.08e+00 | 0d:00:03:07 | +1.00e-03 | 36.6                               +7.04e+00 | 0d:00:03:09 | +1.00e-03 | 42.8                               +7.04e+00 | 0d:00:03:11 | +1.00e-03 | 40.1                               +7.13e+00 | 0d:00:03:12 | +1.00e-03 | 43.9                               +7.15e+00 | 0d:00:03:13 | +1.00e-03 | 47.1                               +7.20e+00 | 0d:00:03:15 | +1.00e-03 | 46.2                               +7.31e+00 | 0d:00:03:16 | +1.00e-03 | 49.8                               +6.87e+00 | 0d:00:03:17 | +1.00e-03 | 46.6                               +7.20e+00 | 0d:00:03:19 | +1.00e-03 | 44.7                               +7.09e+00 | 0d:00:03:20 | +1.00e-03 | 44.7                               +7.26e+00 | 0d:00:03:22 | +1.00e-03 | 42.0                               +7.34e+00 | 0d:00:03:23 | +1.00e-03 | 44.3                               +7.05e+00 | 0d:00:03:25 | +1.00e-03 | 30.2                               +7.15e+00 | 0d:00:03:27 | +1.00e-03 | 41.9                               +7.09e+00 | 0d:00:03:28 | +1.00e-03 | 45.8                               +7.25e+00 | 0d:00:03:30 | +1.00e-03 | 44.6                               +7.27e+00 | 0d:00:03:31 | +1.00e-03 | 46.3                               +6.96e+00 | 0d:00:03:35 | +1.00e-03 | 18.9                               +7.04e+00 | 0d:00:03:37 | +1.00e-03 | 26.9                               +7.19e+00 | 0d:00:03:38 | +1.00e-03 | 42.1                               +7.03e+00 | 0d:00:03:41 | +1.00e-03 | 23.6                               +6.94e+00 | 0d:00:03:43 | +1.00e-03 | 27.4                               +7.03e+00 | 0d:00:03:45 | +1.00e-03 | 36.7                               +6.90e+00 | 0d:00:03:47 | +1.00e-03 | 40.7                               +7.15e+00 | 0d:00:03:49 | +1.00e-03 | 36.0                               +6.98e+00 | 0d:00:03:50 | +1.00e-03 | 42.6                               +7.21e+00 | 0d:00:03:51 | +1.00e-03 | 46.1                               +7.02e+00 | 0d:00:03:53 | +1.00e-03 | 47.7                               +7.02e+00 | 0d:00:03:54 | +1.00e-03 | 47.1                               +7.30e+00 | 0d:00:03:56 | +1.00e-03 | 45.0                               +7.21e+00 | 0d:00:03:57 | +1.00e-03 | 48.2                               +7.12e+00 | 0d:00:03:58 | +1.00e-03 | 45.4                               +7.12e+00 | 0d:00:04:00 | +1.00e-03 | 47.0                               +7.15e+00 | 0d:00:04:01 | +1.00e-03 | 45.1                               +7.13e+00 | 0d:00:04:02 | +1.00e-03 | 48.5                               +7.19e+00 | 0d:00:04:04 | +1.00e-03 | 43.7                               +7.06e+00 | 0d:00:04:05 | +1.00e-03 | 46.9                               +7.20e+00 | 0d:00:04:07 | +1.00e-03 | 46.3                               +7.12e+00 | 0d:00:04:08 | +1.00e-03 | 47.7                               +7.11e+00 | 0d:00:04:09 | +1.00e-03 | 45.8                               +7.10e+00 | 0d:00:04:11 | +1.00e-03 | 47.4                               +7.08e+00 | 0d:00:04:12 | +1.00e-03 | 45.9                               +7.23e+00 | 0d:00:04:13 | +1.00e-03 | 45.9                               +7.18e+00 | 0d:00:04:15 | +1.00e-03 | 46.5                               +7.16e+00 | 0d:00:04:16 | +1.00e-03 | 45.1                               +6.92e+00 | 0d:00:04:18 | +1.00e-03 | 48.4                               +6.91e+00 | 0d:00:04:19 | +1.00e-03 | 46.3                               +7.01e+00 | 0d:00:04:20 | +1.00e-03 | 47.0                               +7.24e+00 | 0d:00:04:22 | +1.00e-03 | 46.4                               +7.02e+00 | 0d:00:04:23 | +1.00e-03 | 46.2                               +7.09e+00 | 0d:00:04:25 | +1.00e-03 | 44.8                               +7.22e+00 | 0d:00:04:26 | +1.00e-03 | 48.1                               +7.23e+00 | 0d:00:04:27 | +1.00e-03 | 47.1                               +7.14e+00 | 0d:00:04:29 | +1.00e-03 | 44.4                               +6.96e+00 | 0d:00:04:30 | +1.00e-03 | 47.7                               +7.39e+00 | 0d:00:04:31 | +1.00e-03 | 45.1                               +7.19e+00 | 0d:00:04:33 | +1.00e-03 | 47.5                               +7.07e+00 | 0d:00:04:34 | +1.00e-03 | 43.0                               +7.07e+00 | 0d:00:04:36 | +1.00e-03 | 40.9                               +7.08e+00 | 0d:00:04:38 | +1.00e-03 | 38.4                               \n",
      "Stop condition reached. num_traces: 20000\n",
      "0d:00:07:58 | 1    | 20,032    | +7.03e+00 | +6.72e+00 | +7.27e+00 | 0d:00:04:39 | +1.00e-03 | 47.8                               \n"
     ]
    }
   ],
   "source": [
    "model.learn_inference_network(num_traces=20000,\n",
    "            observe_embeddings=observemb,\n",
    "            inference_network=pyprob.InferenceNetwork.LSTM)"
   ]
  },
  {
   "cell_type": "code",
   "execution_count": 20,
   "metadata": {},
   "outputs": [
    {
     "name": "stdout",
     "output_type": "stream",
     "text": [
      "Time spent  | Time remain.| Progress             | Trace       | Traces/sec\n",
      "0d:00:05:45 | 0d:00:00:00 | #################### | 10000/10000 | 28.97       \n"
     ]
    }
   ],
   "source": [
    "posterior = model.posterior_results(\n",
    "                num_traces=10000, # the number of samples estimating the posterior\n",
    "                inference_engine=pyprob.InferenceEngine.IMPORTANCE_SAMPLING_WITH_INFERENCE_NETWORK, \n",
    "                observe= observdic )"
   ]
  },
  {
   "cell_type": "code",
   "execution_count": 21,
   "metadata": {},
   "outputs": [
    {
     "name": "stdout",
     "output_type": "stream",
     "text": [
      "(tensor(22.0710), tensor(18.4651), tensor(43.4458))\n"
     ]
    }
   ],
   "source": [
    "print(posterior.sample())"
   ]
  },
  {
   "cell_type": "code",
   "execution_count": 22,
   "metadata": {},
   "outputs": [
    {
     "data": {
      "text/plain": [
       "tensor([22.0705, 18.4650, 43.4460])"
      ]
     },
     "execution_count": 22,
     "metadata": {},
     "output_type": "execute_result"
    }
   ],
   "source": [
    "posterior.mean"
   ]
  },
  {
   "cell_type": "code",
   "execution_count": 23,
   "metadata": {},
   "outputs": [
    {
     "data": {
      "image/png": "[encoded data removed]",
      "text/plain": [
       "<Figure size 720x360 with 1 Axes>"
      ]
     },
     "metadata": {
      "needs_background": "light"
     },
     "output_type": "display_data"
    }
   ],
   "source": [
    "posterior_first = posterior.map(lambda v: v[2]) # extract var_0\n",
    "var_0_mean = posterior_first.mean\n",
    "posterior_first.plot_histogram(show=True, bins=100)"
   ]
  },
  {
   "cell_type": "code",
   "execution_count": 24,
   "metadata": {},
   "outputs": [
    {
     "data": {
      "image/png": "[encoded data removed]",
      "text/plain": [
       "<Figure size 720x360 with 1 Axes>"
      ]
     },
     "metadata": {
      "needs_background": "light"
     },
     "output_type": "display_data"
    }
   ],
   "source": [
    "posterior_first = posterior.map(lambda v: v[1]) # extract var_0\n",
    "var_0_mean = posterior_first.mean\n",
    "posterior_first.plot_histogram(show=True, bins=100)"
   ]
  },
  {
   "cell_type": "code",
   "execution_count": 25,
   "metadata": {},
   "outputs": [
    {
     "data": {
      "image/png": "[encoded data removed]",
      "text/plain": [
       "<Figure size 720x360 with 1 Axes>"
      ]
     },
     "metadata": {
      "needs_background": "light"
     },
     "output_type": "display_data"
    }
   ],
   "source": [
    "posterior_first = posterior.map(lambda v: v[0]) # extract var_0\n",
    "var_0_mean = posterior_first.mean\n",
    "posterior_first.plot_histogram(show=True, bins=100)"
   ]
  },
  {
   "cell_type": "code",
   "execution_count": null,
   "metadata": {},
   "outputs": [],
   "source": []
  }
 ],
 "metadata": {
  "kernelspec": {
   "display_name": "Python 3",
   "language": "python",
   "name": "python3"
  },
  "language_info": {
   "codemirror_mode": {
    "name": "ipython",
    "version": 3
   },
   "file_extension": ".py",
   "mimetype": "text/x-python",
   "name": "python",
   "nbconvert_exporter": "python",
   "pygments_lexer": "ipython3",
   "version": "3.6.4"
  }
 },
 "nbformat": 4,
 "nbformat_minor": 2
}
