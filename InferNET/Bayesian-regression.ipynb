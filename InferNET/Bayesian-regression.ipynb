{
  "metadata": {
    "kernelspec": {
      "display_name": "F#",
      "language": "fsharp",
      "name": "ifsharp"
    },
    "language": "fsharp",
    "language_info": {
      "codemirror_mode": "",
      "file_extension": ".fs",
      "mimetype": "text/x-fsharp",
      "name": "fsharp",
      "nbconvert_exporter": "",
      "pygments_lexer": "",
      "version": "4.3.1.0"
    }
  },
  "nbformat_minor": 2,
  "nbformat": 4,
  "cells": [
    {
      "cell_type": "markdown",
      "source": "# Bayesian regression",
      "metadata": {
        "slideshow": {
          "slide_type": "slide"
        }
      }
    },
    {
      "cell_type": "markdown",
      "source": "Source: https://github.com/usptact/Infer.NET-BayesianRegression/blob/master/BayesianRegression/Program.cs  \nAuthor: **Vladislavs Dovgalecs**   \nA second example, below, is by **John Winn**.",
      "metadata": {
        "slideshow": {
          "slide_type": "slide"
        }
      }
    },
    {
      "cell_type": "markdown",
      "source": "### Links",
      "metadata": {
        "slideshow": {
          "slide_type": "slide"
        }
      }
    },
    {
      "cell_type": "markdown",
      "source": "http://infernet.azurewebsites.net/default.aspx    ",
      "metadata": {
        "slideshow": {
          "slide_type": "slide"
        }
      }
    },
    {
      "cell_type": "markdown",
      "source": "## Load & open packages",
      "metadata": {
        "slideshow": {
          "slide_type": "subslide"
        }
      }
    },
    {
      "cell_type": "markdown",
      "source": "https://fsprojects.github.io/Paket/",
      "metadata": {}
    },
    {
      "cell_type": "markdown",
      "source": "Packages in F# can be installed via `nuget.org` using the Paket dependency manager.\nTo install packages from NuGet you should first load the Packet package manager:",
      "metadata": {}
    },
    {
      "cell_type": "code",
      "source": "#load \"Paket.fsx\"",
      "metadata": {},
      "execution_count": 1,
      "outputs": []
    },
    {
      "cell_type": "markdown",
      "source": "You can then have Paket install the packages:",
      "metadata": {}
    },
    {
      "cell_type": "code",
      "source": "Paket.Package\n  [   // \"Infer.NET\" (pre Oct 2018 namespace)\n      \"Microsoft.ML.Probabilistic\"\n      \"Microsoft.ML.Probabilistic.Compiler\"\n      //\"Microsoft.ML.Probabilistic.FSharp\"  // Not on nuget, yet?\n      \"NETStandard.Library\" // Necessary??\n  ]",
      "metadata": {},
      "execution_count": 2,
      "outputs": []
    },
    {
      "cell_type": "code",
      "source": "#load \"Paket.Generated.Refs.fsx\"  // Do we need this?",
      "metadata": {},
      "execution_count": 3,
      "outputs": []
    },
    {
      "cell_type": "markdown",
      "source": "### `FSharpWrapper`",
      "metadata": {}
    },
    {
      "cell_type": "markdown",
      "source": "See  https://github.com/dotnet/infer/blob/master/src/FSharpWrapper/FSharpWrapper.fs   \nhttps://github.com/fsprojects/IfSharp/issues/146 (Thanks for help, Colin Gravill!)   \nhttps://fsprojects.github.io/Paket/github-dependencies.html",
      "metadata": {}
    },
    {
      "cell_type": "code",
      "source": "Paket.GitHub [\"dotnet/infer src/FSharpWrapper/FSharpWrapper.fs\"]",
      "metadata": {},
      "execution_count": 4,
      "outputs": []
    },
    {
      "cell_type": "code",
      "source": "// #load \"/home/nbuser/IfSharp/bin/paket-files/github/dotnet/infer/src/FSharpWrapper/FSharpWrapper.fs\" // Not yet!?",
      "metadata": {
        "scrolled": true
      },
      "execution_count": 5,
      "outputs": []
    },
    {
      "cell_type": "markdown",
      "source": "### Assembly search paths and references",
      "metadata": {}
    },
    {
      "cell_type": "markdown",
      "source": "### Load & open packages",
      "metadata": {}
    },
    {
      "cell_type": "code",
      "source": "#I \"/home/nbuser/IfSharp/bin/packages/Microsoft.ML.Probabilistic/lib/netstandard2.0\"\n#I \"/home/nbuser/IfSharp/bin/packages/Microsoft.ML.Probabilistic.Compiler/lib/netstandard2.0\"\n#I \"/home/nbuser/IfSharp/bin/packages/NETStandard.Library/build/netstandard2.0/ref\"",
      "metadata": {},
      "execution_count": 6,
      "outputs": []
    },
    {
      "cell_type": "code",
      "source": "#r \"Microsoft.ML.Probabilistic\"\n#r \"Microsoft.ML.Probabilistic.Compiler\"\n#r \"netstandard\"",
      "metadata": {},
      "execution_count": 7,
      "outputs": []
    },
    {
      "cell_type": "markdown",
      "source": "## Model",
      "metadata": {}
    },
    {
      "cell_type": "markdown",
      "source": "Source: https://github.com/usptact/Infer.NET-BayesianRegression/blob/master/BayesianRegression/Program.cs  ",
      "metadata": {}
    },
    {
      "cell_type": "markdown",
      "source": "The required classes are:\n* `Microsoft.ML.Probabilistic`\n * `Distributions`\n   * `Gaussian`\n   * `VectorGaussian`\n * `Maths`\n   * `Vector`\n * `Models`\n   * `Variable`\n   * `VariableArray`\n   * `Range`",
      "metadata": {}
    },
    {
      "cell_type": "code",
      "source": "open System\nopen Microsoft.ML.Probabilistic\nopen Microsoft.ML.Probabilistic.Algorithms\nopen Microsoft.ML.Probabilistic.Distributions // VectorGaussian, Gamma\nopen Microsoft.ML.Probabilistic.Math          // Vector\nopen Microsoft.ML.Probabilistic.Models        // Variable, VariableArray, Range\nopen Microsoft.ML.Probabilistic.Factors\nopen Microsoft.ML.Probabilistic.Factors.Attributes",
      "metadata": {},
      "execution_count": 46,
      "outputs": []
    },
    {
      "cell_type": "code",
      "source": "#load \"/home/nbuser/IfSharp/bin/paket-files/github/dotnet/infer/src/FSharpWrapper/FSharpWrapper.fs\"",
      "metadata": {
        "scrolled": true
      },
      "execution_count": 9,
      "outputs": []
    },
    {
      "cell_type": "code",
      "source": "open Microsoft.ML.Probabilistic.FSharp",
      "metadata": {},
      "execution_count": 10,
      "outputs": []
    },
    {
      "cell_type": "markdown",
      "source": "### Challenger O-ring data",
      "metadata": {}
    },
    {
      "cell_type": "markdown",
      "source": "http://archive.ics.uci.edu/ml/machine-learning-databases/space-shuttle/o-ring-erosion-only.data ",
      "metadata": {}
    },
    {
      "cell_type": "code",
      "source": "let temp = [| 66.; 70.; 69.; 68.; 67.; 72.; 73.; 70.; 57.; 63.; 70.; 78.; 67.; 53.; 67.; 75.; 70.; 81.; 76.; 79.; 75.; 76.; 58. |]\nlet distressInt = [| 0; 1; 0; 0; 0; 0; 0; 0; 1; 1; 1; 0; 0; 2; 0; 0; 0; 0; 0; 0; 0; 0; 1 |]  \nlet distress = distressInt |> Array.map (fun z -> float(z))",
      "metadata": {},
      "execution_count": 11,
      "outputs": []
    },
    {
      "cell_type": "code",
      "source": "// put features into array of Vectors\nlet (xdata:Vector[]) = temp |> Array.map (fun z-> Vector.FromArray(z, 1.))         // including bias\n//let xdata2 = temp |> Array.map (fun z-> Vector.FromArray([|z; 1.|]))    // Alternative array syntax",
      "metadata": {},
      "execution_count": 12,
      "outputs": []
    },
    {
      "cell_type": "markdown",
      "source": "### Model variables",
      "metadata": {}
    },
    {
      "cell_type": "markdown",
      "source": "#### Prior distribution `w`",
      "metadata": {}
    },
    {
      "cell_type": "markdown",
      "source": "Define a prior distribution and attach that to `w` random variable",
      "metadata": {}
    },
    {
      "cell_type": "code",
      "source": "let wPrior = VectorGaussian(Vector.Zero(2), PositiveDefiniteMatrix.Identity(2))   \nlet w:Variable<Vector> = Variable.Random(wPrior)        ",
      "metadata": {},
      "execution_count": 13,
      "outputs": []
    },
    {
      "cell_type": "markdown",
      "source": "#### Noise",
      "metadata": {}
    },
    {
      "cell_type": "code",
      "source": "// hard-code variance\nlet noiseDist = Gamma(1., 2.)             \nlet noise:Variable<float> = Variable.Random(noiseDist)    ",
      "metadata": {},
      "execution_count": 14,
      "outputs": []
    },
    {
      "cell_type": "markdown",
      "source": "#### Features **`x`** and observations **`y`**",
      "metadata": {}
    },
    {
      "cell_type": "code",
      "source": "// set features \"x\" and observations \"y\" as observed in the model\nlet y:VariableArray<float> = Variable.Observed<float>(distress)  \nlet n = y.Range                           \nlet x:VariableArray<Vector> = Variable.Observed(xdata, n)       ",
      "metadata": {},
      "execution_count": 15,
      "outputs": []
    },
    {
      "cell_type": "markdown",
      "source": "Define `y` statistically: Gaussian RV array. Mean is defined by dot-product of param vector `w` and the feature vector `x[n]`",
      "metadata": {}
    },
    {
      "cell_type": "code",
      "source": "// define \"y\" statistically: Gaussian RV array. Mean is defined by dot-product of param vector \"w\" and the feature vector x[n]\nlet mean:Variable<float> = Variable.InnerProduct(w, x.[n])\nlet ydist:Variable<float> = Variable.GaussianFromMeanAndVariance(mean, noise)",
      "metadata": {},
      "execution_count": 16,
      "outputs": []
    },
    {
      "cell_type": "code",
      "source": "y.[n] <- ydist   // y.set_Item(n, ydist)",
      "metadata": {},
      "execution_count": 17,
      "outputs": []
    },
    {
      "cell_type": "markdown",
      "source": "### Training: parameter inference",
      "metadata": {}
    },
    {
      "cell_type": "markdown",
      "source": "https://dotnet.github.io/infer/apiguide/api/Microsoft.ML.Probabilistic.Models.InferenceEngine.html",
      "metadata": {}
    },
    {
      "cell_type": "code",
      "source": "let engine = InferenceEngine()\nengine.Compiler.RecommendedQuality <- QualityBand.Experimental",
      "metadata": {},
      "execution_count": 18,
      "outputs": []
    },
    {
      "cell_type": "markdown",
      "source": "Choose to dump the model as Scalable Vector Graphics (SVG) `.svg` or Model Specification Language (MSL)`.gv` files to the working directory\n* [ShowFactorGraph](https://dotnet.github.io/infer/apiguide/api/Microsoft.ML.Probabilistic.Models.InferenceEngine.html#Microsoft_ML_Probabilistic_Models_InferenceEngine_ShowFactorGraph)\n* [ShowMsl](https://dotnet.github.io/infer/apiguide/api/Microsoft.ML.Probabilistic.Models.InferenceEngine.html#Microsoft_ML_Probabilistic_Models_InferenceEngine_ShowMsl)",
      "metadata": {}
    },
    {
      "cell_type": "code",
      "source": "//engine.ShowFactorGraph <- true\n//engine.ShowMsl <-true",
      "metadata": {},
      "execution_count": 45,
      "outputs": []
    },
    {
      "cell_type": "code",
      "source": "// infer \"w\" posterior as a distribution\nlet wPosterior:VectorGaussian = engine.Infer<VectorGaussian>(w)\nlet noisePosterior:Gamma = engine.Infer<Gamma>(noise)",
      "metadata": {},
      "execution_count": 42,
      "outputs": []
    },
    {
      "cell_type": "code",
      "source": "printfn \"Distribution over w = \\n %A\" wPosterior",
      "metadata": {},
      "execution_count": 43,
      "outputs": [
        {
          "output_type": "display_data",
          "data": {
            "text/plain": "Distribution over w = \n VectorGaussian(56.16 11.71, 0.1238   -0.01344)\n                            -0.01344 0.01423 \n"
          },
          "metadata": {}
        }
      ]
    },
    {
      "cell_type": "code",
      "source": "printfn \"Distribution over noise = \\n %A\"  noisePosterior",
      "metadata": {},
      "execution_count": 44,
      "outputs": [
        {
          "output_type": "display_data",
          "data": {
            "text/plain": "Distribution over noise = \n Gamma(12.11, 0.01916)[mean=0.232]\n"
          },
          "metadata": {}
        }
      ]
    },
    {
      "cell_type": "markdown",
      "source": "### Prediction",
      "metadata": {}
    },
    {
      "cell_type": "code",
      "source": "// one data point\nlet tempTest = 31.\n\n// RV for prediction\n//let distressTest = Variable.Observed(tempTest)",
      "metadata": {},
      "execution_count": 22,
      "outputs": []
    },
    {
      "cell_type": "code",
      "source": "// RV for feature vector\nlet xdataTest = Vector.FromArray(tempTest, 1.)   // MR.Infer.Maths.DenseVector\nlet (xTest:Variable<Vector>) = Variable.Observed<Vector>(xdataTest)",
      "metadata": {},
      "execution_count": 23,
      "outputs": []
    },
    {
      "cell_type": "code",
      "source": "// set w distribution that was obtained from training\nlet wParam:Variable<Vector> = Variable.Random(wPosterior)          \nlet noiseParam:Variable<float> = Variable.Random(noisePosterior)",
      "metadata": {},
      "execution_count": 24,
      "outputs": []
    },
    {
      "cell_type": "code",
      "source": "// RV for prediction\nlet mean2:Variable<float> = Variable.InnerProduct(wParam, xTest)",
      "metadata": {},
      "execution_count": 25,
      "outputs": []
    },
    {
      "cell_type": "code",
      "source": "let distressTest:Variable<float> = Variable.GaussianFromMeanAndVariance(mean2, noiseParam)",
      "metadata": {},
      "execution_count": 26,
      "outputs": []
    },
    {
      "cell_type": "code",
      "source": "// infer and print prediction distribution\nengine.Infer(distressTest)",
      "metadata": {},
      "execution_count": 27,
      "outputs": [
        {
          "execution_count": 27,
          "output_type": "execute_result",
          "data": {
            "text/plain": "Gaussian(1.341, 0.4049)"
          },
          "metadata": {}
        },
        {
          "output_type": "display_data",
          "data": {
            "text/plain": "Compiling model...done.\n"
          },
          "metadata": {}
        }
      ]
    },
    {
      "cell_type": "code",
      "source": "// Not sure why this fails? Perhaps the call to Infer does not simply return a string? \n// printfn \"Test distress = \\n %A\" engine.Infer(distressTest)",
      "metadata": {},
      "execution_count": 47,
      "outputs": []
    },
    {
      "cell_type": "markdown",
      "source": "### View model",
      "metadata": {}
    },
    {
      "cell_type": "markdown",
      "source": "#### `Models/Model_10_17_18_00_59_42_65.svg`",
      "metadata": {}
    },
    {
      "cell_type": "code",
      "source": "Util.Image(\"Models/Model_10_17_18_00_59_42_65.svg\") |> Display  // Should work??",
      "metadata": {
        "trusted": true
      },
      "execution_count": 54,
      "outputs": [
        {
          "execution_count": 54,
          "output_type": "display_data",
          "data": {
            "image/jpeg": "[encoded data removed]"
          },
          "metadata": {}
        }
      ]
    },
    {
      "cell_type": "code",
      "source": "let html x = { Html = x } // IfSharp can render a record with single item of form {Html = \"html-string\"}",
      "metadata": {
        "trusted": true
      },
      "execution_count": 55,
      "outputs": []
    },
    {
      "cell_type": "code",
      "source": "html \"\"\"<img src=\"Models/Model_10_17_18_00_59_42_65.svg\" alt=\"Model SVG\">\"\"\"",
      "metadata": {
        "trusted": true
      },
      "execution_count": 56,
      "outputs": [
        {
          "execution_count": 56,
          "output_type": "execute_result",
          "data": {
            "text/html": "<img src=\"Models/Model_10_17_18_00_59_42_65.svg\" alt=\"Model SVG\">"
          },
          "metadata": {}
        }
      ]
    },
    {
      "cell_type": "code",
      "source": "// ![](Models/Model_10_17_18_00_59_42_65.svg \"Model\") (Markdown)",
      "metadata": {
        "trusted": true
      },
      "execution_count": 50,
      "outputs": []
    },
    {
      "cell_type": "markdown",
      "source": "## Example 2",
      "metadata": {}
    },
    {
      "cell_type": "markdown",
      "source": "Author: John Winn",
      "metadata": {}
    },
    {
      "cell_type": "markdown",
      "source": "https://social.microsoft.com/Forums/en-US/3fed94a3-f0da-4dc7-993f-71d9b571d278/bayesian-linear-regression-migrated-from-communityresearchmicrosoftcom?forum=infer.net   \nhttps://tminka.github.io/papers/minka-linear.pdf   ",
      "metadata": {}
    },
    {
      "cell_type": "code",
      "source": "let (data:Vector[]) =  \n    [|  [| 1.0; -3. |]; [| 1.0; -2.1 |]; [| 1.0; -1.3 |];  [| 1.0; 0.5 |];  \n        [| 1.0; 1.2 |]; [| 1.0;  3.3 |]; [| 1.0;  4.4 |];  [| 1.0; 5.5 |] |]\n    |> Array.map (fun z-> Vector.FromArray(z))",
      "metadata": {},
      "execution_count": 29,
      "outputs": []
    },
    {
      "cell_type": "code",
      "source": "let rows:Range = Range(data.Length)",
      "metadata": {},
      "execution_count": 30,
      "outputs": []
    },
    {
      "cell_type": "code",
      "source": "let x:VariableArray<Vector> = Variable.Constant(data, rows).Named(\"x\")",
      "metadata": {},
      "execution_count": 31,
      "outputs": []
    },
    {
      "cell_type": "code",
      "source": "let wMean = Vector.FromArray([| 0.; 0.|])\nlet wPrecision = PositiveDefiniteMatrix.Identity(2)\nlet w:Variable<Vector> = Variable.VectorGaussianFromMeanAndPrecision(wMean,wPrecision).Named(\"w\");",
      "metadata": {},
      "execution_count": 32,
      "outputs": []
    },
    {
      "cell_type": "code",
      "source": "let y:VariableArray<float> = Variable.Array<float>(rows)\ny.[rows] <- Variable.GaussianFromMeanAndVariance(Variable.InnerProduct(x.[rows], w),1.0)\ny.ObservedValue <- [| 30.; 45.; 40.; 80.; 70.; 100.; 130.; 110. |] ",
      "metadata": {},
      "execution_count": 33,
      "outputs": []
    },
    {
      "cell_type": "code",
      "source": "let engine2 = InferenceEngine(VariationalMessagePassing())\nlet postW = engine2.Infer<VectorGaussian>(w)\nprintfn \"Posterior over the weights: \\n %A\" postW",
      "metadata": {},
      "execution_count": 48,
      "outputs": [
        {
          "output_type": "display_data",
          "data": {
            "text/plain": "Compiling model...done.\nPosterior over the weights: \n VectorGaussian(56.16 11.71, 0.1238   -0.01344)\n                            -0.01344 0.01423 \n"
          },
          "metadata": {}
        }
      ]
    },
    {
      "cell_type": "code",
      "source": "",
      "metadata": {},
      "execution_count": null,
      "outputs": []
    }
  ]
}