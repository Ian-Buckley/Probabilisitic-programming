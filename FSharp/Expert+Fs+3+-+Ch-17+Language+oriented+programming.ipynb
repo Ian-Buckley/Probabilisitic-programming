{
 "cells": [
  {
   "cell_type": "markdown",
   "metadata": {},
   "source": [
    "# Expert F# - Chapter 17 - Language oriented programming\n",
    "Nada Amin:\n",
    "https://github.com/namin/spots/blob/master/probabilisticModeling/probabilisticModeling.fsx   \n",
    "**Expert F# 4.0**   \n",
    "Authors: Syme, Don, Granicz, Adam, Cisternino, Antonio   \n",
    "http://www.apress.com/us/book/9781484207413   \n",
    "**Stochastic Lambda Calculus and Monads of Probability Distribution**      \n",
    "Norman Ramsey and Avi Pfeffer  \n",
    "http://www.cs.tufts.edu/~nr/pubs/pmonad-abstract.html  \n",
    "**Practical Probabilistic Programming with Monads**   \n",
    "Adam Scibior, \n",
    "Zoubin Ghahramani, \n",
    "Andrew D. Gordon   \n",
    "http://mlg.eng.cam.ac.uk/pub/pdf/SciGhaGor15.pdf   \n",
    "** Probabilistic Programming: What It Is and How It Works** (in Scala)  \n",
    "Noel Welsh   \n",
    "https://www.youtube.com/watch?v=e1Ykk_CqKTY  \n",
    "A Probabilistic Functional Programming Language DSL in Scala:   \n",
    "https://github.com/noelwelsh/pfennig     \n",
    "\n",
    "See also:    \n",
    "https://www.google.ca/search?q=probability+monad   \n",
    "https://people.cs.kuleuven.be/~tom.schrijvers/Research/talks/probability_monad.pdf  \n",
    "http://jliszka.github.io/2013/08/12/a-frequentist-approach-to-probability.html  \n",
    "https://www.google.ca/search?q=free+monad  "
   ]
  },
  {
   "cell_type": "markdown",
   "metadata": {},
   "source": [
    "Nada Amin:   \n",
    "\n",
    "> For my induction into Scala, I wanted to translate the probabilistic\n",
    "monad of Chapter 9 of *[Expert F#][1]* (Introducing Language-Oriented\n",
    "Programming). The idea, based on the paper *[Stochastic Lambda\n",
    "Calculus and Monads of Probability Distributions][2]*, is to define a\n",
    "probability monad to compute over distributions of a domain instead of\n",
    "the domain itself. We limit ourselves to distributions over discrete\n",
    "domains characterized by three functions:\n",
    "\n",
    "> 1. **sampling**\n",
    "2. **support** \n",
    "   (i.e. a set of values where all elements outside the set have zero\n",
    "   chance of being sampled)\n",
    "3. **expectation** of a function over the distribution \n",
    "   (e.g. the probability of selecting element `A` by evaluating the\n",
    "   function `f(x) = 1` if `x` equals `A` and `0` otherwise)\n",
    "\n",
    "\n",
    "[1]: http://www.expert-fsharp.com\n",
    "[2]: http://www.cs.tufts.edu/~nr/pubs/pmonad-abstract.html"
   ]
  },
  {
   "cell_type": "markdown",
   "metadata": {},
   "source": [
    "Syme et al, P487:  "
   ]
  },
  {
   "cell_type": "markdown",
   "metadata": {},
   "source": [
    "## Example: Probabilistic Workflows\n",
    "Workflows provide a fascinating way to embed a range of nontrivial, nonstandard computations into F#.\n",
    "To give you a feel for this, this section defines a probabilistic workflow. That is, instead of writing\n",
    "expressions to compute, say, integers, you instead write expressions that compute distributions of integers.\n",
    "This case study is based on a paper by Ramsey and Pfeffer from 2002.\n",
    "\n",
    "For the purposes of this section, you’re interested in distributions over discrete domains characterized\n",
    "by three things:\n",
    "* You want to be able to **sample** from a distribution (for example, sample an integer or\n",
    "a coin flip).\n",
    "* You want to compute the **support** of a distribution: that is, a set of values in which all\n",
    "elements outside the set have zero chance of being sampled.\n",
    "* You want to compute the **expectation** of a function over the distribution. For\n",
    "example, you can compute the probability of selecting element A by evaluating the\n",
    "expectation of the function `(fun x -> if x = A then 1.0 else 0.0)`."
   ]
  },
  {
   "cell_type": "code",
   "execution_count": 1,
   "metadata": {
    "collapsed": true
   },
   "outputs": [],
   "source": [
    "open Microsoft.FSharp.Collections"
   ]
  },
  {
   "cell_type": "code",
   "execution_count": 2,
   "metadata": {
    "collapsed": true
   },
   "outputs": [],
   "source": [
    "type Distribution<'a when 'a : comparison> =\n",
    "    abstract Sample : 'a\n",
    "    abstract Support : Set<'a> // when 'a : comparison>\n",
    "    abstract Expectation: ('a -> float) -> float"
   ]
  },
  {
   "cell_type": "markdown",
   "metadata": {},
   "source": [
    "The simplest distribution is `always x`; this is a distribution that always samples to the same value. Its\n",
    "expectation and support are easy to calculate.\n",
    "The expectation of a function `H` is just `H` applied to the value,\n",
    "and the support is a set containing the single value `x`."
   ]
  },
  {
   "cell_type": "code",
   "execution_count": 3,
   "metadata": {
    "collapsed": true
   },
   "outputs": [],
   "source": [
    "let always x =\n",
    "    { new Distribution<'a> with\n",
    "         member d.Sample = x\n",
    "         member d.Support = Set.singleton x\n",
    "         member d.Expectation(H) = H(x) }"
   ]
  },
  {
   "cell_type": "markdown",
   "metadata": {},
   "source": [
    "### Coinflip\n",
    "The next distribution defined is `coinFlip`, which is a\n",
    "distribution that models the ability to choose between two outcomes."
   ]
  },
  {
   "cell_type": "code",
   "execution_count": 4,
   "metadata": {
    "collapsed": true
   },
   "outputs": [],
   "source": [
    "let rnd = System.Random()\n",
    "\n",
    "let coinFlip (p:float) (d1:Distribution<'a>) (d2:Distribution<'a>) =\n",
    "    if p < 0.0 || p > 1.0 then failwith \"invalid probability in coinFlip\"\n",
    "    { new Distribution<'a> with\n",
    "         member d.Sample =\n",
    "             if rnd.NextDouble() < p then d1.Sample else d2.Sample\n",
    "         member d.Support = d1.Support + d2.Support\n",
    "         member d.Expectation(H) =\n",
    "             p * d1.Expectation(H) + (1.0-p) * d2.Expectation(H) }"
   ]
  },
  {
   "cell_type": "markdown",
   "metadata": {},
   "source": [
    "### A builder for probabilistic modeling\n",
    "You can define a workflow builder for distribution objects.  \n",
    "\n",
    "Note the all-important `bind` primitive; it combines two distributions, using the sample\n",
    "from the first to guide the sample from the second. The support and expectation are calculated by taking\n",
    "the support from the first and splaying it over the support of the second. The expectation is computed by\n",
    "using the first distribution to compute the expectation of a function derived from the second. These are\n",
    "standard results in probability theory, and they are the basic machinery you need to get going with some\n",
    "interesting modeling."
   ]
  },
  {
   "cell_type": "code",
   "execution_count": 6,
   "metadata": {
    "collapsed": true
   },
   "outputs": [],
   "source": [
    "let bind (dist:Distribution<'a>) (k: 'a -> Distribution<'b>) =\n",
    "    { new Distribution<'b> with\n",
    "         member d.Sample = (k(dist.Sample)).Sample\n",
    "         member d.Support = Set.unionMany (dist.Support |> Set.map(fun d -> (k d).Support))\n",
    "         member d.Expectation(H) = dist.Expectation(fun x -> (k x).Expectation(H)) }"
   ]
  },
  {
   "cell_type": "code",
   "execution_count": 22,
   "metadata": {
    "collapsed": false
   },
   "outputs": [],
   "source": [
    "type DistributionBuilder() =\n",
    "    member x.Delay f = bind (always ()) f\n",
    "    member x.Let(v,f) = bind (always v) f\n",
    "    member x.Bind(d,f) = bind d f\n",
    "    member x.Return v = always v\n",
    "    member x.ReturnFrom vs = vs"
   ]
  },
  {
   "cell_type": "markdown",
   "metadata": {},
   "source": [
    "Test it."
   ]
  },
  {
   "cell_type": "code",
   "execution_count": 23,
   "metadata": {
    "collapsed": false
   },
   "outputs": [],
   "source": [
    "let dist = new DistributionBuilder()"
   ]
  },
  {
   "cell_type": "code",
   "execution_count": 24,
   "metadata": {
    "collapsed": true
   },
   "outputs": [],
   "source": [
    "let weightedCases (inp: ('a * float) list) =\n",
    "    let rec coinFlips w l =\n",
    "        match l with\n",
    "        | []          -> failwith \"no coinFlips\"\n",
    "        | [(d,_)]     -> always d\n",
    "        | (d,p)::rest -> coinFlip (p/(1.0-w)) (always d) (coinFlips (w+p) rest)\n",
    "    coinFlips 0.0 inp\n",
    "\n",
    "let countedCases inp =\n",
    "    let total = List.sumBy (fun (_,v) -> v) inp\n",
    "    weightedCases (inp |> List.map (fun (x,v) -> (x,(float v/float total))))\n",
    "\n",
    "type Outcome = Even | Odd | Zero\n",
    "let roulette = countedCases [ Even,18; Odd,18; Zero,1]"
   ]
  },
  {
   "cell_type": "code",
   "execution_count": 25,
   "metadata": {
    "collapsed": false
   },
   "outputs": [
    {
     "data": {
      "text/plain": [
       "Even"
      ]
     },
     "execution_count": 25,
     "metadata": {},
     "output_type": "execute_result"
    }
   ],
   "source": [
    "roulette.Sample"
   ]
  },
  {
   "cell_type": "code",
   "execution_count": 26,
   "metadata": {
    "collapsed": false
   },
   "outputs": [
    {
     "data": {
      "text/plain": [
       "4.864864865"
      ]
     },
     "execution_count": 26,
     "metadata": {},
     "output_type": "execute_result"
    }
   ],
   "source": [
    "roulette.Expectation (function Even -> 10.0 | Odd -> 0.0 | Zero -> 0.0)"
   ]
  },
  {
   "cell_type": "code",
   "execution_count": 27,
   "metadata": {
    "collapsed": true
   },
   "outputs": [],
   "source": [
    "type Light =\n",
    "    | Red\n",
    "    | Green\n",
    "    | Yellow\n",
    "\n",
    "let trafficLightD = weightedCases [ Red,0.50; Yellow,0.10; Green, 0.40 ]"
   ]
  },
  {
   "cell_type": "code",
   "execution_count": 28,
   "metadata": {
    "collapsed": false
   },
   "outputs": [],
   "source": [
    "type Action = Stop | Drive\n",
    "\n",
    "let cautiousDriver light =\n",
    "    dist { match light with\n",
    "           | Red -> return Stop\n",
    "           | Yellow -> return! weightedCases [ Stop, 0.9; Drive, 0.1 ]\n",
    "           | Green -> return Drive }\n",
    "\n",
    "let aggressiveDriver light =\n",
    "    dist { match light with\n",
    "           | Red    -> return! weightedCases [ Stop, 0.9; Drive, 0.1 ]\n",
    "           | Yellow -> return! weightedCases [ Stop, 0.1; Drive, 0.9 ]\n",
    "           | Green  -> return Drive }"
   ]
  },
  {
   "cell_type": "code",
   "execution_count": 29,
   "metadata": {
    "collapsed": false
   },
   "outputs": [],
   "source": [
    "let otherLight light =\n",
    "    match light with\n",
    "    | Red -> Green\n",
    "    | Yellow -> Red\n",
    "    | Green -> Red\n",
    "    \n",
    "type CrashResult = Crash | NoCrash\n",
    "\n",
    "let crash(driverOneD,driverTwoD,lightD) =\n",
    "    dist { // Sample from the traffic light\n",
    "           let! light = lightD\n",
    "\n",
    "           // Sample the first driver's behavior given the traffic light\n",
    "           let! driverOne = driverOneD light\n",
    "           \n",
    "           // Sample the second driver's behavior given the traffic light\n",
    "           let! driverTwo = driverTwoD (otherLight light)\n",
    "\n",
    "           // Work out the probability of a crash\n",
    "           match driverOne, driverTwo with\n",
    "             | Drive,Drive -> return! weightedCases [ Crash, 0.9; NoCrash, 0.1 ]\n",
    "             | _ -> return NoCrash }\n",
    "\n",
    "let model = crash(cautiousDriver,aggressiveDriver,trafficLightD)\n",
    "\n",
    "let model2 = crash(aggressiveDriver,aggressiveDriver,trafficLightD)"
   ]
  },
  {
   "cell_type": "code",
   "execution_count": 31,
   "metadata": {
    "collapsed": false
   },
   "outputs": [
    {
     "data": {
      "text/plain": [
       "NoCrash"
      ]
     },
     "execution_count": 31,
     "metadata": {},
     "output_type": "execute_result"
    }
   ],
   "source": [
    "model.Sample"
   ]
  },
  {
   "cell_type": "code",
   "execution_count": 32,
   "metadata": {
    "collapsed": false
   },
   "outputs": [
    {
     "data": {
      "text/plain": [
       "0.0369"
      ]
     },
     "execution_count": 32,
     "metadata": {},
     "output_type": "execute_result"
    }
   ],
   "source": [
    "model.Expectation(function Crash -> 1.0 | NoCrash -> 0.0)"
   ]
  },
  {
   "cell_type": "code",
   "execution_count": 33,
   "metadata": {
    "collapsed": false
   },
   "outputs": [
    {
     "data": {
      "text/plain": [
       "0.0891"
      ]
     },
     "execution_count": 33,
     "metadata": {},
     "output_type": "execute_result"
    }
   ],
   "source": [
    "model2.Expectation(function Crash -> 1.0 | NoCrash -> 0.0)"
   ]
  },
  {
   "cell_type": "code",
   "execution_count": null,
   "metadata": {
    "collapsed": true
   },
   "outputs": [],
   "source": []
  }
 ],
 "metadata": {
  "kernelspec": {
   "display_name": "F#",
   "language": "fsharp",
   "name": "ifsharp"
  },
  "language": "fsharp",
  "language_info": {
   "codemirror_mode": "",
   "file_extension": ".fs",
   "mimetype": "text/x-fsharp",
   "name": "fsharp",
   "nbconvert_exporter": "",
   "pygments_lexer": "",
   "version": "4.3.1.0"
  }
 },
 "nbformat": 4,
 "nbformat_minor": 2
}
