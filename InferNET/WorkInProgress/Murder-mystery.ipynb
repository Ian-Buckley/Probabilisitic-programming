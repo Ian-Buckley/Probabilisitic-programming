{
  "metadata": {
    "kernelspec": {
      "name": "ifsharp",
      "display_name": "F#",
      "language": "fsharp"
    },
    "language": "fsharp",
    "language_info": {
      "mimetype": "text/x-fsharp",
      "nbconvert_exporter": "",
      "name": "fsharp",
      "pygments_lexer": "",
      "version": "4.3.1.0",
      "file_extension": ".fs",
      "codemirror_mode": ""
    }
  },
  "nbformat_minor": 2,
  "nbformat": 4,
  "cells": [
    {
      "cell_type": "markdown",
      "source": "# Murder Mystery",
      "metadata": {}
    },
    {
      "cell_type": "markdown",
      "source": "\"*As the clock strikes midnight in the Old Tudor Mansion, a raging storm rattles the shutters and fills the house with the sound of thunder...*\" ([MBMLBook](http://www.mbmlbook.com/MurderMystery.html))",
      "metadata": {}
    },
    {
      "cell_type": "markdown",
      "source": "This has been updated in Oct 2018 (post Infer.NET open source launch!) to use: \n* the Paket dependency manager to get the package(s) from nuget\n* Paket to get the `FSharpWrapper` from github\n* the revised namespace `Microsoft.ML.Probabilistic` (was `MicrosoftResearch.Infer`)",
      "metadata": {}
    },
    {
      "cell_type": "markdown",
      "source": "## Links",
      "metadata": {
        "slideshow": {
          "slide_type": "slide"
        }
      }
    },
    {
      "cell_type": "markdown",
      "source": "http://infernet.azurewebsites.net/default.aspx    \nhttp://www.mbmlbook.com/MurderMystery.html    \nhttps://www.microsoft.com/en-us/research/wp-content/uploads/2016/02/fun-probabilistic_programming_obt_january_2013.pdf     \nhttps://github.com/prgoodwin/HabilisX/blob/master/Infer.NET%202.5/Samples/Fun/MurderMystery/MurderMystery.fs  (Uses Infer.NET Fun.)    \nhttp://mlss.tuebingen.mpg.de/2013/2013/bishop_slides.pdf   ",
      "metadata": {
        "slideshow": {
          "slide_type": "slide"
        }
      }
    },
    {
      "cell_type": "markdown",
      "source": "## Preamble",
      "metadata": {
        "slideshow": {
          "slide_type": "subslide"
        }
      }
    },
    {
      "cell_type": "markdown",
      "source": "### Install packages",
      "metadata": {
        "slideshow": {
          "slide_type": "subslide"
        }
      }
    },
    {
      "cell_type": "markdown",
      "source": "https://fsprojects.github.io/Paket/",
      "metadata": {}
    },
    {
      "cell_type": "markdown",
      "source": "Packages in F# can be installed via `nuget.org` using the Paket dependency manager.\nTo install packages from NuGet you should first load the Packet package manager:",
      "metadata": {}
    },
    {
      "cell_type": "code",
      "source": "#load \"Paket.fsx\"",
      "metadata": {
        "trusted": true
      },
      "execution_count": 1,
      "outputs": []
    },
    {
      "cell_type": "markdown",
      "source": "You can then have Paket install the packages:",
      "metadata": {}
    },
    {
      "cell_type": "code",
      "source": "Paket.Package\n  [   \"Microsoft.ML.Probabilistic\"\n      \"Microsoft.ML.Probabilistic.Compiler\"\n      //\"Microsoft.ML.Probabilistic.FSharp\"  // Not on nuget, yet?\n      \"NETStandard.Library\" \n  ]",
      "metadata": {
        "trusted": true
      },
      "execution_count": 2,
      "outputs": []
    },
    {
      "cell_type": "code",
      "source": "#load \"Paket.Generated.Refs.fsx\"  // Do we need this?",
      "metadata": {
        "trusted": true
      },
      "execution_count": 3,
      "outputs": []
    },
    {
      "cell_type": "markdown",
      "source": "### `FSharpWrapper`",
      "metadata": {}
    },
    {
      "cell_type": "markdown",
      "source": "See  https://github.com/dotnet/infer/blob/master/src/FSharpWrapper/FSharpWrapper.fs   \nhttps://github.com/fsprojects/IfSharp/issues/146 (Thanks for help, Colin Gravill!)   \nhttps://fsprojects.github.io/Paket/github-dependencies.html",
      "metadata": {}
    },
    {
      "cell_type": "code",
      "source": "Paket.GitHub [\"dotnet/infer src/FSharpWrapper/FSharpWrapper.fs\"]",
      "metadata": {
        "trusted": true
      },
      "execution_count": 5,
      "outputs": []
    },
    {
      "cell_type": "code",
      "source": "//#load \"/home/nbuser/IfSharp/bin/paket-files/github/dotnet/infer/src/FSharpWrapper/FSharpWrapper.fs\"",
      "metadata": {
        "scrolled": true,
        "trusted": true
      },
      "execution_count": 6,
      "outputs": []
    },
    {
      "cell_type": "markdown",
      "source": "### Check `paket` files",
      "metadata": {}
    },
    {
      "cell_type": "markdown",
      "source": "Project dependencies file:",
      "metadata": {}
    },
    {
      "cell_type": "code",
      "source": "open System\nopen System.IO",
      "metadata": {
        "trusted": true
      },
      "execution_count": 6,
      "outputs": []
    },
    {
      "cell_type": "code",
      "source": "File.ReadAllText(@\"../../IfSharp/bin/paket.dependencies\")",
      "metadata": {
        "trusted": true
      },
      "execution_count": null,
      "outputs": []
    },
    {
      "cell_type": "markdown",
      "source": "The `paket install` command will analyze your dependencies and automatically generate a `paket.lock` file:",
      "metadata": {}
    },
    {
      "cell_type": "code",
      "source": "File.ReadAllText(@\"../../IfSharp/bin/paket.lock\")",
      "metadata": {
        "trusted": true
      },
      "execution_count": null,
      "outputs": []
    },
    {
      "cell_type": "markdown",
      "source": "### Assembly search paths and references",
      "metadata": {}
    },
    {
      "cell_type": "code",
      "source": "#I \"/home/nbuser/IfSharp/bin/packages/Microsoft.ML.Probabilistic/lib/netstandard2.0\"\n#I \"/home/nbuser/IfSharp/bin/packages/Microsoft.ML.Probabilistic.Compiler/lib/netstandard2.0\"\n#I \"/home/nbuser/IfSharp/bin/packages/NETStandard.Library/build/netstandard2.0/ref\"",
      "metadata": {
        "trusted": true
      },
      "execution_count": 7,
      "outputs": []
    },
    {
      "cell_type": "code",
      "source": "#r \"Microsoft.ML.Probabilistic\"\n#r \"Microsoft.ML.Probabilistic.Compiler\"\n#r \"netstandard\"",
      "metadata": {
        "trusted": true
      },
      "execution_count": 8,
      "outputs": []
    },
    {
      "cell_type": "markdown",
      "source": "### Import declarations for modules or namespaces ",
      "metadata": {}
    },
    {
      "cell_type": "code",
      "source": "open Microsoft.ML.Probabilistic\nopen Microsoft.ML.Probabilistic.Algorithms\nopen Microsoft.ML.Probabilistic.Distributions // VectorGaussian, Gamma\nopen Microsoft.ML.Probabilistic.Factors\nopen Microsoft.ML.Probabilistic.Math          // Vector\nopen Microsoft.ML.Probabilistic.Models        // Variable, VariableArray, Range",
      "metadata": {
        "trusted": true
      },
      "execution_count": 9,
      "outputs": []
    },
    {
      "cell_type": "code",
      "source": "#load \"/home/nbuser/IfSharp/bin/paket-files/github/dotnet/infer/src/FSharpWrapper/FSharpWrapper.fs\"",
      "metadata": {
        "trusted": true
      },
      "execution_count": 10,
      "outputs": []
    },
    {
      "cell_type": "code",
      "source": "open Microsoft.ML.Probabilistic.FSharp",
      "metadata": {
        "trusted": true
      },
      "execution_count": 11,
      "outputs": []
    },
    {
      "cell_type": "markdown",
      "source": "### Murder Mystery",
      "metadata": {}
    },
    {
      "cell_type": "markdown",
      "source": "* Either Alice or Bob did it (done it = \"dunnit\")\n* Alice dunnit 30%, Bob dunnit 70%\n* Alice uses gun 3%, uses pipe 97%\n* Bob uses gun 80%, uses pipe 20%",
      "metadata": {}
    },
    {
      "cell_type": "code",
      "source": "let aliceDunnit:Variable<bool> = Variable.Bernoulli(0.30).Named(\"aliceDunnit\")",
      "metadata": {
        "trusted": true
      },
      "execution_count": 12,
      "outputs": []
    },
    {
      "cell_type": "markdown",
      "source": "[Imperative Statement Blocks in F#](https://dotnet.github.io/infer/userguide/Imperative%20Statement%20Blocks%20in%20FSharp.html)     \n[Branching on variables to create mixture models](https://dotnet.github.io/infer/userguide/Branching%20on%20variables%20to%20create%20mixture%20models.html)  ",
      "metadata": {}
    },
    {
      "cell_type": "markdown",
      "source": "We learn from the [user guide](https://dotnet.github.io/infer/userguide/Imperative%20Statement%20Blocks%20in%20FSharp.html) that the `Variable.IfBlock` method returns an `IfBlock` for creating if then else statements which are dependant on the value of a `ariable<bool>`. This is a function with type signature:   \n**`Variable.IfBlock: Variable<bool>->(Variable<bool>->unit)->Variable<bool>->unit)->unit`**   \nwhere, the first argument is a boolean variable, the second argument is a function to be applied if the Boolean Variable has value true and the third argument is a function to be applied if the Boolean Variable has value false.",
      "metadata": {}
    },
    {
      "cell_type": "code",
      "source": "",
      "metadata": {},
      "execution_count": null,
      "outputs": []
    },
    {
      "cell_type": "code",
      "source": "// If Block function  \nlet f1 (vb1: Variable<bool>) =  Variable.Bernoulli(0.03)\n// IfNot Block function  \nlet f2 (vb2: Variable<bool>) =  Variable.Bernoulli(0.80)",
      "metadata": {
        "trusted": true
      },
      "execution_count": null,
      "outputs": []
    },
    {
      "cell_type": "code",
      "source": "let mystery () =\n    let aliceDunnit = Variable.Bernoulli(0.30).Named(\"aliceDunnit\")\n    let withGun = Variable.IfBlock aliceDunnit Variable.Bernoulli(0.03) Variable.Bernoulli(0.80)\n    aliceDunnit, withGun",
      "metadata": {
        "trusted": true
      },
      "execution_count": 81,
      "outputs": [
        {
          "output_type": "stream",
          "text": "Successive arguments should be separated by spaces or tupled, and arguments involving function or method applications should be parenthesized\nSuccessive arguments should be separated by spaces or tupled, and arguments involving function or method applications should be parenthesized\nThis expression was expected to have type\n    'Variable<bool> -> unit'    \nbut here has type\n    'Variable<bool>'    \nThis expression was expected to have type\n    'Variable<bool> -> unit'    \nbut here has type\n    'Variable<bool>'    ",
          "name": "stderr"
        }
      ]
    },
    {
      "cell_type": "code",
      "source": "let mystery () =\n    let aliceDunnit = Variable.Bernoulli(0.30)\n    let withGun =\n        if aliceDunnit\n        then Variable.Bernoulli(0.03)\n        else Variable.Bernoulli(0.80)\n    aliceDunnit, withGun",
      "metadata": {
        "trusted": true
      },
      "execution_count": 32,
      "outputs": [
        {
          "text": "This expression was expected to have type\n    'bool'    \nbut here has type\n    'Variable<bool>'    ",
          "name": "stderr",
          "output_type": "stream"
        }
      ]
    },
    {
      "cell_type": "code",
      "source": "// Pipe at scene - now Alice dunnit 69%\nlet PipeFoundAtScene () =\n    let aliceDunnit, withGun = mystery ()\n    observe(withGun = false)\n    aliceDunnit, withGun",
      "metadata": {
        "trusted": true
      },
      "execution_count": 31,
      "outputs": [
        {
          "text": "The value or constructor 'mystery' is not defined.\nThe value or constructor 'observe' is not defined. Maybe you want one of the following:\n   IObserver\n   Observable\n   ObservableModule\n   IObservable",
          "name": "stderr",
          "output_type": "stream"
        }
      ]
    },
    {
      "cell_type": "markdown",
      "source": "### Clinical trial",
      "metadata": {}
    },
    {
      "cell_type": "code",
      "source": "// Data from a clinical trial  \nlet controlGroup = Variable.Observed<bool>([|false; false; true; false; false|])  \nlet treatedGroup = Variable.Observed<bool>([|true; false; true; true; true |])  \nlet i = controlGroup.Range  \nlet j = treatedGroup.Range  ",
      "metadata": {
        "trusted": true
      },
      "execution_count": 72,
      "outputs": []
    },
    {
      "cell_type": "code",
      "source": "// Prior on being an effective treatment  \nlet isEffective = Variable.Bernoulli(0.5).Named(\"isEffective\");  \nlet probIfTreated = ref (Variable.New<float>())  \nlet probIfControl = ref (Variable.New<float>())",
      "metadata": {
        "trusted": true
      },
      "execution_count": 73,
      "outputs": []
    },
    {
      "cell_type": "code",
      "source": "// If Block function  \nlet f1 (vb1: Variable<bool>) =  \n    probIfControl := Variable.Beta(1.0, 1.0).Named(\"probIfControl\")  \n    let controlGroup = Variable.AssignVariableArray controlGroup i (fun i -> Variable.Bernoulli(!probIfControl)) \n    let treatedGroup = Variable.AssignVariableArray treatedGroup j (fun j -> Variable.Bernoulli(!probIfTreated))  \n    ()  ",
      "metadata": {
        "trusted": true
      },
      "execution_count": 74,
      "outputs": []
    },
    {
      "cell_type": "code",
      "source": "// IfNot Block function  \nlet f2 (vb2: Variable<bool>) =  \n    let probAll = Variable.Beta(1.0, 1.0).Named(\"probAll\")  \n    let controlGroup = Variable.AssignVariableArray controlGroup i (fun i -> Variable.Bernoulli(probAll))  \n    let treatedGroup = Variable.AssignVariableArray treatedGroup j (fun j -> Variable.Bernoulli(probAll))  \n    ()  ",
      "metadata": {
        "trusted": true
      },
      "execution_count": 75,
      "outputs": []
    },
    {
      "cell_type": "code",
      "source": "// Call IfBlock  \nlet test = Variable.IfBlock isEffective f1 f2",
      "metadata": {
        "trusted": true
      },
      "execution_count": 76,
      "outputs": []
    },
    {
      "cell_type": "code",
      "source": "test",
      "metadata": {
        "trusted": true
      },
      "execution_count": 77,
      "outputs": []
    },
    {
      "cell_type": "code",
      "source": "",
      "metadata": {},
      "execution_count": null,
      "outputs": []
    }
  ]
}