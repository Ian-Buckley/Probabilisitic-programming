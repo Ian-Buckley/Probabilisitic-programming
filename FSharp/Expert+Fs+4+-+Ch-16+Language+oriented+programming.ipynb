{
 "cells": [
  {
   "cell_type": "markdown",
   "metadata": {},
   "source": [
    "# Expert F# 4.0 - Chapter 16 - Language oriented programming\n",
    "  \n",
    "**Expert F# 4.0**   \n",
    "Authors: Syme, Don, Granicz, Adam, Cisternino, Antonio   \n",
    "http://www.apress.com/us/book/9781484207413  \n",
    "https://github.com/Apress/expert-fsharp-4.0/blob/master/ExpertFSharp-master/16Language/Script.fsx  \n",
    "Nada Amin:\n",
    "https://github.com/namin/spots/blob/master/probabilisticModeling/probabilisticModeling.fsx  \n",
    "**Stochastic Lambda Calculus and Monads of Probability Distribution**      \n",
    "Norman Ramsey and Avi Pfeffer  \n",
    "http://www.cs.tufts.edu/~nr/pubs/pmonad-abstract.html  \n",
    "**Practical Probabilistic Programming with Monads**   \n",
    "Adam Scibior, \n",
    "Zoubin Ghahramani, \n",
    "Andrew D. Gordon   \n",
    "http://mlg.eng.cam.ac.uk/pub/pdf/SciGhaGor15.pdf   \n",
    "** Probabilistic Programming: What It Is and How It Works** (in Scala)  \n",
    "Noel Welsh   \n",
    "https://www.youtube.com/watch?v=e1Ykk_CqKTY  \n",
    "A Probabilistic Functional Programming Language DSL in Scala:   \n",
    "https://github.com/noelwelsh/pfennig     \n",
    "\n",
    "See also:    \n",
    "https://www.google.ca/search?q=probability+monad   \n",
    "https://people.cs.kuleuven.be/~tom.schrijvers/Research/talks/probability_monad.pdf  \n",
    "http://jliszka.github.io/2013/08/12/a-frequentist-approach-to-probability.html  \n",
    "https://www.google.ca/search?q=free+monad    \n",
    "- Avi Pfeffer - Practical Probabilistic Programming with Figaro - MLconf SEA 2016   \n",
    "  - https://www.youtube.com/watch?v=eO4ZXLQjba8  \n",
    "  - http://www.slideshare.net/SessionsEvents/avi-pfeffer-principal-scientist-charles-river-analytics  \n",
    "- CUFP 2013: Avi Pfeffer: Functional Probabilistic Programming  \n",
    "  - https://www.youtube.com/watch?v=U67guma2H6s  \n",
    "  - http://cufp.org/2013/slides/pfeffer.pdf  "
   ]
  },
  {
   "cell_type": "markdown",
   "metadata": {},
   "source": [
    "# Built-in workflows"
   ]
  },
  {
   "cell_type": "markdown",
   "metadata": {
    "heading_collapsed": true
   },
   "source": [
    "## Sequences"
   ]
  },
  {
   "cell_type": "code",
   "execution_count": 1,
   "metadata": {
    "hidden": true
   },
   "outputs": [
    {
     "data": {
      "text/plain": [
       "seq [(0, 0); (1, 1); (2, 4); (3, 9)]"
      ]
     },
     "execution_count": 1,
     "metadata": {},
     "output_type": "execute_result"
    }
   ],
   "source": [
    "seq {for i in 0 .. 3 -> (i, i * i)}\n",
    "//val it : seq<int * int> = seq [(0, 0); (1, 1); (2, 4); (3, 9)]"
   ]
  },
  {
   "cell_type": "markdown",
   "metadata": {
    "heading_collapsed": true
   },
   "source": [
    "## Asynchronous processes"
   ]
  },
  {
   "cell_type": "code",
   "execution_count": 2,
   "metadata": {
    "collapsed": true,
    "hidden": true
   },
   "outputs": [],
   "source": [
    "type Agent<'T> = MailboxProcessor<'T>\n",
    "\n",
    "let counter =\n",
    "    new Agent<_>(fun inbox ->\n",
    "        let rec loop n =\n",
    "            async {printfn \"n = %d, waiting...\" n\n",
    "                   let! msg = inbox.Receive()\n",
    "                   return! loop (n + msg)}\n",
    "        loop 0)"
   ]
  },
  {
   "cell_type": "markdown",
   "metadata": {},
   "source": [
    "# Workflow builder"
   ]
  },
  {
   "cell_type": "markdown",
   "metadata": {},
   "source": [
    "## Helper functions"
   ]
  },
  {
   "cell_type": "code",
   "execution_count": null,
   "metadata": {
    "init_cell": true
   },
   "outputs": [],
   "source": [
    "type Attempt<'T> = (unit -> 'T option)"
   ]
  },
  {
   "cell_type": "code",
   "execution_count": 8,
   "metadata": {
    "init_cell": true
   },
   "outputs": [],
   "source": [
    "let succeed x = (fun () -> Some(x))\n",
    "let fail = (fun () -> None)\n",
    "let runAttempt (a : Attempt<'T>) = a()\n",
    "let bind p rest = match runAttempt p with None -> fail | Some r -> (rest r)\n",
    "let delay f = (fun () -> runAttempt (f()))\n",
    "let combine p1 p2 = (fun () -> match p1() with None -> p2() | res -> res)"
   ]
  },
  {
   "cell_type": "markdown",
   "metadata": {
    "heading_collapsed": true
   },
   "source": [
    "## Builder class"
   ]
  },
  {
   "cell_type": "code",
   "execution_count": 4,
   "metadata": {
    "hidden": true,
    "init_cell": true
   },
   "outputs": [],
   "source": [
    "type AttemptBuilder() =\n",
    "    /// Used to de-sugar uses of 'let!' inside computation expressions.\n",
    "    member b.Bind(p, rest) = bind p rest\n",
    "    /// Delays the construction of an attempt until just before it is executed\n",
    "    member b.Delay(f) = delay f\n",
    "    /// Used to de-sugar uses of 'return' inside computation expressions.\n",
    "    member b.Return(x) = succeed x\n",
    "    /// Used to de-sugar uses of 'return!' inside computation expressions.\n",
    "    member b.ReturnFrom(x : Attempt<'T>) = x\n",
    "    /// Used to de-sugar uses of 'c1; c2' inside computation expressions.\n",
    "    member b.Combine(p1 : Attempt<'T>, p2 : Attempt<'T>) = combine p1 p2\n",
    "    /// Used to de-sugar uses of 'if .. then ..' inside computation expressions when\n",
    "    /// the 'else' branch is empty\n",
    "    member b.Zero() = fail"
   ]
  },
  {
   "cell_type": "markdown",
   "metadata": {
    "hidden": true
   },
   "source": [
    "Create an instance of the builder class, so we can create computation expressions `attempt{}`"
   ]
  },
  {
   "cell_type": "code",
   "execution_count": 5,
   "metadata": {
    "hidden": true
   },
   "outputs": [],
   "source": [
    "let attempt = new AttemptBuilder()"
   ]
  },
  {
   "cell_type": "markdown",
   "metadata": {
    "heading_collapsed": true,
    "hidden": true
   },
   "source": [
    "### Examples: `alwaysOne`, `alwaysPair`, `failIfBig`, `failIfEitherBig`"
   ]
  },
  {
   "cell_type": "code",
   "execution_count": 6,
   "metadata": {
    "hidden": true,
    "init_cell": true
   },
   "outputs": [],
   "source": [
    "let alwaysOne = attempt { return 1 }\n",
    "let alwaysPair = attempt { return (1,\"two\") }\n",
    "let failIfBig n = attempt {if n > 1000 then return! fail else return n}\n",
    "let failIfEitherBig (inp1, inp2) = \n",
    "    attempt {\n",
    "        let! n1 = failIfBig inp1\n",
    "        let! n2 = failIfBig inp2\n",
    "        return (n1, n2)}"
   ]
  },
  {
   "cell_type": "markdown",
   "metadata": {
    "heading_collapsed": true,
    "hidden": true
   },
   "source": [
    "#### Test"
   ]
  },
  {
   "cell_type": "code",
   "execution_count": 9,
   "metadata": {
    "hidden": true
   },
   "outputs": [
    {
     "data": {
      "text/plain": [
       "Some 1"
      ]
     },
     "execution_count": 9,
     "metadata": {},
     "output_type": "execute_result"
    }
   ],
   "source": [
    "runAttempt alwaysOne\n",
    "//val it : int option = Some 1"
   ]
  },
  {
   "cell_type": "code",
   "execution_count": 10,
   "metadata": {
    "hidden": true
   },
   "outputs": [
    {
     "data": {
      "text/plain": [
       "Some (1, \"two\")"
      ]
     },
     "execution_count": 10,
     "metadata": {},
     "output_type": "execute_result"
    }
   ],
   "source": [
    "runAttempt alwaysPair\n",
    "//val it : (int * string) option = Some (1, \"two\")"
   ]
  },
  {
   "cell_type": "code",
   "execution_count": 11,
   "metadata": {
    "hidden": true
   },
   "outputs": [
    {
     "data": {
      "text/plain": [
       "Some 999"
      ]
     },
     "execution_count": 11,
     "metadata": {},
     "output_type": "execute_result"
    }
   ],
   "source": [
    "runAttempt (failIfBig 999)\n",
    "//val it : int option = Some 999"
   ]
  },
  {
   "cell_type": "code",
   "execution_count": 12,
   "metadata": {
    "hidden": true
   },
   "outputs": [
    {
     "data": {
      "text/plain": [
       "None"
      ]
     },
     "execution_count": 12,
     "metadata": {},
     "output_type": "execute_result"
    }
   ],
   "source": [
    "runAttempt (failIfBig 1001)\n",
    "//val it : int option = None"
   ]
  },
  {
   "cell_type": "code",
   "execution_count": 13,
   "metadata": {
    "hidden": true
   },
   "outputs": [
    {
     "data": {
      "text/plain": [
       "Some (999, 998)"
      ]
     },
     "execution_count": 13,
     "metadata": {},
     "output_type": "execute_result"
    }
   ],
   "source": [
    "runAttempt (failIfEitherBig (999, 998))\n",
    "//val it : (int * int) option = Some(999,998)"
   ]
  },
  {
   "cell_type": "code",
   "execution_count": 14,
   "metadata": {
    "hidden": true
   },
   "outputs": [
    {
     "data": {
      "text/plain": [
       "None"
      ]
     },
     "execution_count": 14,
     "metadata": {},
     "output_type": "execute_result"
    }
   ],
   "source": [
    "runAttempt (failIfEitherBig (1003, 998))\n",
    "//val it : (int * int) option = None"
   ]
  },
  {
   "cell_type": "code",
   "execution_count": 8,
   "metadata": {
    "hidden": true
   },
   "outputs": [
    {
     "data": {
      "text/plain": [
       "None"
      ]
     },
     "execution_count": 8,
     "metadata": {},
     "output_type": "execute_result"
    }
   ],
   "source": [
    "runAttempt (failIfEitherBig (999, 1001))\n",
    "//val it : (int * int) option = None"
   ]
  },
  {
   "cell_type": "markdown",
   "metadata": {
    "heading_collapsed": true,
    "hidden": true
   },
   "source": [
    "### `sumIfBothSmall` & variants"
   ]
  },
  {
   "cell_type": "code",
   "execution_count": 19,
   "metadata": {
    "collapsed": true,
    "hidden": true,
    "init_cell": true
   },
   "outputs": [],
   "source": [
    "let sumIfBothSmall (inp1, inp2) = \n",
    "    attempt { \n",
    "        let! n1 = failIfBig inp1\n",
    "        printfn \"Hey, n1 was small!\"\n",
    "        let! n2 = failIfBig inp2\n",
    "        printfn \"n2 was also small!\"\n",
    "        let sum = n1 + n2\n",
    "        return sum \n",
    "    }"
   ]
  },
  {
   "cell_type": "code",
   "execution_count": 20,
   "metadata": {
    "hidden": true
   },
   "outputs": [
    {
     "data": {
      "text/plain": [
       "Hey, n1 was small!\n",
       "n2 was also small!\n"
      ]
     },
     "metadata": {},
     "output_type": "display_data"
    },
    {
     "data": {
      "text/plain": [
       "Some 1998"
      ]
     },
     "execution_count": 20,
     "metadata": {},
     "output_type": "execute_result"
    }
   ],
   "source": [
    "runAttempt(sumIfBothSmall (999, 999))\n",
    "//Hey, n1 was small!\n",
    "//n2 was also small!\n",
    "//val it : int option = Some 1998"
   ]
  },
  {
   "cell_type": "code",
   "execution_count": 21,
   "metadata": {
    "hidden": true
   },
   "outputs": [
    {
     "data": {
      "text/plain": [
       "Hey, n1 was small!\n"
      ]
     },
     "metadata": {},
     "output_type": "display_data"
    },
    {
     "data": {
      "text/plain": [
       "None"
      ]
     },
     "execution_count": 21,
     "metadata": {},
     "output_type": "execute_result"
    }
   ],
   "source": [
    "runAttempt(sumIfBothSmall (999, 1001))\n",
    "//Hey, n1 was small!\n",
    "//val it : int option = None"
   ]
  },
  {
   "cell_type": "code",
   "execution_count": 22,
   "metadata": {
    "collapsed": true,
    "hidden": true,
    "init_cell": true
   },
   "outputs": [],
   "source": [
    "let sumIfBothSmall' (inp1, inp2) = \n",
    "    attempt { let sum = ref 0\n",
    "              let! n1 = failIfBig inp1\n",
    "              sum := sum.Value + n1\n",
    "              let! n2 = failIfBig inp2\n",
    "              sum := sum.Value + n2\n",
    "              return sum.Value}\n",
    "//val sumIfBothSmall' : inp1:int * inp2:int -> (unit -> int option)"
   ]
  },
  {
   "cell_type": "code",
   "execution_count": 23,
   "metadata": {
    "collapsed": true,
    "hidden": true,
    "init_cell": true
   },
   "outputs": [],
   "source": [
    "let sumIfBothSmall'' (inp1, inp2) = \n",
    "    attempt { let sum = ref 0\n",
    "              let! n1 = failIfBig inp1\n",
    "              sum := !sum + n1\n",
    "              let! n2 = failIfBig inp2\n",
    "              sum := !sum + n2\n",
    "              return sum.Value}\n",
    "//val sumIfBothSmall'' : inp1:int * inp2:int -> (unit -> int option)"
   ]
  },
  {
   "cell_type": "code",
   "execution_count": 24,
   "metadata": {
    "hidden": true
   },
   "outputs": [
    {
     "data": {
      "text/plain": [
       "Some 1998"
      ]
     },
     "execution_count": 24,
     "metadata": {},
     "output_type": "execute_result"
    }
   ],
   "source": [
    "runAttempt(sumIfBothSmall' (999, 999))\n",
    "//val it : int option = Some 1998"
   ]
  },
  {
   "cell_type": "code",
   "execution_count": 25,
   "metadata": {
    "hidden": true
   },
   "outputs": [
    {
     "data": {
      "text/plain": [
       "None"
      ]
     },
     "execution_count": 25,
     "metadata": {},
     "output_type": "execute_result"
    }
   ],
   "source": [
    "runAttempt(sumIfBothSmall' (999, 1001))\n",
    "//val it : int option = None"
   ]
  },
  {
   "cell_type": "markdown",
   "metadata": {
    "heading_collapsed": true,
    "hidden": true
   },
   "source": [
    "### `printThenSeven` & variants"
   ]
  },
  {
   "cell_type": "code",
   "execution_count": 26,
   "metadata": {
    "collapsed": true,
    "hidden": true
   },
   "outputs": [],
   "source": [
    "let printThenSeven = attempt {printf \"starting...\"; return 3 + 4}\n",
    "let printThenSeven' = attempt.Delay(fun () ->\n",
    "    printf \"starting...\"; attempt.Return(3 + 4))\n",
    "let printThenSeven'' = attempt.Delay(fun () ->\n",
    "    printf \"starting...\"\n",
    "    attempt.Return(3 + 4))"
   ]
  },
  {
   "cell_type": "code",
   "execution_count": 27,
   "metadata": {
    "hidden": true
   },
   "outputs": [
    {
     "data": {
      "text/plain": [
       "starting..."
      ]
     },
     "metadata": {},
     "output_type": "display_data"
    },
    {
     "data": {
      "text/plain": [
       "Some 7"
      ]
     },
     "execution_count": 27,
     "metadata": {},
     "output_type": "execute_result"
    }
   ],
   "source": [
    "runAttempt printThenSeven\n",
    "//starting...val it : int option = Some 7"
   ]
  },
  {
   "cell_type": "code",
   "execution_count": 28,
   "metadata": {
    "hidden": true
   },
   "outputs": [
    {
     "data": {
      "text/plain": [
       "starting..."
      ]
     },
     "metadata": {},
     "output_type": "display_data"
    },
    {
     "data": {
      "text/plain": [
       "Some 7"
      ]
     },
     "execution_count": 28,
     "metadata": {},
     "output_type": "execute_result"
    }
   ],
   "source": [
    "runAttempt printThenSeven'\n",
    "//starting...val it : int option = Some 7"
   ]
  },
  {
   "cell_type": "code",
   "execution_count": 29,
   "metadata": {
    "hidden": true
   },
   "outputs": [
    {
     "data": {
      "text/plain": [
       "starting..."
      ]
     },
     "metadata": {},
     "output_type": "display_data"
    },
    {
     "data": {
      "text/plain": [
       "Some 7"
      ]
     },
     "execution_count": 29,
     "metadata": {},
     "output_type": "execute_result"
    }
   ],
   "source": [
    "runAttempt printThenSeven''\n",
    "//starting...val it : int option = Some 7"
   ]
  },
  {
   "cell_type": "markdown",
   "metadata": {
    "hidden": true
   },
   "source": [
    "### `condition`"
   ]
  },
  {
   "cell_type": "code",
   "execution_count": 10,
   "metadata": {
    "hidden": true,
    "init_cell": true
   },
   "outputs": [],
   "source": [
    "let condition p guard = (fun () -> \n",
    "    match p() with \n",
    "    | Some x when guard x -> Some x \n",
    "    | _ -> None)"
   ]
  },
  {
   "cell_type": "code",
   "execution_count": 11,
   "metadata": {
    "hidden": true,
    "init_cell": true
   },
   "outputs": [],
   "source": [
    "type AttemptBuilder with\n",
    "    [<CustomOperation(\"condition\",MaintainsVariableSpaceUsingBind = true)>]\n",
    "    member x.Condition(p, [<ProjectionParameter>] b) = condition p b"
   ]
  },
  {
   "cell_type": "code",
   "execution_count": 12,
   "metadata": {
    "hidden": true,
    "init_cell": true
   },
   "outputs": [],
   "source": [
    "let attempt2 = new AttemptBuilder()"
   ]
  },
  {
   "cell_type": "markdown",
   "metadata": {},
   "source": [
    "# Distributions"
   ]
  },
  {
   "cell_type": "code",
   "execution_count": 13,
   "metadata": {
    "init_cell": true
   },
   "outputs": [],
   "source": [
    "let random = new System.Random()\n",
    "let rand() = random.NextDouble()\n",
    "\n",
    "let randomNumberInCircle = attempt {\n",
    "    let x, y = rand(), rand()\n",
    "    condition (x * x + y * y < 1.0)\n",
    "    return (x, y)}"
   ]
  },
  {
   "cell_type": "code",
   "execution_count": 14,
   "metadata": {
    "init_cell": true
   },
   "outputs": [],
   "source": [
    "type Distribution<'T when 'T : comparison> =\n",
    "    abstract Sample : 'T\n",
    "    abstract Support : Set<'T>\n",
    "    abstract Expectation: ('T -> float) -> float"
   ]
  },
  {
   "cell_type": "markdown",
   "metadata": {},
   "source": [
    "### Uniform"
   ]
  },
  {
   "cell_type": "code",
   "execution_count": 15,
   "metadata": {
    "init_cell": true
   },
   "outputs": [],
   "source": [
    "let always x =\n",
    "    { new Distribution<'T> with\n",
    "          member d.Sample = x\n",
    "          member d.Support = Set.singleton x\n",
    "          member d.Expectation(H) = H(x) }"
   ]
  },
  {
   "cell_type": "markdown",
   "metadata": {},
   "source": [
    "### Bernoulli"
   ]
  },
  {
   "cell_type": "code",
   "execution_count": null,
   "metadata": {
    "init_cell": true
   },
   "outputs": [],
   "source": [
    "let rnd = System.Random()\n",
    "\n",
    "let coinFlip (p : float) (d1 : Distribution<'T>) (d2 : Distribution<'T>) =\n",
    "    if p < 0.0 || p > 1.0 then failwith \"invalid probability in coinFlip\"\n",
    "    { new Distribution<'T> with\n",
    "          member d.Sample =\n",
    "              if rnd.NextDouble() < p then d1.Sample else d2.Sample\n",
    "          member d.Support = Set.union d1.Support d2.Support\n",
    "          member d.Expectation(H) =\n",
    "             p * d1.Expectation(H) + (1.0 - p) * d2.Expectation(H) }"
   ]
  },
  {
   "cell_type": "markdown",
   "metadata": {},
   "source": [
    "## Workflow"
   ]
  },
  {
   "cell_type": "code",
   "execution_count": null,
   "metadata": {},
   "outputs": [],
   "source": [
    "let bindD (dist : Distribution<'T>) (k : 'T -> Distribution<'U>) =\n",
    "    { new Distribution<'U> with\n",
    "         member d.Sample = \n",
    "             (k dist.Sample).Sample\n",
    "         member d.Support =\n",
    "             Set.unionMany (dist.Support |> Set.map (fun d -> (k d).Support))\n",
    "         member d.Expectation H = \n",
    "             dist.Expectation(fun x -> (k x).Expectation H) }"
   ]
  },
  {
   "cell_type": "code",
   "execution_count": null,
   "metadata": {
    "collapsed": true
   },
   "outputs": [],
   "source": [
    "type DistributionBuilder() =\n",
    "    member x.Delay f = bindD (always ()) f\n",
    "    member x.Bind(d, f) = bindD d f\n",
    "    member x.Return v = always v\n",
    "    member x.ReturnFrom vs = vs"
   ]
  },
  {
   "cell_type": "code",
   "execution_count": null,
   "metadata": {},
   "outputs": [],
   "source": [
    "let dist = new DistributionBuilder()\n",
    "let weightedCases (inp : ('T * float) list) =\n",
    "    let rec coinFlips w l =\n",
    "        match l with\n",
    "        | [] -> failwith \"no coinFlips\"\n",
    "        | [(d, _)] -> always d\n",
    "        | (d, p) :: rest -> coinFlip (p / (1.0 - w)) (always d) (coinFlips (w + p) rest)\n",
    "    coinFlips 0.0 inp\n",
    "\n",
    "let countedCases inp =\n",
    "    let total = Seq.sumBy (fun (_, v) -> v) inp\n",
    "    weightedCases (inp |> List.map (fun (x, v) -> (x, float v / float total)))"
   ]
  },
  {
   "cell_type": "markdown",
   "metadata": {},
   "source": [
    "### Roulette"
   ]
  },
  {
   "cell_type": "code",
   "execution_count": null,
   "metadata": {},
   "outputs": [],
   "source": [
    "type Outcome = Even | Odd | Zero\n",
    "let roulette = countedCases [ Even,18; Odd,18; Zero,1]"
   ]
  },
  {
   "cell_type": "code",
   "execution_count": null,
   "metadata": {},
   "outputs": [],
   "source": [
    "roulette.Sample\n",
    "//val it : Outcome = Even\n",
    "\n",
    "roulette.Sample\n",
    "//val it : Outcome = Odd\n",
    "\n",
    "roulette.Expectation (function Even -> 10.0 | Odd -> 0.0 | Zero -> 0.0)\n",
    "//val it : float = 4.864864865"
   ]
  },
  {
   "cell_type": "markdown",
   "metadata": {},
   "source": [
    "### Traffic lights"
   ]
  },
  {
   "cell_type": "code",
   "execution_count": null,
   "metadata": {},
   "outputs": [],
   "source": [
    "type Light = Red | Green | Yellow\n",
    "let trafficLightD = weightedCases [Red, 0.50; Yellow, 0.10; Green, 0.40]\n",
    "type Action = Stop | Drive\n",
    "\n",
    "let cautiousDriver light = \n",
    "    dist { match light with\n",
    "           | Red -> return Stop\n",
    "           | Yellow -> return! weightedCases [Stop, 0.9; Drive, 0.1]\n",
    "           | Green -> return Drive}\n",
    "\n",
    "let aggressiveDriver light = \n",
    "    dist { match light with\n",
    "           | Red -> return! weightedCases [Stop, 0.9; Drive, 0.1]\n",
    "           | Yellow -> return! weightedCases [Stop, 0.1; Drive, 0.9]\n",
    "           | Green -> return Drive} \n",
    "\n",
    "let otherLight light =\n",
    "    match light with\n",
    "    | Red -> Green\n",
    "    | Yellow -> Red\n",
    "    | Green -> Red \n",
    "\n",
    "type CrashResult = Crash | NoCrash"
   ]
  },
  {
   "cell_type": "code",
   "execution_count": null,
   "metadata": {},
   "outputs": [],
   "source": [
    "// Where the suffix D means distribution\n",
    "let crash (driverOneD, driverTwoD, lightD) = \n",
    "    dist { // Sample from the traffic light\n",
    "           let! light = lightD\n",
    "\n",
    "           // Sample the first driver's behavior given the traffic light\n",
    "           let! driverOne = driverOneD light\n",
    "\n",
    "           // Sample the second driver's behavior given the traffic light\n",
    "           let! driverTwo = driverTwoD (otherLight light)\n",
    "\n",
    "           // Work out the probability of a crash\n",
    "           match driverOne, driverTwo with\n",
    "           | Drive, Drive -> return! weightedCases [Crash, 0.9; NoCrash, 0.1]\n",
    "           | _ -> return NoCrash}"
   ]
  },
  {
   "cell_type": "code",
   "execution_count": null,
   "metadata": {},
   "outputs": [],
   "source": [
    "let model = crash (cautiousDriver, aggressiveDriver, trafficLightD)"
   ]
  },
  {
   "cell_type": "code",
   "execution_count": null,
   "metadata": {},
   "outputs": [],
   "source": [
    "model.Sample\n",
    "//val it : CrashResult = NoCrash\n",
    "\n",
    "model.Sample\n",
    "//val it : CrashResult = Crash\n",
    "\n",
    "model.Expectation (function Crash -> 1.0 | NoCrash -> 0.0)\n",
    "//val it : float = 0.0369"
   ]
  },
  {
   "cell_type": "markdown",
   "metadata": {},
   "source": [
    "### `linesOfFile`"
   ]
  },
  {
   "cell_type": "code",
   "execution_count": null,
   "metadata": {},
   "outputs": [],
   "source": [
    "let linesOfFile fileName = \n",
    "    seq { use textReader = System.IO.File.OpenText(fileName)\n",
    "          while not textReader.EndOfStream do\n",
    "              yield textReader.ReadLine()} "
   ]
  },
  {
   "cell_type": "markdown",
   "metadata": {},
   "source": [
    "### Random walk"
   ]
  },
  {
   "cell_type": "code",
   "execution_count": null,
   "metadata": {
    "collapsed": true
   },
   "outputs": [],
   "source": [
    "let rnd = System.Random()\n",
    "\n",
    "let rec randomWalk k = \n",
    "    seq { yield k\n",
    "          yield! randomWalk (k + rnd.NextDouble() - 0.5) }\n",
    "\n",
    "\n",
    "randomWalk 10.0\n",
    "//val it : seq<float> = seq [10.0; 10.44456912; 10.52486359; 10.07400056; ...]\n",
    "\n",
    "randomWalk 10.0\n",
    "//val it : seq<float> = seq [10.0; 10.03566833; 10.12441613; 9.922847582; ...]"
   ]
  }
 ],
 "metadata": {
  "celltoolbar": "Initialization Cell",
  "kernelspec": {
   "display_name": "F#",
   "language": "fsharp",
   "name": "ifsharp"
  },
  "language": "fsharp",
  "language_info": {
   "codemirror_mode": "",
   "file_extension": ".fs",
   "mimetype": "text/x-fsharp",
   "name": "fsharp",
   "nbconvert_exporter": "",
   "pygments_lexer": "",
   "version": "4.3.1.0"
  }
 },
 "nbformat": 4,
 "nbformat_minor": 2
}
