{
 "cells": [
  {
   "cell_type": "markdown",
   "metadata": {},
   "source": [
    "# Mixture of Gaussians"
   ]
  },
  {
   "cell_type": "markdown",
   "metadata": {},
   "source": [
    "This tutorial shows how to make a mixture of multivariate Gaussians and fit it to some data. It will introduce the switch block which allows variable-sized mixtures to be constructed."
   ]
  },
  {
   "cell_type": "markdown",
   "metadata": {},
   "source": [
    "This has been updated in Oct 2018 (post Infer.NET open source launch!) to use: \n",
    "* the Paket dependency manager to get the package(s) from nuget\n",
    "* Paket to get the `FSharpWrapper` from github\n",
    "* the revised namespace `Microsoft.ML.Probabilistic` (was `MicrosoftResearch.Infer`)"
   ]
  },
  {
   "cell_type": "markdown",
   "metadata": {},
   "source": [
    "[`FSharpWrapper` tutorial examples](https://dotnet.github.io/infer/userguide/FSharp%20Wrapper.html) include:\n",
    "* TwoCoins\n",
    "* TruncatedGaussian\n",
    "* GaussianRanges\n",
    "* ClinicalTrial\n",
    "* BayesPoint\n",
    "* MixtureGaussians"
   ]
  },
  {
   "cell_type": "markdown",
   "metadata": {
    "slideshow": {
     "slide_type": "slide"
    }
   },
   "source": [
    "### Source & links"
   ]
  },
  {
   "cell_type": "markdown",
   "metadata": {
    "slideshow": {
     "slide_type": "slide"
    }
   },
   "source": [
    "http://infernet.azurewebsites.net/default.aspx    \n",
    "https://dotnet.github.io/infer/userguide/Mixture%20of%20Gaussians.html"
   ]
  },
  {
   "cell_type": "markdown",
   "metadata": {},
   "source": [
    "[Imperative Statement Blocks in F#](https://dotnet.github.io/infer/userguide/Imperative%20Statement%20Blocks%20in%20FSharp.html)     \n",
    "[Branching on variables to create mixture models](https://dotnet.github.io/infer/userguide/Branching%20on%20variables%20to%20create%20mixture%20models.html)  "
   ]
  },
  {
   "cell_type": "markdown",
   "metadata": {
    "slideshow": {
     "slide_type": "subslide"
    }
   },
   "source": [
    "## Load & open packages"
   ]
  },
  {
   "cell_type": "markdown",
   "metadata": {},
   "source": [
    "https://fsprojects.github.io/Paket/"
   ]
  },
  {
   "cell_type": "markdown",
   "metadata": {},
   "source": [
    "Packages in F# can be installed via `nuget.org` using the Paket dependency manager.\n",
    "To install packages from NuGet you should first load the Packet package manager:"
   ]
  },
  {
   "cell_type": "code",
   "execution_count": 46,
   "metadata": {},
   "outputs": [],
   "source": [
    "#load \"Paket.fsx\""
   ]
  },
  {
   "cell_type": "markdown",
   "metadata": {},
   "source": [
    "You can then have Paket install the packages:"
   ]
  },
  {
   "cell_type": "code",
   "execution_count": 103,
   "metadata": {},
   "outputs": [],
   "source": [
    "Paket.Package\n",
    "  [   // \"Infer.NET\" (pre Oct 2018 namespace)\n",
    "      \"Microsoft.ML.Probabilistic\"\n",
    "      \"Microsoft.ML.Probabilistic.Compiler\"\n",
    "      //\"Microsoft.ML.Probabilistic.FSharp\"  // Not on nuget, yet?\n",
    "      \"NETStandard.Library\" // Necessary??\n",
    "  ]"
   ]
  },
  {
   "cell_type": "code",
   "execution_count": 104,
   "metadata": {},
   "outputs": [],
   "source": [
    "#load \"Paket.Generated.Refs.fsx\"  // Do we need this?"
   ]
  },
  {
   "cell_type": "markdown",
   "metadata": {},
   "source": [
    "### `FSharpWrapper`"
   ]
  },
  {
   "cell_type": "markdown",
   "metadata": {},
   "source": [
    "See  https://github.com/dotnet/infer/blob/master/src/FSharpWrapper/FSharpWrapper.fs   \n",
    "https://github.com/fsprojects/IfSharp/issues/146 (Thanks for help, Colin Gravill!)   \n",
    "https://fsprojects.github.io/Paket/github-dependencies.html"
   ]
  },
  {
   "cell_type": "code",
   "execution_count": 49,
   "metadata": {},
   "outputs": [],
   "source": [
    "Paket.GitHub [\"dotnet/infer src/FSharpWrapper/FSharpWrapper.fs\"]"
   ]
  },
  {
   "cell_type": "code",
   "execution_count": 13,
   "metadata": {
    "scrolled": true
   },
   "outputs": [],
   "source": [
    "// #load \"/home/nbuser/IfSharp/bin/paket-files/github/dotnet/infer/src/FSharpWrapper/FSharpWrapper.fs\" // Not yet!?"
   ]
  },
  {
   "cell_type": "markdown",
   "metadata": {},
   "source": [
    "### Check `paket` files"
   ]
  },
  {
   "cell_type": "markdown",
   "metadata": {},
   "source": [
    "Project dependencies file:"
   ]
  },
  {
   "cell_type": "code",
   "execution_count": null,
   "metadata": {
    "scrolled": true
   },
   "outputs": [],
   "source": [
    "open System.IO\n",
    "File.ReadAllText(@\"../../IfSharp/bin/paket.dependencies\")"
   ]
  },
  {
   "cell_type": "markdown",
   "metadata": {},
   "source": [
    "The `paket install` command will analyze your dependencies and automatically generate a `paket.lock` file:"
   ]
  },
  {
   "cell_type": "code",
   "execution_count": null,
   "metadata": {},
   "outputs": [],
   "source": [
    "File.ReadAllText(@\"../../IfSharp/bin/paket.lock\")"
   ]
  },
  {
   "cell_type": "markdown",
   "metadata": {},
   "source": [
    "### Assembly search paths and references"
   ]
  },
  {
   "cell_type": "code",
   "execution_count": 131,
   "metadata": {},
   "outputs": [],
   "source": [
    "#I \"/home/nbuser/IfSharp/bin/packages/Microsoft.ML.Probabilistic/lib/netstandard2.0\"\n",
    "#I \"/home/nbuser/IfSharp/bin/packages/Microsoft.ML.Probabilistic.Compiler/lib/netstandard2.0\"\n",
    "#I \"/home/nbuser/IfSharp/bin/packages/NETStandard.Library/build/netstandard2.0/ref\""
   ]
  },
  {
   "cell_type": "code",
   "execution_count": 133,
   "metadata": {},
   "outputs": [],
   "source": [
    "#r \"Microsoft.ML.Probabilistic\"\n",
    "#r \"Microsoft.ML.Probabilistic.Compiler\"\n",
    "#r \"netstandard\""
   ]
  },
  {
   "cell_type": "code",
   "execution_count": 126,
   "metadata": {},
   "outputs": [],
   "source": [
    "//Directory.GetDirectories (\"/home/nbuser/IfSharp/bin/packages/\")"
   ]
  },
  {
   "cell_type": "code",
   "execution_count": 127,
   "metadata": {},
   "outputs": [],
   "source": [
    "//Directory.GetFiles (\"/home/nbuser/IfSharp/bin/packages/NETStandard.Library/lib/netstandard1.0\")"
   ]
  },
  {
   "cell_type": "markdown",
   "metadata": {},
   "source": [
    "### Import declarations for modules or namespaces "
   ]
  },
  {
   "cell_type": "code",
   "execution_count": 52,
   "metadata": {},
   "outputs": [],
   "source": [
    "open System"
   ]
  },
  {
   "cell_type": "code",
   "execution_count": 53,
   "metadata": {},
   "outputs": [],
   "source": [
    "open Microsoft.ML.Probabilistic  \n",
    "open Microsoft.ML.Probabilistic.Algorithms \n",
    "open Microsoft.ML.Probabilistic.Models  \n",
    "open Microsoft.ML.Probabilistic.Distributions  \n",
    "open Microsoft.ML.Probabilistic.Factors  \n",
    "open Microsoft.ML.Probabilistic.Math "
   ]
  },
  {
   "cell_type": "code",
   "execution_count": 54,
   "metadata": {
    "scrolled": true
   },
   "outputs": [],
   "source": [
    "#load \"/home/nbuser/IfSharp/bin/paket-files/github/dotnet/infer/src/FSharpWrapper/FSharpWrapper.fs\""
   ]
  },
  {
   "cell_type": "code",
   "execution_count": 55,
   "metadata": {},
   "outputs": [],
   "source": [
    "open Microsoft.ML.Probabilistic.FSharp"
   ]
  },
  {
   "cell_type": "markdown",
   "metadata": {},
   "source": [
    "## Infer.NET: F# script for a mixture of 2 multivariate Gaussians  "
   ]
  },
  {
   "cell_type": "markdown",
   "metadata": {},
   "source": [
    "### Data for mixture example  "
   ]
  },
  {
   "cell_type": "code",
   "execution_count": 56,
   "metadata": {},
   "outputs": [],
   "source": [
    "let GenerateData nData =  // (int -> Vector[])\n",
    "    let trueM1,trueP1 = Vector.FromArray[|2.0;3.0|],PositiveDefiniteMatrix(Array2D.create2D [ [3.0;0.2];[0.2;2.0] ]) \n",
    "    let trueM2,trueP2 = Vector.FromArray[|7.0;5.0|],PositiveDefiniteMatrix(Array2D.create2D [ [2.0;0.4];[0.4;4.0] ])    \n",
    "    let trueVG1 = VectorGaussian.FromMeanAndPrecision(trueM1,trueP1) \n",
    "    let trueVG2 = VectorGaussian.FromMeanAndPrecision(trueM2,trueP2) \n",
    "    let truePi = 0.6 \n",
    "    let trueB = new Bernoulli(truePi)  \n",
    "    Rand.Restart(12347) // Restart the infer.NET random number generator  \n",
    "    Array.init nData (fun j -> if trueB.Sample() then trueVG1.Sample() else trueVG2.Sample())"
   ]
  },
  {
   "cell_type": "markdown",
   "metadata": {},
   "source": [
    "Test"
   ]
  },
  {
   "cell_type": "code",
   "execution_count": 57,
   "metadata": {},
   "outputs": [
    {
     "data": {
      "text/plain": [
       "[|seq [2.330928543; 2.275960704]; seq [8.154464106; 5.326416609];\n",
       "  seq [2.987223143; 3.038850355]|]"
      ]
     },
     "execution_count": 57,
     "metadata": {},
     "output_type": "execute_result"
    }
   ],
   "source": [
    "GenerateData 3"
   ]
  },
  {
   "cell_type": "markdown",
   "metadata": {},
   "source": [
    "### The model "
   ]
  },
  {
   "cell_type": "markdown",
   "metadata": {},
   "source": [
    "Define a range for the number of mixture components  "
   ]
  },
  {
   "cell_type": "code",
   "execution_count": 58,
   "metadata": {},
   "outputs": [],
   "source": [
    "let k = Range(2)"
   ]
  },
  {
   "cell_type": "markdown",
   "metadata": {},
   "source": [
    "Mixture component means  "
   ]
  },
  {
   "cell_type": "code",
   "execution_count": 112,
   "metadata": {},
   "outputs": [],
   "source": [
    "let means = Variable.ArrayInit   \n",
    "                k (fun k -> Variable.VectorGaussianFromMeanAndPrecision(Vector.Zero(2), PositiveDefiniteMatrix.IdentityScaledBy(2,0.01)))  "
   ]
  },
  {
   "cell_type": "markdown",
   "metadata": {},
   "source": [
    "Mixture component precisions  "
   ]
  },
  {
   "cell_type": "code",
   "execution_count": 60,
   "metadata": {},
   "outputs": [],
   "source": [
    "let precs = Variable.ArrayInit   \n",
    "                k (fun k -> Variable.WishartFromShapeAndScale(  \n",
    "                                100.0,PositiveDefiniteMatrix.IdentityScaledBy(2,0.01)))"
   ]
  },
  {
   "cell_type": "markdown",
   "metadata": {},
   "source": [
    "Mixture weights  "
   ]
  },
  {
   "cell_type": "code",
   "execution_count": 61,
   "metadata": {},
   "outputs": [],
   "source": [
    "let weights = Variable.Dirichlet(k,[|1.0; 1.0|])  "
   ]
  },
  {
   "cell_type": "markdown",
   "metadata": {},
   "source": [
    "Number of data points"
   ]
  },
  {
   "cell_type": "code",
   "execution_count": 62,
   "metadata": {},
   "outputs": [],
   "source": [
    "let n = new Range(300)  "
   ]
  },
  {
   "cell_type": "markdown",
   "metadata": {},
   "source": [
    "Create (mutable) latent indicator variable for each data point  "
   ]
  },
  {
   "cell_type": "code",
   "execution_count": 63,
   "metadata": {},
   "outputs": [],
   "source": [
    "let z = Variable.ArrayInit n (fun i -> Variable.Discrete(weights))"
   ]
  },
  {
   "cell_type": "markdown",
   "metadata": {},
   "source": [
    "Initialise messages randomly so as to break symmetry  "
   ]
  },
  {
   "cell_type": "code",
   "execution_count": 64,
   "metadata": {},
   "outputs": [],
   "source": [
    "let zinit = Array.init n.SizeAsInt (fun _ -> Discrete.PointMass(Rand.Int(k.SizeAsInt), k.SizeAsInt))  \n",
    "let _ = z.InitialiseTo(Distribution.Array(zinit))"
   ]
  },
  {
   "cell_type": "markdown",
   "metadata": {},
   "source": [
    "#### The mixture of Gaussians model using `Variable.SwitchExpr`"
   ]
  },
  {
   "cell_type": "code",
   "execution_count": 65,
   "metadata": {},
   "outputs": [],
   "source": [
    "let data = Variable.ArrayInit n (fun i ->  \n",
    "                   Variable.SwitchExpr (z.[i]) (fun zi ->  \n",
    "                        Variable.VectorGaussianFromMeanAndPrecision(means.[zi], precs.[zi])))  "
   ]
  },
  {
   "cell_type": "markdown",
   "metadata": {},
   "source": [
    "Binding the data  "
   ]
  },
  {
   "cell_type": "code",
   "execution_count": 66,
   "metadata": {},
   "outputs": [],
   "source": [
    "data.ObservedValue <- GenerateData(n.SizeAsInt)  "
   ]
  },
  {
   "cell_type": "markdown",
   "metadata": {},
   "source": [
    "The inference  "
   ]
  },
  {
   "cell_type": "code",
   "execution_count": 134,
   "metadata": {},
   "outputs": [],
   "source": [
    "let ie = InferenceEngine(VariationalMessagePassing())  "
   ]
  },
  {
   "cell_type": "code",
   "execution_count": 135,
   "metadata": {},
   "outputs": [
    {
     "data": {
      "text/plain": [
       "Compiling model...done.\n",
       "Iterating: \n",
       ".........|.........|.........|.........|.........| 50\n"
      ]
     },
     "metadata": {},
     "output_type": "display_data"
    }
   ],
   "source": [
    "let wPost = ie.Infer<Dirichlet>(weights)  "
   ]
  },
  {
   "cell_type": "code",
   "execution_count": 136,
   "metadata": {},
   "outputs": [
    {
     "data": {
      "text/plain": [
       "Estimated means for pi = (seq [0.4039729302; 0.5960270698])\n",
       "Distribution over pi = Dirichlet(122 180)\n"
      ]
     },
     "metadata": {},
     "output_type": "display_data"
    }
   ],
   "source": [
    "printfn \"Estimated means for pi = (%A)\" (wPost.GetMean())  \n",
    "printfn \"Distribution over pi = %A\" wPost  "
   ]
  },
  {
   "cell_type": "code",
   "execution_count": 137,
   "metadata": {},
   "outputs": [
    {
     "data": {
      "text/plain": [
       "Compiling model...done.\n"
      ]
     },
     "metadata": {},
     "output_type": "display_data"
    }
   ],
   "source": [
    "let meansPost = Inference.InferVectorGaussianArray(ie, means)  \n",
    "let precsPost = Inference.InferWishartArray(ie,precs)  "
   ]
  },
  {
   "cell_type": "code",
   "execution_count": 138,
   "metadata": {},
   "outputs": [
    {
     "data": {
      "text/plain": [
       "Distribution over vector Gaussian means = [|VectorGaussian(0 0, 100 0  )\n",
       "                    0   100;\n",
       "  VectorGaussian(0 0, 100 0  )\n",
       "                    0   100|]\n"
      ]
     },
     "metadata": {},
     "output_type": "display_data"
    }
   ],
   "source": [
    "printfn \"Distribution over vector Gaussian means = %A\" meansPost  "
   ]
  },
  {
   "cell_type": "code",
   "execution_count": 139,
   "metadata": {},
   "outputs": [
    {
     "data": {
      "text/plain": [
       "Distribution over vector Gaussian precisions = [|Wishart(160.5, 0.007988  9.308e-05)[mean=1.282   0.01494]\n",
       "               9.308e-05 0.008788        0.01494 1.41   ;\n",
       "  Wishart(189.5, 0.007813 0.000175)[mean=1.481   0.03316]\n",
       "               0.000175 0.006848       0.03316 1.298  |]\n"
      ]
     },
     "metadata": {},
     "output_type": "display_data"
    }
   ],
   "source": [
    "printfn \"Distribution over vector Gaussian precisions = %A\" precsPost  \n",
    "()"
   ]
  },
  {
   "cell_type": "markdown",
   "metadata": {},
   "source": [
    "## Misc"
   ]
  },
  {
   "cell_type": "markdown",
   "metadata": {},
   "source": [
    "### Switch block example"
   ]
  },
  {
   "cell_type": "markdown",
   "metadata": {},
   "source": [
    "[Imperative Statement Blocks in F#](https://dotnet.github.io/infer/userguide/Imperative%20Statement%20Blocks%20in%20FSharp.html)     \n",
    "[Branching on variables to create mixture models](https://dotnet.github.io/infer/userguide/Branching%20on%20variables%20to%20create%20mixture%20models.html)  (C#)"
   ]
  },
  {
   "cell_type": "code",
   "execution_count": 74,
   "metadata": {},
   "outputs": [],
   "source": [
    "let mixtureSize = 2  "
   ]
  },
  {
   "cell_type": "markdown",
   "metadata": {},
   "source": [
    "[Working with arrays and ranges](https://dotnet.github.io/infer/userguide/Arrays%20and%20ranges.html) (C#)"
   ]
  },
  {
   "cell_type": "code",
   "execution_count": 75,
   "metadata": {},
   "outputs": [],
   "source": [
    "let k2 = Range(mixtureSize)  "
   ]
  },
  {
   "cell_type": "markdown",
   "metadata": {},
   "source": [
    "[Creating variables](https://dotnet.github.io/infer/userguide/Creating%20variables.html) (C#)"
   ]
  },
  {
   "cell_type": "code",
   "execution_count": 98,
   "metadata": {},
   "outputs": [],
   "source": [
    "let c:Variable<int> = Variable.Discrete(k2, [|0.5;0.5|]).Named(\"c\")  "
   ]
  },
  {
   "cell_type": "markdown",
   "metadata": {},
   "source": [
    "[Variable Arrays in F#](https://dotnet.github.io/infer/userguide/Variable%20Arrays%20in%20FSharp.html)"
   ]
  },
  {
   "cell_type": "code",
   "execution_count": 86,
   "metadata": {},
   "outputs": [],
   "source": [
    "let means2:VariableArray<float> = Variable.Observed( [|1.0;2.0|], k2).Named(\"means2\")"
   ]
  },
  {
   "cell_type": "code",
   "execution_count": 96,
   "metadata": {},
   "outputs": [],
   "source": [
    "let x:Variable<float> = Variable.New<float>().Named(\"x\")  "
   ]
  },
  {
   "cell_type": "markdown",
   "metadata": {},
   "source": [
    "[Branching on variables to create mixture models](https://dotnet.github.io/infer/userguide/Branching%20on%20variables%20to%20create%20mixture%20models.html) (C#)"
   ]
  },
  {
   "cell_type": "markdown",
   "metadata": {},
   "source": [
    "\"The basic idea is to define a random selector variable and then branch on the value of that variable. If the selector is 0, then x has distribution Gaussian(1, 1); if the selector is 1, then x has distribution Gaussian(2,1). This example makes use of the constructs `Variable.New` and `Variable.Case`. The static method `Variable.New` is similar to `Variable.Array`, but for scalars. It creates a new random variable whose definition will be provided later using **`SetTo`**. (You may recall `SetTo` from the page on working with arrays and ranges.) `Variable.Case` is more sophisticated, because it changes the state of the modelling API. All random variables and constraints defined within the lifetime of the `Variable.Case` object are tagged to only exist conditionally on the two arguments being equal.  \n",
    "\n",
    "You can put any modelling code you like inside a Case block, including other Case blocks, allowing you to define arbitrarily complex mixtures.\""
   ]
  },
  {
   "cell_type": "markdown",
   "metadata": {},
   "source": [
    "The C# syntax uses `using (Variable.Case(c,0))`, whereas F# uses `Variable.SwitchBlock`."
   ]
  },
  {
   "cell_type": "markdown",
   "metadata": {},
   "source": [
    "[Imperative Statement Blocks in F#](https://dotnet.github.io/infer/userguide/Imperative%20Statement%20Blocks%20in%20FSharp.html)     "
   ]
  },
  {
   "cell_type": "code",
   "execution_count": 100,
   "metadata": {},
   "outputs": [],
   "source": [
    "Variable.SwitchBlock c (fun _ -> \n",
    "    let _ = x.SetTo(Variable.GaussianFromMeanAndVariance(means2.[c], 1.0))  \n",
    "    ()  \n",
    ")"
   ]
  }
 ],
 "metadata": {
  "kernelspec": {
   "display_name": "F#",
   "language": "fsharp",
   "name": "ifsharp"
  },
  "language": "fsharp",
  "language_info": {
   "codemirror_mode": "",
   "file_extension": ".fs",
   "mimetype": "text/x-fsharp",
   "name": "fsharp",
   "nbconvert_exporter": "",
   "pygments_lexer": "",
   "version": "4.3.1.0"
  }
 },
 "nbformat": 4,
 "nbformat_minor": 2
}
